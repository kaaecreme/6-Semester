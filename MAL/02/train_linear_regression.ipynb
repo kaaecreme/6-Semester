{
 "cells": [
  {
   "cell_type": "markdown",
   "metadata": {},
   "source": [
    "## Training Your Own Linear Regressesor\n",
    "\n",
    "Create a linear regressor, with a Scikit-learn compatible fit-predict interface. You should implement every detail of the linear regressor in Python, using whatever library you want (except a linear regressor itself).\n",
    "\n",
    "You must investigate and describe all major details for a linear regressor, and implement at least the following concepts (MUST):\n",
    "\n",
    "### Qa: Concepts and Implementations MUSTS\n",
    "\n",
    "* the `fit-predict` interface, and a $R^2$ score function,\n",
    "* one-dimensional output only,\n",
    "* loss function based on (R)MSE,\n",
    "* setting of the number of iterations and learning rate ($\\eta$) via parameters in the constructor, the signature of your `__init__` must include the named parameters `max_iter` and `eta0`,\n",
    "* the batch-gradient decent algorithm (GD),\n",
    "* constant or adaptive learning rate,\n",
    "* learning graphs,\n",
    "* stochastic gradient descent (SGD),\n",
    "* epochs vs iteations,\n",
    "* compare the numerical optimization with the Closed-form solution."
   ]
  },
  {
   "cell_type": "code",
   "execution_count": 1,
   "metadata": {},
   "outputs": [],
   "source": [
    "import numpy as np\n",
    "from sklearn.base import BaseEstimator, RegressorMixin\n",
    "\n",
    "class MyEstimator(BaseEstimator, RegressorMixin):\n",
    "    def __init__(self, max_iter=1000, eta0=0.01):\n",
    "        self.max_iter = max_iter\n",
    "        self.eta0 = eta0\n",
    "        self.coef_ = 0\n",
    "        self.intercept_ = 0\n",
    "\n",
    "    def fit(self, X, y):\n",
    "        pass\n",
    "\n",
    "    def predict(self, X):\n",
    "        y_pred = np.dot(X, self.coef_) + self.intercept_\n",
    "        return y_pred\n",
    "\n",
    "    def score(self):\n",
    "        return self\n",
    "\n",
    "    def mse(self):\n",
    "        return sum\n",
    "\n",
    "    def batch_gd(self):\n",
    "        return self\n",
    "    \n",
    "    def stochastic_gd(self):\n",
    "        return self\n",
    "\n",
    "    def checkInputIsOneDimensional(self, x):\n",
    "        assert x.shape[0]>=0 \n",
    "        if not x.ndim==1:\n",
    "            raise ValueError"
   ]
  }
 ],
 "metadata": {
  "kernelspec": {
   "display_name": "base",
   "language": "python",
   "name": "python3"
  },
  "language_info": {
   "codemirror_mode": {
    "name": "ipython",
    "version": 3
   },
   "file_extension": ".py",
   "mimetype": "text/x-python",
   "name": "python",
   "nbconvert_exporter": "python",
   "pygments_lexer": "ipython3",
   "version": "3.11.5"
  }
 },
 "nbformat": 4,
 "nbformat_minor": 2
}
