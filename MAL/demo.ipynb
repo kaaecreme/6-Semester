{
 "cells": [
  {
   "cell_type": "markdown",
   "metadata": {},
   "source": [
    "# SWMAL Intro\n",
    "\n",
    "## Mini Python Demo\n",
    "\n",
    "### Mini Python/Jupyternotebook demo\n",
    "\n",
    "Build-in python array and Numpy arrays..."
   ]
  },
  {
   "cell_type": "code",
   "execution_count": 1,
   "metadata": {},
   "outputs": [
    {
     "name": "stdout",
     "output_type": "stream",
     "text": [
      "x = [[1, 2, 3], [4, 5, 6]]\n",
      "\n",
      "OK\n"
     ]
    }
   ],
   "source": [
    "# Magic: reset/clear all vars, or use Notebook menu Restart, Restart & Clear Output..\n",
    "%reset -f \n",
    "\n",
    "# python build-in array\n",
    "x = [[1, 2, 3], [4, 5, 6]]\n",
    "\n",
    "# print using print-f-syntax, prefeed againts say print('x = ',x)\n",
    "print(f\"x = {x}\")\n",
    "\n",
    "print(\"\\nOK\")"
   ]
  },
  {
   "cell_type": "code",
   "execution_count": 2,
   "metadata": {},
   "outputs": [
    {
     "name": "stdout",
     "output_type": "stream",
     "text": [
      "y = \n",
      "[[ 1.  2.  3.  4.]\n",
      " [10. 20. 30. 42.]]\n",
      "\n",
      "y.shape=(2, 4),  y.dtype=float64,  y.itemsize=8, \n",
      "\n",
      "OK\n"
     ]
    }
   ],
   "source": [
    "# import clause, imports numpy as the name 'np'\n",
    "import numpy as np\n",
    "\n",
    "# create a numpy array (notice the 1.0 double)\n",
    "y = np.array( [[1.0, 2, 3, 4], [10, 20, 30, 42]] )\n",
    "\n",
    "print(f\"y = \\n{y}\\n\")\n",
    "print(f\"y.shape={y.shape},  y.dtype={y.dtype},  y.itemsize={y.itemsize}, \")\n",
    "\n",
    "print(\"\\nOK\")"
   ]
  },
  {
   "cell_type": "code",
   "execution_count": 3,
   "metadata": {},
   "outputs": [
    {
     "name": "stdout",
     "output_type": "stream",
     "text": [
      "indexing...like a (m x n) matrix\n",
      "2.0\n",
      "4.0\n",
      "3.0\n",
      "[ 2. 20.]\n",
      "\n",
      "OK\n"
     ]
    }
   ],
   "source": [
    "print(\"indexing...like a (m x n) matrix\")\n",
    "print(y[0, 1])  \n",
    "print(y[0,-1]) # elem 0-from the 'right', strange but pythonic\n",
    "print(y[0,-2]) # elem 1-from the 'right'\n",
    "\n",
    "# print a column, but will display as 'row'\n",
    "print(y[:,1])\n",
    "\n",
    "print(\"\\nOK\")"
   ]
  },
  {
   "cell_type": "markdown",
   "metadata": {},
   "source": [
    "#### Matrix multiplication\n",
    "\n",
    "Just use Numpy as a matrix like class; create a (3 x 4) matrix and do some matrix operations on it... \n",
    "\n",
    "<img src='https://itundervisning.ase.au.dk/SWMAL/L01/Figs/matrix.jpg' alt=\"WARNING: could not get image from server\">\n",
    "\n",
    "(NOTE: do not use `numpy.matrix`, <a href='https://docs.scipy.org/doc/numpy/reference/generated/numpy.matrix.html'>it is unfortunatly depricated.</a>)"
   ]
  },
  {
   "cell_type": "code",
   "execution_count": 6,
   "metadata": {},
   "outputs": [
    {
     "name": "stdout",
     "output_type": "stream",
     "text": [
      "x=[[  2  -5 -11   0]\n",
      " [ -9   4   6  13]\n",
      " [  4   7  12  -2]]\n",
      "\n",
      "x.shape=(3, 4)\n",
      "y.shape=(4, 3)\n",
      "\n",
      "matmul syntax 1: via the dot product, np.dot(x, y)=\n",
      "[[ 150 -104 -159]\n",
      " [-104  302   38]\n",
      " [-159   38  213]]\n",
      "\n",
      "matmul syntax 2: np.matmul(x,y)=\n",
      "[[ 150 -104 -159]\n",
      " [-104  302   38]\n",
      " [-159   38  213]]\n",
      "\n",
      "matmul syntax 3: x @ y=\n",
      "[[ 150 -104 -159]\n",
      " [-104  302   38]\n",
      " [-159   38  213]]\n",
      "\n",
      "matmul syntax 4: (depricated) matrix type mult mx*my=\n",
      "[[ 150 -104 -159]\n",
      " [-104  302   38]\n",
      " [-159   38  213]]\n",
      "\n",
      "OK\n"
     ]
    }
   ],
   "source": [
    "x = np.array([ [2, -5, -11 ,0], [-9, 4, 6, 13], [4, 7, 12, -2]])\n",
    "\n",
    "y = np.transpose(x)\n",
    "\n",
    "print(f\"x={x}\\n\\nx.shape={x.shape}\\ny.shape={y.shape}\")\n",
    "\n",
    "# No direct * oprator in numpy, \n",
    "#  x*y will throw ValueError: operands could not be broadcast together with shapes (3,4) (4,3)\n",
    "#z=x*y\n",
    "\n",
    "# numpy dot is a typically combo python function; \n",
    "#  inner-product if x and y are 1D arrays (vectors)\n",
    "#  matrix multiplication if x and y are 2D arrays (matrices) \n",
    "\n",
    "print(f\"\\nmatmul syntax 1: via the dot product, np.dot(x, y)=\\n{np.dot(x, y)}\\n\")\n",
    "\n",
    "# alternatives to .dot:\n",
    "print(f\"matmul syntax 2: np.matmul(x,y)=\\n{np.matmul(x, y)}\\n\")\n",
    "print(f\"matmul syntax 3: x @ y=\\n{x @ y}\\n\")\n",
    "\n",
    "# the depricated numpy matrix \n",
    "mx = np.matrix(x)\n",
    "my = np.matrix(y)\n",
    "mz = mx*my;\n",
    "print(f\"matmul syntax 4: (depricated) matrix type mult mx*my=\\n{mz}\")\n",
    "\n",
    "print(\"\\nOK\")"
   ]
  },
  {
   "cell_type": "markdown",
   "metadata": {},
   "source": [
    "More about the dot-product combo function from the Numpy documentation\n",
    "\n",
    "  https://numpy.org/doc/stable/reference/generated/numpy.dot.html\n",
    "\n",
    "<br>\n",
    "<i>\n",
    "Dot product of two arrays. Specifically,\n",
    "\n",
    "* If both a and b are 1-D arrays, it is inner product of vectors (without complex conjugation).\n",
    "\n",
    "* If both a and b are 2-D arrays, it is matrix multiplication, but using matmul or a @ b is preferred.\n",
    "\n",
    "* If either a or b is 0-D (scalar), it is equivalent to multiply and using numpy.multiply(a, b) or a * b is preferred.\n",
    "\n",
    "* If a is an N-D array and b is a 1-D array, it is a sum product over the last axis of a and b.\n",
    "\n",
    "* If a is an N-D array and b is an M-D array (where M>=2), it is a sum product over the last axis of a and the second-to-last axis of b [..]\n",
    "<i>"
   ]
  },
  {
   "cell_type": "markdown",
   "metadata": {},
   "source": [
    "#### Writing pythonic, robust code\n",
    "\n",
    "Range-checks and fail-fast..."
   ]
  },
  {
   "cell_type": "code",
   "execution_count": 7,
   "metadata": {},
   "outputs": [
    {
     "name": "stdout",
     "output_type": "stream",
     "text": [
      "Writing pythonic,robust code: range-checks and fail-fast...\n",
      "a pythonic assert..\n"
     ]
    },
    {
     "ename": "AssertionError",
     "evalue": "notice the lack of () in python asserts",
     "output_type": "error",
     "traceback": [
      "\u001b[1;31m---------------------------------------------------------------------------\u001b[0m",
      "\u001b[1;31mAssertionError\u001b[0m                            Traceback (most recent call last)",
      "Cell \u001b[1;32mIn[7], line 9\u001b[0m\n\u001b[0;32m      5\u001b[0m \u001b[38;5;66;03m# python do all kinds of range-checks: robust coding\u001b[39;00m\n\u001b[0;32m      6\u001b[0m \u001b[38;5;66;03m#print(y[:,-5]) # will throw!\u001b[39;00m\n\u001b[0;32m      8\u001b[0m \u001b[38;5;28mprint\u001b[39m(\u001b[38;5;124m\"\u001b[39m\u001b[38;5;124ma pythonic assert..\u001b[39m\u001b[38;5;124m\"\u001b[39m)\n\u001b[1;32m----> 9\u001b[0m \u001b[38;5;28;01massert\u001b[39;00m \u001b[38;5;28;01mTrue\u001b[39;00m\u001b[38;5;241m==\u001b[39m\u001b[38;5;241m0\u001b[39m, \u001b[38;5;124m\"\u001b[39m\u001b[38;5;124mnotice the lack of () in python asserts\u001b[39m\u001b[38;5;124m\"\u001b[39m\n\u001b[0;32m     11\u001b[0m \u001b[38;5;28mprint\u001b[39m(\u001b[38;5;124m\"\u001b[39m\u001b[38;5;130;01m\\n\u001b[39;00m\u001b[38;5;124mOK\u001b[39m\u001b[38;5;124m\"\u001b[39m)\n",
      "\u001b[1;31mAssertionError\u001b[0m: notice the lack of () in python asserts"
     ]
    }
   ],
   "source": [
    "import sys, traceback\n",
    "\n",
    "print(\"Writing pythonic,robust code: range-checks and fail-fast...\")\n",
    "\n",
    "# python do all kinds of range-checks: robust coding\n",
    "#print(y[:,-5]) # will throw!\n",
    "\n",
    "print(\"a pythonic assert..\")\n",
    "assert True==0, \"notice the lack of () in python asserts\"\n",
    "\n",
    "print(\"\\nOK\")"
   ]
  },
  {
   "cell_type": "code",
   "execution_count": 8,
   "metadata": {},
   "outputs": [
    {
     "name": "stdout",
     "output_type": "stream",
     "text": [
      "A try-catch block..\n",
      "Cauth exception e: 'index -5 is out of bounds for axis 1 with size 3'\n",
      "\n",
      "Traceback (most recent call last):\n",
      "  File \"C:\\Users\\Bruger\\AppData\\Local\\Temp\\ipykernel_3076\\3635128660.py\", line 11, in <module>\n",
      "    print(y[:,-5])\n",
      "          ~^^^^^^\n",
      "IndexError: index -5 is out of bounds for axis 1 with size 3\n",
      "\n",
      "Finally executed last no matter what..\n",
      "\n",
      "OK\n"
     ]
    }
   ],
   "source": [
    "def MyTrace(some_exception):\n",
    "    import sys, traceback\n",
    "    \n",
    "    print(f\"Cauth exception e: '{some_exception}'\\n\")\n",
    "    traceback.print_exc(file=sys.stdout)\n",
    "    print()\n",
    "\n",
    "print(\"A try-catch block..\")\n",
    "\n",
    "try:\n",
    "    print(y[:,-5])\n",
    "except IndexError as e:\n",
    "    MyTrace(e)\n",
    "    \n",
    "finally:\n",
    "    print(\"Finally executed last no matter what..\")\n",
    "    \n",
    "print(\"\\nOK\")"
   ]
  },
  {
   "cell_type": "code",
   "execution_count": null,
   "metadata": {},
   "outputs": [],
   "source": [
    "# This is python, but weird for C/C++/C# aficionados:\n",
    "\n",
    "try:\n",
    "    import a_non_existing_lib\n",
    "except:\n",
    "    print(\"Warning: you don not have the 'a_non_existing_lib' library!\")\n",
    "\n",
    "print(\"\\nOK\")"
   ]
  },
  {
   "cell_type": "markdown",
   "metadata": {},
   "source": [
    "## Administration\n",
    "\n",
    "REVISIONS||\n",
    "---------||\n",
    "2019-01-28| CEF, initial. \n",
    "2019-08-20| CEF, E19 ITMAL update. \n",
    "2019-08-28| CEF, split into more cells.\n",
    "2020-01-25| CEF, F20 ITMAL update.\n",
    "2020-08-31| CEF, E20 ITMAL update, fixed typo in y.shape and make gfx links to BB.\n",
    "2021-02-01| CEF, F21 ITMAL update.\n",
    "2021-08-02| CEF, update to E21 ITMAL.\n",
    "2022-01-25| CEF, update to F22 SWMAL.\n",
    "2022-01-31| CEF, import fix of traceback, elaborated on dot and minor text fixes.\n",
    "2022-08-30| CEF, minor update to matmul syntax, updated to v1 changes.\n",
    "2023-08-30| CEF, minor format update to F23."
   ]
  }
 ],
 "metadata": {
  "kernelspec": {
   "display_name": "Python 3 (ipykernel)",
   "language": "python",
   "name": "python3"
  },
  "language_info": {
   "codemirror_mode": {
    "name": "ipython",
    "version": 3
   },
   "file_extension": ".py",
   "mimetype": "text/x-python",
   "name": "python",
   "nbconvert_exporter": "python",
   "pygments_lexer": "ipython3",
   "version": "3.11.7"
  },
  "varInspector": {
   "cols": {
    "lenName": 16,
    "lenType": 16,
    "lenVar": 40
   },
   "kernels_config": {
    "python": {
     "delete_cmd_postfix": "",
     "delete_cmd_prefix": "del ",
     "library": "var_list.py",
     "varRefreshCmd": "print(var_dic_list())"
    },
    "r": {
     "delete_cmd_postfix": ") ",
     "delete_cmd_prefix": "rm(",
     "library": "var_list.r",
     "varRefreshCmd": "cat(var_dic_list()) "
    }
   },
   "position": {
    "height": "298.85px",
    "left": "766px",
    "right": "20px",
    "top": "218px",
    "width": "452.333px"
   },
   "types_to_exclude": [
    "module",
    "function",
    "builtin_function_or_method",
    "instance",
    "_Feature"
   ],
   "window_display": false
  }
 },
 "nbformat": 4,
 "nbformat_minor": 4
}
