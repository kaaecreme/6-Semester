{
 "cells": [
  {
   "cell_type": "markdown",
   "metadata": {},
   "source": [
    "Sejt, det virker"
   ]
  },
  {
   "cell_type": "code",
   "execution_count": 3,
   "metadata": {},
   "outputs": [
    {
     "name": "stdout",
     "output_type": "stream",
     "text": [
      "['AssertInRange', 'CheckFloat', 'DToXy', 'GenerateConfusionMatrix', 'GenerateResults', 'InRange', 'Iterable', 'ListToMatrix', 'ListToVector', 'PrintMatrix', 'ResetRandom', 'ShowResult', 'TEST', 'TestAll', 'TestCheckFloat', 'TestPrintMatrix', 'TestVarName', 'VarName', 'XyToD', '__builtins__', '__cached__', '__doc__', '__file__', '__loader__', '__name__', '__package__', '__spec__', '__warningregistry__', 'ctxlib', 'inf', 'inspect', 'isFloat', 'isList', 'isNumpyArray', 'nan', 'np', 'random', 're', 'sklearn']\n",
      "c:\\Users\\mariu\\Documents\\6th_semester\\6-Semester\\MAL\\L01\\libitmal\\utils.py\n",
      "TestPrintMatrix...(no regression testing)\n",
      "X=[[   1.    2.]\n",
      "   [   3. -100.]\n",
      "   [   1.   -1.]]\n",
      "X=[[ 1.  2.]\n",
      "   ...\n",
      "   [ 1. -1.]]\n",
      "X=[[   1.\n",
      "       2.    ]\n",
      "   [   3.0001\n",
      "    -100.    ]\n",
      "   [   1.\n",
      "      -1.    ]]\n",
      "X=[[   1.    2.]\n",
      "   [   3. -100.]\n",
      "   [   1.   -1.]]\n",
      "OK\n",
      "TEST: OK\n",
      "ALL OK\n"
     ]
    }
   ],
   "source": [
    "import numpy as np\n",
    "from libitmal import utils as itmalutils\n",
    "\n",
    "print(dir(itmalutils))\n",
    "print(itmalutils.__file__)\n",
    "\n",
    "itmalutils.TestAll()"
   ]
  },
  {
   "cell_type": "markdown",
   "metadata": {},
   "source": [
    "This is the folder structure -- Possibly add more text\n",
    "```\n",
    "extraUtils/\n",
    "├── __init__.py\n",
    "├── __pycache__\n",
    "│   ├── __init__.cpython-36.pyc\n",
    "│   └── utils.cpython-36.pyc\n",
    "├── coolModule.py\n",
    "```"
   ]
  },
  {
   "cell_type": "code",
   "execution_count": 6,
   "metadata": {},
   "outputs": [
    {
     "name": "stdout",
     "output_type": "stream",
     "text": [
      "hej med dig: Thomas\n",
      "c:\\Users\\mariu\\Documents\\6th_semester\\6-Semester\\MAL\\L01\\extraUtils\\coolModule.py\n"
     ]
    }
   ],
   "source": [
    "from extraUtils import coolModule as module\n",
    "\n",
    "module.printNogetSejt(\"Thomas\")\n",
    "\n",
    "print(module.__file__)"
   ]
  }
 ],
 "metadata": {
  "kernelspec": {
   "display_name": "base",
   "language": "python",
   "name": "python3"
  },
  "language_info": {
   "codemirror_mode": {
    "name": "ipython",
    "version": 3
   },
   "file_extension": ".py",
   "mimetype": "text/x-python",
   "name": "python",
   "nbconvert_exporter": "python",
   "pygments_lexer": "ipython3",
   "version": "3.11.5"
  }
 },
 "nbformat": 4,
 "nbformat_minor": 2
}
