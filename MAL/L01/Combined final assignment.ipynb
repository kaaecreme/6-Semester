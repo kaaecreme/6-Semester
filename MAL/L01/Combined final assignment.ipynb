{
<<<<<<< HEAD
 "cells": [
  {
   "cell_type": "markdown",
   "metadata": {},
   "source": [
    "# SWMAL Assignment 01\n",
    "This notebook consists of five combined exercises from L01 and L02, which is required for assignment O1.\n",
    "\n",
    "## L01 - Intro"
   ]
=======
  "cells": [
    {
      "cell_type": "markdown",
      "metadata": {},
      "source": [
        "# Forside\n",
        "\n",
        "**Kursus:** SWMAL-01 F24\n",
        "\n",
        "**Opgaveafleveringsnavn:** Assignment 01\n",
        "\n",
        "**Dato:** 14/2-24\n",
        "\n",
        "**SWMAL Gruppe Nummer:** 20 \n",
        "\n",
        "| Studienummer | Navn            |\n",
        "|---------------|------------------|\n",
        "| 201905440 | Marius Skjold Bjerg |\n",
        "| 202105970 | Lasse Jensen |\n",
        "| 202106020 | Victoria Raunholt Egholm |\n",
        "| 202100350 | Thomas Kaae | \n",
        "\n",
        "_This notebook consists of five combined exercises from L01 and L02, which is required for assignment O1._\n",
        "\n",
        "\n",
        "## L01 - Intro"
      ]
    },
    {
      "cell_type": "markdown",
      "metadata": {},
      "source": [
        "_Below code is the code used to generate some of the figures in chapter 1._\n",
        "\n",
        "Afterwards a list of questions will be answered."
      ]
    },
    {
      "cell_type": "markdown",
      "metadata": {},
      "source": [
        "### Setup"
      ]
    },
    {
      "cell_type": "code",
      "execution_count": 1,
      "metadata": {},
      "outputs": [
        {
          "name": "stdout",
          "output_type": "stream",
          "text": [
            "OK\n"
          ]
        }
      ],
      "source": [
        "# To support both python 2 and python 3\n",
        "from __future__ import division, print_function, unicode_literals\n",
        "\n",
        "# Common imports\n",
        "import numpy as np\n",
        "import os\n",
        "\n",
        "# to make this notebook's output stable across runs\n",
        "np.random.seed(42)\n",
        "\n",
        "# To plot pretty figures\n",
        "%matplotlib inline\n",
        "import matplotlib\n",
        "import matplotlib.pyplot as plt\n",
        "plt.rcParams['axes.labelsize'] = 14\n",
        "plt.rcParams['xtick.labelsize'] = 12\n",
        "plt.rcParams['ytick.labelsize'] = 12\n",
        "\n",
        "# Where to save the figures\n",
        "PROJECT_ROOT_DIR = \".\"\n",
        "CHAPTER_ID = \"fundamentals\"\n",
        "\n",
        "def save_fig(fig_id, tight_layout=True):\n",
        "    path = os.path.join(PROJECT_ROOT_DIR, \"images\", CHAPTER_ID, fig_id + \".png\")\n",
        "    print(\"IGNORING: Saving figure\", fig_id) # SWMAL: I've disabled saving of figures\n",
        "    #if tight_layout:\n",
        "    #    plt.tight_layout()\n",
        "    #plt.savefig(path, format='png', dpi=300)\n",
        "\n",
        "# Ignore useless warnings (see SciPy issue #5998)\n",
        "import warnings\n",
        "warnings.filterwarnings(action=\"ignore\", module=\"scipy\", message=\"^internal gelsd\")\n",
        "\n",
        "print(\"OK\")"
      ]
    },
    {
      "cell_type": "code",
      "execution_count": 2,
      "metadata": {},
      "outputs": [
        {
          "name": "stdout",
          "output_type": "stream",
          "text": [
            "OK\n"
          ]
        }
      ],
      "source": [
        "def prepare_country_stats(oecd_bli, gdp_per_capita):\n",
        "    oecd_bli = oecd_bli[oecd_bli[\"INEQUALITY\"]==\"TOT\"]\n",
        "    oecd_bli = oecd_bli.pivot(index=\"Country\", columns=\"Indicator\", values=\"Value\")\n",
        "    gdp_per_capita.rename(columns={\"2015\": \"GDP per capita\"}, inplace=True)\n",
        "    gdp_per_capita.set_index(\"Country\", inplace=True)\n",
        "    full_country_stats = pd.merge(left=oecd_bli, right=gdp_per_capita,\n",
        "                                  left_index=True, right_index=True)\n",
        "    full_country_stats.sort_values(by=\"GDP per capita\", inplace=True)\n",
        "    remove_indices = [0, 1, 6, 8, 33, 34, 35]\n",
        "    keep_indices = list(set(range(36)) - set(remove_indices))\n",
        "    return full_country_stats[[\"GDP per capita\", 'Life satisfaction']].iloc[keep_indices]\n",
        "\n",
        "print(\"OK\")"
      ]
    },
    {
      "cell_type": "code",
      "execution_count": 3,
      "metadata": {},
      "outputs": [
        {
          "name": "stdout",
          "output_type": "stream",
          "text": [
            " Volume in drive C has no label.\n",
            " Volume Serial Number is D648-AE69\n",
            "\n",
            " Directory of c:\\Users\\Bruger\\Documents\\GitHub\\6-Semester\\MAL\\L01\n",
            "\n",
            "02/14/2024  10:01 AM    <DIR>          .\n",
            "02/14/2024  10:01 AM    <DIR>          ..\n",
            "01/30/2024  01:28 PM    <DIR>          .ipynb_checkpoints\n",
            "02/14/2024  10:02 AM            58,526 Combined final assignment.ipynb\n",
            "02/14/2024  08:22 AM    <DIR>          data\n",
            "01/30/2024  01:14 PM    <DIR>          datasets\n",
            "02/08/2024  12:49 PM    <DIR>          extraUtils\n",
            "02/08/2024  11:59 AM           105,669 intro.ipynb\n",
            "02/08/2024  12:45 PM           246,708 intro_assignment.ipynb\n",
            "02/08/2024  12:48 PM    <DIR>          libitmal\n",
            "02/02/2024  01:44 PM            12,986 modules_and_classes.ipynb\n",
            "02/08/2024  12:47 PM             6,066 modules_and_classes_assignment.ipynb\n",
            "               5 File(s)        429,955 bytes\n",
            "               7 Dir(s)  38,016,839,680 bytes free\n",
            "\n",
            "OK\n"
          ]
        }
      ],
      "source": [
        "import os\n",
        "datapath = os.path.join(\"datasets\", \"lifesat\", \"\")\n",
        "\n",
        "# NOTE: a ! prefix makes us able to run system commands..\n",
        "# (command 'dir' for windows, 'ls' for Linux or Macs)\n",
        "#\n",
        "\n",
        "! dir\n",
        "\n",
        "print(\"\\nOK\")"
      ]
    },
    {
      "cell_type": "code",
      "execution_count": 4,
      "metadata": {},
      "outputs": [
        {
          "name": "stderr",
          "output_type": "stream",
          "text": [
            "C:\\Users\\Bruger\\AppData\\Local\\Temp\\ipykernel_5312\\2677927476.py:5: DeprecationWarning: \n",
            "Pyarrow will become a required dependency of pandas in the next major release of pandas (pandas 3.0),\n",
            "(to allow more performant data types, such as the Arrow string type, and better interoperability with other libraries)\n",
            "but was not found to be installed on your system.\n",
            "If this would cause problems for you,\n",
            "please provide us feedback at https://github.com/pandas-dev/pandas/issues/54466\n",
            "        \n",
            "  import pandas as pd\n"
          ]
        },
        {
          "data": {
            "image/png": "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",
            "text/plain": [
              "<Figure size 640x480 with 1 Axes>"
            ]
          },
          "metadata": {},
          "output_type": "display_data"
        },
        {
          "name": "stdout",
          "output_type": "stream",
          "text": [
            "[[5.96242338]]\n",
            "OK\n"
          ]
        }
      ],
      "source": [
        "# Code example\n",
        "import matplotlib\n",
        "import matplotlib.pyplot as plt\n",
        "import numpy as np\n",
        "import pandas as pd\n",
        "import sklearn.linear_model\n",
        "\n",
        "# Load the data\n",
        "try:\n",
        "    oecd_bli = pd.read_csv(datapath + \"oecd_bli_2015.csv\", thousands=',')\n",
        "    gdp_per_capita = pd.read_csv(datapath + \"gdp_per_capita.csv\",thousands=',',delimiter='\\t',\n",
        "                             encoding='latin1', na_values=\"n/a\")\n",
        "except Exception as e:\n",
        "    print(f\"SWMAL NOTE: well, you need to have the 'datasets' dir in path, please unzip 'datasets.zip' and make sure that its included in the datapath='{datapath}' setting in the cell above..\")\n",
        "    raise e\n",
        "    \n",
        "# Prepare the data\n",
        "country_stats = prepare_country_stats(oecd_bli, gdp_per_capita)\n",
        "X = np.c_[country_stats[\"GDP per capita\"]]\n",
        "y = np.c_[country_stats[\"Life satisfaction\"]]\n",
        "\n",
        "# Visualize the data\n",
        "country_stats.plot(kind='scatter', x=\"GDP per capita\", y='Life satisfaction')\n",
        "plt.show()\n",
        "\n",
        "# Select a linear model\n",
        "model = sklearn.linear_model.LinearRegression()\n",
        "\n",
        "# Train the model\n",
        "model.fit(X, y)\n",
        "\n",
        "# Make a prediction for Cyprus\n",
        "X_new = [[22587]]  # Cyprus' GDP per capita\n",
        "y_pred = model.predict(X_new)\n",
        "print(y_pred) # outputs [[ 5.96242338]]\n",
        "\n",
        "print(\"OK\")"
      ]
    },
    {
      "cell_type": "code",
      "execution_count": 5,
      "metadata": {},
      "outputs": [
        {
          "data": {
            "image/png": "iVBORw0KGgoAAAANSUhEUgAAAekAAAE2CAYAAABFpmptAAAAOXRFWHRTb2Z0d2FyZQBNYXRwbG90bGliIHZlcnNpb24zLjguMiwgaHR0cHM6Ly9tYXRwbG90bGliLm9yZy8g+/7EAAAACXBIWXMAAA9hAAAPYQGoP6dpAABY1klEQVR4nO3dd1hT59sH8G8SNhiUIYKyHDhx1VG1oiB1rypqtS7UWv05ahXtVHG3tVq17olaR52t2moVFAcOHKDW4hZkCqgEUVnhef/gzSkxAULIOEnuz3XlkpyV+wTMnWcLGGMMhBBCCOEdob4DIIQQQohylKQJIYQQnqIkTQghhPAUJWlCCCGEpyhJE0IIITxFSZoQQgjhKUrShBBCCE9RkiaEEEJ4ipI0IYQQwlOUpAkhhBCe4l2SzsnJwdy5c9G9e3c4ODhAIBAgLCxM6bFxcXHo3r077Ozs4ODggBEjRiAjI0O3ARNCCCFaYqbvAN6VmZmJ+fPnw8PDA82aNUNkZKTS45KSkuDn5wd7e3ssXrwYOTk5+Omnn3D79m1ER0fDwsJCt4ETQgghGsa7JO3q6orU1FTUqFED165dQ+vWrZUet3jxYrx+/RrXr1+Hh4cHAKBNmzb48MMPERYWhvHjx+sybEIIIUTjeFfdbWlpiRo1apR73MGDB9G7d28uQQNAYGAgfHx8sG/fPm2GSAghhOgE75K0KpKTk5Geno5WrVop7GvTpg1iYmL0EBUhhBCiWbyr7lZFamoqgOKq8Xe5urrixYsXyMvLg6WlpcL+vLw85OXlcc+Liorw4sULODo6QiAQaC9oQgghvMYYw6tXr+Dm5gahkB9lWINM0m/fvgUApUnYysqKO0bZ/iVLlmDevHnaDZAQQojBSkxMRK1atfQdBgADTdLW1tYAIFcilsnNzZU75l1ff/01pk+fzj2XSCTw8PBAYmIixGKxFqIlhBBiCLKzs+Hu7o4qVaroOxSOQSZpWTW3rNq7pNTUVDg4OCgtRQPFpW9l+8RiMSVpQgghvGr65EelewXVrFkTzs7OuHbtmsK+6OhoNG/eXPdBEUIIIRpmkEkaAAYOHIhjx44hMTGR2xYREYH79+9j0KBBeoyMEEII0QxeVnevXr0aWVlZSElJAQAcPXoUSUlJAIApU6bA3t4e33zzDfbv3w9/f398/vnnyMnJwdKlS+Hr64vg4GB9hk8IIYRohIAxxvQdxLu8vLyQkJCgdN+TJ0/g5eUFALhz5w6mT5+OCxcuwMLCAr169cKyZcvg4uKi8mtlZ2fD3t4eEomE2qQJIcSE8TEf8DJJ6xIffymEEEJ0j4/5wGDbpAkhhBBjR0maEEII4SlK0oQQQghPUZImhBBCeIqSNCGEEMJTlKQJIYQQnqIkTQghhPAUJWlCCCGEpyhJE0IIITxFSZoQQgjhKUrShBBCCE9RkiaEEEJ4ipI0IYQQwlOUpAkhhBCeoiRNCCGE8BQlaUIIIYSnKEkTQgghPEVJmhBCCOEpStKEEEIIT1GSJoQQQniKkjQhhBDCU5SkCSGEEJ6iJE0IIYTwFCVpQgghhKcoSRNCCCE8RUmaEEII4SlK0oQQQghPUZImhBBCeIqSNCGEEMJTlKQJIYQQnqIkTQghhPAUJWlCCCGEp8wqc3JhYSHu3buHrKwsSKVSpcf4+flV5iXK9ODBA8yePRsXLlzAixcv4OHhgWHDhiEkJAQ2NjZae11CCCFEF9RK0owxzJkzB7/88gtevXpV5rGlJe/KSkxMRJs2bWBvb4/JkyfDwcEBly5dwty5c3H9+nX88ccfWnldQgghRFfUStILFizAokWLULVqVYwcORK1atWCmVmlCuUVtnPnTmRlZeHChQto3LgxAGD8+PEoKirCjh078PLlS1SrVk2nMRFCCCGapFZm3bp1Kzw9PXHt2jU4OjpqOiaVZGdnAwBcXFzktru6ukIoFMLCwkIfYRFCCCEao1bHsbS0NPTv319vCRoAOnfuDAAYO3YsYmNjkZiYiN9++w3r1q3D1KlTYWtrq7fYCCGEEE1QqyTt7e3NlWT1pXv37liwYAEWL16MI0eOcNu//fZbLFy4sNTz8vLykJeXxz3X930QQgghpVGrJD1x4kQcO3YM6enpmo6nQry8vODn54eNGzfi4MGDGDNmDBYvXozVq1eXes6SJUtgb2/PPdzd3XUYMSGEEKI6AWOMVfSkhIQEhISEICYmBnPmzEHLli0hFouVHuvh4VHpIJXZu3cvxowZg/v376NWrVrc9uDgYOzbtw9Pnz5VWh2vrCTt7u4OiURS6j0QQggxftnZ2bC3t+dVPlArSQuFQggEAjDGIBAISr+4QIDCwsJKBVgaPz8/SKVSREVFyW0/fPgwBgwYgFOnTiEwMLDc6/Dxl0IIIUT3+JgP1GqTHjlyZJnJWReePXumdIhVQUEBAGjtywEhhBCiK2ol6bCwMA2HUXE+Pj44efIk7t+/Dx8fH277nj17IBQK0bRpUz1GRwghhFSebmcg0aCZM2fi+PHj6NixIyZPngxHR0ccO3YMx48fx7hx4+Dm5qbvEAkhhJBKUatNuqSoqCjExsYiOzsbYrEYzZs3R4cOHTQVX5mio6MRGhqKmJgYPH/+HN7e3hg1ahRmzZql8gxofGyDIIQQont8zAdqJ+mLFy8iODgYDx8+BAC5TmT16tXDtm3b0K5dO81FqiV8/KUQQghfPM7IQcKLN/BytIW3k+IkUeXtNyR8zAdqVXffuXMHXbt2xZs3b/Dhhx/C398frq6uSEtLw5kzZ3Dy5El069YNly9fRqNGjTQdMyGEEC3LepOPqXtice5BBrfNr54zfhnaAvY25uXuJ5qhVkl6yJAhOHz4MI4cOYLu3bsr7D9x4gT69u2LAQMGYO/evRoJVFv4+M2JEEL0beSWaEQ9zIS0RIoQCQToUNcJO8a2KXe/IeJjPlBrxrHIyEgEBQUpTdBA8ZSdQUFBOHPmTKWCI4SYnscZOThzLx1PMl/rO5QyGUqc6nickYNzDzLkEjAASBnDuQcZOHc/o8z9xvie6Ita1d0SiQTe3t5lHuPt7Q2JRKJWUIQQ02Mo1aeGEmdlJLx4w/0sLJKiTdIdVM95iXS7aoiu1RgxiS/LPD/++WuDb5/mC7WStJubGy5fvlzmMVeuXKFhUIQQlU3dE4uoh5ly26IeZmLKnphSq0/10WmpInHK4hMJBJAyZjCdqzwdbAAA3e5dxNyIjXB79d/9plRxwkuPH/Ezqpd6vpcj/+/RUKiVpPv27YtffvkFs2fPxrfffgsrKytuX25uLpYsWYIzZ85g6tSpGguUEGK8ZNWr7ypZfVoyuemrNKtqnMri02WclVXb2Q7Ts//B5N8XK+yr8SoTrlPHYvqEJVhp76u0TVpjX0SkUuD8eSA1FXB1BTp2BEQizVzbQKjVJj179mx4e3tj8eLF8PDwQO/evTF27Fj07t0bnp6eWLBgAby9vTF79mxNx0sIMUIlq1eViX8u38ZZVmlWm1SNU1l8MrqIs6IU2telUkw+8gsAxSQhRPGQ28lHV+OD2vJTM3eo64RfhrbQTFCHDgFeXoC/PzBsWPG/Xl7F202IWiVpR0dHXL58GbNmzcLevXvx119/cfusrKwQHByMH374AQ4ODhoLlBBivGTVq6UpWX1a0VK3JqkSZ2nxyegiTlWVViOxtmY27JKTSz1PCABJSdheLw9PPuqM+OevNVuVf+gQWFAQwBhKrhJRlJQEQVAQBAcOAAMGaOa1eE6tkjQAODk5YevWrZBIJLh58ybOnz+PmzdvQiKRYMuWLXByctJknIQQI1bb2Q5+9ZwhemfhHpFAAL96znIf/hUtdWuSKnGWF5+MNuNUVWk1EjsOXVLtAqmp8HayhX/96pqt4v78c4UEDfxXise0acXHmQC1k7SMubk5fH190aFDB/j6+sLcnL/tLIQQ/vplaAt0qCv/5V5Z9WlFSt3aUF6c5cUno+/OVWUOs8pRsZLV1VXzgZ0/DyQlKSRoGSEAJCYWH2cCDHaBDUKIcbG3MceOsW3wJPN1mdWnstJsaRNpaLsKubw4S4tP13GWp6wSf3Stxsit4QqLtFSlJbkiAEJ39+KOXJqWmqrZ4wycSkk6ICAAAoEA27dvR61atRAQEKDSxQUCASIiIioVICHEtHg7ld+2+cvQFpiyJ0auLVWjnZZKKG2YV1lxKotP23FWVFkl/iKhCJIlP6H6mOEoYkwuUReh+LMdK1Zop6e1qqVzbZTieUilaUGFQiEEAgHi4uLg4+MDoVC1WnKBQAApz9sN+DgNHCFENeWVuitDE8O8ZPGZCQUoLOLfOOlyp/Y8dKi4fTgpidufUsUJ87qMx9ve/bQzlEwqBby8UJSUVHYp/skTjX9J4GM+qPRSlYaOj78UQojuvVti1vTc1HxcLUrypkChxK/wRUQqxeKvNiL9/hOk2RbPOFYkFGl3nu7/793NSinFa6t3Nx/zAbVJE0JMmrIScyvPariWoDj1pTrDp/g8jagq/QAev3iLjSIPoKGH3HatDiUbMACCAwcgeKcUL3R3L65mN5HhV4CavbvHjBmDI0eOlHnMsWPHMGbMGLWCIoQQXVE2DOmGkgRdUkWGT+lr4pWKKGsYld6GvA0YAMTHA2fOALt3F//75IlJJWhAzSQdFhaG2NjYMo+5efMmtm/frs7lCSFEJ0obhlRUznmqDp8qbzUpvq8WlZeXh1WzP0ehJL3UY7Q6lEwkwm1HR/xlbw907mxyU4ICGhgnXZrc3FyYmVFtOiGEv8orJQrfGayrbHKVylyfDxOalOXUqVP4ff9eeOYnqDTRjDZ8//33GD58OIqKyvvqZJzUTtICgfKh5owxPH36FMePH6dVsAghvFbexCPveVZubmp9T7xSWQcPHgQABHqYqTTRjDbcvHkTL1++xJ07d7T+WnykclFXNgxLJjQ0FKGhoaUezxjDl19+WangCCFEm8qbGEWVyVWMVWFhIQ79/2IWLzKfYcdc3b8XUqkUDx48AACcPn0avr6+Wn9NvlE5Sfv5+XFJ+ty5c/Dw8ICXl5fCcSKRCA4ODggICMCnn36qsUAJIUQbypsYRZXJVUqjSnU3XxP/uXPnkJ2dDQBISUkBULn3Qh0JCQnIz88HAERERODzzz/X2WvzhcpJOjIykvtZKBQiODgYc+bM0UZMhBCiM6pOR6oOQ67uPnjwIMzMzFBYWIinT5/qJYa4uDju5zNnzkAqlUJkYp3H1OrZZaoN+IQQHpNKixddSE0tnjKyY8cK9QbWRilR3/OMq6uoqAgHDx5EYWEhACCpxFhlXfr3338hEokglUqRk5OD2NhYvPfee3qJRV/U6jiWlJSEI0eOICsrS+n+ly9f4siRI0guYz1SQkjZHmfk4My9dN4P0+GFQ4cALy/A3x8YNqz4Xy+v4u16purqXnxy9epVPHv2jHuekZGhl8JZXFwc18wqFApx+vRpncegb2qVpBcuXIj9+/dz7RTvsrGxwZgxY/Dxxx9j9erVlQqQEFPD5xmqeOn/p5B8d/3hoqQkCIKCtDaFpKq0WZ2uLYcOHeKquoHiDlyZmZmoXr26TuO4desWFwNjDBEREZg5c6ZOY9A3tUrSp0+fRteuXWFpaal0v6WlJbp27Yrw8PBKBUeIKTKEGap4QyotXgDinQQNFH+4McaAadOKj9Ozsmb14hPGGPbt28clR5nSCmXajOPu3btyz8+ePYuCggKdxqFvaiXp5ORkpT27S/L09KTqbkIqyNBnqNK58+eBpCSFBC0jBIDExOLjiEru3LmD+Ph4he26TtKpqal4/Vr+7z03NxfXrl3TaRz6plaStrCw4LrmlyY7O7vUCU8IIcoZ+gxVOpeaqtnjCA4dOqS0B7WuC13//vuvwjaRSGRy7dJqJWlfX18cPXoUeXl5Svfn5ubiyJEjJjnwnJDKMOQhO3rh6qrZ4wj27dsH6TvNA2ZmZjovSZfsNCZTVFRkcs2oaiXp4OBgJCUloW/fvnj8+LHcvkePHqFfv35ISUnBuHHjNBIkIaZCNmRHX/MkG5yOHYFatUpdEKMIANzdi48j5Xr8+HGp02/qI0m/u/4DYwwXL14stYBojNRO0gMHDsSpU6fQoEED1K9fHwEBAahfvz4aNmyIU6dOYfDgwQgODtZ0vIQYPUMcsqM3IhGwciUEAoFCoi7C/68xsGKFSa6epI7Dhw9DKFRMC4WFhTqv7r59+7bSTmL5+fm4fPmyTmPRJ7WXqdq3bx/WrFmDtWvX4u7du9z8qo0aNcKkSZMwceJEjQVJiCkxxCE7ejVgAAQHDkDw+edAiUk3hO7uxQnaxNYfrox9+/YV94hXQtezjilrkwb+a5fu1KmTTuPRFwEr7TdSAa9fv4ZEIoG9vT1sbXX7YXLjxg2EhobiwoULyM3NRe3atTF+/HhMnTpVpfOzs7Nhb28PiUQCsVis5WhJRT3OyEHCizeUqEj5KjnjmKlLS0uDm5tbqUnawcEBz58/10ksL168gKOjY6n727Vrh4sXL2r8dfmYDzSy4LOtra3OkzMAnDx5En369EGLFi0we/Zs2NnZ4dGjR3qbwo5oDk3oQSpMJAI6d9Z3FAarqKgIDRs2xOPHj5Gbmyu3TyAQ4OXLlzqbO1s2PlokEkEoFHLV3kKhEEVFRYiNjQVjzCRGEGkkSetDdnY2Ro4ciV69euHAgQNK21GIPEMqlZY1oceOsW30FJVxMqS/i9IwxvDFF19g5MiRaNmypb7DMUhubm64c+cOGGP4888/0adPHwBAWFgYUlJSYGdnp7PFLerVq4dx48ZBIBCgoKAAYWFhAICVK1fC1tYW9erVM4kEDVQiSScmJmLhwoUIDw9HSkoKt5xYSQKBQGHWGk3ZvXs3nj17hkWLFkEoFOL169ewtramZK2EoZVKZRN6vKvkhB6Gmkz4xND+Lspy+/ZtrFy5Eo6OjpSkK0lWagaA999/H6NGjdJ5DM7Ozti0aROA4l7lsiQ9adIkk0nOMmpltMePH6Nly5bYsmUL7OzskJeXBw8PD/j4+MDMzAyMMTRt2hQdtTjsITw8HGKxGMnJyahfvz7s7OwgFosxceJEhaoaU2do00zShB66ocm/C30vBrJ//34AkFsUgqhP1pPbx8dHz5EAdnZ23M+mNPRKRq0kPW/ePEgkEkRERODmzZsAiodlxcXFIT4+Hn379sXr169x4MABjQZb0oMHD1BYWIh+/fqhW7duOHjwIMaMGYP169eXOfQrLy8P2dnZcg9jZojTTNKEHtqnqb+LrDf5GLklGgHLziJ421X4/xSJkVuiIXmju/mVGWPYs2cPAErSmiIbE+3m5qbnSCDX3yknJ0ePkeiHWkk6PDwcPXv2lOsCL+sR6Orqit9++w0A8M0332ggROVycnLw5s0bjBw5EqtWrcKAAQOwatUqfPbZZ9i7dy83JOxdS5Ysgb29Pfdwd3fXWox8YIilUprQQ0VSKRAZCezZU/xvBRaR0NTfBR9qaf755x88evQIgO6nrjRWss63NWvW1HMkkGsHpyStoszMTDRo0IB7bmZmhjdv/vtPb2lpiQ8//BDHjh2rfISlsLa2BgAMHTpUbvuwYcMAAJcuXVJ63tdffw2JRMI9EhMTtRYjH+iiVKqNqk6a0KMclVw/WRN/F3yppdm3bx/3QZ5Kc3RrRExM8ZcsPpSkS3p3wQ1ToFbHMScnJ7k3y8nJSWHVFDMzM2RlZVUmtjLJeiK6uLjIbZetdyrr+PAuS0vLUpfYNEayUmnUw0y5D1ORQIAOdZ0qVSrVZscjmtCjDBpYP1kTfxeqlMa1/TuTVXXL5prOzMws5wyiCtnnOR9K0iVRSVpF9erV46qXAKBNmzb4+++/uXm8MzIycODAAdSpU0czUSrx3nvvAVCs3pK1pTg7O2vttQ2Ntkqluqjq1NcavPruCFUqDa6fXNm/Cz70HShZ1Q0Uf4hTx9HKKSr6b4JVviRpWcGKStIq6tGjB0JDQ5GVlYWqVati2rRpOHr0KJo2bYqGDRvi4cOHyM7ORmhoqIbD/c/gwYPx/fffY8uWLQgICOC2b968GWZmZuhMkxpwtFEqNdZhUrwfllSR9ZPL+T9Q2b8LbdbSqGr//v0QiURyqzalp6fDw8ND669trDIy/vvbf7emUl+cnZ2RlJREJWlVTZw4EZGRkVw7UOfOnbF37154enrin3/+gYuLC1atWoVPP/1Uo8GW1KJFC4wZMwa7d+/GkCFDsHbtWgwePBh79uzBzJkzedeWwgeyUiljrNKlRL50SNN0iZcPHaHKpIX1kytTW6HPvgOMMezevVthWUXq4V05JWsnzc158MUUQI0aNQBQSbpUt27dQo0aNbj2XrFYjLZt28odM2jQIAwaNEjzEZZh/fr18PDwwLZt23D48GF4enri559/xrRp03Qah6HQZClR31Wd2ijxGkTtAM/WT9Zn34F3q7pl0tPTdfL6xkrWZMiXUjTwXyxUki5FixYtsH79eu55QEAAduzYobWgVGVubo65c+ciPj4e+fn5ePDgASXoMmiylKjvYVLaKPHypXagTDxdP1kffQdkVd3vopJ05chK0nyauU222IUplqRVStLvtvlERkYq9OYm/KaN4TL6qurU1tAffdcOqITWTwZQelW3mZkZJelKkiVpT09PPUfyH9msY6ZYklapurtWrVqIjY3VcihEm7QxXEZfVZ3aGvrDh45QKqH1k0ut6hYIBJSkK4lPs43JyGYdoyRdij59+uCXX35Bw4YN4fr/bV1hYWGIjIws8zyBQICIiIhKB0kqT5ulRG8n3Y5h1ua9/DK0BabsiZFrm+blJCoDBgD9+pns+snKenUDgFQqpSRdSbIvP3wZfgX8V5I2xepulZL0woULkZeXhz///BNnz56FQCBAfHx8uVXeprZaCZ8ZTClRBdq8F4OaRMVE108uraobKB7jS7OOVc7169cBUEmaL1Rqk65SpQrWr1+PxMRESKVSMMYQGhqKoqKiMh/K/hMR/TGmqTa1fS/6mkRFVZGRkQgPD9d3GHpx584dpVXdMrLqWqKeV69eAaCSNF+oNZnJqFGj0Lx5cw2HQrTNoEqJ5TCme6movLw8DBkyBC1atEBgYKC+w9E5a2trNG/eHI8fP1ZYxU4gENDUoJVQcilIPpakS5vu2ZiplaS3bdum6TiIDum6DVmbjOleVPXrr78iPT0dVlZW+g5FL+rUqcMtABEWFobg4GDUqVMHX375JRITE7mJL0jFlayFcHBw0GMk8mQl6bS0ND1HontqJenbt2/j6tWrCAoK4savvX37FtOnT8eRI0dgbW2NkJAQTJgwQaPBEmLqpFIpFi1aBAAmtVBMaWTtzx07dtTqDIemouRsY3zqUyQrSZviRDVqTQu6cOFCzJ49G1WqVOG2ffPNN9iwYQNevXqFxMRETJo0CadOndJYoIQQ4PDhw3jy5AkEAoHJlqRLevr0KQDQXN0aIitJN2rUSM+RyJOVpEvOK24q1ErS0dHR8Pf3575pFRYWYtu2bWjTpg3S09Px5MkTODs7Y+XKlRoNlpDK4u3qVipgjGHBggUQCoUQiURUkgbw8OFDAJSkNUVWkm7SpImeI5EnS9LsnQmMTIFa1d0ZGRlwd3fnnl+9ehXZ2dmYMGECrKys4Obmhn79+uGvv/7SWKCEVAbvV7dSQXh4OG7dugWgeBZAKkkDly5dAkBJWlNkJWk+9ewG/qvuNkVqlaTNzMzkegFGRkZCIBDA39+f2+bo6Ei9LAlv8H51KxUsXLhQbq5qKkn/NySHkrRmyErSfEvSspI0YHqlabWStJeXF86cOcM9379/P7y9veXmek1OToajo2PlIySkkrQ117cuXblyBefOnZObe8DUS9ISiYT7uWTNHlHfnTt3APAvSZcsSefn5+sxEt1TK0mPGDECN2/eRNu2beHn54ebN29i2LBhcsfcunUL9erV00iQhIekUiAyEtizp/hfHk9cYxCrW5Vj8eLFcqVoxpjJl6RlncYAwMam7KliiWpkzSl8GiMNyCdpU5vQRK0kPXnyZAwaNAjXrl3DhQsX0KNHD3zzzTfc/jt37uDmzZsICAjQWKCERw4dAry8AH9/YNiw4n+9vIq385BBrG5Vhri4OBw5ckSuFM0YM/mStCxJOzk5lXMkUUXJamS+laTNzf/rN2JqU4Oq1XHM0tISv/32G7KzsyEQCOSGYgHFC3THxMTAy8tLEzESPjl0CCwoCGAMJUdRFiUlQRAUBMGBA7xbhcnQ5y3//vvvYWZmhsLCQm4blaT/S9Jt27bVcyTGoWTzAd9K0iVRSboCxGKxQoIGir/ZNmvWDPb29pW5POEbqRT4/HOFBA0U/yExxoBp0/Re9a1smJWhzlv+9OlT7Nq1Sy5BA8ULSVCSLk7StWvX1nMkxqHkRCbW1tZ6jKRsVJImpDTnzwNJSQoJWkYIAImJxcfpYXWm8oZZGeJc3z/99FOp+0y9ujsxMREA9ezWFNnwK74Od5LVJplaSVqlJF27dm0IBAKEh4fD29tb5W+uAoGgzNVqiIFRdQlAPS0VWNYwqx1j2wAwrLm+MzMzsXHjxlJXkzP1knRsbCwAStKaIitJt2zZUs+RKOfs7IzU1FSTK0mrVN0tW3qy5HPGWLmPkucQI+DqqtnjNMgYhlm9a9WqVSgoKCh1v6mXpGXDhShJa4asJF23bl09R6Kci4sLAKruVio+Pr7M58REdOwI1KqFoqQkpd/uigAI3d2Lj9MxVYZZGUoJWubw4cMoKiqCSCRSWpo25ZJ0yfeDkrRmyErSfO00JlvdzNSquyvVcYyYGJEIWLkSAoEA79aRFOH/V81ZsaL4OB0z9GFWyvz1119Yv349goKC5LbLxkubcpJOLdGkIithkcqRdcTj2/ArGVlHZFMrSauVpAMCArBjx44yj/n1119pnLQxGjAAggMHIKxVS26z0N1dr8OvZMOsRO8srycSCOBXz9ngStFA8Sxan332Gb788ktu286dOzFmzBh07NiRdysV6VLJiUxEevhSaIxka3TzNUnLZpWTLY9sKtTq3R0ZGYnO5fTeTUhIwNmzZ9W5POG7AQOAfv2Ke3Gnpha3QXfsqJcSdEm/DG2BKXti5Hp3G8Iwq/KcO3cOANCpUycMHz4cw4cP13NE+idL0r6+vnqOxHjwvbr7+++/x4wZM7hqb1OhtSFYr1+/lpslhhgZkYgbZhUfHw93APouzxjqMKvyyObJ79q1q54j4Q9Zkm7WrJmeIzEOJdv4+VqSFolEJpeggQok6ZLVSwCQlZWlsA0o/mUnJibi4MGDNOOYCWCMwdfXF999951ctaw+GdIwq/IwxvDHH38AADrqoUMeX8k+e6jTmGY8e/aM+7l69ep6jIS8S+Uk7eXlVdwxCMUdhFauXImVK1eWejxjDEuXLq18hITXcnNzkZOTg/Xr12PWrFnc3wjRjAcPHnA/t27dWo+R8Mvjx48BUJLWlJKzjVEbP7+onKRHjhwJgUAAxhh27NiBZs2aoXnz5grHiUQiODg4ICAgAN27d9dkrISHZD0t4+PjceHCBSrtadj58+cBFLe9mvq46JIuX74MgJK0psjGSNOSn/yjcpIOCwvjfj579iyCg4MxdepUbcREDEjJ4RBbt26lJK1hss6Xffr00XMk/PLy5UsAlKQ1RVaSbtHCsDtZGiO1Oo49efJE03EQA1UySe/duxe//PIL7Ozs9BiRcdm5cycAao8uqeTfHJX8NINK0vxFk5mQSin5gZmbm4v9+/frMRrjUrKdsH379nqMhF9kC2sApjdmVlv4PvzKlKk9BOvVq1dYvXo1wsPDkZKSgry8PIVjaIEN41cySQuFQmzatAnBwcF6jMh4yNqjXV1dKRmVIOvZrWyZXKKehw8fAuDv8CtTplaSzsjIQPv27fHo0SOIxWJkZ2fD3t4e+fn5ePv2LYDib2Q0Ttr4lUzSRUVFuHTpEu7fvw8fHx89RmUcZEl68ODBeo6EX2RJ+v3339dzJMbj+vXrAChJ85Fa1d2hoaF49OgRduzYwXXg+OKLL/D69WtcuXIFbdq0gZeXF7dKja4sWrQIAoEATZo00enrmrJ359EViURynQyJ+nbt2gWA2qPfJUvSfF2tyRCVLFypo3Pnzpg2bZrC9rCwMFStWrXU8w4fPoz3338f9vb2qFKlCho3bqz0OqZMrST9119/oUuXLhg+fLjCuNjWrVvj+PHjiI+Px7x58zQSpCqSkpKwePFi3i5YbqxycnLk/gakUim2bt1a6hrIRDUvXryARCIBAHzwwQd6joZfaCITzXrz5r8V5HRZko6IiMCQIUMwcOBAREdH4/r161i0aFGZy7OaIrWSdGpqqlxXfZFIxH0TA4Bq1aqhR48e2LdvX+UjVFFISAjef/99tGrVSmevSYqTtFAo/2f07NkznDp1Sk8RGYeoqCgAgLm5Oa3y9I7bt28DoCStKbKe3YBuO+IdPXoUHTp0wMyZM1G/fn34+Pigf//+WLNmjc5iMARqJWl7e3u5bzvVqlVDUlKS3DFisVhuqjltOnfuHA4cOIAVK1bo5PXIf5QlaTMzM2zevFlPERkHWXv0iBEj9BwJ/8hWa6IkrRklk7QuZwysUaMG7ty5g3/++Udnr2mI1ErStWvXRnx8PPe8RYsWOHXqFJ4/fw6guH3j6NGjOvlPJJVKMWXKFIwbN06lFXHy8vKQnZ0t9yDqU7a2a2FhIf744w/u74FU3MGDBwEUr3xF/lNU9N9K5pSkNUNfE5lMmTIFrVu3hq+vL7y8vPDxxx9j69atSkcKmTK1knTXrl0RERHBtWV89tlnSE9PR7NmzTBo0CA0adIEjx49wujRozUZq1Lr169HQkICFixYoNLxS5Ysgb29PfegwfuVk5OTA8aYwnapVIrdu3frISLD9/r1a25uauo0Jq9k7RyN6dWM9PR0AEDDhg11+rq2trb4888/8fDhQ3z33Xews7PDjBkz0KZNG7l2clOnVpKeMGECNm3axL2RAwYMwNKlS/H69WscPHgQaWlpmD59OmbOnKnRYN/1/PlzzJkzB7Nnz4azs7NK53z99deQSCTco+TECKTicnJy5Eo3JW3atEnH0RiHK1eucD/TSnLySv5/NTPT2kq7JmXQoEEIDQ3FjBkz1L6GWCzmOjqWlJWVBXt7+zLPrVOnDsaNG4fNmzfjxo0b+Pfff/Hbb7+pHYuxUeuv3NXVFUOGDJHbNmPGDEybNg2ZmZmoXr26Tto2vvvuOzg4OGDKlCkqn2NpaQlLS0stRmVaXr16pTRJM8Zw+/ZtxMbGKl2IhZSu5PhoWlVMnqxnd7169fQcifFwc3PD3LlzK3WN+vXr4+TJkwrbb9y4UaE5E7y8vGBjY4PXr19XKh5jotFpQUUiEVxcXHTywfLgwQNs3LgRU6dORUpKCuLj4xEfH4/c3FwUFBQgPj4eL1680Hocpk5Zm37J3z/NOFdxx48fB1A89pTIkyXpli1b6jkSUtLEiRNx//59TJ06Fbdu3cK9e/ewfPly7NmzhyuhHz58GA0aNODOCQ0NxaxZsxAZGYknT54gJiYGY8aMQUFBAT788EMAQHR0NBo0aCA3Ra6pUStJJyYm4vTp03LtBkVFRfjhhx/QoUMHdOnSBX/++afGglQmOTkZRUVFmDp1Kry9vbnHlStXcP/+fXh7e2P+/PlajYGAWz7RycmJWyy+Z8+eiIiIQEpKCgYOHKjP8AxOQUEBV91N7dGKZEna09NTz5GQkmrXro1z587h7t27CAwMRNu2bbFv3z7s37+fW7JYIpHg3r173DmdOnXC48ePMXLkSDRo0AA9evRAWloaTp48ifr16wMoHsN97949kx47LWDKev2UY/To0Th69CjS0tK4qT8XLFggV2UiEolw8eJFrS1Un5mZiQsXLihs/+677/Dq1SusXLkSderUKbfHt2xKU4lEQvMjqyE3Nxe5ubmoWrUqfvzxR3z55ZcYOnQodRpT05UrV7jpLqVSqcLwNlPXr18/HDlyBKtXr8akSZP0HQ4xMnzMB2q1SUdFRSEwMJBL0IwxrF69Gg0aNMDJkyeRlpaGwMBALF26VGsTmjg5OaF///4K22VjpZXtI5pnZWXFlaZlvUNpIhP1ydqju3btSglaiejoaAA0/IqYDrU+BdLT0+Wqm2JjY5GRkYEpU6agVq1aaNWqFfr374+rV69qLFDCf7L2pszMzFJ7fJOyRUREAAACAwP1HAk/paWlAaAkTUyHWiXpoqIiuQ/hyMhICAQCBAQEcNtq1qzJ/YfSpcjISJ2/Jinm7e3N/ZyQkCD3nJSvqKgIJ06cAAD4+fnpORr+KTn1MCVpYirUKkl7eHhw1U4A8Pvvv8PV1ZVr7AeKv/GWtfoJMT5mZmaws7MDANy9e1fP0RieuLg47mfqvayo5Bhp+mwhpkKtJD1w4EBERUUhKCgIw4cPx4ULFxR68f7777+oXbu2RoIkhqNbt24A5BMOUY2sPbp169a0FrsSsp7dFhYWNH6cmAy1knRISAhat26NQ4cOYffu3fD19UVoaCi3PyEhAdHR0TTO0wQ1btwYACVpdciaanr27KnfQHhKlqRlvd8JMQVqtUmLxWJcvnyZW72kYcOGEIlEcsccOnSIlo00QbLOY8qGx5HSMca4qRBpfLRysuruks1qhBi7Sk1+26RJE6XbPT09abIBEyUbhnX37l0wxqhaUkUJCQncz1RSVE5WkqZOY/JCQ0Px+++/IzY2FkDxPBZZWVn4/fff9RoX0QwaiEk0qmQpJyMjQ4+RGBZZe3Tt2rVha2ur52j4SdaEoqskfenSJYhEIvTq1Uuj1w0LC9Nqx7eVK1ciLCxMa9cnukVJmmiUtbU19zO1S6vu7NmzAIpXlCPKde3aFfXr19dZTcOWLVswZcoUnDt3DikpKTp5zZLy8/PVOs/e3p56vxsRStJE47p06QKAknRF7Ny5EwC1R5clNDQUd+/erdCqSurKycnBb7/9hokTJ6JXr15yJVNlJeHff/9drmnn5s2b8Pf3R5UqVSAWi/Hee+/h2rVriIyMRHBwMCQSCQQCAQQCAdfp1svLCwsWLMDIkSMhFosxfvx4AMCXX34JHx8f2NjYoHbt2pg9e3aZc1mPHj1absbFEydO4IMPPkDVqlXh6OiI3r1708I3BoSSNNE42dKUNFZaNenp6VypqUOHDnqOhgDAvn370KBBA9SvXx/Dhw/H1q1bUZFlDj755BPUqlULV69exfXr1/HVV1/B3Nwc7du3x4oVKyAWi5GamorU1FSEhIRw5/30009o1qwZYmJiMHv2bABAlSpVEBYWhn///RcrV67Epk2b8PPPP6scy+vXrzF9+nRcu3YNEREREAqF+Oijj2hWQANBq6YTjZP18L5+/bqeIzEMsp7wYrEYjo6Oeo6GAMVV3cOHDwcAdO/eHRKJBGfPnlV5WOnTp08xc+ZM7v9CyfWv7e3tIRAIUKNGDYXzAgICuKUdZb777jvuZy8vL4SEhGDv3r2YNWuWSrG8O4fF1q1b4ezsjH///bfUzr+EP6gkTTRO1sObhmGpRtZp7JNPPtFzJAQA7t27h+joaAwdOhRA8Ux6Q4YMwZYtW1S+xvTp0zFu3DgEBgbi+++/V7l6Wdmw1d9++w0dOnRAjRo1YGdnh++++47r6a6KBw8eYOjQoahduzbEYjG8vLwAoELXIPpT6ST977//4tChQ1ybGiGyJA0Ut+2RsslWiqP2aH7YsmULCgsL4ebmBjMzM5iZmWHdunU4ePAgJBIJhEKhQtX3u23EoaGhuHPnDnr16oXTp0+jUaNGOHz4cLmv/W7P/kuXLuGTTz5Bz549cezYMcTExODbb7+tUKeyPn364MWLF9i0aROuXLnCrVeubsc0oltqJ+mrV6+iefPm8PX1xaBBgzB69Ghu37lz52BjY4MjR45oIkZiYBwcHLifqV26bNnZ2VzPYUrS+ldYWIgdO3Zg2bJliI2N5R43b96Em5sb9uzZA2dnZ7x69QqvX7/mzpONUS7Jx8cHX3zxBU6ePIkBAwZg27ZtAIqnNZVKpSrFc/HiRXh6euLbb79Fq1atUK9ePbkx9eV5/vw57t27h++++w5dunRBw4YN8fLlS5XPJ/qnVpK+c+cOAgIC8OTJE3zxxRfo0aOH3P6OHTvCyckJ+/fv10iQxPC0aNECAPXwLs+lS5e4n2vVqqXHSAgAHDt2DC9fvsTYsWPRpEkTucfAgQOxZcsWtG3bFjY2Nvjmm2/w6NEj7N69W67399u3bzF58mRERkYiISEBUVFRuHr1KlfD5OXlhZycHERERCAzMxNv3rwpNZ569erh6dOn2Lt3Lx49eoRVq1apVCKXqVatGhwdHbFx40Y8fPgQp0+fxvTp09V+f4juqZWk586dC6C4Y9BPP/2E1q1by+0XCARo164drSdtwtq2bQuAknR5ZO3RI0aM0HMkBCiu6g4MDIS9vb3CvoEDB+LatWtISkrCr7/+ir/++gu+vr7Ys2eP3NoFIpEIz58/x8iRI+Hj44PBgwejR48emDdvHgCgffv2mDBhAoYMGQJnZ2f8+OOPpcbTt29ffPHFF5g8eTKaN2+Oixcvcr2+VSEUCrF3715cv34dTZo0wRdffIGlS5eq/oYQ/WNqcHJyYqNGjeKeh4aGMqFQKHdMSEgIE4vF6lxepyQSCQPAJBKJvkMxKitWrGAAWJ8+ffQdCq/5+voyAGzTpk36DoUQk8fHfKBWSfrVq1eoXr16mce8fftW5XYXYnxkVXvHjx/XcyT8lZeXh9u3bwOg9mhCiHJqJWl3d3fuw6U0N27cQJ06ddQKihg+WZIuLCwsc3YkU1ayOUgXs2gRQgyPWkm6d+/eOHnyJMLDw5Xu37dvHy5fviw3NR0xLSU7QT18+FCPkfCXrD26b9++tFoYIUQptZL0N998Azc3N/Ts2ROffvoprl27BgBYu3YtRowYgWHDhsHLy4t6EZowgUCAmjVrAqDOY6U5efIkgOJZpnRt9OjR3NzRJR/0hYoQflFrWlBnZ2dERkZi5MiRcrPwTJ48GUBxz949e/Yo7SFJTIe/vz9+/fVXStJKSKVSREZGAtBfe3T37t25sbsyzs7Ocs/z8/NhYWGhy7AIISWoPZlJnTp1EBUVhRs3bmDt2rVYuHAhVq1ahStXruDSpUvc1HPEdMnapSlJKyrZp6NZs2Z6icHS0hI1atSQe3Tp0gWTJ0/GtGnT4OTkhG7dugEAli9fDl9fX9ja2sLd3R3/+9//5GaTk60M9ffff6Nhw4aws7ND9+7dkZqaKveaW7duRePGjWFpaQlXV1fuiz0AZGVlYdy4cXB2doZYLEZAQABu3rypmzeDEJ5SqSQ9YMAAfPzxxxg8eDCA4hnFvLy84OHhgebNm3OrHhFSkixJnz59Ws+R8FevXr0gEon0HYac7du3Y+LEiYiKiuK2CYVCrFq1Ct7e3nj8+DH+97//YdasWVi7di13zJs3b/DTTz9h586dEAqFGD58OEJCQrBr1y4AwLp16zB9+nR8//336NGjByQSidxrDBo0CNbW1jh+/Djs7e2xYcMGdOnSBffv35ebxY4Qk6LKOC2BQMDmzZv337gtoVDuuSHj47g4YxEXF8cAMABMKpXqOxzeKSgo0Nv7MmrUKCYSiZitrS33CAoKYp06dWItWrQo9/z9+/czR0dH7vm2bdsYAPbw4UNu25o1a5iLiwv33M3NjX377bdKr3f+/HkmFotZbm6u3PY6deqwDRs2VPT2CFELH/OBSiXpqlWrIjs7u2Ri18b3BWJkSg7BS0pKgoeHhx6j4R8zM/2uFOvv749169Zxz21tbTF06FC89957CseGh4djyZIluHv3LrKzs1FYWIjc3Fy8efMGNjY2AAAbGxu537mrqyvS09MBFK+ZnZKSgi5duiiN5ebNm8jJyVFYqvPt27cqryBFiDFS6VOiUaNG2LNnD1q3bg1XV1cAQHx8PM6dO1fuuX5+fpWLkBgsc3NzWFhYID8/H3FxcZSkecbW1hZ169ZVur2k+Ph49O7dGxMnTsSiRYvg4OCACxcuYOzYscjPz+eStLm5udx5AoGA+0JvbW1dZiw5OTlwdXXlOtOVVLVq1QrcFSHGRaUkPWfOHPTv3x/Dhg3jtm3fvh3bt28v91yadcy0de/eHUeOHEFcXBzXCYkYluvXr6OoqAjLli2DUFjc11S2vKaqqlSpAi8vL0RERMDf319hf8uWLZGWlgYzMzPqdEpICSol6a5duyIuLg7h4eFITk5GaGgoOnXqhE6dOmk7PmLgmjRpgiNHjtCSlQasbt26KCgowC+//II+ffogKioK69evr/B1QkNDMWHCBFSvXh09evTAq1evEBUVhSlTpiAwMBDt2rVD//798eOPP8LHxwcpKSn4888/8dFHH6FVq1ZauDNC+E/lRjFPT0+MHTsWQPF/ts6dO2POnDlaC4wYB1kP75JLMhLD0qxZMyxfvhw//PADvv76a/j5+WHJkiUYOXJkha4zatQo5Obm4ueff0ZISAicnJwQFBQEoLhq/K+//sK3336L4OBgZGRkoEaNGvDz84OLi4s2bosQgyBgavQCS0hIQNWqVY1ispLs7GzY29tDIpFALBbrOxyjc/36da4URB0OCSF8xsd8oNZkJp6enkaRoIn2NWjQgPv5+fPneoyEEEIMj0rV3fPnz4dAIMCkSZPg4OCA+fPnq3RxgUBQoQXKifEp2VM4Li4OH3zwgR6jIYQQw6JSdbdQKIRAIEBcXBx8fHy4Hp7lXlwg0Frv7qtXr2L79u04c+YM4uPj4ejoiPfffx8LFy6s0LJ/fKzeMDZ+fn44f/48Nm7ciE8//VTf4RBCiFJ8zAcqlaTPnDkDANw4V9lzffrhhx8QFRWFQYMGoWnTpkhLS8Pq1avRsmVLXL58GU2aNNF3iOT/tWzZEufPn6ce3oQQUkEqJel3h1rxYejV9OnTsXv3brkVeoYMGQJfX198//33+PXXX/UYHSlJ1sM7JiZGz5EQQohhUXsVrPL88MMPpU4BqAnt27dXWEKvXr16aNy4Ma26xDOyJK3rGpjRo0ejf//+ctsOHDgAKysrLFu2TKexEEKIOrSWpO/evat0ij9tYozh2bNncHJy0unrkrLJkjRQvFKSvmzevBmffPIJ1q1bhxkzZlT4/IKCAi1ERQghpdNaktaHXbt2ITk5GUOGDCn1mLy8PGRnZ8s9iHY5OztzP9+7d08vMfz444+YMmUK9u7di+DgYADFSyfWqVMHFhYWqF+/Pnbu3Cl3jkAgwLp169C3b1/Y2tpi0aJFAIA//vgDLVu2hJWVFWrXro158+ahsLCQO6+8tZcJIURl2lpea/To0UwoFGrr8gri4uKYWCxm7dq1Y4WFhaUeN3fuXG75xJIPPi1NZowaNmzIALA9e/bo7DVHjRrF+vXrx2bNmsXs7OxYeHg4t+/QoUPM3NycrVmzht27d48tW7aMiUQidvr0ae4YAKx69eps69at7NGjRywhIYGdO3eOicViFhYWxh49esROnjzJvLy8WGhoKHfezz//zE6fPs2ePHnCIiIiWP369dnEiRN1dt+EEPXwcalKo0jSqamprHbt2szd3Z0lJyeXeWxubi6TSCTcIzExkXe/FGO0f/9+FhwczJ4+faqz1xw1ahSzsLBgAFhERITcvvbt27NPP/1UbtugQYNYz549uecA2LRp0+SO6dKlC1u8eLHctp07dzJXV9dS43h37WVCCD/xMUnrd0FbDZBIJOjRoweysrJw/vx5uLm5lXm8paUlLC0tdRQdkQkKCuLmadalpk2bIjMzE3PnzkWbNm1gZ2cHoHhilfHjx8sd26FDB6xcuVJu27sLO9y8eRNRUVFc1TdQvNJbybWVVVl7mRBCVGHQbdK5ubno06cP7t+/j2PHjqFRo0b6DonwTM2aNREZGYnk5GR0794dr169qtD5766tnJOTg3nz5iE2NpZ73L59Gw8ePICVlRW39nLTpk1x8OBBXL9+HWvWrAEA5Ofna+y+CCGmQeWSdM+ePSt04du3b1c4mIqQSqUYMmQILl26hD/++APt2rXT6usRw+Xp6YmzZ8/C398f3bt3x4kTJ9CwYUNERUVh1KhR3HFRUVHlftFr2bIl7t27h7p16yrdr4m1lwkhREblJH3ixIkKX1wgEFT4HFXNmDEDR44cQZ8+ffDixQuFyUuGDx+utdcmhsfd3R2RkZHw9/dHt27dMGHCBIwbNw4tWrRAYGAgjh49ikOHDiE8PLzM68yZMwe9e/eGh4cHgoKCIBQKcfPmTfzzzz9YuHChxtZeJoQQoAJLVSYkJKj1Ap6enmqdV57OnTvj7Nmzpe5X8bZ4OVcr0YzRo0cjKysLv//+O7ctOTkZ/v7+cHR0xMcff4xVq1YhMTER3t7e+O677zBixAjuWIFAgMOHDytMiPL3339j/vz5iImJgbm5ORo0aIBx48Zx85L//PPPWLp0KbKysuDn54dPPvkEI0eOxMuXL1G1alUd3DkhRB18zAdqrSdtTPj4SyGEEKJ7fMwHBt1xjBBCCDFmlKQJIYQQnqIkTQghhPAUJWlCCCGEpyhJE0IIITxFSZpHlK1/DACRkZEQCATIysrSeUyEEEL0h5I00RipVIqioiJ9h0EIIUaDkrSBCQ0NRfPmzeW2rVixAl5eXtxzWYn8p59+gqurKxwdHTFp0iQUFBRwx6SmpqJXr16wtraGt7c3du/eDS8vL6xYsYI7prx1kcPCwlC1alUcOXIEjRo1gqWlJS5cuABzc3OkpaXJxTht2jR07NhRo+8FIYQYO0rSRurMmTN49OgRzpw5g+3btyMsLAxhYWHc/pEjRyIlJQWRkZE4ePAgNm7ciPT0dLlrCIVCrFq1Cnfu3MH27dtx+vRpzJo1S+6YN2/e4IcffsDmzZtx584dtGrVCrVr18bOnTu5YwoKCrBr1y6MGTNGq/dMCCHGxuCXqjQ2x44d45ZTlJFKpRW+TrVq1bB69WqIRCI0aNAAvXr1QkREBD799FPcvXsX4eHhuHr1KrcU4+bNm1GvXj25a0ybNo372cvLCwsXLsSECROwdu1abntBQQHWrl2LZs2acdvGjh2Lbdu2YebMmQCAo0ePIjc3F4MHD67wfRBCiCmjkjTP+Pv7yy2DGBsbi82bN1f4Oo0bN4ZIJOKeu7q6ciXle/fuwczMDC1btuT2161bF9WqVZO7Rnh4OLp06YKaNWuiSpUqGDFiBJ4/f443b95wx1hYWKBp06Zy540ePRoPHz7E5cuXARRXiw8ePFhh2UdCCCFlo5I0z9ja2iosg5iUlMT9LBQKFRYPKdnWLGNubi73XCAQVKhTl2xd5IkTJ2LRokVwcHDAhQsXMHbsWOTn58PGxgYAYG1trbDaWfXq1dGnTx9s27YN3t7eOH78OCIjI1V+bUIIIcUoSRsYZ2dnpKWlgTHGJcfY2NgKXaN+/fooLCxETEwM3nvvPQDAw4cP8fLlS+6Yyq6LPG7cOAwdOhS1atVCnTp10KFDhwrFSAghhKq7DU7nzp2RkZGBH3/8EY8ePcKaNWtw/PjxCl2jQYMGCAwMxPjx4xEdHY2YmBiMHz9erlRccl3kx48fY+fOnRVaF7lbt24Qi8VYuHAhgoODKxQfIYSQYpSkDUzDhg2xdu1arFmzBs2aNUN0dDRCQkIqfJ0dO3bAxcUFfn5++Oijj/Dpp5+iSpUqsLKyAgA0a9YMy5cvxw8//IAmTZpg165dWLJkicrXFwqFGD16NKRSKUaOHFnh+AghhNB60rxcP1QfkpKS4O7uznUW04SxY8ciIyMDR44c0cj1CCFEm/iYD6hN2kSdPn0aOTk58PX1RWpqKmbNmgUvLy/4+flV+toSiQS3b9/G7t27KUETQkglUJI2UQUFBfjmm2/w+PFjVKlSBe3bt8euXbsUeoWro1+/foiOjsaECRPw4YcfaiBaQggxTVTdzcPqDUIIIbrHx3xAHccIIYQQnqIkTQghhPAUJWlCCCGEpyhJE0IIITxFSZoQQgjhKUrShBBCCE9RkiaEEEJ4ipI0IYQQwlOUpAkhhBCeoiRNCCGE8BQlaUIIIYSnKEkTQgghPEVJmhBCCOEpg07SeXl5+PLLL+Hm5gZra2u0bdsWp06d0ndYhBBCiEYYdJIePXo0li9fjk8++QQrV66ESCRCz549ceHCBX2HRgghhFSawa4nHR0djbZt22Lp0qUICQkBAOTm5qJJkyaoXr06Ll68qNJ1+Lh+KCGEEN3jYz4w2JL0gQMHIBKJMH78eG6blZUVxo4di0uXLiExMVGP0RFCCCGVZ7BJOiYmBj4+Pgrfdtq0aQMAiI2N1UNUhBBCiOaY6TsAdaWmpsLV1VVhu2xbSkqK0vPy8vKQl5fHPZdIJACKqzkIIYSYLlke4FMrsMEm6bdv38LS0lJhu5WVFbdfmSVLlmDevHkK293d3TUbICGEEIP0/Plz2Nvb6zsMAAacpK2treVKxDK5ubncfmW+/vprTJ8+nXuelZUFT09PPH36lDe/FF3Lzs6Gu7s7EhMTedNZQtdM/T0w9fsH6D0w9fsHimtWPTw84ODgoO9QOAabpF1dXZGcnKywPTU1FQDg5uam9DxLS0ulJXB7e3uT/cOUEYvF9B6Y+Htg6vcP0Htg6vcPAEIhf7pr8SeSCmrevDnu37+v0JZ85coVbj8hhBBiyAw2SQcFBUEqlWLjxo3ctry8PGzbtg1t27alNmZCCCEGz2Cru9u2bYtBgwbh66+/Rnp6OurWrYvt27cjPj4eW7ZsUfk6lpaWmDt3rtIqcFNB7wG9B6Z+/wC9B6Z+/wA/3wODnXEMKO4kNnv2bPz66694+fIlmjZtigULFqBbt276Do0QQgipNINO0oQQQogxM9g2aUIIIcTYUZImhBBCeIqSNCGEEMJTJpuk8/Ly8OWXX8LNzQ3W1tZo27YtTp06pe+wSpWTk4O5c+eie/fucHBwgEAgQFhYmNJj4+Li0L17d9jZ2cHBwQEjRoxARkaGwnFFRUX48ccf4e3tDSsrKzRt2hR79uzR2TUr4urVq5g8eTIaN24MW1tbeHh4YPDgwbh//75J3P+dO3cwaNAg1K5dGzY2NnBycoKfnx+OHj1qEvevzKJFiyAQCNCkSROFfRcvXsQHH3wAGxsb1KhRA1OnTkVOTo7CcRX5HNDGNSsiMjISAoFA6ePy5ctGf/8l3bhxA3379oWDgwNsbGzQpEkTrFq1Suvx6uU9YCbq448/ZmZmZiwkJIRt2LCBtWvXjpmZmbHz58/rOzSlnjx5wgAwDw8P1rlzZwaAbdu2TeG4xMRE5uTkxOrUqcNWrlzJFi1axKpVq8aaNWvG8vLy5I796quvGAD26aefso0bN7JevXoxAGzPnj1av2ZFDRw4kNWoUYNNmTKFbdq0iS1YsIC5uLgwW1tbdvv2baO//z///JN169aNhYaGso0bN7IVK1awjh07MgBsw4YNRn//70pMTGQ2NjbM1taWNW7cWG5fTEwMs7KyYi1atGDr1q1j3377LbO0tGTdu3dXuI6qnwPauGZFnTlzhgFgU6dOZTt37pR7ZGRkGP39y/z999/MwsKCtW3bli1fvpxt3LiRffnll2zmzJlG+R6YZJK+cuUKA8CWLl3KbXv79i2rU6cOa9eunR4jK11ubi5LTU1ljDF29erVUpP0xIkTmbW1NUtISOC2nTp1SuHDPCkpiZmbm7NJkyZx24qKiljHjh1ZrVq1WGFhoVavWVFRUVEKCeH+/fvM0tKSffLJJ0Z//8oUFhayZs2asfr162s1Vj7e/5AhQ1hAQADr1KmTQpLu0aMHc3V1ZRKJhNu2adMmBoD9/fff3LaKfA5o45oVJUvS+/fvL/M4Y71/xhiTSCTMxcWFffTRR0wqlZZ6nDG9ByaZpGfOnMlEIpHcm80YY4sXL2YA2NOnT/UUmWrKStLVq1dngwYNUtju4+PDunTpwj1fs2YNA8Du3Lkjd9zu3bsZALlvfNq4pqa0bNmStWzZUqux8vn+e/fuzVxcXLQaK9/u/+zZs0wkErFbt24pJGmJRMLMzMzkSlWMMZaXl8fs7OzY2LFjuW2qfg5o45rqKJmks7OzWUFBgcIxxnz/jDG2bt06BoD9+++/jDHGcnJyFJK1sb0HJtkmHRMTAx8fH4VJ5Nu0aQMAiI2N1UNUlZecnIz09HS0atVKYV+bNm0QExPDPY+JiYGtrS0aNmyocJxsv7auqSmMMTx79gxOTk5ai5Vv9//69WtkZmbi0aNH+Pnnn3H8+HF06dJFa7Hy7f6lUimmTJmCcePGwdfXV2H/7du3UVhYqBCvhYUFmjdvrhCvKp8D2rhmZQQHB0MsFsPKygr+/v64du0at8/Y7z88PBxisRjJycmoX78+7OzsIBaLMXHiRG4FRGN7D0wySaempsLV1VVhu2xbSkqKrkPSCNkKYKXd24sXL7jlPVNTU+Hi4gKBQKBwHPDfe6CNa2rKrl27kJycjCFDhmgtVr7d/4wZM+Ds7Iy6desiJCQEH330EVavXq21WPl2/+vXr0dCQgIWLFigdH958ZaMQdXPAW1cUx0WFhYYOHAgVq5ciT/++AMLFy7E7du30bFjRy5JGPP9A8CDBw9QWFiIfv36oVu3bjh48CDGjBmD9evXIzg4WGvx6vM9MNi5uyvj7du3SudmtbKy4vYbIlnc5d2bpaWlyu+BNq6pCXfv3sWkSZPQrl07jBo1Smux8u3+p02bhqCgIKSkpGDfvn2QSqXIz8/XWqx8uv/nz59jzpw5mD17NpydnZUeU168JWPQ1HugzjXV0b59e7Rv35573rdvXwQFBaFp06b4+uuvceLECaO+f6B4lMubN28wYcIErjf3gAEDkJ+fjw0bNmD+/PlG9x6YZEna2tqa+/Zfkqy6xNraWtchaYQsblXuTdX3QBvXrKy0tDT06tUL9vb2OHDgAEQikdZi5dv9N2jQAIGBgRg5ciSOHTuGnJwc9OnTB4wxo7//7777Dg4ODpgyZUqpx5QXb8kYNPUeqHNNTalbty769euHM2fOQCqVGv39y84fOnSo3PZhw4YBAC5dumR074FJJmlXV1eu+qIk2TY3Nzddh6QRsuqU0u7NwcGB+4bn6uqKtLQ0sHembn/3PdDGNStDIpGgR48eyMrKwokTJ+SuaQr3/66goCBcvXoV9+/fN+r7f/DgATZu3IipU6ciJSUF8fHxiI+PR25uLgoKChAfH48XL16UG++7fy+qfA5o45qa5O7ujvz8fLx+/dro7192vouLi9z26tWrAwBevnxpdO+BSSbp5s2b4/79+8jOzpbbfuXKFW6/IapZsyacnZ3lOpLIREdHy91X8+bN8ebNG8TFxckd9+57oI1rqis3Nxd9+vTB/fv3cezYMTRq1Ehuv7HfvzKyqjOJRGLU95+cnIyioiJMnToV3t7e3OPKlSu4f/8+vL29MX/+fDRp0gRmZmYK8ebn5yM2NlYhXlU+B7RxTU16/PgxrKysYGdnZ/T3/9577wEo/nsoSdbO6+zsbHzvQYX6ghuJy5cvK4xjy83NZXXr1mVt27bVY2SqKWsI1oQJE5i1tbVcN//w8HAGgK1bt47blpiYWOqY1po1a8qNadXGNSuqsLCQ9e3bl5mZmbE///yz1OOM9f6fPXumsC0/P5+1bNmSWVtbs1evXhn1/WdkZLDDhw8rPBo3bsw8PDzY4cOH2a1btxhjjHXv3p25urqy7Oxs7vzNmzczAOz48ePctop8DmjjmhWVnp6usC02NpaZm5uzvn37ajVWPtw/Y4zduHGDAWDDhg2T2z506FBmZmbGkpOTtRavvt4Dk0zSjDE2aNAgbtzbhg0bWPv27ZmZmRk7e/asvkMr1S+//MIWLFjAJk6cyACwAQMGsAULFrAFCxawrKwsxhhjT58+ZY6OjqxOnTps1apVbPHixaxatWrM19eX5ebmyl1v5syZDAAbP34827RpEzc71K5du+SO08Y1K+rzzz9nAFifPn0UZlvauXOnVmPlw/3379+fBQQEsNDQUG7GtQYNGjAAbNmyZUZ//6VRNpnJ9evXmaWlpdzMUFZWVqxr164K56v6OaCNa1aUv78/69mzJ1u4cCHbuHEjmzZtGrOxsWH29vbcuGFjvn+ZMWPGMABs8ODBbM2aNWzQoEEMAPv666+N8j0w2ST99u1bFhISwmrUqMEsLS1Z69at2YkTJ/QdVpk8PT0ZAKWPJ0+ecMf9888/rGvXrszGxoZVrVqVffLJJywtLU3helKplC1evJh5enoyCwsL1rhxY/brr78qfW1tXLMiOnXqVOq9v1shZIz3v2fPHhYYGMhcXFyYmZkZq1atGgsMDGR//PGHTmLV9/2XRlmSZoyx8+fPs/bt2zMrKyvm7OzMJk2aJFcCkqnI54A2rlkRK1euZG3atGEODg7MzMyMubq6suHDh7MHDx6YxP3L5Ofns9DQUObp6cnMzc1Z3bp12c8//6yTePXxHggYe6eXByGEEEJ4wSQ7jhFCCCGGgJI0IYQQwlOUpAkhhBCeoiRNCCGE8BQlaUIIIYSnKEkTQgghPEVJmhBCCOEpStKEEEIIT1GSJoQYldDQUAgEAkRGRuo7FEIqjZI0MUmxsbGYMGECGjVqBLFYDAsLC9SoUQMffvghli1bhoyMDIVzBAKB3MPa2ho1atTABx98gJCQENy8eVPpa8XHxyuca2FhAXd3dwwbNgy3bt3S9u2aPNnvYPTo0foOhZAKoWlBiUkpKirCrFmzsGzZMohEIvj5+aFp06awtbVFeno6Ll26hDt37sDW1hb37t1DzZo1uXMFAgEcHR0xefJkAEBBQQEyMzMRExODq1evAgDGjBmDtWvXcmssA8UJwtvbG3Xq1MHw4cMBADk5Obh8+TKioqJgaWmJiIgIdOjQQYfvhPHKzMxEZmYmPDw8YGNjA+C/38GoUaMQFham3wAJqQi1ZvwmxEB99dVXDABr2bKl0oUJGCte7SYwMFBhPwBWv359pefcvn2bNW/enAFgw4cPl9v35MkTBoB169ZN4bxvv/2WAWCdOnVS74aISmS/g1GjRuk7FEIqhJI0MRn37t1jIpGIOTs7K12b910FBQVyz8tK0owVr/fr7OzMALArV65w28tK0mlpaQwAs7GxKTeebdu2ceuI//7776x169bM2tqaOTk5seDgYKWrUjHG2OPHj9nYsWOZu7s7s7CwYDVq1GCjRo1i8fHxCsfKvjAkJSWxESNGMBcXFyYQCNiZM2fKjS8vL48tX76ctWrVitnZ2TFbW1vWsGFD9sUXX7AXL15wx50+fZoFBwczHx8fZmtry2xtbdl7773HNmzYoPS6spgSExPZxx9/zBwdHZm1tTVr3749O3XqlMLxc+fOZQC4mGXvm7KH7Jjk5GQ2Z84c1rZtW+bs7MwsLCyYp6cnmzhxotK1vAnRFTPdltsJ0Z/t27dDKpXis88+g7Ozc7nHm5lV7L+Hs7MzJkyYgAULFuC3335DmzZtVD5XIBCofOzBgwfx999/IygoCIGBgbh8+TK2bduG8+fPIzo6GtWqVeOOvXLlCrp164bXr1+jd+/eqFevHuLj47Fr1y4cP34cly5dQu3ateWu//z5c7Rr1w4ODg74+OOPkZubC7FYXGZMb9++xYcffoioqCjUq1cPwcHBsLS0xIMHD7BhwwaMHDmSi+uHH37Aw4cP8f777+Ojjz5CVlYWTpw4gc8++wz37t3DsmXLFK7/8uVLdOjQAc7Ozhg3bhwyMjLw22+/oXv37jhw4AD69+9famzNmzfH559/jpUrV6JZs2Zyx3p5eQEAzp07h2XLlqFLly5o27YtzM3NERMTg3Xr1uHvv//GjRs3YG9vX85vhhAt0Pe3BEJ0xd/fnwFgERERap2PckrSjDEWERHBALCOHTty28oqSc+ZM4cBYP7+/uW+fskS4btr08qq8SdPnsxty8/PZ15eXqxKlSrsxo0bcsefP3+eiUQi1rt3b4V7BMCCg4NZYWFhuTHJzJgxgwFgI0aMUDgvKyuLvXr1inv++PFjhfMLCgrYhx9+yEQiEUtISFAa07Bhw1hRURG3/ebNm8zCwoI5OzuzN2/ecNvfLUkzVn5197Nnz+RilNm+fTsDwBYuXFjm/ROiLZSkiclo2LAhA8Di4uIU9p05c4bNnTtX7vFuFa8qSTouLo4BYA0bNuS2yRJEnTp1uGuHhISwjh07MgDMysqKXbx4sdz4ZUk6MDBQYd+rV69Y1apVmVgsZlKplDHG2KFDhxgANn/+fKXXGzBgABMKhUwikcjdo4WFBcvIyCg3HpmCggJWpUoVZm9vL1etXVEHDx5kAFhYWJjcdgBMJBIprZ4fO3YsA8AOHDjAbVMnSZemqKiIicVi1rlz5wqdR4imUHU3IQAiIyMxb948he2dO3fW2Gs8evSIew1zc3O4uLhg2LBh+Oqrr+Dr66vydTp27Kiwzc7ODs2bN0dkZCQeP36MunXr4vLlywCAe/fuITQ0VOGctLQ0FBUV4f79+2jVqhW33dvbG05OTirHc/fuXbx69QqBgYFyVe2lefXqFX766Sf8/vvvePToEV6/fi23PyUlReEcDw8PeHp6Kmzv2LEjtmzZgpiYGAwcOFDlmJU5dOgQNmzYgBs3buDly5eQSqVlxkSILlCSJibDxcUFcXFxSElJQYMGDeT2hYaGcols7969GDp0qFqvIfswV9bm3a1bN5w4cUKt65bk4uJS5naJRAIAePHiBQBg165dZV7v3SRZ2vVLI3u9ksPVSpOfn4/OnTvjxo0baNGiBUaMGAFHR0eYmZkhPj4e27dvR15ensJ5qt6zupYtW4aQkBA4Ozuja9euqFWrFqytrQEAK1asUBoTIbpASZqYjPbt2yMyMhJnzpxBQECAVl5DNstV69attXJ9AHj27FmZ22UdnGSdvY4ePYrevXurfP2KdGIDgKpVqwIAkpOTyz32jz/+wI0bNzB27Fhs3rxZbt/evXuxfft2peepes/qKCwsxIIFC+Dq6orY2FhUr16d28cYw48//qj2tQmpLJpxjJiMUaNGQSgUYuPGjcjMzNT49TMyMrBhwwYAwMcff6zx68ucP39eYVtOTg5iY2MhFou53tpt27YFAFy6dElrsQBA/fr1IRaLcfXqVbx8+bLMYx89egQA6Nevn8I+Zfcl8/TpUyQkJJR6TosWLcp8XZFIBAByVdgymZmZkEgkaNeunVyCBoBr167h7du3ZV6bEG2iJE1Mho+PD2bNmoX09HT06NEDDx8+VHpcVlZWha99584ddO3aFenp6Rg1apRcG6+mhYeH4++//5bbtmjRImRlZWHkyJEQCov/W/fr1w8eHh5Yvnw5zp07p3CdgoICXLhwodLxmJmZ4bPPPoNEIsHnn3+ukAglEglycnIAgGtXfvd1z549i02bNpX6GlKpFN988w1YiQkSb926hZ07d8LZ2Rk9e/YsM8Zq1apBIBAgMTFRYV/16tVhbW2NGzdu4M2bN9z2ly9fYsqUKWVelxBto+puYlIWLVqE/Px8LF++HA0aNICfnx+aNWsGGxsbpKen49atW4iOjuY6Yr0rMzOTa7suLCzE8+fPcePGDURHRwMAxo0bhzVr1mj1Hnr37o0+ffogKCgIXl5euHz5Ms6cOYM6depg/vz53HGWlpY4cOAAevTogU6dOiEgIAC+vr4QCARISEjA+fPn4ejoiLt371Y6pvnz5+Py5cvYuXMnLl++jB49esDS0hKPHz/GiRMncOHCBTRv3hx9+vSBl5cXfvzxR/zzzz9o0qQJ7t27h2PHjuGjjz7CgQMHlF6/adOmuHDhAlq3bo3AwEBunHRhYSE2btzItR+Xxs7ODq1bt8a5c+cwYsQI1KtXD0KhECNGjICnpyf+97//YdmyZWjWrBn69OmD7OxsHD9+HJ6ennBzc6v0+0OI2vTdvZwQfbhx4wYbP348a9CgAbOzs2Pm5ubMxcWFBQQEsKVLlyqdZQrvzFZlaWnJqlevzjp06MBCQkLYzZs3lb5WWeOkK6K0GcccHR3Z6NGjWWpqqtLzkpKS2Oeff87q1avHLC0tmVgsZg0bNmTjxo1TGDOOSkxRmpuby3766SfWvHlzZm1tzezs7FijRo3YjBkz2MuXL7njHj9+zAYOHMicnZ2ZjY0Na926Ndu7dy87c+YMA8Dmzp2rNKbExEQ2ZMgQ5uDgwKysrFi7du3YyZMnFeJQNgSLseIZ53r27MmqVq3KBAKB3DH5+fls0aJF3Hvk4eHBZsyYwV69esU8PT2Zp6enWu8JIZVFC2wQYiDCwsIQHByMbdu2mdRqTgKBAJ06daKlJ4lJojZpQgghhKcoSRNCCCE8RUmaEEII4SlqkyaEEEJ4ikrShBBCCE9RkiaEEEJ4ipI0IYQQwlOUpAkhhBCeoiRNCCGE8BQlaUIIIYSnKEkTQgghPEVJmhBCCOEpStKEEEIIT/0fBsT5vqoPuVAAAAAASUVORK5CYII=",
            "text/plain": [
              "<Figure size 500x300 with 1 Axes>"
            ]
          },
          "metadata": {},
          "output_type": "display_data"
        },
        {
          "data": {
            "image/png": "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",
            "text/plain": [
              "<Figure size 500x300 with 1 Axes>"
            ]
          },
          "metadata": {},
          "output_type": "display_data"
        },
        {
          "name": "stdout",
          "output_type": "stream",
          "text": [
            "OK\n"
          ]
        }
      ],
      "source": [
        "oecd_bli = pd.read_csv(datapath + \"oecd_bli_2015.csv\", thousands=',')\n",
        "oecd_bli = oecd_bli[oecd_bli[\"INEQUALITY\"]==\"TOT\"]\n",
        "oecd_bli = oecd_bli.pivot(index=\"Country\", columns=\"Indicator\", values=\"Value\")\n",
        "#oecd_bli.head(2)\n",
        "\n",
        "gdp_per_capita = pd.read_csv(datapath+\"gdp_per_capita.csv\", thousands=',', delimiter='\\t',\n",
        "                             encoding='latin1', na_values=\"n/a\")\n",
        "gdp_per_capita.rename(columns={\"2015\": \"GDP per capita\"}, inplace=True)\n",
        "gdp_per_capita.set_index(\"Country\", inplace=True)\n",
        "#gdp_per_capita.head(2)\n",
        "\n",
        "full_country_stats = pd.merge(left=oecd_bli, right=gdp_per_capita, left_index=True, right_index=True)\n",
        "full_country_stats.sort_values(by=\"GDP per capita\", inplace=True)\n",
        "#full_country_stats\n",
        "\n",
        "remove_indices = [0, 1, 6, 8, 33, 34, 35]\n",
        "keep_indices = list(set(range(36)) - set(remove_indices))\n",
        "\n",
        "sample_data = full_country_stats[[\"GDP per capita\", 'Life satisfaction']].iloc[keep_indices]\n",
        "#missing_data = full_country_stats[[\"GDP per capita\", 'Life satisfaction']].iloc[remove_indices]\n",
        "\n",
        "sample_data.plot(kind='scatter', x=\"GDP per capita\", y='Life satisfaction', figsize=(5,3))\n",
        "plt.axis([0, 60000, 0, 10])\n",
        "position_text = {\n",
        "    \"Hungary\": (5000, 1),\n",
        "    \"Korea\": (18000, 1.7),\n",
        "    \"France\": (29000, 2.4),\n",
        "    \"Australia\": (40000, 3.0),\n",
        "    \"United States\": (52000, 3.8),\n",
        "}\n",
        "for country, pos_text in position_text.items():\n",
        "    pos_data_x, pos_data_y = sample_data.loc[country]\n",
        "    country = \"U.S.\" if country == \"United States\" else country\n",
        "    plt.annotate(country, xy=(pos_data_x, pos_data_y), xytext=pos_text,\n",
        "            arrowprops=dict(facecolor='black', width=0.5, shrink=0.1, headwidth=5))\n",
        "    plt.plot(pos_data_x, pos_data_y, \"ro\")\n",
        "#save_fig('money_happy_scatterplot')\n",
        "plt.show()\n",
        "\n",
        "from sklearn import linear_model\n",
        "lin1 = linear_model.LinearRegression()\n",
        "Xsample = np.c_[sample_data[\"GDP per capita\"]]\n",
        "ysample = np.c_[sample_data[\"Life satisfaction\"]]\n",
        "lin1.fit(Xsample, ysample)\n",
        "\n",
        "t0 = 4.8530528\n",
        "t1 = 4.91154459e-05\n",
        "\n",
        "sample_data.plot(kind='scatter', x=\"GDP per capita\", y='Life satisfaction', figsize=(5,3))\n",
        "plt.axis([0, 60000, 0, 10])\n",
        "M=np.linspace(0, 60000, 1000)\n",
        "plt.plot(M, t0 + t1*M, \"b\")\n",
        "plt.text(5000, 3.1, r\"$\\theta_0 = 4.85$\", fontsize=14, color=\"b\")\n",
        "plt.text(5000, 2.2, r\"$\\theta_1 = 4.91 \\times 10^{-5}$\", fontsize=14, color=\"b\")\n",
        "#save_fig('best_fit_model_plot')\n",
        "plt.show()\n",
        "\n",
        "print(\"OK\")"
      ]
    },
    {
      "cell_type": "markdown",
      "metadata": {},
      "source": [
        "### Qa) The $\\theta$ parameters and the $R^2$ Score\n",
        " \n",
        "The $\\theta$ parameters, also refered to as weights or coefficients, can be adjusted during training to optimize the performance and acurracy of a certain linear regression model. \n",
        "\n",
        "Extrating the $\\theta_0$ and $\\theta_1$ coefficients can be done by using the below python attributes:"
      ]
    },
    {
      "cell_type": "code",
      "execution_count": 6,
      "metadata": {},
      "outputs": [
        {
          "name": "stdout",
          "output_type": "stream",
          "text": [
            "Theta_0 (Intercept): [4.8530528]\n",
            "Theta_1 (Coefficient): [4.91154459e-05]\n"
          ]
        }
      ],
      "source": [
        "theta_0 = model.intercept_\n",
        "theta_1 = model.coef_[0]\n",
        "\n",
        "print(\"Theta_0 (Intercept):\", theta_0)\n",
        "print(\"Theta_1 (Coefficient):\", theta_1)"
      ]
    },
    {
      "cell_type": "markdown",
      "metadata": {},
      "source": [
        " Another important variable is the $R^2$ score. \n",
        "\n",
        "The $R^2$ measures the goodness of fit of the model itself. The minimum and maximum values range from 0 to 1, where the below list describes each outcome:\n",
        "\n",
        "- A value of 1: Considered a perfect fit, where the model accurately predicts the dependent variable based on the independent variables (Explains all the variance).\n",
        "- A value of 0: The opposite of a perfect fit. This score indicates that the model's prediction is entirely wrong and provides no explanation.\n",
        "\n",
        "While it is desirable to achieve a score of 1, it's important to note that such a score is highly unlikely as it's almost impossible to create a model that makes a perfect fit to real-world data.\n",
        "\n",
        "Therefore, it is preferable to find a value close to 1, which, as explained, indicates a better fit.\n",
        "\n",
        "In the assignment, the below calculation extracts the desirable score of 0.734.\n"
      ]
    },
    {
      "cell_type": "code",
      "execution_count": 7,
      "metadata": {},
      "outputs": [
        {
          "name": "stdout",
          "output_type": "stream",
          "text": [
            "Score: 0.7344414355437031\n"
          ]
        }
      ],
      "source": [
        "score = model.score(X, y) \n",
        "print(\"Score:\", score)"
      ]
    },
    {
      "cell_type": "markdown",
      "metadata": {},
      "source": [
        "### Qb) Using k-Nearest Neighbors\n",
        "\n",
        "Instead of using linear regression, it will now be a k-nearest neighbour algorithm, here with k=3."
      ]
    },
    {
      "cell_type": "code",
      "execution_count": 8,
      "metadata": {},
      "outputs": [
        {
          "data": {
            "text/html": [
              "<div>\n",
              "<style scoped>\n",
              "    .dataframe tbody tr th:only-of-type {\n",
              "        vertical-align: middle;\n",
              "    }\n",
              "\n",
              "    .dataframe tbody tr th {\n",
              "        vertical-align: top;\n",
              "    }\n",
              "\n",
              "    .dataframe thead th {\n",
              "        text-align: right;\n",
              "    }\n",
              "</style>\n",
              "<table border=\"1\" class=\"dataframe\">\n",
              "  <thead>\n",
              "    <tr style=\"text-align: right;\">\n",
              "      <th></th>\n",
              "      <th>GDP per capita</th>\n",
              "      <th>Life satisfaction</th>\n",
              "    </tr>\n",
              "    <tr>\n",
              "      <th>Country</th>\n",
              "      <th></th>\n",
              "      <th></th>\n",
              "    </tr>\n",
              "  </thead>\n",
              "  <tbody>\n",
              "    <tr>\n",
              "      <th>Russia</th>\n",
              "      <td>9054.914</td>\n",
              "      <td>6.0</td>\n",
              "    </tr>\n",
              "    <tr>\n",
              "      <th>Turkey</th>\n",
              "      <td>9437.372</td>\n",
              "      <td>5.6</td>\n",
              "    </tr>\n",
              "    <tr>\n",
              "      <th>Hungary</th>\n",
              "      <td>12239.894</td>\n",
              "      <td>4.9</td>\n",
              "    </tr>\n",
              "    <tr>\n",
              "      <th>Poland</th>\n",
              "      <td>12495.334</td>\n",
              "      <td>5.8</td>\n",
              "    </tr>\n",
              "    <tr>\n",
              "      <th>Slovak Republic</th>\n",
              "      <td>15991.736</td>\n",
              "      <td>6.1</td>\n",
              "    </tr>\n",
              "    <tr>\n",
              "      <th>Estonia</th>\n",
              "      <td>17288.083</td>\n",
              "      <td>5.6</td>\n",
              "    </tr>\n",
              "    <tr>\n",
              "      <th>Greece</th>\n",
              "      <td>18064.288</td>\n",
              "      <td>4.8</td>\n",
              "    </tr>\n",
              "    <tr>\n",
              "      <th>Portugal</th>\n",
              "      <td>19121.592</td>\n",
              "      <td>5.1</td>\n",
              "    </tr>\n",
              "    <tr>\n",
              "      <th>Slovenia</th>\n",
              "      <td>20732.482</td>\n",
              "      <td>5.7</td>\n",
              "    </tr>\n",
              "    <tr>\n",
              "      <th>Spain</th>\n",
              "      <td>25864.721</td>\n",
              "      <td>6.5</td>\n",
              "    </tr>\n",
              "    <tr>\n",
              "      <th>Korea</th>\n",
              "      <td>27195.197</td>\n",
              "      <td>5.8</td>\n",
              "    </tr>\n",
              "    <tr>\n",
              "      <th>Italy</th>\n",
              "      <td>29866.581</td>\n",
              "      <td>6.0</td>\n",
              "    </tr>\n",
              "    <tr>\n",
              "      <th>Japan</th>\n",
              "      <td>32485.545</td>\n",
              "      <td>5.9</td>\n",
              "    </tr>\n",
              "    <tr>\n",
              "      <th>Israel</th>\n",
              "      <td>35343.336</td>\n",
              "      <td>7.4</td>\n",
              "    </tr>\n",
              "    <tr>\n",
              "      <th>New Zealand</th>\n",
              "      <td>37044.891</td>\n",
              "      <td>7.3</td>\n",
              "    </tr>\n",
              "    <tr>\n",
              "      <th>France</th>\n",
              "      <td>37675.006</td>\n",
              "      <td>6.5</td>\n",
              "    </tr>\n",
              "    <tr>\n",
              "      <th>Belgium</th>\n",
              "      <td>40106.632</td>\n",
              "      <td>6.9</td>\n",
              "    </tr>\n",
              "    <tr>\n",
              "      <th>Germany</th>\n",
              "      <td>40996.511</td>\n",
              "      <td>7.0</td>\n",
              "    </tr>\n",
              "    <tr>\n",
              "      <th>Finland</th>\n",
              "      <td>41973.988</td>\n",
              "      <td>7.4</td>\n",
              "    </tr>\n",
              "    <tr>\n",
              "      <th>Canada</th>\n",
              "      <td>43331.961</td>\n",
              "      <td>7.3</td>\n",
              "    </tr>\n",
              "    <tr>\n",
              "      <th>Netherlands</th>\n",
              "      <td>43603.115</td>\n",
              "      <td>7.3</td>\n",
              "    </tr>\n",
              "    <tr>\n",
              "      <th>Austria</th>\n",
              "      <td>43724.031</td>\n",
              "      <td>6.9</td>\n",
              "    </tr>\n",
              "    <tr>\n",
              "      <th>United Kingdom</th>\n",
              "      <td>43770.688</td>\n",
              "      <td>6.8</td>\n",
              "    </tr>\n",
              "    <tr>\n",
              "      <th>Sweden</th>\n",
              "      <td>49866.266</td>\n",
              "      <td>7.2</td>\n",
              "    </tr>\n",
              "    <tr>\n",
              "      <th>Iceland</th>\n",
              "      <td>50854.583</td>\n",
              "      <td>7.5</td>\n",
              "    </tr>\n",
              "    <tr>\n",
              "      <th>Australia</th>\n",
              "      <td>50961.865</td>\n",
              "      <td>7.3</td>\n",
              "    </tr>\n",
              "    <tr>\n",
              "      <th>Ireland</th>\n",
              "      <td>51350.744</td>\n",
              "      <td>7.0</td>\n",
              "    </tr>\n",
              "    <tr>\n",
              "      <th>Denmark</th>\n",
              "      <td>52114.165</td>\n",
              "      <td>7.5</td>\n",
              "    </tr>\n",
              "    <tr>\n",
              "      <th>United States</th>\n",
              "      <td>55805.204</td>\n",
              "      <td>7.2</td>\n",
              "    </tr>\n",
              "  </tbody>\n",
              "</table>\n",
              "</div>"
            ],
            "text/plain": [
              "                 GDP per capita  Life satisfaction\n",
              "Country                                           \n",
              "Russia                 9054.914                6.0\n",
              "Turkey                 9437.372                5.6\n",
              "Hungary               12239.894                4.9\n",
              "Poland                12495.334                5.8\n",
              "Slovak Republic       15991.736                6.1\n",
              "Estonia               17288.083                5.6\n",
              "Greece                18064.288                4.8\n",
              "Portugal              19121.592                5.1\n",
              "Slovenia              20732.482                5.7\n",
              "Spain                 25864.721                6.5\n",
              "Korea                 27195.197                5.8\n",
              "Italy                 29866.581                6.0\n",
              "Japan                 32485.545                5.9\n",
              "Israel                35343.336                7.4\n",
              "New Zealand           37044.891                7.3\n",
              "France                37675.006                6.5\n",
              "Belgium               40106.632                6.9\n",
              "Germany               40996.511                7.0\n",
              "Finland               41973.988                7.4\n",
              "Canada                43331.961                7.3\n",
              "Netherlands           43603.115                7.3\n",
              "Austria               43724.031                6.9\n",
              "United Kingdom        43770.688                6.8\n",
              "Sweden                49866.266                7.2\n",
              "Iceland               50854.583                7.5\n",
              "Australia             50961.865                7.3\n",
              "Ireland               51350.744                7.0\n",
              "Denmark               52114.165                7.5\n",
              "United States         55805.204                7.2"
            ]
          },
          "execution_count": 8,
          "metadata": {},
          "output_type": "execute_result"
        }
      ],
      "source": [
        "sample_data"
      ]
    },
    {
      "cell_type": "code",
      "execution_count": 9,
      "metadata": {},
      "outputs": [
        {
          "data": {
            "text/html": [
              "<div>\n",
              "<style scoped>\n",
              "    .dataframe tbody tr th:only-of-type {\n",
              "        vertical-align: middle;\n",
              "    }\n",
              "\n",
              "    .dataframe tbody tr th {\n",
              "        vertical-align: top;\n",
              "    }\n",
              "\n",
              "    .dataframe thead th {\n",
              "        text-align: right;\n",
              "    }\n",
              "</style>\n",
              "<table border=\"1\" class=\"dataframe\">\n",
              "  <thead>\n",
              "    <tr style=\"text-align: right;\">\n",
              "      <th></th>\n",
              "      <th>GDP per capita</th>\n",
              "      <th>Life satisfaction</th>\n",
              "    </tr>\n",
              "    <tr>\n",
              "      <th>Country</th>\n",
              "      <th></th>\n",
              "      <th></th>\n",
              "    </tr>\n",
              "  </thead>\n",
              "  <tbody>\n",
              "    <tr>\n",
              "      <th>Russia</th>\n",
              "      <td>9054.914</td>\n",
              "      <td>6.0</td>\n",
              "    </tr>\n",
              "    <tr>\n",
              "      <th>Turkey</th>\n",
              "      <td>9437.372</td>\n",
              "      <td>5.6</td>\n",
              "    </tr>\n",
              "    <tr>\n",
              "      <th>Hungary</th>\n",
              "      <td>12239.894</td>\n",
              "      <td>4.9</td>\n",
              "    </tr>\n",
              "    <tr>\n",
              "      <th>Poland</th>\n",
              "      <td>12495.334</td>\n",
              "      <td>5.8</td>\n",
              "    </tr>\n",
              "    <tr>\n",
              "      <th>Slovak Republic</th>\n",
              "      <td>15991.736</td>\n",
              "      <td>6.1</td>\n",
              "    </tr>\n",
              "    <tr>\n",
              "      <th>Estonia</th>\n",
              "      <td>17288.083</td>\n",
              "      <td>5.6</td>\n",
              "    </tr>\n",
              "    <tr>\n",
              "      <th>Greece</th>\n",
              "      <td>18064.288</td>\n",
              "      <td>4.8</td>\n",
              "    </tr>\n",
              "    <tr>\n",
              "      <th>Portugal</th>\n",
              "      <td>19121.592</td>\n",
              "      <td>5.1</td>\n",
              "    </tr>\n",
              "    <tr>\n",
              "      <th>Slovenia</th>\n",
              "      <td>20732.482</td>\n",
              "      <td>5.7</td>\n",
              "    </tr>\n",
              "    <tr>\n",
              "      <th>Spain</th>\n",
              "      <td>25864.721</td>\n",
              "      <td>6.5</td>\n",
              "    </tr>\n",
              "    <tr>\n",
              "      <th>Korea</th>\n",
              "      <td>27195.197</td>\n",
              "      <td>5.8</td>\n",
              "    </tr>\n",
              "    <tr>\n",
              "      <th>Italy</th>\n",
              "      <td>29866.581</td>\n",
              "      <td>6.0</td>\n",
              "    </tr>\n",
              "    <tr>\n",
              "      <th>Japan</th>\n",
              "      <td>32485.545</td>\n",
              "      <td>5.9</td>\n",
              "    </tr>\n",
              "    <tr>\n",
              "      <th>Israel</th>\n",
              "      <td>35343.336</td>\n",
              "      <td>7.4</td>\n",
              "    </tr>\n",
              "    <tr>\n",
              "      <th>New Zealand</th>\n",
              "      <td>37044.891</td>\n",
              "      <td>7.3</td>\n",
              "    </tr>\n",
              "    <tr>\n",
              "      <th>France</th>\n",
              "      <td>37675.006</td>\n",
              "      <td>6.5</td>\n",
              "    </tr>\n",
              "    <tr>\n",
              "      <th>Belgium</th>\n",
              "      <td>40106.632</td>\n",
              "      <td>6.9</td>\n",
              "    </tr>\n",
              "    <tr>\n",
              "      <th>Germany</th>\n",
              "      <td>40996.511</td>\n",
              "      <td>7.0</td>\n",
              "    </tr>\n",
              "    <tr>\n",
              "      <th>Finland</th>\n",
              "      <td>41973.988</td>\n",
              "      <td>7.4</td>\n",
              "    </tr>\n",
              "    <tr>\n",
              "      <th>Canada</th>\n",
              "      <td>43331.961</td>\n",
              "      <td>7.3</td>\n",
              "    </tr>\n",
              "    <tr>\n",
              "      <th>Netherlands</th>\n",
              "      <td>43603.115</td>\n",
              "      <td>7.3</td>\n",
              "    </tr>\n",
              "    <tr>\n",
              "      <th>Austria</th>\n",
              "      <td>43724.031</td>\n",
              "      <td>6.9</td>\n",
              "    </tr>\n",
              "    <tr>\n",
              "      <th>United Kingdom</th>\n",
              "      <td>43770.688</td>\n",
              "      <td>6.8</td>\n",
              "    </tr>\n",
              "    <tr>\n",
              "      <th>Sweden</th>\n",
              "      <td>49866.266</td>\n",
              "      <td>7.2</td>\n",
              "    </tr>\n",
              "    <tr>\n",
              "      <th>Iceland</th>\n",
              "      <td>50854.583</td>\n",
              "      <td>7.5</td>\n",
              "    </tr>\n",
              "    <tr>\n",
              "      <th>Australia</th>\n",
              "      <td>50961.865</td>\n",
              "      <td>7.3</td>\n",
              "    </tr>\n",
              "    <tr>\n",
              "      <th>Ireland</th>\n",
              "      <td>51350.744</td>\n",
              "      <td>7.0</td>\n",
              "    </tr>\n",
              "    <tr>\n",
              "      <th>Denmark</th>\n",
              "      <td>52114.165</td>\n",
              "      <td>7.5</td>\n",
              "    </tr>\n",
              "    <tr>\n",
              "      <th>United States</th>\n",
              "      <td>55805.204</td>\n",
              "      <td>7.2</td>\n",
              "    </tr>\n",
              "  </tbody>\n",
              "</table>\n",
              "</div>"
            ],
            "text/plain": [
              "                 GDP per capita  Life satisfaction\n",
              "Country                                           \n",
              "Russia                 9054.914                6.0\n",
              "Turkey                 9437.372                5.6\n",
              "Hungary               12239.894                4.9\n",
              "Poland                12495.334                5.8\n",
              "Slovak Republic       15991.736                6.1\n",
              "Estonia               17288.083                5.6\n",
              "Greece                18064.288                4.8\n",
              "Portugal              19121.592                5.1\n",
              "Slovenia              20732.482                5.7\n",
              "Spain                 25864.721                6.5\n",
              "Korea                 27195.197                5.8\n",
              "Italy                 29866.581                6.0\n",
              "Japan                 32485.545                5.9\n",
              "Israel                35343.336                7.4\n",
              "New Zealand           37044.891                7.3\n",
              "France                37675.006                6.5\n",
              "Belgium               40106.632                6.9\n",
              "Germany               40996.511                7.0\n",
              "Finland               41973.988                7.4\n",
              "Canada                43331.961                7.3\n",
              "Netherlands           43603.115                7.3\n",
              "Austria               43724.031                6.9\n",
              "United Kingdom        43770.688                6.8\n",
              "Sweden                49866.266                7.2\n",
              "Iceland               50854.583                7.5\n",
              "Australia             50961.865                7.3\n",
              "Ireland               51350.744                7.0\n",
              "Denmark               52114.165                7.5\n",
              "United States         55805.204                7.2"
            ]
          },
          "execution_count": 9,
          "metadata": {},
          "output_type": "execute_result"
        }
      ],
      "source": [
        "# Preprocessed data\n",
        "country_stats"
      ]
    },
    {
      "cell_type": "code",
      "execution_count": 10,
      "metadata": {},
      "outputs": [
        {
          "name": "stdout",
          "output_type": "stream",
          "text": [
            "X.shape= (29, 1)\n",
            "y.shape= (29, 1)\n"
          ]
        },
        {
          "data": {
            "image/png": "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",
            "text/plain": [
              "<Figure size 640x480 with 1 Axes>"
            ]
          },
          "metadata": {},
          "output_type": "display_data"
        },
        {
          "name": "stdout",
          "output_type": "stream",
          "text": [
            "KNN prediction:  [[5.76666667]]\n",
            "Linear regression prediction:  [[5.96242338]]\n",
            "KKN score:  0.8525732853499179\n",
            "Linear score:  0.7344414355437031\n"
          ]
        }
      ],
      "source": [
        "from sklearn.neighbors import KNeighborsRegressor\n",
        "\n",
        "# Prepare the data\n",
        "X = np.c_[country_stats[\"GDP per capita\"]]\n",
        "y = np.c_[country_stats[\"Life satisfaction\"]]\n",
        "\n",
        "print(\"X.shape=\",X.shape)\n",
        "print(\"y.shape=\",y.shape)\n",
        "\n",
        "# Visualize the data\n",
        "country_stats.plot(kind='scatter', x=\"GDP per capita\", y='Life satisfaction')\n",
        "plt.grid(True)\n",
        "plt.show()\n",
        "\n",
        "# Select and train a model\n",
        "knn = KNeighborsRegressor(n_neighbors=3)\n",
        "\n",
        "# Train the new model\n",
        "knn.fit(X, y) \n",
        "\n",
        "\n",
        "# Predictions for Cyprus \n",
        "print(\"KNN prediction: \", knn.predict(X_new))  \n",
        "print(\"Linear regression prediction: \", lin1.predict(X_new))  \n",
        "\n",
        "# Evaluating the models \n",
        "print(\"KKN score: \", knn.score(X, y))\n",
        "print(\"Linear score: \", lin1.score(X, y))\n",
        "\n"
      ]
    },
    {
      "cell_type": "markdown",
      "metadata": {},
      "source": [
        "\n",
        "\n",
        "As seen in the calculations above, the KNN prediction for Cyprus is 5.77, which is a bit less than the linear prediction of 5.96. \n",
        "\n",
        "KNN uses the score method of the coefficient of determination ($R^2$), as does the linear regression model. This means they are able to be compared, since they use the same scoring methods. \n",
        "\n",
        "\n",
        "The model used here is the \"Regression based on k-nearest neighbors\" (URL: https://scikit-learn.org/stable/modules/generated/sklearn.neighbors.KNeighborsRegressor.html)\n",
        "\n",
        "\n",
        "\n",
        "\n",
        "\n",
        "\n"
      ]
    },
    {
      "cell_type": "markdown",
      "metadata": {},
      "source": [
        "### Qc) Tuning Parameter for k-Nearest Neighbors and A Sanity Check\n",
        "\n",
        "\n",
        "\n",
        "\n",
        "But that not the full story. Try plotting the prediction for both models in the same graph and tune the `k_neighbor` parameter of the `KNeighborsRegressor` model.  \n",
        "\n",
        "Choosing `k_neighbor=1` produces a nice `score=1`, that seems optimal...but is it really so good?\n",
        "- No, when score=1 it means that the model fits perfectly. Though this is true in some sense, it gives an obscured view. When k_neighbor=1 the model only considers a single nearest neighboor. Then the model doesn't consider the outliers in the data, and then we get a fragile model.  \n",
        "\n",
        "Plotting the two models in a 'Life Satisfaction-vs-GDP capita' 2D plot by creating an array in the range 0 to 60000 (USD) (the `M` matrix below) and then predict the corresponding y value will sheed some light to this. \n",
        "\n",
        "Now reusing the plots stubs below, try to explain why the k-nearest neighbour with `k_neighbor=1` has such a good score.\n",
        "- When there's only one neighbor, it will go directly from point to point. This will give the illusion that the model fits perfectly because it only has to consider 1 neighbor. On the other hand, when the model has to consider 3 neighbors, it tries to go to all of them, which is not possible. Then it makes a mean of the data. \n",
        "\n",
        "Does a score=1 with `k_neighbor=1`also mean that this would be the prefered estimator for the job?\n",
        "- No, when the score is 1, it suggests that there's something wrong with the model or the way that the model is used. In this scenario, when the neighbor=1, the score is 1. This suggests that the model doesn't work as intended. There could be a lot of reasons why this is the case, but in this instance, it's because the neighbor=1.\n",
        "\n",
        "Hint here is a similar plot of a KNN for a small set of different k's:\n",
        "\n",
        "<img src=\"https://itundervisning.ase.au.dk/SWMAL/L01/Figs/regression_with_knn.png\"  alt=\"WARNING: could not get image from server.\" style=\"height:150px\">"
      ]
    },
    {
      "cell_type": "code",
      "execution_count": 11,
      "metadata": {},
      "outputs": [
        {
          "name": "stdout",
          "output_type": "stream",
          "text": [
            "1.0\n"
          ]
        },
        {
          "data": {
            "image/png": "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",
            "text/plain": [
              "<Figure size 500x300 with 1 Axes>"
            ]
          },
          "metadata": {},
          "output_type": "display_data"
        }
      ],
      "source": [
        "sample_data.plot(kind='scatter', x=\"GDP per capita\", y='Life satisfaction', figsize=(5,3))\n",
        "plt.axis([0, 60000, 0, 10])\n",
        "\n",
        "# create an test matrix M, with the same dimensionality as X, and in the range [0;60000] \n",
        "# and a step size of your choice\n",
        "m=np.linspace(0, 60000, 1000)\n",
        "M=np.empty([m.shape[0],1])\n",
        "M[:,0]=m\n",
        "\n",
        "# from this test M data, predict the y values via the lin.reg. and k-nearest models\n",
        "y_pred_lin = lin1.predict(M)\n",
        "y_pred_knn = knn.predict(M)   # ASSUMING the variable name 'knn' of your KNeighborsRegressor \n",
        "\n",
        "# use plt.plot to plot x-y into the sample_data plot..\n",
        "plt.plot(m, y_pred_lin, \"r\")\n",
        "plt.plot(m, y_pred_knn, \"b\")\n",
        " \n",
        "# Select and train a model with neighbor 1\n",
        "knn1 = KNeighborsRegressor(n_neighbors=1)\n",
        "knn1.fit(X, y) \n",
        "y_pred_knn1 = knn1.predict(M)    \n",
        "plt.plot(m, y_pred_knn1, \"g\")\n",
        "print(knn1.score(X, y))"
      ]
    },
    {
      "cell_type": "markdown",
      "metadata": {},
      "source": [
        "### Qd) Trying out a Neural Network\n",
        "\n",
        "Let us then try a Neural Network on the data, using the fit-predict interface allows us to replug a new model into our existing code.\n",
        "\n",
        "There are a number of different NN's available, let's just hook into Scikit-learns Multi-Layer Perceptron for regression, that is an 'MLPRegressor'. \n",
        "\n",
        "Now, the data-set for training the MLP is really not well scaled, so we need to tweak a lot of parameters in the MLP just to get it to produce some sensible output: with out preprocessing and scaling of the input data, `X`, the MLP is really a bad choice of model for the job since it so easily produces garbage output. \n",
        "\n",
        "Try training the `mlp` regression model below, predict the value for Cyprus, and find the `score` value for the training set...just as we did for the linear and KNN models.\n",
        "\n",
        "Can the `MLPRegressor` score function be compared with the linear and KNN-scores?"
      ]
    },
    {
      "cell_type": "code",
      "execution_count": 12,
      "metadata": {},
      "outputs": [
        {
          "name": "stdout",
          "output_type": "stream",
          "text": [
            "Iteration 1, loss = 290434295.23044360\n",
            "Iteration 2, loss = 286926974.91845930\n",
            "Iteration 3, loss = 283445091.80120462\n",
            "Iteration 4, loss = 279989007.88284469\n",
            "Iteration 5, loss = 276559070.05886549\n",
            "Iteration 6, loss = 273155609.32856685\n",
            "Iteration 7, loss = 269778940.07033998\n",
            "Iteration 8, loss = 266429359.38609853\n",
            "Iteration 9, loss = 263107146.52031821\n",
            "Iteration 10, loss = 259812562.35816029\n",
            "Iteration 11, loss = 256545849.00610605\n",
            "Iteration 12, loss = 253307229.45747611\n",
            "Iteration 13, loss = 250096907.34413815\n",
            "Iteration 14, loss = 246915066.77466321\n",
            "Iteration 15, loss = 243761872.25819016\n",
            "Iteration 16, loss = 240637468.71230754\n",
            "Iteration 17, loss = 237541981.55239332\n",
            "Iteration 18, loss = 234475516.85906240\n",
            "Iteration 19, loss = 231438161.61967906\n",
            "Iteration 20, loss = 228429984.03930050\n",
            "Iteration 21, loss = 225451033.91592681\n",
            "Iteration 22, loss = 222501343.07455081\n",
            "Iteration 23, loss = 219580925.85422322\n",
            "Iteration 24, loss = 216689779.64216983\n",
            "Iteration 25, loss = 213827885.44891003\n",
            "Iteration 26, loss = 210995208.51833686\n",
            "Iteration 27, loss = 208191698.96679541\n",
            "Iteration 28, loss = 205417292.44535619\n",
            "Iteration 29, loss = 202671910.81969422\n",
            "Iteration 30, loss = 199955462.86225185\n",
            "Iteration 31, loss = 197267844.95167443\n",
            "Iteration 32, loss = 194608941.77484995\n",
            "Iteration 33, loss = 191978627.02724859\n",
            "Iteration 34, loss = 189376764.10764295\n",
            "Iteration 35, loss = 186803206.80367702\n",
            "Iteration 36, loss = 184257799.96514288\n",
            "Iteration 37, loss = 181740380.16221148\n",
            "Iteration 38, loss = 179250776.32624123\n",
            "Iteration 39, loss = 176788810.37114519\n",
            "Iteration 40, loss = 174354297.79365045\n",
            "Iteration 41, loss = 171947048.25110015\n",
            "Iteration 42, loss = 169566866.11575755\n",
            "Iteration 43, loss = 167213551.00484595\n",
            "Iteration 44, loss = 164886898.28581715\n",
            "Iteration 45, loss = 162586699.55657044\n",
            "Iteration 46, loss = 160312743.10055014\n",
            "Iteration 47, loss = 158064814.31683558\n",
            "Iteration 48, loss = 155842696.12549382\n",
            "Iteration 49, loss = 153646169.34860966\n",
            "Iteration 50, loss = 151475013.06751981\n",
            "Iteration 51, loss = 149329004.95688277\n",
            "Iteration 52, loss = 147207921.59629360\n",
            "Iteration 53, loss = 145111538.76022062\n",
            "Iteration 54, loss = 143039631.68709084\n",
            "Iteration 55, loss = 140991975.32838824\n",
            "Iteration 56, loss = 138968344.57865521\n",
            "Iteration 57, loss = 136968514.48730263\n",
            "Iteration 58, loss = 134992260.45313826\n",
            "Iteration 59, loss = 133039358.40252548\n",
            "Iteration 60, loss = 131109584.95206928\n",
            "Iteration 61, loss = 129202717.55671819\n",
            "Iteration 62, loss = 127318534.64414708\n",
            "Iteration 63, loss = 125456815.73626374\n",
            "Iteration 64, loss = 123617341.55865660\n",
            "Iteration 65, loss = 121799894.13876976\n",
            "Iteration 66, loss = 120004256.89356241\n",
            "Iteration 67, loss = 118230214.70737667\n",
            "Iteration 68, loss = 116477554.00070480\n",
            "Iteration 69, loss = 114746062.79051289\n",
            "Iteration 70, loss = 113035530.74274606\n",
            "Iteration 71, loss = 111345749.21760385\n",
            "Iteration 72, loss = 109676511.30814496\n",
            "Iteration 73, loss = 108027611.87274542\n",
            "Iteration 74, loss = 106398847.56190486\n",
            "Iteration 75, loss = 104790016.83986315\n",
            "Iteration 76, loss = 103200920.00146289\n",
            "Iteration 77, loss = 101631359.18466166\n",
            "Iteration 78, loss = 100081138.37907490\n",
            "Iteration 79, loss = 98550063.43090007\n",
            "Iteration 80, loss = 97037942.04455309\n",
            "Iteration 81, loss = 95544583.78132014\n",
            "Iteration 82, loss = 94069800.05530959\n",
            "Iteration 83, loss = 92613404.12696616\n",
            "Iteration 84, loss = 91175211.09439014\n",
            "Iteration 85, loss = 89755037.88268735\n",
            "Iteration 86, loss = 88352703.23155566\n",
            "Iteration 87, loss = 86968027.68130204\n",
            "Iteration 88, loss = 85600833.55746403\n",
            "Iteration 89, loss = 84250944.95419993\n",
            "Iteration 90, loss = 82918187.71659584\n",
            "Iteration 91, loss = 81602389.42202777\n",
            "Iteration 92, loss = 80303379.36070360\n",
            "Iteration 93, loss = 79020988.51550117\n",
            "Iteration 94, loss = 77755049.54120794\n",
            "Iteration 95, loss = 76505396.74325842\n",
            "Iteration 96, loss = 75271866.05605870\n",
            "Iteration 97, loss = 74054295.02097799\n",
            "Iteration 98, loss = 72852522.76408070\n",
            "Iteration 99, loss = 71666389.97366714\n",
            "Iteration 100, loss = 70495738.87768234\n",
            "Iteration 101, loss = 69340413.22104985\n",
            "Iteration 102, loss = 68200258.24297996\n",
            "Iteration 103, loss = 67075120.65429863\n",
            "Iteration 104, loss = 65964848.61483806\n",
            "Iteration 105, loss = 64869291.71092642\n",
            "Iteration 106, loss = 63788300.93301107\n",
            "Iteration 107, loss = 62721728.65344453\n",
            "Iteration 108, loss = 61669428.60446201\n",
            "Iteration 109, loss = 60631255.85637416\n",
            "Iteration 110, loss = 59607066.79599745\n",
            "Iteration 111, loss = 58596719.10534196\n",
            "Iteration 112, loss = 57600071.74057399\n",
            "Iteration 113, loss = 56616984.91126954\n",
            "Iteration 114, loss = 55647320.05997168\n",
            "Iteration 115, loss = 54690939.84206531\n",
            "Iteration 116, loss = 53747708.10597887\n",
            "Iteration 117, loss = 52817489.87372303\n",
            "Iteration 118, loss = 51900151.32177444\n",
            "Iteration 119, loss = 50995559.76231126\n",
            "Iteration 120, loss = 50103583.62480698\n",
            "Iteration 121, loss = 49224092.43798707\n",
            "Iteration 122, loss = 48356956.81215287\n",
            "Iteration 123, loss = 47502048.42187629\n",
            "Iteration 124, loss = 46659239.98906756\n",
            "Iteration 125, loss = 45828405.26641855\n",
            "Iteration 126, loss = 45009419.02122276\n",
            "Iteration 127, loss = 44202157.01957307\n",
            "Iteration 128, loss = 43406496.01093756\n",
            "Iteration 129, loss = 42622313.71311320\n",
            "Iteration 130, loss = 41849488.79755717\n",
            "Iteration 131, loss = 41087900.87509485\n",
            "Iteration 132, loss = 40337430.48200315\n",
            "Iteration 133, loss = 39597959.06646779\n",
            "Iteration 134, loss = 38869368.97541260\n",
            "Iteration 135, loss = 38151543.44169849\n",
            "Iteration 136, loss = 37444366.57169053\n",
            "Iteration 137, loss = 36747723.33318929\n",
            "Iteration 138, loss = 36061499.54372469\n",
            "Iteration 139, loss = 35385581.85920878\n",
            "Iteration 140, loss = 34719857.76294434\n",
            "Iteration 141, loss = 34064215.55498595\n",
            "Iteration 142, loss = 33418544.34184999\n",
            "Iteration 143, loss = 32782734.02656958\n",
            "Iteration 144, loss = 32156675.29909116\n",
            "Iteration 145, loss = 31540259.62700796\n",
            "Iteration 146, loss = 30933379.24662696\n",
            "Iteration 147, loss = 30335927.15436451\n",
            "Iteration 148, loss = 29747797.09846660\n",
            "Iteration 149, loss = 29168883.57104910\n",
            "Iteration 150, loss = 28599081.80045348\n",
            "Iteration 151, loss = 28038287.74391323\n",
            "Iteration 152, loss = 27486398.08052622\n",
            "Iteration 153, loss = 26943310.20452822\n",
            "Iteration 154, loss = 26408922.21886230\n",
            "Iteration 155, loss = 25883132.92903953\n",
            "Iteration 156, loss = 25365841.83728523\n",
            "Iteration 157, loss = 24856949.13696606\n",
            "Iteration 158, loss = 24356355.70729241\n",
            "Iteration 159, loss = 23863963.10829058\n",
            "Iteration 160, loss = 23379673.57603966\n",
            "Iteration 161, loss = 22903390.01816720\n",
            "Iteration 162, loss = 22435016.00959824\n",
            "Iteration 163, loss = 21974455.78855223\n",
            "Iteration 164, loss = 21521614.25278155\n",
            "Iteration 165, loss = 21076396.95604661\n",
            "Iteration 166, loss = 20638710.10482106\n",
            "Iteration 167, loss = 20208460.55522152\n",
            "Iteration 168, loss = 19785555.81015582\n",
            "Iteration 169, loss = 19369904.01668377\n",
            "Iteration 170, loss = 18961413.96358429\n",
            "Iteration 171, loss = 18559995.07912303\n",
            "Iteration 172, loss = 18165557.42901421\n",
            "Iteration 173, loss = 17778011.71457046\n",
            "Iteration 174, loss = 17397269.27103463\n",
            "Iteration 175, loss = 17023242.06608719\n",
            "Iteration 176, loss = 16655842.69852301\n",
            "Iteration 177, loss = 16294984.39709119\n",
            "Iteration 178, loss = 15940581.01949180\n",
            "Iteration 179, loss = 15592547.05152282\n",
            "Iteration 180, loss = 15250797.60637147\n",
            "Iteration 181, loss = 14915248.42404303\n",
            "Iteration 182, loss = 14585815.87092119\n",
            "Iteration 183, loss = 14262416.93945337\n",
            "Iteration 184, loss = 13944969.24795464\n",
            "Iteration 185, loss = 13633391.04052399\n",
            "Iteration 186, loss = 13327601.18706645\n",
            "Iteration 187, loss = 13027519.18341484\n",
            "Iteration 188, loss = 12733065.15154476\n",
            "Iteration 189, loss = 12444159.83987649\n",
            "Iteration 190, loss = 12160724.62365762\n",
            "Iteration 191, loss = 11882681.50541995\n",
            "Iteration 192, loss = 11609953.11550478\n",
            "Iteration 193, loss = 11342462.71265005\n",
            "Iteration 194, loss = 11080134.18463337\n",
            "Iteration 195, loss = 10822892.04896490\n",
            "Iteration 196, loss = 10570661.45362385\n",
            "Iteration 197, loss = 10323368.17783286\n",
            "Iteration 198, loss = 10080938.63286410\n",
            "Iteration 199, loss = 9843299.86287133\n",
            "Iteration 200, loss = 9610379.54574223\n",
            "Iteration 201, loss = 9382105.99396509\n",
            "Iteration 202, loss = 9158408.15550429\n",
            "Iteration 203, loss = 8939215.61467915\n",
            "Iteration 204, loss = 8724458.59304044\n",
            "Iteration 205, loss = 8514067.95023934\n",
            "Iteration 206, loss = 8307975.18488352\n",
            "Iteration 207, loss = 8106112.43537512\n",
            "Iteration 208, loss = 7908412.48072556\n",
            "Iteration 209, loss = 7714808.74134229\n",
            "Iteration 210, loss = 7525235.27978237\n",
            "Iteration 211, loss = 7339626.80146846\n",
            "Iteration 212, loss = 7157918.65536230\n",
            "Iteration 213, loss = 6980046.83459133\n",
            "Iteration 214, loss = 6805947.97702397\n",
            "Iteration 215, loss = 6635559.36578939\n",
            "Iteration 216, loss = 6468818.92973752\n",
            "Iteration 217, loss = 6305665.24383542\n",
            "Iteration 218, loss = 6146037.52949602\n",
            "Iteration 219, loss = 5989875.65483572\n",
            "Iteration 220, loss = 5837120.13485700\n",
            "Iteration 221, loss = 5687712.13155279\n",
            "Iteration 222, loss = 5541593.45392929\n",
            "Iteration 223, loss = 5398706.55794408\n",
            "Iteration 224, loss = 5258994.54635637\n",
            "Iteration 225, loss = 5122401.16848696\n",
            "Iteration 226, loss = 4988870.81988471\n",
            "Iteration 227, loss = 4858348.54189740\n",
            "Iteration 228, loss = 4730780.02114439\n",
            "Iteration 229, loss = 4606111.58888890\n",
            "Iteration 230, loss = 4484290.22030786\n",
            "Iteration 231, loss = 4365263.53365746\n",
            "Iteration 232, loss = 4248979.78933253\n",
            "Iteration 233, loss = 4135387.88881833\n",
            "Iteration 234, loss = 4024437.37353312\n",
            "Iteration 235, loss = 3916078.42356041\n",
            "Iteration 236, loss = 3810261.85626962\n",
            "Iteration 237, loss = 3706939.12482427\n",
            "Iteration 238, loss = 3606062.31657690\n",
            "Iteration 239, loss = 3507584.15134994\n",
            "Iteration 240, loss = 3411457.97960219\n",
            "Iteration 241, loss = 3317637.78048036\n",
            "Iteration 242, loss = 3226078.15975571\n",
            "Iteration 243, loss = 3136734.34764542\n",
            "Iteration 244, loss = 3049562.19651905\n",
            "Iteration 245, loss = 2964518.17849018\n",
            "Iteration 246, loss = 2881559.38289353\n",
            "Iteration 247, loss = 2800643.51364830\n",
            "Iteration 248, loss = 2721728.88650806\n",
            "Iteration 249, loss = 2644774.42619820\n",
            "Iteration 250, loss = 2569739.66344175\n",
            "Iteration 251, loss = 2496584.73187455\n",
            "Iteration 252, loss = 2425270.36485105\n",
            "Iteration 253, loss = 2355757.89214180\n",
            "Iteration 254, loss = 2288009.23652427\n",
            "Iteration 255, loss = 2221986.91026821\n",
            "Iteration 256, loss = 2157654.01151747\n",
            "Iteration 257, loss = 2094974.22056970\n",
            "Iteration 258, loss = 2033911.79605584\n",
            "Iteration 259, loss = 1974431.57102147\n",
            "Iteration 260, loss = 1916498.94891168\n",
            "Iteration 261, loss = 1860079.89946192\n",
            "Iteration 262, loss = 1805140.95449668\n",
            "Iteration 263, loss = 1751649.20363845\n",
            "Iteration 264, loss = 1699572.28992923\n",
            "Iteration 265, loss = 1648878.40536701\n",
            "Iteration 266, loss = 1599536.28635959\n",
            "Iteration 267, loss = 1551515.20909837\n",
            "Iteration 268, loss = 1504784.98485476\n",
            "Iteration 269, loss = 1459315.95520161\n",
            "Iteration 270, loss = 1415078.98716261\n",
            "Iteration 271, loss = 1372045.46829229\n",
            "Iteration 272, loss = 1330187.30168933\n",
            "Iteration 273, loss = 1289476.90094614\n",
            "Iteration 274, loss = 1249887.18503743\n",
            "Iteration 275, loss = 1211391.57315076\n",
            "Iteration 276, loss = 1173963.97946186\n",
            "Iteration 277, loss = 1137578.80785774\n",
            "Iteration 278, loss = 1102210.94661042\n",
            "Iteration 279, loss = 1067835.76300441\n",
            "Iteration 280, loss = 1034429.09792061\n",
            "Iteration 281, loss = 1001967.26037997\n",
            "Iteration 282, loss = 970427.02204948\n",
            "Iteration 283, loss = 939785.61171373\n",
            "Iteration 284, loss = 910020.70971492\n",
            "Iteration 285, loss = 881110.44236420\n",
            "Iteration 286, loss = 853033.37632729\n",
            "Iteration 287, loss = 825768.51298742\n",
            "Iteration 288, loss = 799295.28278823\n",
            "Iteration 289, loss = 773593.53955979\n",
            "Iteration 290, loss = 748643.55483030\n",
            "Iteration 291, loss = 724426.01212658\n",
            "Iteration 292, loss = 700922.00126583\n",
            "Iteration 293, loss = 678113.01264161\n",
            "Iteration 294, loss = 655980.93150670\n",
            "Iteration 295, loss = 634508.03225548\n",
            "Iteration 296, loss = 613676.97270847\n",
            "Iteration 297, loss = 593470.78840164\n",
            "Iteration 298, loss = 573872.88688300\n",
            "Iteration 299, loss = 554867.04201892\n",
            "Iteration 300, loss = 536437.38831278\n",
            "Iteration 301, loss = 518568.41523807\n",
            "Iteration 302, loss = 501244.96158855\n",
            "Iteration 303, loss = 484452.20984756\n",
            "Iteration 304, loss = 468175.68057883\n",
            "Iteration 305, loss = 452401.22684076\n",
            "Iteration 306, loss = 437115.02862661\n",
            "Iteration 307, loss = 422303.58733226\n",
            "Iteration 308, loss = 407953.72025383\n",
            "Iteration 309, loss = 394052.55511696\n",
            "Iteration 310, loss = 380587.52463956\n",
            "Iteration 311, loss = 367546.36112998\n",
            "Iteration 312, loss = 354917.09112219\n",
            "Iteration 313, loss = 342688.03004979\n",
            "Iteration 314, loss = 330847.77696028\n",
            "Iteration 315, loss = 319385.20927133\n",
            "Iteration 316, loss = 308289.47757040\n",
            "Iteration 317, loss = 297550.00045922\n",
            "Iteration 318, loss = 287156.45944437\n",
            "Iteration 319, loss = 277098.79387543\n",
            "Iteration 320, loss = 267367.19593172\n",
            "Iteration 321, loss = 257952.10565899\n",
            "Iteration 322, loss = 248844.20605701\n",
            "Iteration 323, loss = 240034.41821925\n",
            "Iteration 324, loss = 231513.89652550\n",
            "Iteration 325, loss = 223274.02388839\n",
            "Iteration 326, loss = 215306.40705476\n",
            "Iteration 327, loss = 207602.87196253\n",
            "Iteration 328, loss = 200155.45915390\n",
            "Iteration 329, loss = 192956.41924562\n",
            "Iteration 330, loss = 185998.20845683\n",
            "Iteration 331, loss = 179273.48419510\n",
            "Iteration 332, loss = 172775.10070123\n",
            "Iteration 333, loss = 166496.10475323\n",
            "Iteration 334, loss = 160429.73142987\n",
            "Iteration 335, loss = 154569.39993423\n",
            "Iteration 336, loss = 148908.70947748\n",
            "Iteration 337, loss = 143441.43522318\n",
            "Iteration 338, loss = 138161.52429237\n",
            "Iteration 339, loss = 133063.09182953\n",
            "Iteration 340, loss = 128140.41712955\n",
            "Iteration 341, loss = 123387.93982578\n",
            "Iteration 342, loss = 118800.25613933\n",
            "Iteration 343, loss = 114372.11518928\n",
            "Iteration 344, loss = 110098.41536419\n",
            "Iteration 345, loss = 105974.20075439\n",
            "Iteration 346, loss = 101994.65764525\n",
            "Iteration 347, loss = 98155.11107106\n",
            "Iteration 348, loss = 94451.02142945\n",
            "Iteration 349, loss = 90877.98115603\n",
            "Iteration 350, loss = 87431.71145899\n",
            "Iteration 351, loss = 84108.05911347\n",
            "Iteration 352, loss = 80902.99331520\n",
            "Iteration 353, loss = 77812.60259315\n",
            "Iteration 354, loss = 74833.09178088\n",
            "Iteration 355, loss = 71960.77904597\n",
            "Iteration 356, loss = 69192.09297732\n",
            "Iteration 357, loss = 66523.56972967\n",
            "Iteration 358, loss = 63951.85022503\n",
            "Iteration 359, loss = 61473.67741035\n",
            "Iteration 360, loss = 59085.89357102\n",
            "Iteration 361, loss = 56785.43769963\n",
            "Iteration 362, loss = 54569.34291936\n",
            "Iteration 363, loss = 52434.73396153\n",
            "Iteration 364, loss = 50378.82469664\n",
            "Iteration 365, loss = 48398.91571830\n",
            "Iteration 366, loss = 46492.39197945\n",
            "Iteration 367, loss = 44656.72048021\n",
            "Iteration 368, loss = 42889.44800671\n",
            "Iteration 369, loss = 41188.19892029\n",
            "Iteration 370, loss = 39550.67299630\n",
            "Iteration 371, loss = 37974.64331193\n",
            "Iteration 372, loss = 36457.95418232\n",
            "Iteration 373, loss = 34998.51914431\n",
            "Iteration 374, loss = 33594.31898701\n",
            "Iteration 375, loss = 32243.39982866\n",
            "Iteration 376, loss = 30943.87123895\n",
            "Iteration 377, loss = 29693.90440610\n",
            "Iteration 378, loss = 28491.73034802\n",
            "Iteration 379, loss = 27335.63816680\n",
            "Iteration 380, loss = 26223.97334588\n",
            "Iteration 381, loss = 25155.13608900\n",
            "Iteration 382, loss = 24127.57970048\n",
            "Iteration 383, loss = 23139.80900582\n",
            "Iteration 384, loss = 22190.37881216\n",
            "Iteration 385, loss = 21277.89240764\n",
            "Iteration 386, loss = 20401.00009918\n",
            "Iteration 387, loss = 19558.39778774\n",
            "Iteration 388, loss = 18748.82558053\n",
            "Iteration 389, loss = 17971.06643932\n",
            "Iteration 390, loss = 17223.94486430\n",
            "Iteration 391, loss = 16506.32561261\n",
            "Iteration 392, loss = 15817.11245098\n",
            "Iteration 393, loss = 15155.24694175\n",
            "Iteration 394, loss = 14519.70726153\n",
            "Iteration 395, loss = 13909.50705197\n",
            "Iteration 396, loss = 13323.69430174\n",
            "Iteration 397, loss = 12761.35025929\n",
            "Iteration 398, loss = 12221.58837552\n",
            "Iteration 399, loss = 11703.55327593\n",
            "Iteration 400, loss = 11206.41976136\n",
            "Iteration 401, loss = 10729.39183687\n",
            "Iteration 402, loss = 10271.70176803\n",
            "Iteration 403, loss = 9832.60916408\n",
            "Iteration 404, loss = 9411.40008723\n",
            "Iteration 405, loss = 9007.38618759\n",
            "Iteration 406, loss = 8619.90386311\n",
            "Iteration 407, loss = 8248.31344388\n",
            "Iteration 408, loss = 7891.99840035\n",
            "Iteration 409, loss = 7550.36457467\n",
            "Iteration 410, loss = 7222.83943487\n",
            "Iteration 411, loss = 6908.87135107\n",
            "Iteration 412, loss = 6607.92889331\n",
            "Iteration 413, loss = 6319.50015045\n",
            "Iteration 414, loss = 6043.09206958\n",
            "Iteration 415, loss = 5778.22981545\n",
            "Iteration 416, loss = 5524.45614935\n",
            "Iteration 417, loss = 5281.33082707\n",
            "Iteration 418, loss = 5048.43001528\n",
            "Iteration 419, loss = 4825.34572598\n",
            "Iteration 420, loss = 4611.68526848\n",
            "Iteration 421, loss = 4407.07071845\n",
            "Iteration 422, loss = 4211.13840366\n",
            "Iteration 423, loss = 4023.53840580\n",
            "Iteration 424, loss = 3843.93407814\n",
            "Iteration 425, loss = 3672.00157846\n",
            "Iteration 426, loss = 3507.42941685\n",
            "Iteration 427, loss = 3349.91801806\n",
            "Iteration 428, loss = 3199.17929789\n",
            "Iteration 429, loss = 3054.93625323\n",
            "Iteration 430, loss = 2916.92256554\n",
            "Iteration 431, loss = 2784.88221707\n",
            "Iteration 432, loss = 2658.56911979\n",
            "Iteration 433, loss = 2537.74675644\n",
            "Iteration 434, loss = 2422.18783348\n",
            "Iteration 435, loss = 2311.67394546\n",
            "Iteration 436, loss = 2205.99525065\n",
            "Iteration 437, loss = 2104.95015746\n",
            "Iteration 438, loss = 2008.34502139\n",
            "Iteration 439, loss = 1915.99385218\n",
            "Iteration 440, loss = 1827.71803087\n",
            "Iteration 441, loss = 1743.34603649\n",
            "Iteration 442, loss = 1662.71318200\n",
            "Iteration 443, loss = 1585.66135934\n",
            "Iteration 444, loss = 1512.03879319\n",
            "Iteration 445, loss = 1441.69980322\n",
            "Iteration 446, loss = 1374.50457461\n",
            "Iteration 447, loss = 1310.31893646\n",
            "Iteration 448, loss = 1249.01414804\n",
            "Iteration 449, loss = 1190.46669240\n",
            "Iteration 450, loss = 1134.55807732\n",
            "Iteration 451, loss = 1081.17464325\n",
            "Iteration 452, loss = 1030.20737799\n",
            "Iteration 453, loss = 981.55173806\n",
            "Iteration 454, loss = 935.10747635\n",
            "Iteration 455, loss = 890.77847592\n",
            "Iteration 456, loss = 848.47258987\n",
            "Iteration 457, loss = 808.10148685\n",
            "Iteration 458, loss = 769.58050225\n",
            "Iteration 459, loss = 732.82849474\n",
            "Iteration 460, loss = 697.76770800\n",
            "Iteration 461, loss = 664.32363759\n",
            "Iteration 462, loss = 632.42490262\n",
            "Iteration 463, loss = 602.00312215\n",
            "Iteration 464, loss = 572.99279616\n",
            "Iteration 465, loss = 545.33119094\n",
            "Iteration 466, loss = 518.95822871\n",
            "Iteration 467, loss = 493.81638134\n",
            "Iteration 468, loss = 469.85056810\n",
            "Iteration 469, loss = 447.00805716\n",
            "Iteration 470, loss = 425.23837086\n",
            "Iteration 471, loss = 404.49319453\n",
            "Iteration 472, loss = 384.72628879\n",
            "Iteration 473, loss = 365.89340510\n",
            "Iteration 474, loss = 347.95220461\n",
            "Iteration 475, loss = 330.86218011\n",
            "Iteration 476, loss = 314.58458088\n",
            "Iteration 477, loss = 299.08234054\n",
            "Iteration 478, loss = 284.32000763\n",
            "Iteration 479, loss = 270.26367887\n",
            "Iteration 480, loss = 256.88093502\n",
            "Iteration 481, loss = 244.14077925\n",
            "Iteration 482, loss = 232.01357787\n",
            "Iteration 483, loss = 220.47100346\n",
            "Iteration 484, loss = 209.48598017\n",
            "Iteration 485, loss = 199.03263116\n",
            "Iteration 486, loss = 189.08622820\n",
            "Iteration 487, loss = 179.62314319\n",
            "Iteration 488, loss = 170.62080160\n",
            "Iteration 489, loss = 162.05763788\n",
            "Iteration 490, loss = 153.91305248\n",
            "Iteration 491, loss = 146.16737074\n",
            "Iteration 492, loss = 138.80180337\n",
            "Iteration 493, loss = 131.79840849\n",
            "Iteration 494, loss = 125.14005531\n",
            "Iteration 495, loss = 118.81038914\n",
            "Iteration 496, loss = 112.79379797\n",
            "Iteration 497, loss = 107.07538029\n",
            "Iteration 498, loss = 101.64091432\n",
            "Iteration 499, loss = 96.47682842\n",
            "Iteration 500, loss = 91.57017278\n",
            "Iteration 501, loss = 86.90859226\n",
            "Iteration 502, loss = 82.48030033\n",
            "Iteration 503, loss = 78.27405411\n",
            "Iteration 504, loss = 74.27913046\n",
            "Iteration 505, loss = 70.48530304\n",
            "Iteration 506, loss = 66.88282033\n",
            "Iteration 507, loss = 63.46238462\n",
            "Iteration 508, loss = 60.21513180\n",
            "Iteration 509, loss = 57.13261206\n",
            "Iteration 510, loss = 54.20677144\n",
            "Iteration 511, loss = 51.42993403\n",
            "Iteration 512, loss = 48.79478507\n",
            "Iteration 513, loss = 46.29435472\n",
            "Iteration 514, loss = 43.92200244\n",
            "Iteration 515, loss = 41.67140219\n",
            "Iteration 516, loss = 39.53652816\n",
            "Iteration 517, loss = 37.51164113\n",
            "Iteration 518, loss = 35.59127543\n",
            "Iteration 519, loss = 33.77022648\n",
            "Iteration 520, loss = 32.04353886\n",
            "Iteration 521, loss = 30.40649487\n",
            "Iteration 522, loss = 28.85460361\n",
            "Iteration 523, loss = 27.38359058\n",
            "Iteration 524, loss = 25.98938766\n",
            "Iteration 525, loss = 24.66812356\n",
            "Iteration 526, loss = 23.41611472\n",
            "Iteration 527, loss = 22.22985658\n",
            "Iteration 528, loss = 21.10601525\n",
            "Iteration 529, loss = 20.04141953\n",
            "Iteration 530, loss = 19.03305331\n",
            "Iteration 531, loss = 18.07804829\n",
            "Iteration 532, loss = 17.17367705\n",
            "Iteration 533, loss = 16.31734639\n",
            "Iteration 534, loss = 15.50659103\n",
            "Iteration 535, loss = 14.73906751\n",
            "Iteration 536, loss = 14.01254846\n",
            "Iteration 537, loss = 13.32491706\n",
            "Iteration 538, loss = 12.67416175\n",
            "Iteration 539, loss = 12.05837127\n",
            "Iteration 540, loss = 11.47572978\n",
            "Iteration 541, loss = 10.92451237\n",
            "Iteration 542, loss = 10.40308060\n",
            "Iteration 543, loss = 9.90987840\n",
            "Iteration 544, loss = 9.44342808\n",
            "Iteration 545, loss = 9.00232653\n",
            "Iteration 546, loss = 8.58524158\n",
            "Iteration 547, loss = 8.19090859\n",
            "Iteration 548, loss = 7.81812717\n",
            "Iteration 549, loss = 7.46575797\n",
            "Iteration 550, loss = 7.13271980\n",
            "Iteration 551, loss = 6.81798668\n",
            "Iteration 552, loss = 6.52058518\n",
            "Iteration 553, loss = 6.23959184\n",
            "Iteration 554, loss = 5.97413066\n",
            "Iteration 555, loss = 5.72337079\n",
            "Iteration 556, loss = 5.48652428\n",
            "Iteration 557, loss = 5.26284395\n",
            "Iteration 558, loss = 5.05162134\n",
            "Iteration 559, loss = 4.85218482\n",
            "Iteration 560, loss = 4.66389772\n",
            "Iteration 561, loss = 4.48615657\n",
            "Iteration 562, loss = 4.31838945\n",
            "Iteration 563, loss = 4.16005441\n",
            "Iteration 564, loss = 4.01063793\n",
            "Iteration 565, loss = 3.86965350\n",
            "Iteration 566, loss = 3.73664027\n",
            "Iteration 567, loss = 3.61116169\n",
            "Iteration 568, loss = 3.49280435\n",
            "Iteration 569, loss = 3.38117673\n",
            "Iteration 570, loss = 3.27590814\n",
            "Iteration 571, loss = 3.17664761\n",
            "Iteration 572, loss = 3.08306289\n",
            "Iteration 573, loss = 2.99483951\n",
            "Iteration 574, loss = 2.91167983\n",
            "Iteration 575, loss = 2.83330219\n",
            "Iteration 576, loss = 2.75944007\n",
            "Iteration 577, loss = 2.68984135\n",
            "Iteration 578, loss = 2.62426747\n",
            "Iteration 579, loss = 2.56249282\n",
            "Iteration 580, loss = 2.50430401\n",
            "Iteration 581, loss = 2.44949925\n",
            "Iteration 582, loss = 2.39788773\n",
            "Iteration 583, loss = 2.34928904\n",
            "Iteration 584, loss = 2.30353264\n",
            "Iteration 585, loss = 2.26045735\n",
            "Iteration 586, loss = 2.21991080\n",
            "Iteration 587, loss = 2.18174902\n",
            "Iteration 588, loss = 2.14583598\n",
            "Iteration 589, loss = 2.11204314\n",
            "Iteration 590, loss = 2.08024909\n",
            "Iteration 591, loss = 2.05033914\n",
            "Iteration 592, loss = 2.02220498\n",
            "Iteration 593, loss = 1.99574431\n",
            "Iteration 594, loss = 1.97086057\n",
            "Iteration 595, loss = 1.94746256\n",
            "Iteration 596, loss = 1.92546421\n",
            "Iteration 597, loss = 1.90478426\n",
            "Iteration 598, loss = 1.88534605\n",
            "Iteration 599, loss = 1.86707719\n",
            "Iteration 600, loss = 1.84990944\n",
            "Iteration 601, loss = 1.83377835\n",
            "Iteration 602, loss = 1.81862319\n",
            "Iteration 603, loss = 1.80438662\n",
            "Iteration 604, loss = 1.79101460\n",
            "Iteration 605, loss = 1.77845616\n",
            "Iteration 606, loss = 1.76666324\n",
            "Iteration 607, loss = 1.75559054\n",
            "Iteration 608, loss = 1.74519535\n",
            "Iteration 609, loss = 1.73543741\n",
            "Iteration 610, loss = 1.72627878\n",
            "Iteration 611, loss = 1.71768373\n",
            "Iteration 612, loss = 1.70961858\n",
            "Iteration 613, loss = 1.70205158\n",
            "Iteration 614, loss = 1.69495287\n",
            "Iteration 615, loss = 1.68829429\n",
            "Iteration 616, loss = 1.68204933\n",
            "Iteration 617, loss = 1.67619304\n",
            "Iteration 618, loss = 1.67070191\n",
            "Iteration 619, loss = 1.66555383\n",
            "Iteration 620, loss = 1.66072797\n",
            "Iteration 621, loss = 1.65620474\n",
            "Iteration 622, loss = 1.65196570\n",
            "Iteration 623, loss = 1.64799350\n",
            "Iteration 624, loss = 1.64427181\n",
            "Iteration 625, loss = 1.64078529\n",
            "Iteration 626, loss = 1.63751949\n",
            "Iteration 627, loss = 1.63446084\n",
            "Iteration 628, loss = 1.63159656\n",
            "Iteration 629, loss = 1.62891464\n",
            "Iteration 630, loss = 1.62640381\n",
            "Iteration 631, loss = 1.62405345\n",
            "Iteration 632, loss = 1.62185359\n",
            "Iteration 633, loss = 1.61979487\n",
            "Iteration 634, loss = 1.61786847\n",
            "Iteration 635, loss = 1.61606614\n",
            "Iteration 636, loss = 1.61438011\n",
            "Iteration 637, loss = 1.61280307\n",
            "Iteration 638, loss = 1.61132817\n",
            "Iteration 639, loss = 1.60994899\n",
            "Iteration 640, loss = 1.60865948\n",
            "Iteration 641, loss = 1.60745397\n",
            "Iteration 642, loss = 1.60632715\n",
            "Iteration 643, loss = 1.60527401\n",
            "Iteration 644, loss = 1.60428986\n",
            "Iteration 645, loss = 1.60337032\n",
            "Iteration 646, loss = 1.60251126\n",
            "Iteration 647, loss = 1.60170880\n",
            "Iteration 648, loss = 1.60095933\n",
            "Iteration 649, loss = 1.60025943\n",
            "Iteration 650, loss = 1.59960591\n",
            "Iteration 651, loss = 1.59899579\n",
            "Iteration 652, loss = 1.59842626\n",
            "Iteration 653, loss = 1.59789469\n",
            "Iteration 654, loss = 1.59739862\n",
            "Iteration 655, loss = 1.59693575\n",
            "Iteration 656, loss = 1.59650390\n",
            "Iteration 657, loss = 1.59610106\n",
            "Iteration 658, loss = 1.59572533\n",
            "Iteration 659, loss = 1.59537494\n",
            "Iteration 660, loss = 1.59504821\n",
            "Iteration 661, loss = 1.59474360\n",
            "Iteration 662, loss = 1.59445965\n",
            "Iteration 663, loss = 1.59419499\n",
            "Iteration 664, loss = 1.59394834\n",
            "Iteration 665, loss = 1.59371852\n",
            "Iteration 666, loss = 1.59350440\n",
            "Iteration 667, loss = 1.59330494\n",
            "Iteration 668, loss = 1.59311916\n",
            "Iteration 669, loss = 1.59294614\n",
            "Iteration 670, loss = 1.59278504\n",
            "Iteration 671, loss = 1.59263505\n",
            "Iteration 672, loss = 1.59249543\n",
            "Iteration 673, loss = 1.59236547\n",
            "Iteration 674, loss = 1.59224453\n",
            "Iteration 675, loss = 1.59213199\n",
            "Iteration 676, loss = 1.59202729\n",
            "Iteration 677, loss = 1.59192989\n",
            "Iteration 678, loss = 1.59183929\n",
            "Iteration 679, loss = 1.59175504\n",
            "Iteration 680, loss = 1.59167670\n",
            "Iteration 681, loss = 1.59160386\n",
            "Iteration 682, loss = 1.59153615\n",
            "Iteration 683, loss = 1.59147321\n",
            "Iteration 684, loss = 1.59141472\n",
            "Iteration 685, loss = 1.59136037\n",
            "Iteration 686, loss = 1.59130986\n",
            "Iteration 687, loss = 1.59126295\n",
            "Iteration 688, loss = 1.59121937\n",
            "Iteration 689, loss = 1.59117889\n",
            "Iteration 690, loss = 1.59114130\n",
            "Iteration 691, loss = 1.59110640\n",
            "Iteration 692, loss = 1.59107399\n",
            "Iteration 693, loss = 1.59104391\n",
            "Iteration 694, loss = 1.59101598\n",
            "Iteration 695, loss = 1.59099007\n",
            "Iteration 696, loss = 1.59096602\n",
            "Iteration 697, loss = 1.59094370\n",
            "Iteration 698, loss = 1.59092299\n",
            "Iteration 699, loss = 1.59090378\n",
            "Iteration 700, loss = 1.59088596\n",
            "Iteration 701, loss = 1.59086942\n",
            "Iteration 702, loss = 1.59085409\n",
            "Iteration 703, loss = 1.59083987\n",
            "Iteration 704, loss = 1.59082668\n",
            "Iteration 705, loss = 1.59081445\n",
            "Iteration 706, loss = 1.59080311\n",
            "Iteration 707, loss = 1.59079259\n",
            "Iteration 708, loss = 1.59078284\n",
            "Iteration 709, loss = 1.59077379\n",
            "Iteration 710, loss = 1.59076541\n",
            "Iteration 711, loss = 1.59075763\n",
            "Iteration 712, loss = 1.59075042\n",
            "Iteration 713, loss = 1.59074374\n",
            "Iteration 714, loss = 1.59073754\n",
            "Iteration 715, loss = 1.59073179\n",
            "Iteration 716, loss = 1.59072646\n",
            "Iteration 717, loss = 1.59072151\n",
            "Iteration 718, loss = 1.59071692\n",
            "Training loss did not improve more than tol=0.000010 for 10 consecutive epochs. Stopping.\n",
            "-3.6741440524093\n"
          ]
        },
        {
          "data": {
            "image/png": "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",
            "text/plain": [
              "<Figure size 640x480 with 1 Axes>"
            ]
          },
          "metadata": {},
          "output_type": "display_data"
        }
      ],
      "source": [
        "from sklearn.neural_network import MLPRegressor\n",
        "\n",
        "# Setup MLPRegressor\n",
        "mlp = MLPRegressor( hidden_layer_sizes=(10,), solver='adam', activation='relu', tol=1E-5, max_iter=100000, verbose=True)\n",
        "mlp.fit(X, y.ravel())\n",
        "\n",
        "# lets make a MLP regressor prediction and redo the plots\n",
        "y_pred_mlp = mlp.predict(M) \n",
        "\n",
        "plt.plot(m, y_pred_lin, \"r\")\n",
        "plt.plot(m, y_pred_knn, \"b\")\n",
        "plt.plot(m, y_pred_mlp, \"k\")\n",
        "\n",
        "print(mlp.score(X, y))"
      ]
    },
    {
      "cell_type": "markdown",
      "metadata": {},
      "source": [
        "### Try training the `mlp` regression model below, predict the value for Cyprus, and find the `score` value for the training set...just as we did for the linear and KNN models.\n",
        "\n",
        "We have trained the mlp model, which changes each time the code is run because it's trained by a neural network now.\n",
        "The neural network stops the training when it doesn't improve more than tol=0.000010 for 10 consecutive epochs.\n",
        "\n",
        "\n",
        "### Can the `MLPRegressor` score function be compared with the linear and KNN-scores?\n",
        "They can be compared since the score function is implemented in the same way. The result is way different from the score results of the linear and knn scores, which in this case means that the mlp model is worse at the prediction since the result (R^2) is negative. This means that the predicted values are performing worse than if you where to take the average value of the data as a prediction. (Læs lige op på det her?)\n"
      ]
    },
    {
      "cell_type": "markdown",
      "metadata": {},
      "source": [
        "## L01 - Modules and Packages in Python"
      ]
    },
    {
      "cell_type": "markdown",
      "metadata": {},
      "source": [
        "#### Qa) Load and test the `libitmal` module\n",
        "\n",
        "Here, we import the libitmal module from utils, which was given in the assignment. We print its directory and its content, and lastly call its TestAll() method."
      ]
    },
    {
      "cell_type": "code",
      "execution_count": 13,
      "metadata": {},
      "outputs": [
        {
          "name": "stdout",
          "output_type": "stream",
          "text": [
            "['AssertInRange', 'CheckFloat', 'DToXy', 'GenerateConfusionMatrix', 'GenerateResults', 'InRange', 'Iterable', 'ListToMatrix', 'ListToVector', 'PrintMatrix', 'ResetRandom', 'ShowResult', 'TEST', 'TestAll', 'TestCheckFloat', 'TestPrintMatrix', 'TestVarName', 'VarName', 'XyToD', '__builtins__', '__cached__', '__doc__', '__file__', '__loader__', '__name__', '__package__', '__spec__', 'ctxlib', 'inf', 'inspect', 'isFloat', 'isList', 'isNumpyArray', 'nan', 'np', 'random', 're', 'sklearn']\n",
            "c:\\Users\\Bruger\\Documents\\GitHub\\6-Semester\\MAL\\L01\\libitmal\\utils.py\n",
            "TestPrintMatrix...(no regression testing)\n",
            "X=[[   1.    2.]\n",
            "   [   3. -100.]\n",
            "   [   1.   -1.]]\n",
            "X=[[ 1.  2.]\n",
            "   ...\n",
            "   [ 1. -1.]]\n",
            "X=[[   1.\n",
            "       2.    ]\n",
            "   [   3.0001\n",
            "    -100.    ]\n",
            "   [   1.\n",
            "      -1.    ]]\n",
            "X=[[   1.    2.]\n",
            "   [   3. -100.]\n",
            "   [   1.   -1.]]\n",
            "OK\n",
            "TEST: OK\n",
            "ALL OK\n"
          ]
        }
      ],
      "source": [
        "import numpy as np\n",
        "from libitmal import utils as itmalutils\n",
        "\n",
        "print(dir(itmalutils))\n",
        "print(itmalutils.__file__)\n",
        "\n",
        "itmalutils.TestAll()"
      ]
    },
    {
      "cell_type": "markdown",
      "metadata": {},
      "source": [
        "#### Qb) Create your own module, with some functions, and test it\n",
        "\n",
        "Here we will import our own module named `extraUtils`. The module is imported from `coolModule`, where its functions now becomes available.\n",
        "\n",
        "In this example, the `printNogetSejt()` is used to print a predfined text along with a given parameter string"
      ]
    },
    {
      "cell_type": "code",
      "execution_count": 14,
      "metadata": {},
      "outputs": [
        {
          "name": "stdout",
          "output_type": "stream",
          "text": [
            "hej med dig: Thomas\n",
            "c:\\Users\\Bruger\\Documents\\GitHub\\6-Semester\\MAL\\L01\\extraUtils\\coolModule.py\n"
          ]
        }
      ],
      "source": [
        "from extraUtils import coolModule as module\n",
        "\n",
        "module.printNogetSejt(\"Thomas\")\n",
        "\n",
        "print(module.__file__)"
      ]
    },
    {
      "cell_type": "markdown",
      "metadata": {},
      "source": [
        "#### Qc) How do you 'recompile' a module?\n",
        "\n",
        "When changing the module code, Jupyter will keep running on the old module. How do you force the Jupyter notebook to re-load the module changes? \n",
        "\n",
        "You can force a reload of a module by using the `reload()` function from the `importlib` module."
      ]
    },
    {
      "cell_type": "code",
      "execution_count": 15,
      "metadata": {},
      "outputs": [
        {
          "data": {
            "text/plain": [
              "<module 'extraUtils.coolModule' from 'c:\\\\Users\\\\Bruger\\\\Documents\\\\GitHub\\\\6-Semester\\\\MAL\\\\L01\\\\extraUtils\\\\coolModule.py'>"
            ]
          },
          "execution_count": 15,
          "metadata": {},
          "output_type": "execute_result"
        }
      ],
      "source": [
        "from importlib import reload\n",
        "from extraUtils import coolModule as module   \n",
        "\n",
        "reload(module)"
      ]
    },
    {
      "cell_type": "markdown",
      "metadata": {},
      "source": [
        "It is also possible to automatically reload modules before executing code by using magic commands such as `%load_ext` and `%autoreload`\n",
        "\n",
        "Source: [LINK](https://saturncloud.io/blog/jupyter-notebook-reload-module-a-comprehensive-guide/)"
      ]
    },
    {
      "cell_type": "code",
      "execution_count": 16,
      "metadata": {},
      "outputs": [],
      "source": [
        "%load_ext autoreload\n",
        "%autoreload 2"
      ]
    },
    {
      "cell_type": "markdown",
      "metadata": {},
      "source": [
        "#### Qe) Extend the class with some public and private functions and member variables \n",
        "\n",
        "\n",
        "Below, the class MyClass has been defined with both a private and a public function. \n",
        "\n",
        "Private funtions are defined by the two prefixed underscores (__), while member variables are defined by the \"self.\" annotation. This self in python classes represents an instance of the class, therefor making it possible to access methods and attributes inside the class itself. "
      ]
    },
    {
      "cell_type": "code",
      "execution_count": 17,
      "metadata": {},
      "outputs": [],
      "source": [
        "class MyClass:\n",
        "    # Public function \n",
        "    def myfun(self):\n",
        "        # Member variable \n",
        "        self.myvar = \"blah\"\n",
        "        print(f\"This is a message inside the class, myvar={self.myvar}.\")\n",
        "        \n",
        "        # Private function \n",
        "    def __private_function(self):\n",
        "        self.asdf = \"asdf\"\n",
        "        print(f\"This is a private function, {self.asdf}.\")\n",
        "        \n",
        "    def something():\n",
        "        print(\"Something\")\n",
        "        "
      ]
    },
    {
      "cell_type": "markdown",
      "metadata": {},
      "source": [
        "Now an instance of the class is created. "
      ]
    },
    {
      "cell_type": "code",
      "execution_count": 18,
      "metadata": {},
      "outputs": [],
      "source": [
        "myObjectx = MyClass()"
      ]
    },
    {
      "cell_type": "markdown",
      "metadata": {},
      "source": [
        "When trying to call a function with the self parameter missing, it throws an error, because the program is passing it an instance of a class, but it doesn't take one. "
      ]
    },
    {
      "cell_type": "code",
      "execution_count": 19,
      "metadata": {},
      "outputs": [
        {
          "name": "stdout",
          "output_type": "stream",
          "text": [
            "Self should be added to the implementation of something() if you want to call it this way\n"
          ]
        }
      ],
      "source": [
        "try:\n",
        "    myObjectx.something()\n",
        "except:\n",
        "    print(\"Self should be added to the implementation of something() if you want to call it this way\")"
      ]
    },
    {
      "cell_type": "markdown",
      "metadata": {},
      "source": [
        "When trying to call the private function, it fails because there is no function available called `__private_function()` "
      ]
    },
    {
      "cell_type": "code",
      "execution_count": 20,
      "metadata": {},
      "outputs": [
        {
          "name": "stdout",
          "output_type": "stream",
          "text": [
            "No function called __private_function()\n"
          ]
        }
      ],
      "source": [
        "try:\n",
        "    myObjectx.__private_function() \n",
        "except:\n",
        "    print(\"No function called __private_function()\")"
      ]
    },
    {
      "cell_type": "markdown",
      "metadata": {},
      "source": [
        "If one wants to use a method with a self parameter, one needs to call it with the class directly and not an instance of the class. "
      ]
    },
    {
      "cell_type": "code",
      "execution_count": 21,
      "metadata": {},
      "outputs": [
        {
          "name": "stdout",
          "output_type": "stream",
          "text": [
            "Something\n"
          ]
        }
      ],
      "source": [
        "MyClass.something() "
      ]
    },
    {
      "cell_type": "markdown",
      "metadata": {},
      "source": [
        "#### Qf) Extend the class with a Constructor\n"
      ]
    },
    {
      "cell_type": "markdown",
      "metadata": {},
      "source": [
        "Below is shown how to define a constructor in a Python class, namely the `\\_\\_init\\_\\_` function. \n",
        "This function will be called every time a class is instantiated. \n",
        "\n"
      ]
    },
    {
      "cell_type": "code",
      "execution_count": 22,
      "metadata": {},
      "outputs": [],
      "source": [
        "class myClass:\n",
        "    def __init__(self):\n",
        "        self.att1 = 2\n",
        "        self.att2 = 3\n",
        "        self.att3 = 4\n",
        "        "
      ]
    },
    {
      "cell_type": "markdown",
      "metadata": {},
      "source": [
        "As well as a constructor, it is also possible to make a destructor in a Python class. Below it is shown how this `\\_\\_del\\_\\_` function is defined in a class. \n",
        "\n",
        "\n",
        "The destructor function is not necessary in Python, since the language has garbage collection which handles the memory management automatically. \n",
        "So a detructor is not strictly necessary, except if you want to handle the memory management yourself.\n",
        "\n",
        "\n"
      ]
    },
    {
      "cell_type": "code",
      "execution_count": 23,
      "metadata": {},
      "outputs": [],
      "source": [
        "class myClass: \n",
        "    def __del__(self):\n",
        "        print(\"The object has been deleted!\")"
      ]
    },
    {
      "cell_type": "markdown",
      "metadata": {},
      "source": [
        "By calling the destructor on an instance of the class, it will delete the object. "
      ]
    },
    {
      "cell_type": "code",
      "execution_count": 24,
      "metadata": {},
      "outputs": [
        {
          "name": "stdout",
          "output_type": "stream",
          "text": [
            "The object has been deleted!\n"
          ]
        }
      ],
      "source": [
        "myobejctx = myClass() \n",
        "del myobejctx"
      ]
    },
    {
      "cell_type": "markdown",
      "metadata": {},
      "source": [
        "#### Qg) Extend the class with a to-string function\n",
        "\n",
        "\n",
        " \n",
        "In order to print an object in python, one needs to add the method `__str__(self)` to the class.\n",
        "This method will be called, when the program is trying to print the object. \n",
        "\n",
        "There's one more way to print out and object in python, and that is with the `__repr__(self)` method.\n",
        "They serve different purposes, `__str__(self)` is suppose to return an informal and userfriendly string representation of an object, and `__repr__(self)` is used more for debugging and a formel way of representing the object as a string.\n",
        "\n",
        "If `__str__(self)` is defined in the class, it will not use `__repr__(self)`"
      ]
    },
    {
      "cell_type": "code",
      "execution_count": 25,
      "metadata": {},
      "outputs": [
        {
          "name": "stdout",
          "output_type": "stream",
          "text": [
            "My objects has a: 42 and b: 43\n"
          ]
        }
      ],
      "source": [
        "class myClass:\n",
        "    def __init__(self, a, b):\n",
        "        self.a = a\n",
        "        self.b = b\n",
        "    \n",
        "    def __str__(self):\n",
        "        return(f\"My objects has a: {self.a} and b: {self.b}\")\n",
        "    \n",
        "    def __repr__(self):\n",
        "        return((f\"MyClass({self.a, self.b})\"))\n",
        "        \n",
        "\n",
        "someClass = myClass(42, 43)\n",
        "print(someClass)"
      ]
    },
    {
      "cell_type": "code",
      "execution_count": 26,
      "metadata": {},
      "outputs": [
        {
          "name": "stdout",
          "output_type": "stream",
          "text": [
            "MyClass((42, 43))\n"
          ]
        }
      ],
      "source": [
        "class myClass:\n",
        "    def __init__(self, a, b):\n",
        "        self.a = a\n",
        "        self.b = b\n",
        "    \n",
        "    def __repr__(self):\n",
        "        return((f\"MyClass({self.a, self.b})\"))\n",
        "        \n",
        "\n",
        "someClass = myClass(42, 43)\n",
        "print(someClass)"
      ]
    },
    {
      "cell_type": "markdown",
      "metadata": {},
      "source": [
        "## L02 - Cost function"
      ]
    },
    {
      "cell_type": "markdown",
      "metadata": {},
      "source": [
        "#### Qa) Given the following $\\mathbf{x}^{(i)}$'s, construct and print the $\\mathbf X$ matrix in python.\n",
        "\n",
        "Using numpy the design matrix is being constructed"
      ]
    },
    {
      "cell_type": "code",
      "execution_count": 27,
      "metadata": {},
      "outputs": [
        {
          "name": "stdout",
          "output_type": "stream",
          "text": [
            "[[ 1  2  3]\n",
            " [ 4  2  1]\n",
            " [ 3  8  5]\n",
            " [-9 -1  0]]\n"
          ]
        }
      ],
      "source": [
        "import numpy as np\n",
        "\n",
        "y = np.array([1,2,3,4]) \n",
        "\n",
        "x1 = np.array([1,2,3])\n",
        "x2 = np.array([4,2,1])\n",
        "x3 = np.array([3,8,5])\n",
        "x4 = np.array([-9,-1,0])\n",
        "\n",
        "X = np.array([x1, x2, x3, x4])\n",
        "\n",
        "print(X)"
      ]
    },
    {
      "cell_type": "markdown",
      "metadata": {},
      "source": [
        "#### Qb) Implement the L1 and L2 norms for vectors in python."
      ]
    },
    {
      "cell_type": "markdown",
      "metadata": {},
      "source": [
        "The norm functions `L1` and `L2` are being implemented, where we assert and validate the output of the function. The functions will be used later in the assignment."
      ]
    },
    {
      "cell_type": "code",
      "execution_count": 28,
      "metadata": {},
      "outputs": [
        {
          "name": "stdout",
          "output_type": "stream",
          "text": [
            "tx-ty=[-2  3 -1 -2], d1-expected_d1=0.0, d2-expected_d2=0.0\n",
            "OK(part-1)\n",
            "d2dot-expected_d2= 0.0\n",
            "OK(part-2)\n"
          ]
        }
      ],
      "source": [
        "import math\n",
        "\n",
        "def checkInputIsOneDimensional(x):\n",
        "    assert x.shape[0]>=0 \n",
        "    if not x.ndim==1:\n",
        "        raise ValueError\n",
        "    \n",
        "def checkInputSameShape(y_pred, y_true):\n",
        "    assert y_pred.shape == y_true.shape, \"Shape of input is not equal!\"\n",
        "\n",
        "def L1(x):\n",
        "    checkInputIsOneDimensional(x) #Check if parameter is good\n",
        "    sum = 0\n",
        "    for i in x:\n",
        "        sum = sum + (i**2)**0.5  \n",
        "    return sum\n",
        "\n",
        "def L2(x):\n",
        "    checkInputIsOneDimensional(x) #Check if parameter is good\n",
        "    sum = 0\n",
        "    for i in x:\n",
        "        sum = sum + (i**2)\n",
        "    sum = sum**0.5\n",
        "    return sum\n",
        "\n",
        "def L2Dot(x):\n",
        "    checkInputIsOneDimensional(x) #Check if parameter is good\n",
        "    sum = np.sqrt(np.dot(x,x))  \n",
        "    return sum  \n",
        "     \n",
        "tx=np.array([1, 2, 3, -1])\n",
        "ty=np.array([3,-1, 4,  1])\n",
        "\n",
        "expected_d1=8.0\n",
        "expected_d2=4.242640687119285\n",
        "\n",
        "d1=L1(tx-ty)\n",
        "d2=L2(tx-ty)\n",
        "\n",
        "print(f\"tx-ty={tx-ty}, d1-expected_d1={d1-expected_d1}, d2-expected_d2={d2-expected_d2}\")\n",
        "\n",
        "eps=1E-9  \n",
        "assert math.fabs(d1-expected_d1)<eps, \"L1 dist seems to be wrong\" \n",
        "assert math.fabs(d2-expected_d2)<eps, \"L2 dist seems to be wrong\" \n",
        "\n",
        "print(\"OK(part-1)\")\n",
        " \n",
        "d2dot=L2Dot(tx-ty)\n",
        "print(\"d2dot-expected_d2=\",d2dot-expected_d2)\n",
        "assert math.fabs(d2dot-expected_d2)<eps, \"L2Ddot dist seem to be wrong\" \n",
        "print(\"OK(part-2)\")"
      ]
    },
    {
      "cell_type": "markdown",
      "metadata": {},
      "source": [
        "#### Qc) Construct the Root Mean Square Error (RMSE) function "
      ]
    },
    {
      "cell_type": "markdown",
      "metadata": {},
      "source": [
        "We are going to implement the RMSE function by using the $\\mathbf{X}$ matrix and $\\mathbf{y}$ from the previous exercise Qa.\n",
        "\n",
        "The dummy function `h(X)` will be used to take the first column of $\\mathbf{X}$ as its prediction."
      ]
    },
    {
      "cell_type": "code",
      "execution_count": 29,
      "metadata": {},
      "outputs": [
        {
          "name": "stdout",
          "output_type": "stream",
          "text": [
            "RMSE=6.576473218982953, diff=2.6645352591003757e-15\n",
            "OK\n"
          ]
        }
      ],
      "source": [
        "def RMSE(y_pred, y_true):\n",
        "    checkInputSameShape(y_pred, y_true)\n",
        "    sum = L2(y_pred - y_true)*0.5 #Implementation of the RMSE\n",
        "    return sum\n",
        "\n",
        "# Dummy h function:\n",
        "def h(X):    \n",
        "    if X.ndim!=2:\n",
        "        raise ValueError(\"excpeted X to be of ndim=2, got ndim=\",X.ndim)\n",
        "    if X.shape[0]==0 or X.shape[1]==0:\n",
        "        raise ValueError(\"X got zero data along the 0/1 axis, cannot continue\")\n",
        "    return X[:,0]\n",
        " \n",
        "r=RMSE(h(X),y)\n",
        "\n",
        "# TEST vector:\n",
        "eps=1E-9\n",
        "expected=6.57647321898295\n",
        "print(f\"RMSE={r}, diff={r-expected}\")\n",
        "assert math.fabs(r-expected)<eps, \"your RMSE dist seems to be wrong\" \n",
        "\n",
        "print(\"OK\")"
      ]
    },
    {
      "cell_type": "markdown",
      "metadata": {},
      "source": [
        "#### Qd) Similar construct the Mean Absolute Error (MAE) function "
      ]
    },
    {
      "cell_type": "markdown",
      "metadata": {},
      "source": [
        "We already created the `RMSE` function in the previous task, and now we will implement the MAE function to calculate the norm of L1 (instead of L2)"
      ]
    },
    {
      "cell_type": "code",
      "execution_count": 30,
      "metadata": {},
      "outputs": [
        {
          "name": "stdout",
          "output_type": "stream",
          "text": [
            "MAE=3.75, diff=0.0\n",
            "OK\n"
          ]
        }
      ],
      "source": [
        "def MAE(y_pred, y_true):\n",
        "    checkInputSameShape(y_pred, y_true)\n",
        "    sum = L1(y_pred-y_true)/y_pred.size\n",
        "    return sum  \n",
        "\n",
        "r=MAE(h(X), y)\n",
        "\n",
        "# TEST vector:\n",
        "expected=3.75\n",
        "print(f\"MAE={r}, diff={r-expected}\")\n",
        "assert math.fabs(r-expected)<eps, \"MAE dist seems to be wrong\" \n",
        "\n",
        "print(\"OK\")"
      ]
    },
    {
      "cell_type": "markdown",
      "metadata": {},
      "source": [
        "#### Qe) Robust Code "
      ]
    },
    {
      "cell_type": "markdown",
      "metadata": {},
      "source": [
        "We have added error checking code by using assertions, that checks for right y^-y sizes of the MSE and MAE functions (the shape of their input)"
      ]
    },
    {
      "cell_type": "markdown",
      "metadata": {},
      "source": [
        "#### Qf) Conclusion\n",
        "\n",
        "In this exercise, we have been through Python's implementation of matrices and vectors and the core concepts of machine learning. \n",
        "\n",
        "We have applied the following two norms, that are different ways of measuring distances. (Assumes we are working in 2D)\n",
        "- `L1`: Returns the shortest distance going only vertically and horizontally (Also named the Euclidean distance)\n",
        "- `L2`: Also returns the shortest distance, but is capable of going diagonally without being restricted by an axis (The 'City-Block' distance)\n",
        "\n",
        "We constructed the cost function `RMSE` function, that measures how well the predicted values differ from the actual values (basically determines how good our ML model is - the lower the value the better). The `MAE` function was implemented as well, and where the `RMSE` function uses the 'City-Block' norm to calculate the distance between the vectors, our `MAE` function used the 'Euclidean' norm.\n",
        "\n",
        "We learned why its import to write robust code using assertion to check the pre- and post-condition by mainly assert-checking."
      ]
    },
    {
      "cell_type": "markdown",
      "metadata": {},
      "source": [
        "## L02 - Dummy classifier"
      ]
    },
    {
      "cell_type": "markdown",
      "metadata": {},
      "source": [
        "#### Qa) Load and display the MNIST data"
      ]
    },
    {
      "cell_type": "markdown",
      "metadata": {},
      "source": [
        "The function `MNIST_GetDataSet()` will be implemented by using the `fetch_openml` function from sklearn.datasets. The parameters of this function will be found by looking at the documentation https://scikit-learn.org/stable/modules/generated/sklearn.datasets.fetch_openml.html.\n",
        "\n",
        "The parameters that is needed to be changed from default values:\n",
        "\n",
        "`name: str` -> \n",
        "\n",
        "`version: int` ->\n",
        "\n",
        "`return_X_y: bool` ->\n",
        "\n",
        "`cache: bool` ->\n",
        "\n",
        "`as_frame: bool` -> We are using numpy"
      ]
    },
    {
      "cell_type": "code",
      "execution_count": 31,
      "metadata": {},
      "outputs": [
        {
          "name": "stdout",
          "output_type": "stream",
          "text": [
            "[[0. 0. 0. ... 0. 0. 0.]\n",
            " [0. 0. 0. ... 0. 0. 0.]\n",
            " [0. 0. 0. ... 0. 0. 0.]\n",
            " ...\n",
            " [0. 0. 0. ... 0. 0. 0.]\n",
            " [0. 0. 0. ... 0. 0. 0.]\n",
            " [0. 0. 0. ... 0. 0. 0.]]\n",
            "['5' '0' '4' ... '4' '5' '6']\n"
          ]
        },
        {
          "data": {
            "image/png": "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",
            "text/plain": [
              "<Figure size 640x480 with 1 Axes>"
            ]
          },
          "metadata": {},
          "output_type": "display_data"
        }
      ],
      "source": [
        "from sklearn.datasets import fetch_openml\n",
        "import matplotlib\n",
        "import matplotlib.pyplot as plt\n",
        "\n",
        "def MNIST_GetDataSet():\n",
        "    X, y = fetch_openml(name='mnist_784', version=1, data_home=\"./data\", cache=True, return_X_y = True, as_frame=False)\n",
        "    X = X/255\n",
        "    return X,y\n",
        "\n",
        "def MNIST_PlotDigit(data):\n",
        "    image = data.reshape(28, 28)\n",
        "    plt.imshow(image, cmap = matplotlib.cm.binary, interpolation=\"nearest\")\n",
        "    plt.axis(\"off\")\n",
        "\n",
        "X,y = MNIST_GetDataSet()\n",
        "\n",
        "print(X)\n",
        "print(y)\n",
        "\n",
        "# Sejt -- y[2] er 4 og x[2] er også 4 hehe\n",
        "MNIST_PlotDigit(X[2])"
      ]
    },
    {
      "cell_type": "markdown",
      "metadata": {},
      "source": [
        "#### Qb)  Add a Stochastic Gradient Decent [SGD] Classifier"
      ]
    },
    {
      "cell_type": "code",
      "execution_count": 32,
      "metadata": {},
      "outputs": [
        {
          "name": "stdout",
          "output_type": "stream",
          "text": [
            "X.shape=(70000, 784)\n",
            "X.shape=(70000, 784)\n",
            "\n",
            "---- Correct categorized fives:\n",
            "Is it a 5?: False\n"
          ]
        },
        {
          "data": {
            "image/png": "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",
            "text/plain": [
              "<Figure size 640x480 with 1 Axes>"
            ]
          },
          "metadata": {},
          "output_type": "display_data"
        },
        {
          "name": "stdout",
          "output_type": "stream",
          "text": [
            "Is it a 5?: False\n"
          ]
        },
        {
          "data": {
            "image/png": "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",
            "text/plain": [
              "<Figure size 640x480 with 1 Axes>"
            ]
          },
          "metadata": {},
          "output_type": "display_data"
        },
        {
          "name": "stdout",
          "output_type": "stream",
          "text": [
            "\n",
            "---- Incorrect categorized fives\n",
            "Is it a 5?: False\n"
          ]
        },
        {
          "data": {
            "image/png": "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",
            "text/plain": [
              "<Figure size 640x480 with 1 Axes>"
            ]
          },
          "metadata": {},
          "output_type": "display_data"
        },
        {
          "name": "stdout",
          "output_type": "stream",
          "text": [
            "Is it a 5?: False\n"
          ]
        },
        {
          "data": {
            "image/png": "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",
            "text/plain": [
              "<Figure size 640x480 with 1 Axes>"
            ]
          },
          "metadata": {},
          "output_type": "display_data"
        }
      ],
      "source": [
        "from sklearn.model_selection import train_test_split\n",
        "from sklearn.linear_model import SGDClassifier\n",
        "import numpy as np\n",
        "\n",
        "X, y = MNIST_GetDataSet()\n",
        "\n",
        "print(f\"X.shape={X.shape}\") # print X.shape= (70000, 28, 28)\n",
        "if X.ndim==3:\n",
        "    print(\"reshaping X..\")\n",
        "    assert y.ndim==1\n",
        "    X = X.reshape((X.shape[0],X.shape[1]*X.shape[2]))\n",
        "assert X.ndim==2\n",
        "print(f\"X.shape={X.shape}\") # X.shape= (70000, 784)\n",
        "\n",
        "X_train, X_test, y_train, y_test = train_test_split(X, y, test_size=0.2)\n",
        "\n",
        "y_train_5 = (y_train == \"5\")\n",
        "y_test_5 = (y_test == \"5\")\n",
        "\n",
        "SGD_classifier = SGDClassifier(random_state=42)\n",
        "\n",
        "SGD_classifier.fit(X_train, y_train_5)\n",
        "\n",
        "y_pred = SGD_classifier.predict(X_test)\n",
        "\n",
        "categorized = np.where(y_pred == y_test_5)[0]\n",
        "\n",
        "not_correctly_categorized = np.where(y_pred != y_test_5)[0]\n",
        "\n",
        "print(\"\\n---- Correct categorized fives:\")\n",
        "\n",
        "for number in categorized[:2]:\n",
        "    MNIST_PlotDigit(X_test[number])\n",
        "    predicted_value = SGD_classifier.predict([X_test[number]])\n",
        "    print(f\"Is it a 5?: {predicted_value[0]}\")\n",
        "    plt.show()\n",
        "    \n",
        "print(\"\\n---- Incorrect categorized fives\")\n",
        "\n",
        "for number in not_correctly_categorized[:2]:\n",
        "    MNIST_PlotDigit(X_test[number])\n",
        "    predicted_value = SGD_classifier.predict([X_test[number]])\n",
        "    print(f\"Is it a 5?: {predicted_value[0]}\")\n",
        "    plt.show()\n",
        "    "
      ]
    },
    {
      "cell_type": "markdown",
      "metadata": {},
      "source": [
        "#### Qc) Implement a dummy binary classifier"
      ]
    },
    {
      "cell_type": "code",
      "execution_count": 33,
      "metadata": {},
      "outputs": [
        {
          "name": "stdout",
          "output_type": "stream",
          "text": [
            "0.9121428571428571\n"
          ]
        }
      ],
      "source": [
        "from sklearn.metrics import accuracy_score\n",
        "\n",
        "class DummyClassifier():\n",
        "    def fit(self, X, y=None):\n",
        "        pass # Dummy classifier doesn't fit\n",
        "    \n",
        "    def predict(self, X):\n",
        "        return [0] * len(X) # Writes 0 in every index\n",
        "    \n",
        "def calculate_accuracy(y_true, y_pred):\n",
        "    return accuracy_score(y_true, y_pred)\n",
        "    \n",
        "\n",
        "dummyClassifier = DummyClassifier()\n",
        "\n",
        "dummyClassifier.fit(X_train)\n",
        "\n",
        "y_pred = dummyClassifier.predict(X_test)\n",
        "\n",
        "accuracy = calculate_accuracy(y_test_5, y_pred)\n",
        "\n",
        "print(accuracy) # The accuracy will be around 90%, this is a fake accuracy\n"
      ]
    },
    {
      "cell_type": "markdown",
      "metadata": {},
      "source": [
        "#### Qd) Conclusion"
      ]
    },
    {
      "cell_type": "markdown",
      "metadata": {},
      "source": [
        "## L02 - Performance metrics"
      ]
    },
    {
      "cell_type": "markdown",
      "metadata": {},
      "source": [
        "\n",
        "#### Qa) Implement the Accuracy function and test it on the MNIST data.\n",
        "\n",
        "The accuaracy function is going to be created as `MyAccuracy()`, where the following formula will be implemented by using for loops to find the total amount of true positives, true negatives and then divide it by the total amount of data points:\n",
        "$$\n",
        "    \\def\\by{\\mathbf{y}}\n",
        "    \\def\\bM{\\mathbf{M}}\n",
        "    \\def\\ar#1#2{\\begin{array}{#1}#2\\end{array}}\n",
        "    \\def\\st#1{_{\\scriptsize\\textrm{#1}}}\n",
        "    \\def\\myfrac#1#2{\\frac{#1\\rule{0pt}{8pt}}{#2\\rule{0pt}{8pt}}} \n",
        "\\ar{rl}{\n",
        "      a &= \\myfrac{TP + TN}{TP + TN + FP + FN}\\\\\n",
        "  }\\\n",
        "$$"
      ]
    },
    {
      "cell_type": "code",
      "execution_count": 34,
      "metadata": {},
      "outputs": [
        {
          "name": "stdout",
          "output_type": "stream",
          "text": [
            "\n",
            "Accuracy of dummy classifier:\n",
            "my a          =0.909\n",
            "scikit-learn a=0.909\n",
            "\n",
            "Accuracy of SGD classifier:\n",
            "my a          =0.9752857142857143\n",
            "scikit-learn a=0.9752857142857143\n"
          ]
        }
      ],
      "source": [
        "from sklearn.datasets import fetch_openml\n",
        "from sklearn.metrics import accuracy_score\n",
        "from sklearn.model_selection import train_test_split\n",
        "from sklearn.linear_model import SGDClassifier\n",
        "import matplotlib\n",
        "import matplotlib.pyplot as plt\n",
        "\n",
        "def MNIST_GetDataSet():\n",
        "    X, y = fetch_openml(name='mnist_784', version=1, data_home=\"./data\", cache=True, return_X_y = True, as_frame=False)\n",
        "    X = X/255\n",
        "    return X,y\n",
        "\n",
        "class DummyClassifier():\n",
        "    def fit(self, X, y=None):\n",
        "        pass # Dummy classifier doesn't fit\n",
        "    \n",
        "    def predict(self, X):\n",
        "        return [0] * len(X) # Writes 0 in every index\n",
        "\n",
        "# MyAccuracy function that calculates the accuracy\n",
        "def MyAccuracy(y_true, y_pred):\n",
        "    if len(y_true) == 0 or len(y_pred) == 0: # Error handling\n",
        "        return 0\n",
        "    matches = 0\n",
        "    for i in range(len(y_pred)):\n",
        "        if y_pred[i] == y_true[i]:\n",
        "            matches += 1\n",
        "    return(matches/len(y_pred))\n",
        "    \n",
        "# TEST FUNCTION: example of a comperator, using Scikit-learn accuracy_score\n",
        "def TestAccuracy(y_true, y_pred):\n",
        "   a0=MyAccuracy(y_true, y_pred)\n",
        "   a1=accuracy_score(y_true, y_pred)\n",
        "\n",
        "   print(f\"my a          ={a0}\")\n",
        "   print(f\"scikit-learn a={a1}\")\n",
        "\n",
        "X, y = MNIST_GetDataSet()\n",
        "\n",
        "if X.ndim==3:\n",
        "    print(\"reshaping X..\")\n",
        "    assert y.ndim==1\n",
        "    X = X.reshape((X.shape[0],X.shape[1]*X.shape[2]))\n",
        "assert X.ndim==2\n",
        "\n",
        "X_train, X_test, y_train, y_test = train_test_split(X, y, test_size=0.2)\n",
        "\n",
        "y_train_5 = (y_train == \"5\")\n",
        "y_test_5 = (y_test == \"5\")\n",
        "\n",
        "SGD_classifier = SGDClassifier(random_state=42)\n",
        "\n",
        "SGD_classifier.fit(X_train, y_train_5)\n",
        "\n",
        "y_pred = SGD_classifier.predict(X_test)\n",
        "\n",
        "dummyClassifier = DummyClassifier()\n",
        "\n",
        "dummyClassifier.fit(X_train)\n",
        "\n",
        "dummy_y_pred = dummyClassifier.predict(X_test)\n",
        "\n",
        "# Test accuracy of dummy\n",
        "print(\"\\nAccuracy of dummy classifier:\")\n",
        "TestAccuracy(y_test_5, dummy_y_pred)\n",
        "\n",
        "#Test accuracy of SGD_classifiet\n",
        "print(\"\\nAccuracy of SGD classifier:\")\n",
        "TestAccuracy(y_test_5, y_pred)\n"
      ]
    },
    {
      "cell_type": "markdown",
      "metadata": {},
      "source": [
        "#### Qb) Implement Precision, Recall and $F_1$-score and test it on the MNIST data for both the SGD and Dummy classifier models\n",
        "\n",
        "The precision will implement the following formula by using two for loops to extract the amount of true positives and the false positives:\n",
        "$$\n",
        "    \\def\\by{\\mathbf{y}}\n",
        "    \\def\\bM{\\mathbf{M}}\n",
        "    \\def\\ar#1#2{\\begin{array}{#1}#2\\end{array}}\n",
        "    \\def\\st#1{_{\\scriptsize\\textrm{#1}}}\n",
        "    \\def\\myfrac#1#2{\\frac{#1\\rule{0pt}{8pt}}{#2\\rule{0pt}{8pt}}} \n",
        "\\ar{rl}{\n",
        "  p &= \\myfrac{TP}{TP + FP}\n",
        "}\n",
        "$$\n",
        "\n",
        "The recall will implement the following formula by again using two for loops, but this time extracting the amount of true positives and the false negatives:\n",
        "$$\n",
        "  \\ar{rl}{\n",
        "    r &= \\myfrac{TP}{TP + FN}\\\\\n",
        "  }\n",
        "$$\n",
        "\n",
        "Lastly the F1 score will implement the following formula, where the implemented versions of `MyPrecision(y_true, y_pred)` and `MyRecall(y_true, y_pred)` will be used:\n",
        "$$\n",
        "  \\ar{rl}{\n",
        "    F_1 &= \\myfrac{2pr}{p+r}\\\\\n",
        "  }\n",
        "$$"
      ]
    },
    {
      "cell_type": "code",
      "execution_count": 35,
      "metadata": {},
      "outputs": [
        {
          "name": "stdout",
          "output_type": "stream",
          "text": [
            "First test case: \n",
            "This is my precision: 0.75\n",
            "This is scikit precision: 0.75\n",
            "This is my recall: 1.0\n",
            "This is scikit recall: 1.0\n",
            "This is my f1-score: 0.75\n",
            "This is scikit f1-score: 0.8571428571428571\n",
            "\n",
            "Second test case: \n",
            "This is my precision: 0.6666666666666666\n",
            "This is scikit precision: 0.6666666666666666\n",
            "This is my recall: 0.6666666666666666\n",
            "This is scikit recall: 0.6666666666666666\n",
            "This is my f1-score: 0.6666666666666666\n",
            "This is scikit f1-score: 0.6666666666666666\n",
            "\n",
            "SGD test case: \n",
            "This is my precision: 0.8879598662207357\n",
            "This is scikit precision: 0.8879598662207357\n",
            "This is my recall: 0.8335949764521193\n",
            "This is scikit recall: 0.8335949764521193\n",
            "This is my f1-score: 0.8879598662207357\n",
            "This is scikit f1-score: 0.8599190283400809\n",
            "\n",
            "Dummy test case: \n",
            "This is my precision: 0\n",
            "This is scikit precision: 0.0\n",
            "This is my recall: 0.0\n",
            "This is scikit recall: 0.0\n",
            "This is my f1-score: 0\n",
            "This is scikit f1-score: 0.0\n",
            "\n"
          ]
        },
        {
          "name": "stderr",
          "output_type": "stream",
          "text": [
            "c:\\Users\\Bruger\\AppData\\Local\\Programs\\Python\\Python312\\Lib\\site-packages\\sklearn\\metrics\\_classification.py:1497: UndefinedMetricWarning: Precision is ill-defined and being set to 0.0 due to no predicted samples. Use `zero_division` parameter to control this behavior.\n",
            "  _warn_prf(average, modifier, f\"{metric.capitalize()} is\", len(result))\n"
          ]
        }
      ],
      "source": [
        "from sklearn.metrics import precision_score, recall_score, f1_score\n",
        "\n",
        "def MyPrecision(y_true, y_pred):\n",
        "    TP = 0\n",
        "    FP = 0\n",
        "    for i in range(len(y_pred)):\n",
        "        if y_pred[i] == True and y_true[i] == True:\n",
        "            TP += 1\n",
        "    \n",
        "    for i in range(len(y_pred)):\n",
        "        if y_pred[i] == True and y_true[i] == False:\n",
        "            FP += 1\n",
        "\n",
        "    if TP == 0 and FP == 0: # Error handling cant divide by zero\n",
        "        return 0\n",
        "            \n",
        "    return(TP/(TP+FP))\n",
        "            \n",
        "\n",
        "def MyRecall(y_true, y_pred):\n",
        "    TP = 0\n",
        "    FN = 0\n",
        "    for i in range(len(y_pred)):\n",
        "        if y_pred[i] == True and y_true[i] == True:\n",
        "            TP += 1\n",
        "            \n",
        "    for i in range(len(y_pred)):\n",
        "        if y_pred[i] == False and y_true[i] == True:\n",
        "            FN += 1\n",
        "    if TP == 0 and FN == 0: # Error handling cant divide by zero\n",
        "        return 0\n",
        "    return(TP/(TP+FN))        \n",
        "    \n",
        "    \n",
        "def MyF1Score(y_true, y_pred):\n",
        "    precision = MyPrecision(y_true, y_pred)\n",
        "    recall = MyRecall(y_pred, y_true)\n",
        "    if precision == 0 or recall == 0:\n",
        "        return 0\n",
        "    return(2 * precision * recall)/(precision + recall)\n",
        "\n",
        "y_pred1 = [True, True, True, True]\n",
        "y_true1 = [True, True, True, False]\n",
        "\n",
        "y_pred2 = [True, True, False, True]\n",
        "y_true2 = [True, True, True, False]\n",
        "\n",
        "def test(y_true, y_pred):\n",
        "    p0 = MyPrecision(y_true, y_pred)\n",
        "    p1 = precision_score(y_true, y_pred)\n",
        "    \n",
        "    r0 = MyRecall(y_true, y_pred)\n",
        "    r1 = recall_score(y_true, y_pred)\n",
        "    \n",
        "    f0 = MyF1Score(y_true, y_pred)\n",
        "    f1 = f1_score(y_true, y_pred)\n",
        "    \n",
        "    print(f\"This is my precision: {p0}\")\n",
        "    print(f\"This is scikit precision: {p1}\")\n",
        "    \n",
        "    print(f\"This is my recall: {r0}\")\n",
        "    print(f\"This is scikit recall: {r1}\")\n",
        "    \n",
        "    print(f\"This is my f1-score: {f0}\")\n",
        "    print(f\"This is scikit f1-score: {f1}\\n\")\n",
        "\n",
        "print(\"First test case: \")\n",
        "test(y_true1, y_pred1)\n",
        "print(\"Second test case: \")\n",
        "test(y_true2, y_pred2)\n",
        "print(\"SGD test case: \")\n",
        "test(y_test_5, y_pred)\n",
        "print(\"Dummy test case: \")\n",
        "test(y_test_5, dummy_y_pred)"
      ]
    },
    {
      "cell_type": "markdown",
      "metadata": {},
      "source": [
        "#### Qc) The Confusion Matrix\n",
        "\n",
        "Now the confusion matrix' will be created by using the confusion_matrix function from sklearn.metrics. By reading the documentation of this function it is seen that the scikit-learn confusion matrix is organized in the following order TN, FP, FN, TP. Therefor it is also important not to mess up the parameters because it will mess up the organization of the confusion matrix, and the TN, FP, FN, TP will be swapped around. "
      ]
    },
    {
      "cell_type": "code",
      "execution_count": 36,
      "metadata": {},
      "outputs": [
        {
          "name": "stdout",
          "output_type": "stream",
          "text": [
            "Dummy maxtrix:\n",
            "[[12726     0]\n",
            " [ 1274     0]]\n",
            "\n",
            "SDG matrix:\n",
            "[[12592   134]\n",
            " [  212  1062]]\n",
            "\n",
            "Reversed SDG matrix:\n",
            "[[12592   212]\n",
            " [  134  1062]]\n",
            "\n"
          ]
        }
      ],
      "source": [
        "from sklearn.metrics import confusion_matrix\n",
        "\n",
        "cm_dummy = confusion_matrix(y_test_5, dummy_y_pred)\n",
        "cm_sdg_classifier = confusion_matrix(y_test_5, y_pred)\n",
        "cm_sdg_classifier_reversed = confusion_matrix(y_pred, y_test_5)\n",
        "\n",
        "print(f\"Dummy maxtrix:\\n{cm_dummy}\\n\")\n",
        "print(f\"SDG matrix:\\n{cm_sdg_classifier}\\n\")\n",
        "print(f\"Reversed SDG matrix:\\n{cm_sdg_classifier_reversed}\\n\")"
      ]
    },
    {
      "cell_type": "markdown",
      "metadata": {},
      "source": [
        "#### Qd) A Confusion Matrix Heat-map\n",
        "\n",
        "The heat map will be created with the `ConfusionMatrixDisplay` function, where we can compare the output with the output from the Qc) The Confusion Matrix exercise, these should be the same."
      ]
    },
    {
      "cell_type": "code",
      "execution_count": 37,
      "metadata": {},
      "outputs": [
        {
          "data": {
            "image/png": "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",
            "text/plain": [
              "<Figure size 640x480 with 2 Axes>"
            ]
          },
          "metadata": {},
          "output_type": "display_data"
        },
        {
          "data": {
            "image/png": "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",
            "text/plain": [
              "<Figure size 640x480 with 2 Axes>"
            ]
          },
          "metadata": {},
          "output_type": "display_data"
        }
      ],
      "source": [
        "from matplotlib import pyplot as plt\n",
        "from sklearn.metrics import ConfusionMatrixDisplay\n",
        "\n",
        "\n",
        "dummy_matrix = ConfusionMatrixDisplay(confusion_matrix=cm_dummy) \n",
        "dummy_matrix.plot()\n",
        "plt.show()\n",
        "\n",
        "SGD_matrix = ConfusionMatrixDisplay(confusion_matrix=cm_sdg_classifier)\n",
        "SGD_matrix.plot()\n",
        "plt.show()"
      ]
    },
    {
      "cell_type": "markdown",
      "metadata": {},
      "source": [
        "### Qe) Conclusion\n",
        "\n",
        "We have now worked with different performance metrics that shows how \"good\" your machine learning model is. In the first exercise we implemented the accuracy function and tested it with our dummy classifier and our SGD classifier. From this it was shown that the accuracy can give a great score (around 90%) to a machine learning model (our dummy classifier) which was totaly wrong, therfore we should be carefull to conclude how great our model is by only using the accuracy as our score. Afterwards we implemented the precision, recall and F1-score as further ways of judging our models. Now our dummy classifier will be found out to be a bad model, as it scores zero in these tests, wheras our SGD classifier still deliveres good scores. Therefore it can be concluded that it is important to take multiple scores into account, when judging a machine learning model. Lastly we created and showed a confussion matrix with the dummy classifier and SGD classifier, which creates an overview of how your model is performing, by showing the TN, FP, FN and TP. By using this overview it is quickly seen that the dummy classifier is performing worse than the sgd classifier since it is not predicting any TP, but instead predicting alot of FN."
      ]
    }
  ],
  "metadata": {
    "kernelspec": {
      "display_name": "Python 3 (ipykernel)",
      "language": "python",
      "name": "python3"
    },
    "language_info": {
      "codemirror_mode": {
        "name": "ipython",
        "version": 3
      },
      "file_extension": ".py",
      "mimetype": "text/x-python",
      "name": "python",
      "nbconvert_exporter": "python",
      "pygments_lexer": "ipython3",
      "version": "3.12.1"
    },
    "nav_menu": {},
    "toc": {
      "navigate_menu": true,
      "number_sections": true,
      "sideBar": true,
      "threshold": 6,
      "toc_cell": false,
      "toc_section_display": "block",
      "toc_window_display": true
    },
    "toc-autonumbering": true,
    "toc-showcode": true,
    "toc-showmarkdowntxt": true,
    "toc_position": {
      "height": "616px",
      "left": "0px",
      "right": "20px",
      "top": "106px",
      "width": "213px"
    },
    "varInspector": {
      "cols": {
        "lenName": 16,
        "lenType": 16,
        "lenVar": 40
      },
      "kernels_config": {
        "python": {
          "delete_cmd_postfix": "",
          "delete_cmd_prefix": "del ",
          "library": "var_list.py",
          "varRefreshCmd": "print(var_dic_list())"
        },
        "r": {
          "delete_cmd_postfix": ") ",
          "delete_cmd_prefix": "rm(",
          "library": "var_list.r",
          "varRefreshCmd": "cat(var_dic_list()) "
        }
      },
      "types_to_exclude": [
        "module",
        "function",
        "builtin_function_or_method",
        "instance",
        "_Feature"
      ],
      "window_display": false
    }
>>>>>>> 96e24f725fd66ee2204fe3940cb7dc8b3ca71965
  },
  {
   "cell_type": "markdown",
   "metadata": {},
   "source": [
    "_Below code is the code used to generate some of the figures in chapter 1._\n",
    "\n",
    "Afterwards a list of questions will be answered."
   ]
  },
  {
   "cell_type": "markdown",
   "metadata": {},
   "source": [
    "### Setup"
   ]
  },
  {
   "cell_type": "code",
   "execution_count": 230,
   "metadata": {},
   "outputs": [
    {
     "name": "stdout",
     "output_type": "stream",
     "text": [
      "OK\n"
     ]
    }
   ],
   "source": [
    "# To support both python 2 and python 3\n",
    "from __future__ import division, print_function, unicode_literals\n",
    "\n",
    "# Common imports\n",
    "import numpy as np\n",
    "import os\n",
    "\n",
    "# to make this notebook's output stable across runs\n",
    "np.random.seed(42)\n",
    "\n",
    "# To plot pretty figures\n",
    "%matplotlib inline\n",
    "import matplotlib\n",
    "import matplotlib.pyplot as plt\n",
    "plt.rcParams['axes.labelsize'] = 14\n",
    "plt.rcParams['xtick.labelsize'] = 12\n",
    "plt.rcParams['ytick.labelsize'] = 12\n",
    "\n",
    "# Where to save the figures\n",
    "PROJECT_ROOT_DIR = \".\"\n",
    "CHAPTER_ID = \"fundamentals\"\n",
    "\n",
    "def save_fig(fig_id, tight_layout=True):\n",
    "    path = os.path.join(PROJECT_ROOT_DIR, \"images\", CHAPTER_ID, fig_id + \".png\")\n",
    "    print(\"IGNORING: Saving figure\", fig_id) # SWMAL: I've disabled saving of figures\n",
    "    #if tight_layout:\n",
    "    #    plt.tight_layout()\n",
    "    #plt.savefig(path, format='png', dpi=300)\n",
    "\n",
    "# Ignore useless warnings (see SciPy issue #5998)\n",
    "import warnings\n",
    "warnings.filterwarnings(action=\"ignore\", module=\"scipy\", message=\"^internal gelsd\")\n",
    "\n",
    "print(\"OK\")"
   ]
  },
  {
   "cell_type": "code",
   "execution_count": 231,
   "metadata": {},
   "outputs": [
    {
     "name": "stdout",
     "output_type": "stream",
     "text": [
      "OK\n"
     ]
    }
   ],
   "source": [
    "def prepare_country_stats(oecd_bli, gdp_per_capita):\n",
    "    oecd_bli = oecd_bli[oecd_bli[\"INEQUALITY\"]==\"TOT\"]\n",
    "    oecd_bli = oecd_bli.pivot(index=\"Country\", columns=\"Indicator\", values=\"Value\")\n",
    "    gdp_per_capita.rename(columns={\"2015\": \"GDP per capita\"}, inplace=True)\n",
    "    gdp_per_capita.set_index(\"Country\", inplace=True)\n",
    "    full_country_stats = pd.merge(left=oecd_bli, right=gdp_per_capita,\n",
    "                                  left_index=True, right_index=True)\n",
    "    full_country_stats.sort_values(by=\"GDP per capita\", inplace=True)\n",
    "    remove_indices = [0, 1, 6, 8, 33, 34, 35]\n",
    "    keep_indices = list(set(range(36)) - set(remove_indices))\n",
    "    return full_country_stats[[\"GDP per capita\", 'Life satisfaction']].iloc[keep_indices]\n",
    "\n",
    "print(\"OK\")"
   ]
  },
  {
   "cell_type": "code",
   "execution_count": 232,
   "metadata": {},
   "outputs": [
    {
     "name": "stdout",
     "output_type": "stream",
     "text": [
      " Volume in drive C is Windows-SSD\n",
      " Volume Serial Number is 22C7-3C71\n",
      "\n",
      " Directory of c:\\Users\\lasse\\Desktop\\6-Semester\\MAL\\L01\n",
      "\n",
      "14-02-2024  10:21    <DIR>          .\n",
      "14-02-2024  10:21    <DIR>          ..\n",
      "02-02-2024  12:54    <DIR>          .ipynb_checkpoints\n",
      "14-02-2024  10:39           340.744 Combined final assignment.ipynb\n",
      "14-02-2024  08:12    <DIR>          data\n",
      "02-02-2024  12:54    <DIR>          datasets\n",
      "14-02-2024  08:22    <DIR>          extraUtils\n",
      "13-02-2024  12:21           106.399 intro.ipynb\n",
      "13-02-2024  12:21           248.639 intro_assignment.ipynb\n",
      "14-02-2024  08:22    <DIR>          libitmal\n",
      "06-02-2024  12:17            13.391 modules_and_classes.ipynb\n",
      "13-02-2024  12:21             6.292 modules_and_classes_assignment.ipynb\n",
      "               5 File(s)        715.465 bytes\n",
      "               7 Dir(s)  51.630.292.992 bytes free\n",
      "\n",
      "OK\n"
     ]
    }
   ],
   "source": [
    "import os\n",
    "datapath = os.path.join(\"datasets\", \"lifesat\", \"\")\n",
    "\n",
    "# NOTE: a ! prefix makes us able to run system commands..\n",
    "# (command 'dir' for windows, 'ls' for Linux or Macs)\n",
    "#\n",
    "\n",
    "! dir\n",
    "\n",
    "print(\"\\nOK\")"
   ]
  },
  {
   "cell_type": "code",
   "execution_count": 233,
   "metadata": {},
   "outputs": [
    {
     "data": {
      "image/png": "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",
      "text/plain": [
       "<Figure size 640x480 with 1 Axes>"
      ]
     },
     "metadata": {},
     "output_type": "display_data"
    },
    {
     "name": "stdout",
     "output_type": "stream",
     "text": [
      "[[5.96242338]]\n",
      "OK\n"
     ]
    }
   ],
   "source": [
    "# Code example\n",
    "import matplotlib\n",
    "import matplotlib.pyplot as plt\n",
    "import numpy as np\n",
    "import pandas as pd\n",
    "import sklearn.linear_model\n",
    "\n",
    "# Load the data\n",
    "try:\n",
    "    oecd_bli = pd.read_csv(datapath + \"oecd_bli_2015.csv\", thousands=',')\n",
    "    gdp_per_capita = pd.read_csv(datapath + \"gdp_per_capita.csv\",thousands=',',delimiter='\\t',\n",
    "                             encoding='latin1', na_values=\"n/a\")\n",
    "except Exception as e:\n",
    "    print(f\"SWMAL NOTE: well, you need to have the 'datasets' dir in path, please unzip 'datasets.zip' and make sure that its included in the datapath='{datapath}' setting in the cell above..\")\n",
    "    raise e\n",
    "    \n",
    "# Prepare the data\n",
    "country_stats = prepare_country_stats(oecd_bli, gdp_per_capita)\n",
    "X = np.c_[country_stats[\"GDP per capita\"]]\n",
    "y = np.c_[country_stats[\"Life satisfaction\"]]\n",
    "\n",
    "# Visualize the data\n",
    "country_stats.plot(kind='scatter', x=\"GDP per capita\", y='Life satisfaction')\n",
    "plt.show()\n",
    "\n",
    "# Select a linear model\n",
    "model = sklearn.linear_model.LinearRegression()\n",
    "\n",
    "# Train the model\n",
    "model.fit(X, y)\n",
    "\n",
    "# Make a prediction for Cyprus\n",
    "X_new = [[22587]]  # Cyprus' GDP per capita\n",
    "y_pred = model.predict(X_new)\n",
    "print(y_pred) # outputs [[ 5.96242338]]\n",
    "\n",
    "print(\"OK\")"
   ]
  },
  {
   "cell_type": "code",
   "execution_count": 234,
   "metadata": {},
   "outputs": [
    {
     "data": {
      "image/png": "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",
      "text/plain": [
       "<Figure size 500x300 with 1 Axes>"
      ]
     },
     "metadata": {},
     "output_type": "display_data"
    },
    {
     "data": {
      "image/png": "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",
      "text/plain": [
       "<Figure size 500x300 with 1 Axes>"
      ]
     },
     "metadata": {},
     "output_type": "display_data"
    },
    {
     "name": "stdout",
     "output_type": "stream",
     "text": [
      "OK\n"
     ]
    }
   ],
   "source": [
    "oecd_bli = pd.read_csv(datapath + \"oecd_bli_2015.csv\", thousands=',')\n",
    "oecd_bli = oecd_bli[oecd_bli[\"INEQUALITY\"]==\"TOT\"]\n",
    "oecd_bli = oecd_bli.pivot(index=\"Country\", columns=\"Indicator\", values=\"Value\")\n",
    "#oecd_bli.head(2)\n",
    "\n",
    "gdp_per_capita = pd.read_csv(datapath+\"gdp_per_capita.csv\", thousands=',', delimiter='\\t',\n",
    "                             encoding='latin1', na_values=\"n/a\")\n",
    "gdp_per_capita.rename(columns={\"2015\": \"GDP per capita\"}, inplace=True)\n",
    "gdp_per_capita.set_index(\"Country\", inplace=True)\n",
    "#gdp_per_capita.head(2)\n",
    "\n",
    "full_country_stats = pd.merge(left=oecd_bli, right=gdp_per_capita, left_index=True, right_index=True)\n",
    "full_country_stats.sort_values(by=\"GDP per capita\", inplace=True)\n",
    "#full_country_stats\n",
    "\n",
    "remove_indices = [0, 1, 6, 8, 33, 34, 35]\n",
    "keep_indices = list(set(range(36)) - set(remove_indices))\n",
    "\n",
    "sample_data = full_country_stats[[\"GDP per capita\", 'Life satisfaction']].iloc[keep_indices]\n",
    "#missing_data = full_country_stats[[\"GDP per capita\", 'Life satisfaction']].iloc[remove_indices]\n",
    "\n",
    "sample_data.plot(kind='scatter', x=\"GDP per capita\", y='Life satisfaction', figsize=(5,3))\n",
    "plt.axis([0, 60000, 0, 10])\n",
    "position_text = {\n",
    "    \"Hungary\": (5000, 1),\n",
    "    \"Korea\": (18000, 1.7),\n",
    "    \"France\": (29000, 2.4),\n",
    "    \"Australia\": (40000, 3.0),\n",
    "    \"United States\": (52000, 3.8),\n",
    "}\n",
    "for country, pos_text in position_text.items():\n",
    "    pos_data_x, pos_data_y = sample_data.loc[country]\n",
    "    country = \"U.S.\" if country == \"United States\" else country\n",
    "    plt.annotate(country, xy=(pos_data_x, pos_data_y), xytext=pos_text,\n",
    "            arrowprops=dict(facecolor='black', width=0.5, shrink=0.1, headwidth=5))\n",
    "    plt.plot(pos_data_x, pos_data_y, \"ro\")\n",
    "#save_fig('money_happy_scatterplot')\n",
    "plt.show()\n",
    "\n",
    "from sklearn import linear_model\n",
    "lin1 = linear_model.LinearRegression()\n",
    "Xsample = np.c_[sample_data[\"GDP per capita\"]]\n",
    "ysample = np.c_[sample_data[\"Life satisfaction\"]]\n",
    "lin1.fit(Xsample, ysample)\n",
    "\n",
    "t0 = 4.8530528\n",
    "t1 = 4.91154459e-05\n",
    "\n",
    "sample_data.plot(kind='scatter', x=\"GDP per capita\", y='Life satisfaction', figsize=(5,3))\n",
    "plt.axis([0, 60000, 0, 10])\n",
    "M=np.linspace(0, 60000, 1000)\n",
    "plt.plot(M, t0 + t1*M, \"b\")\n",
    "plt.text(5000, 3.1, r\"$\\theta_0 = 4.85$\", fontsize=14, color=\"b\")\n",
    "plt.text(5000, 2.2, r\"$\\theta_1 = 4.91 \\times 10^{-5}$\", fontsize=14, color=\"b\")\n",
    "#save_fig('best_fit_model_plot')\n",
    "plt.show()\n",
    "\n",
    "print(\"OK\")"
   ]
  },
  {
   "cell_type": "markdown",
   "metadata": {},
   "source": [
    "### Qa) The $\\theta$ parameters and the $R^2$ Score\n",
    " \n",
    "The $\\theta$ parameters, also refered to as weights or coefficients, can be adjusted during training to optimize the performance and acurracy of a certain linear regression model. \n",
    "\n",
    "Extrating the $\\theta_0$ and $\\theta_1$ coefficients can be done by using the below python attributes:"
   ]
  },
  {
   "cell_type": "code",
   "execution_count": 235,
   "metadata": {},
   "outputs": [
    {
     "name": "stdout",
     "output_type": "stream",
     "text": [
      "Theta_0 (Intercept): [4.8530528]\n",
      "Theta_1 (Coefficient): [4.91154459e-05]\n"
     ]
    }
   ],
   "source": [
    "theta_0 = model.intercept_\n",
    "theta_1 = model.coef_[0]\n",
    "\n",
    "print(\"Theta_0 (Intercept):\", theta_0)\n",
    "print(\"Theta_1 (Coefficient):\", theta_1)"
   ]
  },
  {
   "cell_type": "markdown",
   "metadata": {},
   "source": [
    " Another important variable is the $R^2$ score. \n",
    "\n",
    "The $R^2$ measures the goodness of fit of the model itself. The minimum and maximum values range from 0 to 1, where the below list describes each outcome:\n",
    "\n",
    "- A value of 1: Considered a perfect fit, where the model accurately predicts the dependent variable based on the independent variables (Explains all the variance).\n",
    "- A value of 0: The opposite of a perfect fit. This score indicates that the model's prediction is entirely wrong and provides no explanation.\n",
    "\n",
    "While it is desirable to achieve a score of 1, it's important to note that such a score is highly unlikely as it's almost impossible to create a model that makes a perfect fit to real-world data.\n",
    "\n",
    "Therefore, it is preferable to find a value close to 1, which, as explained, indicates a better fit.\n",
    "\n",
    "In the assignment, the below calculation extracts the desirable score of 0.734.\n"
   ]
  },
  {
   "cell_type": "code",
   "execution_count": 236,
   "metadata": {},
   "outputs": [
    {
     "name": "stdout",
     "output_type": "stream",
     "text": [
      "Score: 0.7344414355437031\n"
     ]
    }
   ],
   "source": [
    "score = model.score(X, y) \n",
    "print(\"Score:\", score)"
   ]
  },
  {
   "cell_type": "markdown",
   "metadata": {},
   "source": [
    "### Qb) Using k-Nearest Neighbors\n",
    "\n",
    "Instead of using linear regression, it will now be a k-nearest neighbour algorithm, here with k=3."
   ]
  },
  {
   "cell_type": "code",
   "execution_count": 237,
   "metadata": {},
   "outputs": [
    {
     "data": {
      "text/html": [
       "<div>\n",
       "<style scoped>\n",
       "    .dataframe tbody tr th:only-of-type {\n",
       "        vertical-align: middle;\n",
       "    }\n",
       "\n",
       "    .dataframe tbody tr th {\n",
       "        vertical-align: top;\n",
       "    }\n",
       "\n",
       "    .dataframe thead th {\n",
       "        text-align: right;\n",
       "    }\n",
       "</style>\n",
       "<table border=\"1\" class=\"dataframe\">\n",
       "  <thead>\n",
       "    <tr style=\"text-align: right;\">\n",
       "      <th></th>\n",
       "      <th>GDP per capita</th>\n",
       "      <th>Life satisfaction</th>\n",
       "    </tr>\n",
       "    <tr>\n",
       "      <th>Country</th>\n",
       "      <th></th>\n",
       "      <th></th>\n",
       "    </tr>\n",
       "  </thead>\n",
       "  <tbody>\n",
       "    <tr>\n",
       "      <th>Russia</th>\n",
       "      <td>9054.914</td>\n",
       "      <td>6.0</td>\n",
       "    </tr>\n",
       "    <tr>\n",
       "      <th>Turkey</th>\n",
       "      <td>9437.372</td>\n",
       "      <td>5.6</td>\n",
       "    </tr>\n",
       "    <tr>\n",
       "      <th>Hungary</th>\n",
       "      <td>12239.894</td>\n",
       "      <td>4.9</td>\n",
       "    </tr>\n",
       "    <tr>\n",
       "      <th>Poland</th>\n",
       "      <td>12495.334</td>\n",
       "      <td>5.8</td>\n",
       "    </tr>\n",
       "    <tr>\n",
       "      <th>Slovak Republic</th>\n",
       "      <td>15991.736</td>\n",
       "      <td>6.1</td>\n",
       "    </tr>\n",
       "    <tr>\n",
       "      <th>Estonia</th>\n",
       "      <td>17288.083</td>\n",
       "      <td>5.6</td>\n",
       "    </tr>\n",
       "    <tr>\n",
       "      <th>Greece</th>\n",
       "      <td>18064.288</td>\n",
       "      <td>4.8</td>\n",
       "    </tr>\n",
       "    <tr>\n",
       "      <th>Portugal</th>\n",
       "      <td>19121.592</td>\n",
       "      <td>5.1</td>\n",
       "    </tr>\n",
       "    <tr>\n",
       "      <th>Slovenia</th>\n",
       "      <td>20732.482</td>\n",
       "      <td>5.7</td>\n",
       "    </tr>\n",
       "    <tr>\n",
       "      <th>Spain</th>\n",
       "      <td>25864.721</td>\n",
       "      <td>6.5</td>\n",
       "    </tr>\n",
       "    <tr>\n",
       "      <th>Korea</th>\n",
       "      <td>27195.197</td>\n",
       "      <td>5.8</td>\n",
       "    </tr>\n",
       "    <tr>\n",
       "      <th>Italy</th>\n",
       "      <td>29866.581</td>\n",
       "      <td>6.0</td>\n",
       "    </tr>\n",
       "    <tr>\n",
       "      <th>Japan</th>\n",
       "      <td>32485.545</td>\n",
       "      <td>5.9</td>\n",
       "    </tr>\n",
       "    <tr>\n",
       "      <th>Israel</th>\n",
       "      <td>35343.336</td>\n",
       "      <td>7.4</td>\n",
       "    </tr>\n",
       "    <tr>\n",
       "      <th>New Zealand</th>\n",
       "      <td>37044.891</td>\n",
       "      <td>7.3</td>\n",
       "    </tr>\n",
       "    <tr>\n",
       "      <th>France</th>\n",
       "      <td>37675.006</td>\n",
       "      <td>6.5</td>\n",
       "    </tr>\n",
       "    <tr>\n",
       "      <th>Belgium</th>\n",
       "      <td>40106.632</td>\n",
       "      <td>6.9</td>\n",
       "    </tr>\n",
       "    <tr>\n",
       "      <th>Germany</th>\n",
       "      <td>40996.511</td>\n",
       "      <td>7.0</td>\n",
       "    </tr>\n",
       "    <tr>\n",
       "      <th>Finland</th>\n",
       "      <td>41973.988</td>\n",
       "      <td>7.4</td>\n",
       "    </tr>\n",
       "    <tr>\n",
       "      <th>Canada</th>\n",
       "      <td>43331.961</td>\n",
       "      <td>7.3</td>\n",
       "    </tr>\n",
       "    <tr>\n",
       "      <th>Netherlands</th>\n",
       "      <td>43603.115</td>\n",
       "      <td>7.3</td>\n",
       "    </tr>\n",
       "    <tr>\n",
       "      <th>Austria</th>\n",
       "      <td>43724.031</td>\n",
       "      <td>6.9</td>\n",
       "    </tr>\n",
       "    <tr>\n",
       "      <th>United Kingdom</th>\n",
       "      <td>43770.688</td>\n",
       "      <td>6.8</td>\n",
       "    </tr>\n",
       "    <tr>\n",
       "      <th>Sweden</th>\n",
       "      <td>49866.266</td>\n",
       "      <td>7.2</td>\n",
       "    </tr>\n",
       "    <tr>\n",
       "      <th>Iceland</th>\n",
       "      <td>50854.583</td>\n",
       "      <td>7.5</td>\n",
       "    </tr>\n",
       "    <tr>\n",
       "      <th>Australia</th>\n",
       "      <td>50961.865</td>\n",
       "      <td>7.3</td>\n",
       "    </tr>\n",
       "    <tr>\n",
       "      <th>Ireland</th>\n",
       "      <td>51350.744</td>\n",
       "      <td>7.0</td>\n",
       "    </tr>\n",
       "    <tr>\n",
       "      <th>Denmark</th>\n",
       "      <td>52114.165</td>\n",
       "      <td>7.5</td>\n",
       "    </tr>\n",
       "    <tr>\n",
       "      <th>United States</th>\n",
       "      <td>55805.204</td>\n",
       "      <td>7.2</td>\n",
       "    </tr>\n",
       "  </tbody>\n",
       "</table>\n",
       "</div>"
      ],
      "text/plain": [
       "                 GDP per capita  Life satisfaction\n",
       "Country                                           \n",
       "Russia                 9054.914                6.0\n",
       "Turkey                 9437.372                5.6\n",
       "Hungary               12239.894                4.9\n",
       "Poland                12495.334                5.8\n",
       "Slovak Republic       15991.736                6.1\n",
       "Estonia               17288.083                5.6\n",
       "Greece                18064.288                4.8\n",
       "Portugal              19121.592                5.1\n",
       "Slovenia              20732.482                5.7\n",
       "Spain                 25864.721                6.5\n",
       "Korea                 27195.197                5.8\n",
       "Italy                 29866.581                6.0\n",
       "Japan                 32485.545                5.9\n",
       "Israel                35343.336                7.4\n",
       "New Zealand           37044.891                7.3\n",
       "France                37675.006                6.5\n",
       "Belgium               40106.632                6.9\n",
       "Germany               40996.511                7.0\n",
       "Finland               41973.988                7.4\n",
       "Canada                43331.961                7.3\n",
       "Netherlands           43603.115                7.3\n",
       "Austria               43724.031                6.9\n",
       "United Kingdom        43770.688                6.8\n",
       "Sweden                49866.266                7.2\n",
       "Iceland               50854.583                7.5\n",
       "Australia             50961.865                7.3\n",
       "Ireland               51350.744                7.0\n",
       "Denmark               52114.165                7.5\n",
       "United States         55805.204                7.2"
      ]
     },
     "execution_count": 237,
     "metadata": {},
     "output_type": "execute_result"
    }
   ],
   "source": [
    "sample_data"
   ]
  },
  {
   "cell_type": "code",
   "execution_count": 238,
   "metadata": {},
   "outputs": [
    {
     "data": {
      "text/html": [
       "<div>\n",
       "<style scoped>\n",
       "    .dataframe tbody tr th:only-of-type {\n",
       "        vertical-align: middle;\n",
       "    }\n",
       "\n",
       "    .dataframe tbody tr th {\n",
       "        vertical-align: top;\n",
       "    }\n",
       "\n",
       "    .dataframe thead th {\n",
       "        text-align: right;\n",
       "    }\n",
       "</style>\n",
       "<table border=\"1\" class=\"dataframe\">\n",
       "  <thead>\n",
       "    <tr style=\"text-align: right;\">\n",
       "      <th></th>\n",
       "      <th>GDP per capita</th>\n",
       "      <th>Life satisfaction</th>\n",
       "    </tr>\n",
       "    <tr>\n",
       "      <th>Country</th>\n",
       "      <th></th>\n",
       "      <th></th>\n",
       "    </tr>\n",
       "  </thead>\n",
       "  <tbody>\n",
       "    <tr>\n",
       "      <th>Russia</th>\n",
       "      <td>9054.914</td>\n",
       "      <td>6.0</td>\n",
       "    </tr>\n",
       "    <tr>\n",
       "      <th>Turkey</th>\n",
       "      <td>9437.372</td>\n",
       "      <td>5.6</td>\n",
       "    </tr>\n",
       "    <tr>\n",
       "      <th>Hungary</th>\n",
       "      <td>12239.894</td>\n",
       "      <td>4.9</td>\n",
       "    </tr>\n",
       "    <tr>\n",
       "      <th>Poland</th>\n",
       "      <td>12495.334</td>\n",
       "      <td>5.8</td>\n",
       "    </tr>\n",
       "    <tr>\n",
       "      <th>Slovak Republic</th>\n",
       "      <td>15991.736</td>\n",
       "      <td>6.1</td>\n",
       "    </tr>\n",
       "    <tr>\n",
       "      <th>Estonia</th>\n",
       "      <td>17288.083</td>\n",
       "      <td>5.6</td>\n",
       "    </tr>\n",
       "    <tr>\n",
       "      <th>Greece</th>\n",
       "      <td>18064.288</td>\n",
       "      <td>4.8</td>\n",
       "    </tr>\n",
       "    <tr>\n",
       "      <th>Portugal</th>\n",
       "      <td>19121.592</td>\n",
       "      <td>5.1</td>\n",
       "    </tr>\n",
       "    <tr>\n",
       "      <th>Slovenia</th>\n",
       "      <td>20732.482</td>\n",
       "      <td>5.7</td>\n",
       "    </tr>\n",
       "    <tr>\n",
       "      <th>Spain</th>\n",
       "      <td>25864.721</td>\n",
       "      <td>6.5</td>\n",
       "    </tr>\n",
       "    <tr>\n",
       "      <th>Korea</th>\n",
       "      <td>27195.197</td>\n",
       "      <td>5.8</td>\n",
       "    </tr>\n",
       "    <tr>\n",
       "      <th>Italy</th>\n",
       "      <td>29866.581</td>\n",
       "      <td>6.0</td>\n",
       "    </tr>\n",
       "    <tr>\n",
       "      <th>Japan</th>\n",
       "      <td>32485.545</td>\n",
       "      <td>5.9</td>\n",
       "    </tr>\n",
       "    <tr>\n",
       "      <th>Israel</th>\n",
       "      <td>35343.336</td>\n",
       "      <td>7.4</td>\n",
       "    </tr>\n",
       "    <tr>\n",
       "      <th>New Zealand</th>\n",
       "      <td>37044.891</td>\n",
       "      <td>7.3</td>\n",
       "    </tr>\n",
       "    <tr>\n",
       "      <th>France</th>\n",
       "      <td>37675.006</td>\n",
       "      <td>6.5</td>\n",
       "    </tr>\n",
       "    <tr>\n",
       "      <th>Belgium</th>\n",
       "      <td>40106.632</td>\n",
       "      <td>6.9</td>\n",
       "    </tr>\n",
       "    <tr>\n",
       "      <th>Germany</th>\n",
       "      <td>40996.511</td>\n",
       "      <td>7.0</td>\n",
       "    </tr>\n",
       "    <tr>\n",
       "      <th>Finland</th>\n",
       "      <td>41973.988</td>\n",
       "      <td>7.4</td>\n",
       "    </tr>\n",
       "    <tr>\n",
       "      <th>Canada</th>\n",
       "      <td>43331.961</td>\n",
       "      <td>7.3</td>\n",
       "    </tr>\n",
       "    <tr>\n",
       "      <th>Netherlands</th>\n",
       "      <td>43603.115</td>\n",
       "      <td>7.3</td>\n",
       "    </tr>\n",
       "    <tr>\n",
       "      <th>Austria</th>\n",
       "      <td>43724.031</td>\n",
       "      <td>6.9</td>\n",
       "    </tr>\n",
       "    <tr>\n",
       "      <th>United Kingdom</th>\n",
       "      <td>43770.688</td>\n",
       "      <td>6.8</td>\n",
       "    </tr>\n",
       "    <tr>\n",
       "      <th>Sweden</th>\n",
       "      <td>49866.266</td>\n",
       "      <td>7.2</td>\n",
       "    </tr>\n",
       "    <tr>\n",
       "      <th>Iceland</th>\n",
       "      <td>50854.583</td>\n",
       "      <td>7.5</td>\n",
       "    </tr>\n",
       "    <tr>\n",
       "      <th>Australia</th>\n",
       "      <td>50961.865</td>\n",
       "      <td>7.3</td>\n",
       "    </tr>\n",
       "    <tr>\n",
       "      <th>Ireland</th>\n",
       "      <td>51350.744</td>\n",
       "      <td>7.0</td>\n",
       "    </tr>\n",
       "    <tr>\n",
       "      <th>Denmark</th>\n",
       "      <td>52114.165</td>\n",
       "      <td>7.5</td>\n",
       "    </tr>\n",
       "    <tr>\n",
       "      <th>United States</th>\n",
       "      <td>55805.204</td>\n",
       "      <td>7.2</td>\n",
       "    </tr>\n",
       "  </tbody>\n",
       "</table>\n",
       "</div>"
      ],
      "text/plain": [
       "                 GDP per capita  Life satisfaction\n",
       "Country                                           \n",
       "Russia                 9054.914                6.0\n",
       "Turkey                 9437.372                5.6\n",
       "Hungary               12239.894                4.9\n",
       "Poland                12495.334                5.8\n",
       "Slovak Republic       15991.736                6.1\n",
       "Estonia               17288.083                5.6\n",
       "Greece                18064.288                4.8\n",
       "Portugal              19121.592                5.1\n",
       "Slovenia              20732.482                5.7\n",
       "Spain                 25864.721                6.5\n",
       "Korea                 27195.197                5.8\n",
       "Italy                 29866.581                6.0\n",
       "Japan                 32485.545                5.9\n",
       "Israel                35343.336                7.4\n",
       "New Zealand           37044.891                7.3\n",
       "France                37675.006                6.5\n",
       "Belgium               40106.632                6.9\n",
       "Germany               40996.511                7.0\n",
       "Finland               41973.988                7.4\n",
       "Canada                43331.961                7.3\n",
       "Netherlands           43603.115                7.3\n",
       "Austria               43724.031                6.9\n",
       "United Kingdom        43770.688                6.8\n",
       "Sweden                49866.266                7.2\n",
       "Iceland               50854.583                7.5\n",
       "Australia             50961.865                7.3\n",
       "Ireland               51350.744                7.0\n",
       "Denmark               52114.165                7.5\n",
       "United States         55805.204                7.2"
      ]
     },
     "execution_count": 238,
     "metadata": {},
     "output_type": "execute_result"
    }
   ],
   "source": [
    "# Preprocessed data\n",
    "country_stats"
   ]
  },
  {
   "cell_type": "code",
   "execution_count": 239,
   "metadata": {},
   "outputs": [
    {
     "name": "stdout",
     "output_type": "stream",
     "text": [
      "X.shape= (29, 1)\n",
      "y.shape= (29, 1)\n"
     ]
    },
    {
     "data": {
      "image/png": "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",
      "text/plain": [
       "<Figure size 640x480 with 1 Axes>"
      ]
     },
     "metadata": {},
     "output_type": "display_data"
    },
    {
     "name": "stdout",
     "output_type": "stream",
     "text": [
      "KNN prediction:  [[5.76666667]]\n",
      "Linear regression prediction:  [[5.96242338]]\n",
      "KKN score:  0.8525732853499179\n",
      "Linear score:  0.7344414355437031\n"
     ]
    }
   ],
   "source": [
    "from sklearn.neighbors import KNeighborsRegressor\n",
    "\n",
    "# Prepare the data\n",
    "X = np.c_[country_stats[\"GDP per capita\"]]\n",
    "y = np.c_[country_stats[\"Life satisfaction\"]]\n",
    "\n",
    "print(\"X.shape=\",X.shape)\n",
    "print(\"y.shape=\",y.shape)\n",
    "\n",
    "# Visualize the data\n",
    "country_stats.plot(kind='scatter', x=\"GDP per capita\", y='Life satisfaction')\n",
    "plt.grid(True)\n",
    "plt.show()\n",
    "\n",
    "# Select and train a model\n",
    "knn = KNeighborsRegressor(n_neighbors=3)\n",
    "\n",
    "# Train the new model\n",
    "knn.fit(X, y) \n",
    "\n",
    "\n",
    "# Predictions for Cyprus \n",
    "print(\"KNN prediction: \", knn.predict(X_new))  \n",
    "print(\"Linear regression prediction: \", lin1.predict(X_new))  \n",
    "\n",
    "# Evaluating the models \n",
    "print(\"KKN score: \", knn.score(X, y))\n",
    "print(\"Linear score: \", lin1.score(X, y))\n",
    "\n"
   ]
  },
  {
   "cell_type": "markdown",
   "metadata": {},
   "source": [
    "\n",
    "\n",
    "As seen in the calculations above, the KNN prediction for Cyprus is 5.77, which is a bit less than the linear prediction of 5.96. \n",
    "\n",
    "KNN uses the score method of the coefficient of determination (R^2), as does the linear regression model. This means they are able to be compared, since they use the same scoring methods. \n",
    "\n",
    "\n",
    "The model used here is the \"Regression based on k-nearest neighbors\" (URL: https://scikit-learn.org/stable/modules/generated/sklearn.neighbors.KNeighborsRegressor.html)\n",
    "\n",
    "\n",
    "\n",
    "\n",
    "\n",
    "\n"
   ]
  },
  {
   "cell_type": "markdown",
   "metadata": {},
   "source": [
    "### Qc) Tuning Parameter for k-Nearest Neighbors and A Sanity Check\n",
    "\n",
    "\n",
    "\n",
    "\n",
    "But that not the full story. Try plotting the prediction for both models in the same graph and tune the `k_neighbor` parameter of the `KNeighborsRegressor` model.  \n",
    "\n",
    "Choosing `k_neighbor=1` produces a nice `score=1`, that seems optimal...but is it really so good?\n",
    "- No, when score=1 it means that the model fits perfectly. Though this is true in some sense, it gives an obscured view. When k_neighbor=1 the model only considers a single nearest neighboor. Then the model doesn't consider the outliers in the data, and then we get a fragile model.  \n",
    "\n",
    "Plotting the two models in a 'Life Satisfaction-vs-GDP capita' 2D plot by creating an array in the range 0 to 60000 (USD) (the `M` matrix below) and then predict the corresponding y value will sheed some light to this. \n",
    "\n",
    "Now reusing the plots stubs below, try to explain why the k-nearest neighbour with `k_neighbor=1` has such a good score.\n",
    "- When there's only one neighbor, it will go directly from point to point. This will give the illusion that the model fits perfectly because it only has to consider 1 neighbor. On the other hand, when the model has to consider 3 neighbors, it tries to go to all of them, which is not possible. Then it makes a mean of the data. \n",
    "\n",
    "Does a score=1 with `k_neighbor=1`also mean that this would be the prefered estimator for the job?\n",
    "- No, when the score is 1, it suggests that there's something wrong with the model or the way that the model is used. In this scenario, when the neighbor=1, the score is 1. This suggests that the model doesn't work as intended. There could be a lot of reasons why this is the case, but in this instance, it's because the neighbor=1.\n",
    "\n",
    "Hint here is a similar plot of a KNN for a small set of different k's:\n",
    "\n",
    "<img src=\"https://itundervisning.ase.au.dk/SWMAL/L01/Figs/regression_with_knn.png\"  alt=\"WARNING: could not get image from server.\" style=\"height:150px\">"
   ]
  },
  {
   "cell_type": "code",
   "execution_count": 240,
   "metadata": {},
   "outputs": [
    {
     "name": "stdout",
     "output_type": "stream",
     "text": [
      "1.0\n"
     ]
    },
    {
     "data": {
      "image/png": "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",
      "text/plain": [
       "<Figure size 500x300 with 1 Axes>"
      ]
     },
     "metadata": {},
     "output_type": "display_data"
    }
   ],
   "source": [
    "sample_data.plot(kind='scatter', x=\"GDP per capita\", y='Life satisfaction', figsize=(5,3))\n",
    "plt.axis([0, 60000, 0, 10])\n",
    "\n",
    "# create an test matrix M, with the same dimensionality as X, and in the range [0;60000] \n",
    "# and a step size of your choice\n",
    "m=np.linspace(0, 60000, 1000)\n",
    "M=np.empty([m.shape[0],1])\n",
    "M[:,0]=m\n",
    "\n",
    "# from this test M data, predict the y values via the lin.reg. and k-nearest models\n",
    "y_pred_lin = lin1.predict(M)\n",
    "y_pred_knn = knn.predict(M)   # ASSUMING the variable name 'knn' of your KNeighborsRegressor \n",
    "\n",
    "# use plt.plot to plot x-y into the sample_data plot..\n",
    "plt.plot(m, y_pred_lin, \"r\")\n",
    "plt.plot(m, y_pred_knn, \"b\")\n",
    " \n",
    "# Select and train a model with neighbor 1\n",
    "knn1 = KNeighborsRegressor(n_neighbors=1)\n",
    "knn1.fit(X, y) \n",
    "y_pred_knn1 = knn1.predict(M)    \n",
    "plt.plot(m, y_pred_knn1, \"g\")\n",
    "print(knn1.score(X, y))"
   ]
  },
  {
   "cell_type": "markdown",
   "metadata": {},
   "source": [
    "### Qd) Trying out a Neural Network\n",
    "\n",
    "Now we will use a neural network on the data, here we will use scikit-learns MLPRegressor. Afterwards the score of this model will be extracted."
   ]
  },
  {
   "cell_type": "code",
   "execution_count": 241,
   "metadata": {},
   "outputs": [
    {
     "name": "stdout",
     "output_type": "stream",
     "text": [
      "Iteration 1, loss = 290434295.23044360\n",
      "Iteration 2, loss = 286926974.91845930\n",
      "Iteration 3, loss = 283445091.80120468\n",
      "Iteration 4, loss = 279989007.88284469\n",
      "Iteration 5, loss = 276559070.05886549\n",
      "Iteration 6, loss = 273155609.32856679\n",
      "Iteration 7, loss = 269778940.07033998\n",
      "Iteration 8, loss = 266429359.38609853\n",
      "Iteration 9, loss = 263107146.52031821\n",
      "Iteration 10, loss = 259812562.35816029\n",
      "Iteration 11, loss = 256545849.00610602\n",
      "Iteration 12, loss = 253307229.45747611\n",
      "Iteration 13, loss = 250096907.34413815\n",
      "Iteration 14, loss = 246915066.77466324\n",
      "Iteration 15, loss = 243761872.25819016\n",
      "Iteration 16, loss = 240637468.71230754\n",
      "Iteration 17, loss = 237541981.55239332\n",
      "Iteration 18, loss = 234475516.85906243\n",
      "Iteration 19, loss = 231438161.61967906\n",
      "Iteration 20, loss = 228429984.03930050\n",
      "Iteration 21, loss = 225451033.91592681\n",
      "Iteration 22, loss = 222501343.07455081\n",
      "Iteration 23, loss = 219580925.85422322\n",
      "Iteration 24, loss = 216689779.64216983\n",
      "Iteration 25, loss = 213827885.44891000\n",
      "Iteration 26, loss = 210995208.51833686\n",
      "Iteration 27, loss = 208191698.96679541\n",
      "Iteration 28, loss = 205417292.44535619\n",
      "Iteration 29, loss = 202671910.81969425\n",
      "Iteration 30, loss = 199955462.86225185\n",
      "Iteration 31, loss = 197267844.95167446\n",
      "Iteration 32, loss = 194608941.77484995\n",
      "Iteration 33, loss = 191978627.02724859\n",
      "Iteration 34, loss = 189376764.10764292\n",
      "Iteration 35, loss = 186803206.80367702\n",
      "Iteration 36, loss = 184257799.96514288\n",
      "Iteration 37, loss = 181740380.16221160\n",
      "Iteration 38, loss = 179250776.32624131\n",
      "Iteration 39, loss = 176788810.37114519\n",
      "Iteration 40, loss = 174354297.79365045\n",
      "Iteration 41, loss = 171947048.25110015\n",
      "Iteration 42, loss = 169566866.11575758\n",
      "Iteration 43, loss = 167213551.00484595\n",
      "Iteration 44, loss = 164886898.28581721\n",
      "Iteration 45, loss = 162586699.55657041\n",
      "Iteration 46, loss = 160312743.10055020\n",
      "Iteration 47, loss = 158064814.31683558\n",
      "Iteration 48, loss = 155842696.12549382\n",
      "Iteration 49, loss = 153646169.34860966\n",
      "Iteration 50, loss = 151475013.06751981\n",
      "Iteration 51, loss = 149329004.95688277\n",
      "Iteration 52, loss = 147207921.59629363\n",
      "Iteration 53, loss = 145111538.76022065\n",
      "Iteration 54, loss = 143039631.68709087\n",
      "Iteration 55, loss = 140991975.32838824\n",
      "Iteration 56, loss = 138968344.57865524\n",
      "Iteration 57, loss = 136968514.48730263\n",
      "Iteration 58, loss = 134992260.45313826\n",
      "Iteration 59, loss = 133039358.40252548\n",
      "Iteration 60, loss = 131109584.95206928\n",
      "Iteration 61, loss = 129202717.55671819\n",
      "Iteration 62, loss = 127318534.64414711\n",
      "Iteration 63, loss = 125456815.73626374\n",
      "Iteration 64, loss = 123617341.55865660\n",
      "Iteration 65, loss = 121799894.13876976\n",
      "Iteration 66, loss = 120004256.89356244\n",
      "Iteration 67, loss = 118230214.70737669\n",
      "Iteration 68, loss = 116477554.00070480\n",
      "Iteration 69, loss = 114746062.79051290\n",
      "Iteration 70, loss = 113035530.74274606\n",
      "Iteration 71, loss = 111345749.21760385\n",
      "Iteration 72, loss = 109676511.30814496\n",
      "Iteration 73, loss = 108027611.87274542\n",
      "Iteration 74, loss = 106398847.56190486\n",
      "Iteration 75, loss = 104790016.83986317\n",
      "Iteration 76, loss = 103200920.00146291\n",
      "Iteration 77, loss = 101631359.18466166\n",
      "Iteration 78, loss = 100081138.37907493\n",
      "Iteration 79, loss = 98550063.43090008\n",
      "Iteration 80, loss = 97037942.04455309\n",
      "Iteration 81, loss = 95544583.78132014\n",
      "Iteration 82, loss = 94069800.05530959\n",
      "Iteration 83, loss = 92613404.12696616\n",
      "Iteration 84, loss = 91175211.09439014\n",
      "Iteration 85, loss = 89755037.88268732\n",
      "Iteration 86, loss = 88352703.23155566\n",
      "Iteration 87, loss = 86968027.68130204\n",
      "Iteration 88, loss = 85600833.55746408\n",
      "Iteration 89, loss = 84250944.95419993\n",
      "Iteration 90, loss = 82918187.71659584\n",
      "Iteration 91, loss = 81602389.42202777\n",
      "Iteration 92, loss = 80303379.36070359\n",
      "Iteration 93, loss = 79020988.51550117\n",
      "Iteration 94, loss = 77755049.54120794\n",
      "Iteration 95, loss = 76505396.74325842\n",
      "Iteration 96, loss = 75271866.05605870\n",
      "Iteration 97, loss = 74054295.02097797\n",
      "Iteration 98, loss = 72852522.76408070\n",
      "Iteration 99, loss = 71666389.97366714\n",
      "Iteration 100, loss = 70495738.87768234\n",
      "Iteration 101, loss = 69340413.22104985\n",
      "Iteration 102, loss = 68200258.24297996\n",
      "Iteration 103, loss = 67075120.65429863\n",
      "Iteration 104, loss = 65964848.61483803\n",
      "Iteration 105, loss = 64869291.71092643\n",
      "Iteration 106, loss = 63788300.93301106\n",
      "Iteration 107, loss = 62721728.65344451\n",
      "Iteration 108, loss = 61669428.60446204\n",
      "Iteration 109, loss = 60631255.85637417\n",
      "Iteration 110, loss = 59607066.79599745\n",
      "Iteration 111, loss = 58596719.10534196\n",
      "Iteration 112, loss = 57600071.74057401\n",
      "Iteration 113, loss = 56616984.91126954\n",
      "Iteration 114, loss = 55647320.05997168\n",
      "Iteration 115, loss = 54690939.84206531\n",
      "Iteration 116, loss = 53747708.10597887\n",
      "Iteration 117, loss = 52817489.87372303\n",
      "Iteration 118, loss = 51900151.32177443\n",
      "Iteration 119, loss = 50995559.76231126\n",
      "Iteration 120, loss = 50103583.62480697\n",
      "Iteration 121, loss = 49224092.43798707\n",
      "Iteration 122, loss = 48356956.81215288\n",
      "Iteration 123, loss = 47502048.42187629\n",
      "Iteration 124, loss = 46659239.98906756\n",
      "Iteration 125, loss = 45828405.26641855\n",
      "Iteration 126, loss = 45009419.02122276\n",
      "Iteration 127, loss = 44202157.01957307\n",
      "Iteration 128, loss = 43406496.01093756\n",
      "Iteration 129, loss = 42622313.71311320\n",
      "Iteration 130, loss = 41849488.79755717\n",
      "Iteration 131, loss = 41087900.87509485\n",
      "Iteration 132, loss = 40337430.48200314\n",
      "Iteration 133, loss = 39597959.06646779\n",
      "Iteration 134, loss = 38869368.97541259\n",
      "Iteration 135, loss = 38151543.44169848\n",
      "Iteration 136, loss = 37444366.57169053\n",
      "Iteration 137, loss = 36747723.33318929\n",
      "Iteration 138, loss = 36061499.54372469\n",
      "Iteration 139, loss = 35385581.85920878\n",
      "Iteration 140, loss = 34719857.76294434\n",
      "Iteration 141, loss = 34064215.55498595\n",
      "Iteration 142, loss = 33418544.34184999\n",
      "Iteration 143, loss = 32782734.02656958\n",
      "Iteration 144, loss = 32156675.29909116\n",
      "Iteration 145, loss = 31540259.62700796\n",
      "Iteration 146, loss = 30933379.24662697\n",
      "Iteration 147, loss = 30335927.15436451\n",
      "Iteration 148, loss = 29747797.09846660\n",
      "Iteration 149, loss = 29168883.57104910\n",
      "Iteration 150, loss = 28599081.80045349\n",
      "Iteration 151, loss = 28038287.74391323\n",
      "Iteration 152, loss = 27486398.08052623\n",
      "Iteration 153, loss = 26943310.20452822\n",
      "Iteration 154, loss = 26408922.21886230\n",
      "Iteration 155, loss = 25883132.92903953\n",
      "Iteration 156, loss = 25365841.83728523\n",
      "Iteration 157, loss = 24856949.13696606\n",
      "Iteration 158, loss = 24356355.70729241\n",
      "Iteration 159, loss = 23863963.10829058\n",
      "Iteration 160, loss = 23379673.57603967\n",
      "Iteration 161, loss = 22903390.01816720\n",
      "Iteration 162, loss = 22435016.00959824\n",
      "Iteration 163, loss = 21974455.78855223\n",
      "Iteration 164, loss = 21521614.25278156\n",
      "Iteration 165, loss = 21076396.95604661\n",
      "Iteration 166, loss = 20638710.10482106\n",
      "Iteration 167, loss = 20208460.55522152\n",
      "Iteration 168, loss = 19785555.81015583\n",
      "Iteration 169, loss = 19369904.01668377\n",
      "Iteration 170, loss = 18961413.96358429\n",
      "Iteration 171, loss = 18559995.07912303\n",
      "Iteration 172, loss = 18165557.42901421\n",
      "Iteration 173, loss = 17778011.71457046\n",
      "Iteration 174, loss = 17397269.27103463\n",
      "Iteration 175, loss = 17023242.06608719\n",
      "Iteration 176, loss = 16655842.69852301\n",
      "Iteration 177, loss = 16294984.39709119\n",
      "Iteration 178, loss = 15940581.01949180\n",
      "Iteration 179, loss = 15592547.05152283\n",
      "Iteration 180, loss = 15250797.60637148\n",
      "Iteration 181, loss = 14915248.42404303\n",
      "Iteration 182, loss = 14585815.87092119\n",
      "Iteration 183, loss = 14262416.93945337\n",
      "Iteration 184, loss = 13944969.24795465\n",
      "Iteration 185, loss = 13633391.04052399\n",
      "Iteration 186, loss = 13327601.18706645\n",
      "Iteration 187, loss = 13027519.18341484\n",
      "Iteration 188, loss = 12733065.15154476\n",
      "Iteration 189, loss = 12444159.83987650\n",
      "Iteration 190, loss = 12160724.62365762\n",
      "Iteration 191, loss = 11882681.50541995\n",
      "Iteration 192, loss = 11609953.11550478\n",
      "Iteration 193, loss = 11342462.71265005\n",
      "Iteration 194, loss = 11080134.18463337\n",
      "Iteration 195, loss = 10822892.04896490\n",
      "Iteration 196, loss = 10570661.45362386\n",
      "Iteration 197, loss = 10323368.17783287\n",
      "Iteration 198, loss = 10080938.63286410\n",
      "Iteration 199, loss = 9843299.86287133\n",
      "Iteration 200, loss = 9610379.54574223\n",
      "Iteration 201, loss = 9382105.99396509\n",
      "Iteration 202, loss = 9158408.15550429\n",
      "Iteration 203, loss = 8939215.61467916\n",
      "Iteration 204, loss = 8724458.59304044\n",
      "Iteration 205, loss = 8514067.95023934\n",
      "Iteration 206, loss = 8307975.18488352\n",
      "Iteration 207, loss = 8106112.43537511\n",
      "Iteration 208, loss = 7908412.48072557\n",
      "Iteration 209, loss = 7714808.74134230\n",
      "Iteration 210, loss = 7525235.27978237\n",
      "Iteration 211, loss = 7339626.80146846\n",
      "Iteration 212, loss = 7157918.65536230\n",
      "Iteration 213, loss = 6980046.83459133\n",
      "Iteration 214, loss = 6805947.97702397\n",
      "Iteration 215, loss = 6635559.36578939\n",
      "Iteration 216, loss = 6468818.92973753\n",
      "Iteration 217, loss = 6305665.24383542\n",
      "Iteration 218, loss = 6146037.52949602\n",
      "Iteration 219, loss = 5989875.65483572\n",
      "Iteration 220, loss = 5837120.13485700\n",
      "Iteration 221, loss = 5687712.13155279\n",
      "Iteration 222, loss = 5541593.45392930\n",
      "Iteration 223, loss = 5398706.55794408\n",
      "Iteration 224, loss = 5258994.54635637\n",
      "Iteration 225, loss = 5122401.16848696\n",
      "Iteration 226, loss = 4988870.81988471\n",
      "Iteration 227, loss = 4858348.54189740\n",
      "Iteration 228, loss = 4730780.02114440\n",
      "Iteration 229, loss = 4606111.58888890\n",
      "Iteration 230, loss = 4484290.22030786\n",
      "Iteration 231, loss = 4365263.53365746\n",
      "Iteration 232, loss = 4248979.78933253\n",
      "Iteration 233, loss = 4135387.88881833\n",
      "Iteration 234, loss = 4024437.37353312\n",
      "Iteration 235, loss = 3916078.42356042\n",
      "Iteration 236, loss = 3810261.85626962\n",
      "Iteration 237, loss = 3706939.12482427\n",
      "Iteration 238, loss = 3606062.31657690\n",
      "Iteration 239, loss = 3507584.15134995\n",
      "Iteration 240, loss = 3411457.97960219\n",
      "Iteration 241, loss = 3317637.78048037\n",
      "Iteration 242, loss = 3226078.15975571\n",
      "Iteration 243, loss = 3136734.34764542\n",
      "Iteration 244, loss = 3049562.19651905\n",
      "Iteration 245, loss = 2964518.17849018\n",
      "Iteration 246, loss = 2881559.38289353\n",
      "Iteration 247, loss = 2800643.51364831\n",
      "Iteration 248, loss = 2721728.88650806\n",
      "Iteration 249, loss = 2644774.42619820\n",
      "Iteration 250, loss = 2569739.66344175\n",
      "Iteration 251, loss = 2496584.73187455\n",
      "Iteration 252, loss = 2425270.36485105\n",
      "Iteration 253, loss = 2355757.89214180\n",
      "Iteration 254, loss = 2288009.23652427\n",
      "Iteration 255, loss = 2221986.91026821\n",
      "Iteration 256, loss = 2157654.01151748\n",
      "Iteration 257, loss = 2094974.22056970\n",
      "Iteration 258, loss = 2033911.79605584\n",
      "Iteration 259, loss = 1974431.57102147\n",
      "Iteration 260, loss = 1916498.94891168\n",
      "Iteration 261, loss = 1860079.89946193\n",
      "Iteration 262, loss = 1805140.95449668\n",
      "Iteration 263, loss = 1751649.20363845\n",
      "Iteration 264, loss = 1699572.28992923\n",
      "Iteration 265, loss = 1648878.40536701\n",
      "Iteration 266, loss = 1599536.28635959\n",
      "Iteration 267, loss = 1551515.20909837\n",
      "Iteration 268, loss = 1504784.98485476\n",
      "Iteration 269, loss = 1459315.95520161\n",
      "Iteration 270, loss = 1415078.98716261\n",
      "Iteration 271, loss = 1372045.46829229\n",
      "Iteration 272, loss = 1330187.30168933\n",
      "Iteration 273, loss = 1289476.90094614\n",
      "Iteration 274, loss = 1249887.18503743\n",
      "Iteration 275, loss = 1211391.57315076\n",
      "Iteration 276, loss = 1173963.97946186\n",
      "Iteration 277, loss = 1137578.80785774\n",
      "Iteration 278, loss = 1102210.94661042\n",
      "Iteration 279, loss = 1067835.76300441\n",
      "Iteration 280, loss = 1034429.09792062\n",
      "Iteration 281, loss = 1001967.26037998\n",
      "Iteration 282, loss = 970427.02204948\n",
      "Iteration 283, loss = 939785.61171373\n",
      "Iteration 284, loss = 910020.70971492\n",
      "Iteration 285, loss = 881110.44236420\n",
      "Iteration 286, loss = 853033.37632730\n",
      "Iteration 287, loss = 825768.51298742\n",
      "Iteration 288, loss = 799295.28278823\n",
      "Iteration 289, loss = 773593.53955979\n",
      "Iteration 290, loss = 748643.55483030\n",
      "Iteration 291, loss = 724426.01212659\n",
      "Iteration 292, loss = 700922.00126583\n",
      "Iteration 293, loss = 678113.01264161\n",
      "Iteration 294, loss = 655980.93150670\n",
      "Iteration 295, loss = 634508.03225548\n",
      "Iteration 296, loss = 613676.97270847\n",
      "Iteration 297, loss = 593470.78840164\n",
      "Iteration 298, loss = 573872.88688300\n",
      "Iteration 299, loss = 554867.04201892\n",
      "Iteration 300, loss = 536437.38831278\n",
      "Iteration 301, loss = 518568.41523807\n",
      "Iteration 302, loss = 501244.96158855\n",
      "Iteration 303, loss = 484452.20984756\n",
      "Iteration 304, loss = 468175.68057883\n",
      "Iteration 305, loss = 452401.22684076\n",
      "Iteration 306, loss = 437115.02862661\n",
      "Iteration 307, loss = 422303.58733226\n",
      "Iteration 308, loss = 407953.72025383\n",
      "Iteration 309, loss = 394052.55511696\n",
      "Iteration 310, loss = 380587.52463956\n",
      "Iteration 311, loss = 367546.36112998\n",
      "Iteration 312, loss = 354917.09112219\n",
      "Iteration 313, loss = 342688.03004979\n",
      "Iteration 314, loss = 330847.77696028\n",
      "Iteration 315, loss = 319385.20927133\n",
      "Iteration 316, loss = 308289.47757040\n",
      "Iteration 317, loss = 297550.00045922\n",
      "Iteration 318, loss = 287156.45944437\n",
      "Iteration 319, loss = 277098.79387543\n",
      "Iteration 320, loss = 267367.19593172\n",
      "Iteration 321, loss = 257952.10565899\n",
      "Iteration 322, loss = 248844.20605701\n",
      "Iteration 323, loss = 240034.41821925\n",
      "Iteration 324, loss = 231513.89652550\n",
      "Iteration 325, loss = 223274.02388839\n",
      "Iteration 326, loss = 215306.40705476\n",
      "Iteration 327, loss = 207602.87196253\n",
      "Iteration 328, loss = 200155.45915390\n",
      "Iteration 329, loss = 192956.41924562\n",
      "Iteration 330, loss = 185998.20845683\n",
      "Iteration 331, loss = 179273.48419510\n",
      "Iteration 332, loss = 172775.10070123\n",
      "Iteration 333, loss = 166496.10475323\n",
      "Iteration 334, loss = 160429.73142987\n",
      "Iteration 335, loss = 154569.39993423\n",
      "Iteration 336, loss = 148908.70947748\n",
      "Iteration 337, loss = 143441.43522318\n",
      "Iteration 338, loss = 138161.52429237\n",
      "Iteration 339, loss = 133063.09182953\n",
      "Iteration 340, loss = 128140.41712955\n",
      "Iteration 341, loss = 123387.93982578\n",
      "Iteration 342, loss = 118800.25613933\n",
      "Iteration 343, loss = 114372.11518928\n",
      "Iteration 344, loss = 110098.41536419\n",
      "Iteration 345, loss = 105974.20075439\n",
      "Iteration 346, loss = 101994.65764525\n",
      "Iteration 347, loss = 98155.11107106\n",
      "Iteration 348, loss = 94451.02142945\n",
      "Iteration 349, loss = 90877.98115603\n",
      "Iteration 350, loss = 87431.71145899\n",
      "Iteration 351, loss = 84108.05911347\n",
      "Iteration 352, loss = 80902.99331520\n",
      "Iteration 353, loss = 77812.60259315\n",
      "Iteration 354, loss = 74833.09178088\n",
      "Iteration 355, loss = 71960.77904597\n",
      "Iteration 356, loss = 69192.09297731\n",
      "Iteration 357, loss = 66523.56972967\n",
      "Iteration 358, loss = 63951.85022503\n",
      "Iteration 359, loss = 61473.67741035\n",
      "Iteration 360, loss = 59085.89357102\n",
      "Iteration 361, loss = 56785.43769963\n",
      "Iteration 362, loss = 54569.34291936\n",
      "Iteration 363, loss = 52434.73396153\n",
      "Iteration 364, loss = 50378.82469664\n",
      "Iteration 365, loss = 48398.91571830\n",
      "Iteration 366, loss = 46492.39197945\n",
      "Iteration 367, loss = 44656.72048021\n",
      "Iteration 368, loss = 42889.44800671\n",
      "Iteration 369, loss = 41188.19892029\n",
      "Iteration 370, loss = 39550.67299630\n",
      "Iteration 371, loss = 37974.64331193\n",
      "Iteration 372, loss = 36457.95418232\n",
      "Iteration 373, loss = 34998.51914431\n",
      "Iteration 374, loss = 33594.31898701\n",
      "Iteration 375, loss = 32243.39982866\n",
      "Iteration 376, loss = 30943.87123895\n",
      "Iteration 377, loss = 29693.90440610\n",
      "Iteration 378, loss = 28491.73034802\n",
      "Iteration 379, loss = 27335.63816680\n",
      "Iteration 380, loss = 26223.97334588\n",
      "Iteration 381, loss = 25155.13608900\n",
      "Iteration 382, loss = 24127.57970048\n",
      "Iteration 383, loss = 23139.80900582\n",
      "Iteration 384, loss = 22190.37881216\n",
      "Iteration 385, loss = 21277.89240764\n",
      "Iteration 386, loss = 20401.00009918\n",
      "Iteration 387, loss = 19558.39778774\n",
      "Iteration 388, loss = 18748.82558053\n",
      "Iteration 389, loss = 17971.06643932\n",
      "Iteration 390, loss = 17223.94486430\n",
      "Iteration 391, loss = 16506.32561261\n",
      "Iteration 392, loss = 15817.11245098\n",
      "Iteration 393, loss = 15155.24694175\n",
      "Iteration 394, loss = 14519.70726153\n",
      "Iteration 395, loss = 13909.50705197\n",
      "Iteration 396, loss = 13323.69430174\n",
      "Iteration 397, loss = 12761.35025929\n",
      "Iteration 398, loss = 12221.58837552\n",
      "Iteration 399, loss = 11703.55327593\n",
      "Iteration 400, loss = 11206.41976136\n",
      "Iteration 401, loss = 10729.39183687\n",
      "Iteration 402, loss = 10271.70176803\n",
      "Iteration 403, loss = 9832.60916408\n",
      "Iteration 404, loss = 9411.40008723\n",
      "Iteration 405, loss = 9007.38618759\n",
      "Iteration 406, loss = 8619.90386311\n",
      "Iteration 407, loss = 8248.31344388\n",
      "Iteration 408, loss = 7891.99840035\n",
      "Iteration 409, loss = 7550.36457467\n",
      "Iteration 410, loss = 7222.83943487\n",
      "Iteration 411, loss = 6908.87135107\n",
      "Iteration 412, loss = 6607.92889331\n",
      "Iteration 413, loss = 6319.50015045\n",
      "Iteration 414, loss = 6043.09206958\n",
      "Iteration 415, loss = 5778.22981545\n",
      "Iteration 416, loss = 5524.45614935\n",
      "Iteration 417, loss = 5281.33082707\n",
      "Iteration 418, loss = 5048.43001528\n",
      "Iteration 419, loss = 4825.34572598\n",
      "Iteration 420, loss = 4611.68526848\n",
      "Iteration 421, loss = 4407.07071845\n",
      "Iteration 422, loss = 4211.13840366\n",
      "Iteration 423, loss = 4023.53840580\n",
      "Iteration 424, loss = 3843.93407814\n",
      "Iteration 425, loss = 3672.00157846\n",
      "Iteration 426, loss = 3507.42941685\n",
      "Iteration 427, loss = 3349.91801806\n",
      "Iteration 428, loss = 3199.17929789\n",
      "Iteration 429, loss = 3054.93625323\n",
      "Iteration 430, loss = 2916.92256554\n",
      "Iteration 431, loss = 2784.88221707\n",
      "Iteration 432, loss = 2658.56911979\n",
      "Iteration 433, loss = 2537.74675644\n",
      "Iteration 434, loss = 2422.18783348\n",
      "Iteration 435, loss = 2311.67394546\n",
      "Iteration 436, loss = 2205.99525065\n",
      "Iteration 437, loss = 2104.95015746\n",
      "Iteration 438, loss = 2008.34502139\n",
      "Iteration 439, loss = 1915.99385218\n",
      "Iteration 440, loss = 1827.71803087\n",
      "Iteration 441, loss = 1743.34603649\n",
      "Iteration 442, loss = 1662.71318200\n",
      "Iteration 443, loss = 1585.66135934\n",
      "Iteration 444, loss = 1512.03879319\n",
      "Iteration 445, loss = 1441.69980322\n",
      "Iteration 446, loss = 1374.50457461\n",
      "Iteration 447, loss = 1310.31893646\n",
      "Iteration 448, loss = 1249.01414804\n",
      "Iteration 449, loss = 1190.46669240\n",
      "Iteration 450, loss = 1134.55807732\n",
      "Iteration 451, loss = 1081.17464325\n",
      "Iteration 452, loss = 1030.20737799\n",
      "Iteration 453, loss = 981.55173806\n",
      "Iteration 454, loss = 935.10747635\n",
      "Iteration 455, loss = 890.77847592\n",
      "Iteration 456, loss = 848.47258987\n",
      "Iteration 457, loss = 808.10148685\n",
      "Iteration 458, loss = 769.58050225\n",
      "Iteration 459, loss = 732.82849474\n",
      "Iteration 460, loss = 697.76770800\n",
      "Iteration 461, loss = 664.32363759\n",
      "Iteration 462, loss = 632.42490262\n",
      "Iteration 463, loss = 602.00312215\n",
      "Iteration 464, loss = 572.99279616\n",
      "Iteration 465, loss = 545.33119094\n",
      "Iteration 466, loss = 518.95822871\n",
      "Iteration 467, loss = 493.81638134\n",
      "Iteration 468, loss = 469.85056810\n",
      "Iteration 469, loss = 447.00805716\n",
      "Iteration 470, loss = 425.23837086\n",
      "Iteration 471, loss = 404.49319453\n",
      "Iteration 472, loss = 384.72628879\n",
      "Iteration 473, loss = 365.89340510\n",
      "Iteration 474, loss = 347.95220461\n",
      "Iteration 475, loss = 330.86218011\n",
      "Iteration 476, loss = 314.58458088\n",
      "Iteration 477, loss = 299.08234054\n",
      "Iteration 478, loss = 284.32000763\n",
      "Iteration 479, loss = 270.26367887\n",
      "Iteration 480, loss = 256.88093502\n",
      "Iteration 481, loss = 244.14077925\n",
      "Iteration 482, loss = 232.01357787\n",
      "Iteration 483, loss = 220.47100346\n",
      "Iteration 484, loss = 209.48598017\n",
      "Iteration 485, loss = 199.03263116\n",
      "Iteration 486, loss = 189.08622820\n",
      "Iteration 487, loss = 179.62314319\n",
      "Iteration 488, loss = 170.62080160\n",
      "Iteration 489, loss = 162.05763788\n",
      "Iteration 490, loss = 153.91305248\n",
      "Iteration 491, loss = 146.16737074\n",
      "Iteration 492, loss = 138.80180337\n",
      "Iteration 493, loss = 131.79840849\n",
      "Iteration 494, loss = 125.14005531\n",
      "Iteration 495, loss = 118.81038914\n",
      "Iteration 496, loss = 112.79379797\n",
      "Iteration 497, loss = 107.07538029\n",
      "Iteration 498, loss = 101.64091432\n",
      "Iteration 499, loss = 96.47682842\n",
      "Iteration 500, loss = 91.57017278\n",
      "Iteration 501, loss = 86.90859226\n",
      "Iteration 502, loss = 82.48030033\n",
      "Iteration 503, loss = 78.27405411\n",
      "Iteration 504, loss = 74.27913046\n",
      "Iteration 505, loss = 70.48530304\n",
      "Iteration 506, loss = 66.88282033\n",
      "Iteration 507, loss = 63.46238462\n",
      "Iteration 508, loss = 60.21513180\n",
      "Iteration 509, loss = 57.13261206\n",
      "Iteration 510, loss = 54.20677144\n",
      "Iteration 511, loss = 51.42993403\n",
      "Iteration 512, loss = 48.79478507\n",
      "Iteration 513, loss = 46.29435472\n",
      "Iteration 514, loss = 43.92200244\n",
      "Iteration 515, loss = 41.67140219\n",
      "Iteration 516, loss = 39.53652816\n",
      "Iteration 517, loss = 37.51164113\n",
      "Iteration 518, loss = 35.59127543\n",
      "Iteration 519, loss = 33.77022648\n",
      "Iteration 520, loss = 32.04353886\n",
      "Iteration 521, loss = 30.40649487\n",
      "Iteration 522, loss = 28.85460361\n",
      "Iteration 523, loss = 27.38359058\n",
      "Iteration 524, loss = 25.98938766\n",
      "Iteration 525, loss = 24.66812356\n",
      "Iteration 526, loss = 23.41611472\n",
      "Iteration 527, loss = 22.22985658\n",
      "Iteration 528, loss = 21.10601525\n",
      "Iteration 529, loss = 20.04141953\n",
      "Iteration 530, loss = 19.03305331\n",
      "Iteration 531, loss = 18.07804829\n",
      "Iteration 532, loss = 17.17367705\n",
      "Iteration 533, loss = 16.31734639\n",
      "Iteration 534, loss = 15.50659103\n",
      "Iteration 535, loss = 14.73906751\n",
      "Iteration 536, loss = 14.01254846\n",
      "Iteration 537, loss = 13.32491706\n",
      "Iteration 538, loss = 12.67416175\n",
      "Iteration 539, loss = 12.05837127\n",
      "Iteration 540, loss = 11.47572978\n",
      "Iteration 541, loss = 10.92451237\n",
      "Iteration 542, loss = 10.40308060\n",
      "Iteration 543, loss = 9.90987840\n",
      "Iteration 544, loss = 9.44342808\n",
      "Iteration 545, loss = 9.00232653\n",
      "Iteration 546, loss = 8.58524158\n",
      "Iteration 547, loss = 8.19090859\n",
      "Iteration 548, loss = 7.81812717\n",
      "Iteration 549, loss = 7.46575797\n",
      "Iteration 550, loss = 7.13271980\n",
      "Iteration 551, loss = 6.81798668\n",
      "Iteration 552, loss = 6.52058518\n",
      "Iteration 553, loss = 6.23959184\n",
      "Iteration 554, loss = 5.97413066\n",
      "Iteration 555, loss = 5.72337079\n",
      "Iteration 556, loss = 5.48652428\n",
      "Iteration 557, loss = 5.26284395\n",
      "Iteration 558, loss = 5.05162134\n",
      "Iteration 559, loss = 4.85218482\n",
      "Iteration 560, loss = 4.66389772\n",
      "Iteration 561, loss = 4.48615657\n",
      "Iteration 562, loss = 4.31838945\n",
      "Iteration 563, loss = 4.16005441\n",
      "Iteration 564, loss = 4.01063793\n",
      "Iteration 565, loss = 3.86965350\n",
      "Iteration 566, loss = 3.73664027\n",
      "Iteration 567, loss = 3.61116169\n",
      "Iteration 568, loss = 3.49280435\n",
      "Iteration 569, loss = 3.38117673\n",
      "Iteration 570, loss = 3.27590814\n",
      "Iteration 571, loss = 3.17664761\n",
      "Iteration 572, loss = 3.08306289\n",
      "Iteration 573, loss = 2.99483951\n",
      "Iteration 574, loss = 2.91167983\n",
      "Iteration 575, loss = 2.83330219\n",
      "Iteration 576, loss = 2.75944007\n",
      "Iteration 577, loss = 2.68984135\n",
      "Iteration 578, loss = 2.62426747\n",
      "Iteration 579, loss = 2.56249282\n",
      "Iteration 580, loss = 2.50430401\n",
      "Iteration 581, loss = 2.44949925\n",
      "Iteration 582, loss = 2.39788773\n",
      "Iteration 583, loss = 2.34928904\n",
      "Iteration 584, loss = 2.30353264\n",
      "Iteration 585, loss = 2.26045735\n",
      "Iteration 586, loss = 2.21991080\n",
      "Iteration 587, loss = 2.18174902\n",
      "Iteration 588, loss = 2.14583598\n",
      "Iteration 589, loss = 2.11204314\n",
      "Iteration 590, loss = 2.08024909\n",
      "Iteration 591, loss = 2.05033914\n",
      "Iteration 592, loss = 2.02220498\n",
      "Iteration 593, loss = 1.99574431\n",
      "Iteration 594, loss = 1.97086057\n",
      "Iteration 595, loss = 1.94746256\n",
      "Iteration 596, loss = 1.92546421\n",
      "Iteration 597, loss = 1.90478426\n",
      "Iteration 598, loss = 1.88534605\n",
      "Iteration 599, loss = 1.86707719\n",
      "Iteration 600, loss = 1.84990944\n",
      "Iteration 601, loss = 1.83377835\n",
      "Iteration 602, loss = 1.81862319\n",
      "Iteration 603, loss = 1.80438662\n",
      "Iteration 604, loss = 1.79101460\n",
      "Iteration 605, loss = 1.77845616\n",
      "Iteration 606, loss = 1.76666324\n",
      "Iteration 607, loss = 1.75559054\n",
      "Iteration 608, loss = 1.74519535\n",
      "Iteration 609, loss = 1.73543741\n",
      "Iteration 610, loss = 1.72627878\n",
      "Iteration 611, loss = 1.71768373\n",
      "Iteration 612, loss = 1.70961858\n",
      "Iteration 613, loss = 1.70205158\n",
      "Iteration 614, loss = 1.69495287\n",
      "Iteration 615, loss = 1.68829429\n",
      "Iteration 616, loss = 1.68204933\n",
      "Iteration 617, loss = 1.67619304\n",
      "Iteration 618, loss = 1.67070191\n",
      "Iteration 619, loss = 1.66555383\n",
      "Iteration 620, loss = 1.66072797\n",
      "Iteration 621, loss = 1.65620474\n",
      "Iteration 622, loss = 1.65196570\n",
      "Iteration 623, loss = 1.64799350\n",
      "Iteration 624, loss = 1.64427181\n",
      "Iteration 625, loss = 1.64078529\n",
      "Iteration 626, loss = 1.63751949\n",
      "Iteration 627, loss = 1.63446084\n",
      "Iteration 628, loss = 1.63159656\n",
      "Iteration 629, loss = 1.62891464\n",
      "Iteration 630, loss = 1.62640381\n",
      "Iteration 631, loss = 1.62405345\n",
      "Iteration 632, loss = 1.62185359\n",
      "Iteration 633, loss = 1.61979487\n",
      "Iteration 634, loss = 1.61786847\n",
      "Iteration 635, loss = 1.61606614\n",
      "Iteration 636, loss = 1.61438011\n",
      "Iteration 637, loss = 1.61280307\n",
      "Iteration 638, loss = 1.61132817\n",
      "Iteration 639, loss = 1.60994899\n",
      "Iteration 640, loss = 1.60865948\n",
      "Iteration 641, loss = 1.60745397\n",
      "Iteration 642, loss = 1.60632715\n",
      "Iteration 643, loss = 1.60527401\n",
      "Iteration 644, loss = 1.60428986\n",
      "Iteration 645, loss = 1.60337032\n",
      "Iteration 646, loss = 1.60251126\n",
      "Iteration 647, loss = 1.60170880\n",
      "Iteration 648, loss = 1.60095933\n",
      "Iteration 649, loss = 1.60025943\n",
      "Iteration 650, loss = 1.59960591\n",
      "Iteration 651, loss = 1.59899579\n",
      "Iteration 652, loss = 1.59842626\n",
      "Iteration 653, loss = 1.59789469\n",
      "Iteration 654, loss = 1.59739862\n",
      "Iteration 655, loss = 1.59693575\n",
      "Iteration 656, loss = 1.59650390\n",
      "Iteration 657, loss = 1.59610106\n",
      "Iteration 658, loss = 1.59572533\n",
      "Iteration 659, loss = 1.59537494\n",
      "Iteration 660, loss = 1.59504821\n",
      "Iteration 661, loss = 1.59474360\n",
      "Iteration 662, loss = 1.59445965\n",
      "Iteration 663, loss = 1.59419499\n",
      "Iteration 664, loss = 1.59394834\n",
      "Iteration 665, loss = 1.59371852\n",
      "Iteration 666, loss = 1.59350440\n",
      "Iteration 667, loss = 1.59330494\n",
      "Iteration 668, loss = 1.59311916\n",
      "Iteration 669, loss = 1.59294614\n",
      "Iteration 670, loss = 1.59278504\n",
      "Iteration 671, loss = 1.59263505\n",
      "Iteration 672, loss = 1.59249543\n",
      "Iteration 673, loss = 1.59236547\n",
      "Iteration 674, loss = 1.59224453\n",
      "Iteration 675, loss = 1.59213199\n",
      "Iteration 676, loss = 1.59202729\n",
      "Iteration 677, loss = 1.59192989\n",
      "Iteration 678, loss = 1.59183929\n",
      "Iteration 679, loss = 1.59175504\n",
      "Iteration 680, loss = 1.59167670\n",
      "Iteration 681, loss = 1.59160386\n",
      "Iteration 682, loss = 1.59153615\n",
      "Iteration 683, loss = 1.59147321\n",
      "Iteration 684, loss = 1.59141472\n",
      "Iteration 685, loss = 1.59136037\n",
      "Iteration 686, loss = 1.59130986\n",
      "Iteration 687, loss = 1.59126295\n",
      "Iteration 688, loss = 1.59121937\n",
      "Iteration 689, loss = 1.59117889\n",
      "Iteration 690, loss = 1.59114130\n",
      "Iteration 691, loss = 1.59110640\n",
      "Iteration 692, loss = 1.59107399\n",
      "Iteration 693, loss = 1.59104391\n",
      "Iteration 694, loss = 1.59101598\n",
      "Iteration 695, loss = 1.59099007\n",
      "Iteration 696, loss = 1.59096602\n",
      "Iteration 697, loss = 1.59094370\n",
      "Iteration 698, loss = 1.59092299\n",
      "Iteration 699, loss = 1.59090378\n",
      "Iteration 700, loss = 1.59088596\n",
      "Iteration 701, loss = 1.59086942\n",
      "Iteration 702, loss = 1.59085409\n",
      "Iteration 703, loss = 1.59083987\n",
      "Iteration 704, loss = 1.59082668\n",
      "Iteration 705, loss = 1.59081445\n",
      "Iteration 706, loss = 1.59080311\n",
      "Iteration 707, loss = 1.59079259\n",
      "Iteration 708, loss = 1.59078284\n",
      "Iteration 709, loss = 1.59077379\n",
      "Iteration 710, loss = 1.59076541\n",
      "Iteration 711, loss = 1.59075763\n",
      "Iteration 712, loss = 1.59075042\n",
      "Iteration 713, loss = 1.59074374\n",
      "Iteration 714, loss = 1.59073754\n",
      "Iteration 715, loss = 1.59073179\n",
      "Iteration 716, loss = 1.59072646\n",
      "Iteration 717, loss = 1.59072151\n",
      "Iteration 718, loss = 1.59071692\n",
      "Training loss did not improve more than tol=0.000010 for 10 consecutive epochs. Stopping.\n",
      "This is the prediction for Cyprus: [4.07671125]\n",
      "This is the score of th NN: -3.6741440524096074\n"
     ]
    },
    {
     "data": {
      "image/png": "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",
      "text/plain": [
       "<Figure size 640x480 with 1 Axes>"
      ]
     },
     "metadata": {},
     "output_type": "display_data"
    }
   ],
   "source": [
    "from sklearn.neural_network import MLPRegressor\n",
    "\n",
    "# Setup MLPRegressor\n",
    "mlp = MLPRegressor( hidden_layer_sizes=(10,), solver='adam', activation='relu', tol=1E-5, max_iter=100000, verbose=True)\n",
    "mlp.fit(X, y.ravel())\n",
    "\n",
    "# Find Cyprus\n",
    "X_new = [[22587]]  # Cyprus' GDP per capita\n",
    "y_pred_cyprus = mlp.predict(X_new)\n",
    "print(f\"\\nThis is the prediction for Cyprus: {y_pred_cyprus}\")\n",
    "\n",
    "# lets make a MLP regressor prediction and redo the plots\n",
    "y_pred_mlp = mlp.predict(M) \n",
    "\n",
    "plt.plot(m, y_pred_lin, \"r\")\n",
    "plt.plot(m, y_pred_knn, \"b\")\n",
    "plt.plot(m, y_pred_mlp, \"k\")\n",
    "\n",
    "print(f\"This is the score of th NN: {mlp.score(X, y)}\")"
   ]
  },
  {
   "cell_type": "markdown",
   "metadata": {},
   "source": [
    "Try training the `mlp` regression model below, predict the value for Cyprus, and find the `score` value for the training set:\n",
    "\n",
    "We have trained the mlp model, which changes each time the code is run because it's trained by a neural network now.\n",
    "The neural network stops the training when it doesn't improve more than tol=0.000010 for 10 consecutive epochs. The score results in a negative R^2 value.\n",
    "\n",
    "\n",
    "Can the `MLPRegressor` score function be compared with the linear and KNN-scores?\n",
    "\n",
    "They can be compared since the score function is implemented in the same way. The result is way different from the score results of the linear and knn scores, which in this case means that the mlp model is worse at the prediction since the result (R^2) is negative. A negative R^2 means that the predicted values are performing worse than if you where to take the average value of the data as a prediction. Therefore it is shown that the neural network MLPRegressor isn't a great model to use on this data.\n"
   ]
  },
  {
   "cell_type": "markdown",
   "metadata": {},
   "source": [
    "## L01 - Modules and Packages in Python"
   ]
  },
  {
   "cell_type": "markdown",
   "metadata": {},
   "source": [
    "#### Qa) Load and test the `libitmal` module\n",
    "\n",
    "Here, we import the libitmal module from utils, which was given in the assignment. We print its directory and its content, and lastly call its TestAll() method."
   ]
  },
  {
   "cell_type": "code",
   "execution_count": 242,
   "metadata": {},
   "outputs": [
    {
     "name": "stdout",
     "output_type": "stream",
     "text": [
      "['AssertInRange', 'CheckFloat', 'DToXy', 'GenerateConfusionMatrix', 'GenerateResults', 'InRange', 'Iterable', 'ListToMatrix', 'ListToVector', 'PrintMatrix', 'ResetRandom', 'ShowResult', 'TEST', 'TestAll', 'TestCheckFloat', 'TestPrintMatrix', 'TestVarName', 'VarName', 'XyToD', '__builtins__', '__cached__', '__doc__', '__file__', '__loader__', '__name__', '__package__', '__spec__', '__warningregistry__', 'ctxlib', 'inf', 'inspect', 'isFloat', 'isList', 'isNumpyArray', 'nan', 'np', 'random', 're', 'sklearn']\n",
      "c:\\Users\\lasse\\Desktop\\6-Semester\\MAL\\L01\\libitmal\\utils.py\n",
      "TestPrintMatrix...(no regression testing)\n",
      "X=[[   1.    2.]\n",
      "   [   3. -100.]\n",
      "   [   1.   -1.]]\n",
      "X=[[ 1.  2.]\n",
      "   ...\n",
      "   [ 1. -1.]]\n",
      "X=[[   1.\n",
      "       2.    ]\n",
      "   [   3.0001\n",
      "    -100.    ]\n",
      "   [   1.\n",
      "      -1.    ]]\n",
      "X=[[   1.    2.]\n",
      "   [   3. -100.]\n",
      "   [   1.   -1.]]\n",
      "OK\n",
      "TEST: OK\n",
      "ALL OK\n"
     ]
    }
   ],
   "source": [
    "import numpy as np\n",
    "from libitmal import utils as itmalutils\n",
    "\n",
    "print(dir(itmalutils))\n",
    "print(itmalutils.__file__)\n",
    "\n",
    "itmalutils.TestAll()"
   ]
  },
  {
   "cell_type": "markdown",
   "metadata": {},
   "source": [
    "#### Qb) Create your own module, with some functions, and test it\n",
    "\n",
    "Here we will import our own module named `extraUtils`. The module is imported from `coolModule`, where its functions now becomes available.\n",
    "\n",
    "In this example, the `printNogetSejt()` is used to print a predfined text along with a given parameter string"
   ]
  },
  {
   "cell_type": "code",
   "execution_count": 243,
   "metadata": {},
   "outputs": [
    {
     "name": "stdout",
     "output_type": "stream",
     "text": [
      "hej med dig: Thomas\n",
      "c:\\Users\\lasse\\Desktop\\6-Semester\\MAL\\L01\\extraUtils\\coolModule.py\n"
     ]
    }
   ],
   "source": [
    "from extraUtils import coolModule as module\n",
    "\n",
    "module.printNogetSejt(\"Thomas\")\n",
    "\n",
    "print(module.__file__)"
   ]
  },
  {
   "cell_type": "markdown",
   "metadata": {},
   "source": [
    "#### Qc) How do you 'recompile' a module?\n",
    "\n",
    "When changing the module code, Jupyter will keep running on the old module. How do you force the Jupyter notebook to re-load the module changes? \n",
    "\n",
    "You can force a reload of a module by using the `reload()` function from the `importlib` module."
   ]
  },
  {
   "cell_type": "code",
   "execution_count": 244,
   "metadata": {},
   "outputs": [
    {
     "data": {
      "text/plain": [
       "<module 'extraUtils.coolModule' from 'c:\\\\Users\\\\lasse\\\\Desktop\\\\6-Semester\\\\MAL\\\\L01\\\\extraUtils\\\\coolModule.py'>"
      ]
     },
     "execution_count": 244,
     "metadata": {},
     "output_type": "execute_result"
    }
   ],
   "source": [
    "from importlib import reload\n",
    "from extraUtils import coolModule as module   \n",
    "\n",
    "reload(module)"
   ]
  },
  {
   "cell_type": "markdown",
   "metadata": {},
   "source": [
    "It is also possible to automatically reload modules before executing code by using magic commands such as `%load_ext` and `%autoreload`\n",
    "\n",
    "Source: https://saturncloud.io/blog/jupyter-notebook-reload-module-a-comprehensive-guide/"
   ]
  },
  {
   "cell_type": "code",
   "execution_count": 245,
   "metadata": {},
   "outputs": [
    {
     "name": "stdout",
     "output_type": "stream",
     "text": [
      "The autoreload extension is already loaded. To reload it, use:\n",
      "  %reload_ext autoreload\n"
     ]
    }
   ],
   "source": [
    "%load_ext autoreload\n",
    "%autoreload 2"
   ]
  },
  {
   "cell_type": "markdown",
   "metadata": {},
   "source": [
    "#### Qe) Extend the class with some public and private functions and member variables \n",
    "\n",
    "\n",
    "Below, the class MyClass has been defined with both a private and a public function. \n",
    "\n",
    "Private funtions are defined by the two prefixed underscores (__), while member variables are defined by the \"self.\" annotation. This self in python classes represents an instance of the class, therefor making it possible to access methods and attributes inside the class itself. "
   ]
  },
  {
   "cell_type": "code",
   "execution_count": 246,
   "metadata": {},
   "outputs": [],
   "source": [
    "class MyClass:\n",
    "    # Public function \n",
    "    def myfun(self):\n",
    "        # Member variable \n",
    "        self.myvar = \"blah\"\n",
    "        print(f\"This is a message inside the class, myvar={self.myvar}.\")\n",
    "        \n",
    "        # Private function \n",
    "    def __private_function(self):\n",
    "        self.asdf = \"asdf\"\n",
    "        print(f\"This is a private function, {self.asdf}.\")\n",
    "        \n",
    "    def something():\n",
    "        print(\"Something\")\n",
    "        "
   ]
  },
  {
   "cell_type": "markdown",
   "metadata": {},
   "source": [
    "Now an instance of the class is created. "
   ]
  },
  {
   "cell_type": "code",
   "execution_count": 247,
   "metadata": {},
   "outputs": [],
   "source": [
    "myObjectx = MyClass()"
   ]
  },
  {
   "cell_type": "markdown",
   "metadata": {},
   "source": [
    "When trying to call a function with the self parameter missing, it throws an error, because the program is passing it an instance of a class, but it doesn't take one. "
   ]
  },
  {
   "cell_type": "code",
   "execution_count": 248,
   "metadata": {},
   "outputs": [
    {
     "name": "stdout",
     "output_type": "stream",
     "text": [
      "Self should be added to the implementation of something() if you want to call it this way\n"
     ]
    }
   ],
   "source": [
    "try:\n",
    "    myObjectx.something()\n",
    "except:\n",
    "    print(\"Self should be added to the implementation of something() if you want to call it this way\")"
   ]
  },
  {
   "cell_type": "markdown",
   "metadata": {},
   "source": [
    "When trying to call the private function, it fails because there is no function available called __private_function() "
   ]
  },
  {
   "cell_type": "code",
   "execution_count": 249,
   "metadata": {},
   "outputs": [
    {
     "name": "stdout",
     "output_type": "stream",
     "text": [
      "No function called __private_function()\n"
     ]
    }
   ],
   "source": [
    "try:\n",
    "    myObjectx.__private_function() \n",
    "except:\n",
    "    print(\"No function called __private_function()\")"
   ]
  },
  {
   "cell_type": "markdown",
   "metadata": {},
   "source": [
    "If one wants to use a method with a self parameter, one needs to call it with the class directly and not an instance of the class. "
   ]
  },
  {
   "cell_type": "code",
   "execution_count": 250,
   "metadata": {},
   "outputs": [
    {
     "name": "stdout",
     "output_type": "stream",
     "text": [
      "Something\n"
     ]
    }
   ],
   "source": [
    "MyClass.something() "
   ]
  },
  {
   "cell_type": "markdown",
   "metadata": {},
   "source": [
    "#### Qf) Extend the class with a Constructor\n"
   ]
  },
  {
   "cell_type": "markdown",
   "metadata": {},
   "source": [
    "Below is shown how to define a constructor in a Python class, namely the \\_\\_init\\_\\_ function. \n",
    "This function will be called every time a class is instantiated. \n",
    "\n"
   ]
  },
  {
   "cell_type": "code",
   "execution_count": 251,
   "metadata": {},
   "outputs": [],
   "source": [
    "class myClass:\n",
    "    def __init__(self):\n",
    "        self.att1 = 2\n",
    "        self.att2 = 3\n",
    "        self.att3 = 4\n",
    "        "
   ]
  },
  {
   "cell_type": "markdown",
   "metadata": {},
   "source": [
    "As well as a constructor, it is also possible to make a destructor in a Python class. Below it is shown how this \\_\\_del\\_\\_ function is defined in a class. \n",
    "\n",
    "\n",
    "The destructor function is not necessary in Python, since the language has garbage collection which handles the memory management automatically. \n",
    "So a detructor is not strictly necessary, except if you want to handle the memory management yourself.\n",
    "\n",
    "\n"
   ]
  },
  {
   "cell_type": "code",
   "execution_count": 252,
   "metadata": {},
   "outputs": [],
   "source": [
    "class myClass: \n",
    "    def __del__(self):\n",
    "        print(\"The object has been deleted!\")"
   ]
  },
  {
   "cell_type": "markdown",
   "metadata": {},
   "source": [
    "By calling the destructor on an instance of the class, it will delete the object. "
   ]
  },
  {
   "cell_type": "code",
   "execution_count": 253,
   "metadata": {},
   "outputs": [
    {
     "name": "stdout",
     "output_type": "stream",
     "text": [
      "The object has been deleted!\n"
     ]
    }
   ],
   "source": [
    "myobejctx = myClass() \n",
    "del myobejctx"
   ]
  },
  {
   "cell_type": "markdown",
   "metadata": {},
   "source": [
    "#### Qg) Extend the class with a to-string function\n",
    "\n",
    "\n",
    " \n",
    "In order to print an object in python, one needs to add the method \"__str__(self)\" to the class.\n",
    "This method will be called, when the program is trying to print the object. \n",
    "\n",
    "There's one more way to print out and object in python, and that is with the \"__repr__(self)\" method.\n",
    "They serve different purposes, \"__str__(self)\" is suppose to return an informal and userfriendly string representation of an object, and \"__repr__(self)\" is used more for debugging and a formel way of representing the object as a string.\n",
    "\n",
    "If \"__str__(self)\" is defined in the class, it will not use \"__repr__(self)\""
   ]
  },
  {
   "cell_type": "code",
   "execution_count": 254,
   "metadata": {},
   "outputs": [
    {
     "name": "stdout",
     "output_type": "stream",
     "text": [
      "My objects has a: 42 and b: 43\n"
     ]
    }
   ],
   "source": [
    "class myClass:\n",
    "    def __init__(self, a, b):\n",
    "        self.a = a\n",
    "        self.b = b\n",
    "    \n",
    "    def __str__(self):\n",
    "        return(f\"My objects has a: {self.a} and b: {self.b}\")\n",
    "    \n",
    "    def __repr__(self):\n",
    "        return((f\"MyClass({self.a, self.b})\"))\n",
    "        \n",
    "\n",
    "someClass = myClass(42, 43)\n",
    "print(someClass)"
   ]
  },
  {
   "cell_type": "code",
   "execution_count": 255,
   "metadata": {},
   "outputs": [
    {
     "name": "stdout",
     "output_type": "stream",
     "text": [
      "MyClass((42, 43))\n"
     ]
    }
   ],
   "source": [
    "class myClass:\n",
    "    def __init__(self, a, b):\n",
    "        self.a = a\n",
    "        self.b = b\n",
    "    \n",
    "    def __repr__(self):\n",
    "        return((f\"MyClass({self.a, self.b})\"))\n",
    "        \n",
    "\n",
    "someClass = myClass(42, 43)\n",
    "print(someClass)"
   ]
  },
  {
   "cell_type": "markdown",
   "metadata": {},
   "source": [
    "## L02 - Cost function"
   ]
  },
  {
   "cell_type": "markdown",
   "metadata": {},
   "source": [
    "#### Qa) Given the following $\\mathbf{x}^{(i)}$'s, construct and print the $\\mathbf X$ matrix in python.\n",
    "\n",
    "Using numpy the design matrix is being constructed"
   ]
  },
  {
   "cell_type": "code",
   "execution_count": 256,
   "metadata": {},
   "outputs": [
    {
     "name": "stdout",
     "output_type": "stream",
     "text": [
      "[[ 1  2  3]\n",
      " [ 4  2  1]\n",
      " [ 3  8  5]\n",
      " [-9 -1  0]]\n"
     ]
    }
   ],
   "source": [
    "import numpy as np\n",
    "\n",
    "y = np.array([1,2,3,4]) \n",
    "\n",
    "x1 = np.array([1,2,3])\n",
    "x2 = np.array([4,2,1])\n",
    "x3 = np.array([3,8,5])\n",
    "x4 = np.array([-9,-1,0])\n",
    "\n",
    "X = np.array([x1, x2, x3, x4])\n",
    "\n",
    "print(X)"
   ]
  },
  {
   "cell_type": "markdown",
   "metadata": {},
   "source": [
    "#### Qb) Implement the L1 and L2 norms for vectors in python."
   ]
  },
  {
   "cell_type": "markdown",
   "metadata": {},
   "source": [
    "The norm functions `L1` and `L2` are being implemented, where we assert and validate the output of the function. The functions will be used later in the assignment."
   ]
  },
  {
   "cell_type": "code",
   "execution_count": 257,
   "metadata": {},
   "outputs": [
    {
     "name": "stdout",
     "output_type": "stream",
     "text": [
      "tx-ty=[-2  3 -1 -2], d1-expected_d1=0.0, d2-expected_d2=0.0\n",
      "OK(part-1)\n",
      "d2dot-expected_d2= 0.0\n",
      "OK(part-2)\n"
     ]
    }
   ],
   "source": [
    "import math\n",
    "\n",
    "def checkInputIsOneDimensional(x):\n",
    "    assert x.shape[0]>=0 \n",
    "    if not x.ndim==1:\n",
    "        raise ValueError\n",
    "    \n",
    "def checkInputSameShape(y_pred, y_true):\n",
    "    assert y_pred.shape == y_true.shape, \"Shape of input is not equal!\"\n",
    "\n",
    "def L1(x):\n",
    "    checkInputIsOneDimensional(x) #Check if parameter is good\n",
    "    sum = 0\n",
    "    for i in x:\n",
    "        sum = sum + (i**2)**0.5  \n",
    "    return sum\n",
    "\n",
    "def L2(x):\n",
    "    checkInputIsOneDimensional(x) #Check if parameter is good\n",
    "    sum = 0\n",
    "    for i in x:\n",
    "        sum = sum + (i**2)\n",
    "    sum = sum**0.5\n",
    "    return sum\n",
    "\n",
    "def L2Dot(x):\n",
    "    checkInputIsOneDimensional(x) #Check if parameter is good\n",
    "    sum = np.sqrt(np.dot(x,x))  \n",
    "    return sum  \n",
    "     \n",
    "tx=np.array([1, 2, 3, -1])\n",
    "ty=np.array([3,-1, 4,  1])\n",
    "\n",
    "expected_d1=8.0\n",
    "expected_d2=4.242640687119285\n",
    "\n",
    "d1=L1(tx-ty)\n",
    "d2=L2(tx-ty)\n",
    "\n",
    "print(f\"tx-ty={tx-ty}, d1-expected_d1={d1-expected_d1}, d2-expected_d2={d2-expected_d2}\")\n",
    "\n",
    "eps=1E-9  \n",
    "assert math.fabs(d1-expected_d1)<eps, \"L1 dist seems to be wrong\" \n",
    "assert math.fabs(d2-expected_d2)<eps, \"L2 dist seems to be wrong\" \n",
    "\n",
    "print(\"OK(part-1)\")\n",
    " \n",
    "d2dot=L2Dot(tx-ty)\n",
    "print(\"d2dot-expected_d2=\",d2dot-expected_d2)\n",
    "assert math.fabs(d2dot-expected_d2)<eps, \"L2Ddot dist seem to be wrong\" \n",
    "print(\"OK(part-2)\")"
   ]
  },
  {
   "cell_type": "markdown",
   "metadata": {},
   "source": [
    "#### Qc) Construct the Root Mean Square Error (RMSE) function "
   ]
  },
  {
   "cell_type": "code",
   "execution_count": 258,
   "metadata": {},
   "outputs": [
    {
     "name": "stdout",
     "output_type": "stream",
     "text": [
      "RMSE=6.576473218982953, diff=2.6645352591003757e-15\n",
      "OK\n"
     ]
    }
   ],
   "source": [
    "def RMSE(y_pred, y_true):\n",
    "    checkInputSameShape(y_pred, y_true)\n",
    "    sum = L2(y_pred - y_true)*0.5 #Implementation of the RMSE\n",
    "    return sum\n",
    "\n",
    "# Dummy h function:\n",
    "def h(X):    \n",
    "    if X.ndim!=2:\n",
    "        raise ValueError(\"excpeted X to be of ndim=2, got ndim=\",X.ndim)\n",
    "    if X.shape[0]==0 or X.shape[1]==0:\n",
    "        raise ValueError(\"X got zero data along the 0/1 axis, cannot continue\")\n",
    "    return X[:,0]\n",
    " \n",
    "r=RMSE(h(X),y)\n",
    "\n",
    "# TEST vector:\n",
    "eps=1E-9\n",
    "expected=6.57647321898295\n",
    "print(f\"RMSE={r}, diff={r-expected}\")\n",
    "assert math.fabs(r-expected)<eps, \"your RMSE dist seems to be wrong\" \n",
    "\n",
    "print(\"OK\")"
   ]
  },
  {
   "cell_type": "markdown",
   "metadata": {},
   "source": [
    "#### Qd) Similar construct the Mean Absolute Error (MAE) function "
   ]
  },
  {
   "cell_type": "markdown",
   "metadata": {},
   "source": [
    "We already created the `RMSE` function in the previous task, and now we will implement the MAE function to calculate the norm of L1 (instead of L2)"
   ]
  },
  {
   "cell_type": "code",
   "execution_count": 259,
   "metadata": {},
   "outputs": [
    {
     "name": "stdout",
     "output_type": "stream",
     "text": [
      "MAE=3.75, diff=0.0\n",
      "OK\n"
     ]
    }
   ],
   "source": [
    "def MAE(y_pred, y_true):\n",
    "    checkInputSameShape(y_pred, y_true)\n",
    "    sum = L1(y_pred-y_true)/y_pred.size\n",
    "    return sum  \n",
    "\n",
    "r=MAE(h(X), y)\n",
    "\n",
    "# TEST vector:\n",
    "expected=3.75\n",
    "print(f\"MAE={r}, diff={r-expected}\")\n",
    "assert math.fabs(r-expected)<eps, \"MAE dist seems to be wrong\" \n",
    "\n",
    "print(\"OK\")"
   ]
  },
  {
   "cell_type": "markdown",
   "metadata": {},
   "source": [
    "#### Qe) Robust Code "
   ]
  },
  {
   "cell_type": "markdown",
   "metadata": {},
   "source": [
    "We have added error checking code by using assertions, that checks for right y^-y sizes of the MSE and MAE functions (the shape of their input)"
   ]
  },
  {
   "cell_type": "markdown",
   "metadata": {},
   "source": [
    "#### Qf) Conclusion"
   ]
  },
  {
   "cell_type": "markdown",
   "metadata": {},
   "source": [
    "## L02 - Dummy classifier"
   ]
  },
  {
   "cell_type": "markdown",
   "metadata": {},
   "source": [
    "#### Qa) Load and display the MNIST data"
   ]
  },
  {
   "cell_type": "markdown",
   "metadata": {},
   "source": [
    "The function MNIST_GetDataSet() will be implemented by using the fetch_openml function from sklearn.datasets. The parameters of this function will be found by looking at the documentation https://scikit-learn.org/stable/modules/generated/sklearn.datasets.fetch_openml.html.\n",
    "\n",
    "The parameters that is needed to be changed from default values:\n",
    "\n",
    "`name: str` -> \n",
    "\n",
    "`version: int` ->\n",
    "\n",
    "`return_X_y: bool` ->\n",
    "\n",
    "`cache: bool` ->\n",
    "\n",
    "`as_frame: bool` -> We are using numpy"
   ]
  },
  {
   "cell_type": "code",
   "execution_count": 260,
   "metadata": {},
   "outputs": [
    {
     "name": "stderr",
     "output_type": "stream",
     "text": [
      "c:\\Users\\lasse\\anaconda3\\Lib\\site-packages\\sklearn\\datasets\\_openml.py:1002: FutureWarning: The default value of `parser` will change from `'liac-arff'` to `'auto'` in 1.4. You can set `parser='auto'` to silence this warning. Therefore, an `ImportError` will be raised from 1.4 if the dataset is dense and pandas is not installed. Note that the pandas parser may return different data types. See the Notes Section in fetch_openml's API doc for details.\n",
      "  warn(\n"
     ]
    },
    {
     "name": "stdout",
     "output_type": "stream",
     "text": [
      "[[0. 0. 0. ... 0. 0. 0.]\n",
      " [0. 0. 0. ... 0. 0. 0.]\n",
      " [0. 0. 0. ... 0. 0. 0.]\n",
      " ...\n",
      " [0. 0. 0. ... 0. 0. 0.]\n",
      " [0. 0. 0. ... 0. 0. 0.]\n",
      " [0. 0. 0. ... 0. 0. 0.]]\n",
      "['5' '0' '4' ... '4' '5' '6']\n"
     ]
    },
    {
     "data": {
      "image/png": "iVBORw0KGgoAAAANSUhEUgAAAYUAAAGFCAYAAAASI+9IAAAAOXRFWHRTb2Z0d2FyZQBNYXRwbG90bGliIHZlcnNpb24zLjcuMiwgaHR0cHM6Ly9tYXRwbG90bGliLm9yZy8pXeV/AAAACXBIWXMAAA9hAAAPYQGoP6dpAAAHsklEQVR4nO3cPYuV1wKG4deDIhECdhYRA4L4VWrwo7KxsFLBTgIWVtaCjb9DxE7QJj8giDCgKWJhpZ1MoUhADfiBjaAw+3Q3hHMK187M7HG8rv7hXWw23KxmbZnNZrMJAKZp+s+iDwDAxiEKAEQUAIgoABBRACCiAEBEAYCIAgARBQAiCgBEFACIKAAQUQAgogBARAGAiAIAEQUAIgoARBQAiCgAEFEAIKIAQEQBgIgCABEFACIKAEQUAIgoABBRACCiAEBEAYCIAgARBQAiCgBEFACIKAAQUQAgogBARAGAiAIAEQUAIgoARBQAiCgAEFEAIKIAQEQBgIgCABEFACIKAEQUAIgoABBRACCiAEBEAYCIAgARBQAiCgBEFACIKAAQUQAgogBARAGAiAIAEQUAIgoARBQAiCgAEFEAIKIAQEQBgIgCABEFACIKAGTrog8AfPuWlpaGNxcvXpzrWw8fPhze7N+/f65vfY/cFACIKAAQUQAgogBARAGAiAIAEQUAIgoARBQAiCgAEFEAIKIAQL7rB/H++OOP4c3bt2+HN+fPnx/ewLfk8ePHw5ujR4+uwUn4t9wUAIgoABBRACCiAEBEAYCIAgARBQAiCgBEFACIKAAQUQAgogBAvusH8R48eDC8WV5eHt54EI9vycrKyvDm+fPnw5uXL18Ob6Zpmmaz2Vw7vo6bAgARBQAiCgBEFACIKAAQUQAgogBARAGAiAIAEQUAIgoARBQAiCgAkO/6ldTbt28Pb06ePLkGJ4GN49WrV8ObW7duDW9+/fXX4c00TdOBAwfm2vF13BQAiCgAEFEAIKIAQEQBgIgCABEFACIKAEQUAIgoABBRACCiAEC+6wfxVlZWFn0E2HAuX768Lt/Zt2/funyHMW4KAEQUAIgoABBRACCiAEBEAYCIAgARBQAiCgBEFACIKAAQUQAgm+ZBvKdPnw5v3rx5swYngW/bhw8f1uU7p0+fXpfvMMZNAYCIAgARBQAiCgBEFACIKAAQUQAgogBARAGAiAIAEQUAIgoAZNM8iPf7778Pbz59+rQGJ4GNY55HH1+8eLH6B/k/fvrpp3X5DmPcFACIKAAQUQAgogBARAGAiAIAEQUAIgoARBQAiCgAEFEAIKIAQEQBgGyaV1KfPXu2Lt85fPjwunwHVsPVq1eHN69fvx7e7N+/f3jz448/Dm9Ye24KAEQUAIgoABBRACCiAEBEAYCIAgARBQAiCgBEFACIKAAQUQAgm+ZBvPXyyy+/LPoIbCAfP34c3ty7d2+ub925c2d4c//+/bm+Ner69evDm507d67+QfjX3BQAiCgAEFEAIKIAQEQBgIgCABEFACIKAEQUAIgoABBRACCiAEA8iDfo3bt3iz7Cqnvy5MnwZmVlZXiztLQ0vJmmafrrr7+GN58/fx7e3L17d3gzz+/www8/DG+maZqOHTs2vNm+ffvw5suXL8Obo0ePDm/YmNwUAIgoABBRACCiAEBEAYCIAgARBQAiCgBEFACIKAAQUQAgogBAtsxms9miD7Early5Mry5efPm8Gbnzp3Dm59//nl4s57meRBvnr/Ntm3bhjfTNE07duwY3hw8eHB4c/z48eHNkSNHhjenTp0a3kzTNO3atWt4s3v37uHN+/fvhzfzPEDIxuSmAEBEAYCIAgARBQAiCgBEFACIKAAQUQAgogBARAGAiAIAEQUAsnXRB1gtN27cGN7M81Ddn3/+ObzZ6Pbs2TO8OXv27PDm0KFDw5tpmu+hus3o1q1bw5u///57eLN3797hDZuHmwIAEQUAIgoARBQAiCgAEFEAIKIAQEQBgIgCABEFACIKAEQUAIgoAJBN80rqPK5du7boI8BXW1paWpfvXLhwYV2+w8bkpgBARAGAiAIAEQUAIgoARBQAiCgAEFEAIKIAQEQBgIgCABEFAPJdP4gH/K9z584t+ggskJsCABEFACIKAEQUAIgoABBRACCiAEBEAYCIAgARBQAiCgBEFACIKAAQUQAgogBARAGAiAIAEQUAIgoARBQAiCgAEFEAIKIAQEQBgIgCANm66AMAG8vy8vLw5sSJE2twEhbBTQGAiAIAEQUAIgoARBQAiCgAEFEAIKIAQEQBgIgCABEFACIKAMSDeMA/rKysLPoILJCbAgARBQAiCgBEFACIKAAQUQAgogBARAGAiAIAEQUAIgoARBQAiCgAEK+kAv/w6NGj4c2lS5dW/yAshJsCABEFACIKAEQUAIgoABBRACCiAEBEAYCIAgARBQAiCgBEFACIKAAQUQAgogBARAGAiAIAEQUAIgoARBQAiCgAEFEAIKIAQEQBgIgCANm66AMAX+fMmTPDm99++20NTsJm5qYAQEQBgIgCABEFACIKAEQUAIgoABBRACCiAEBEAYCIAgARBQCyZTabzRZ9CAA2BjcFACIKAEQUAIgoABBRACCiAEBEAYCIAgARBQAiCgBEFACIKAAQUQAgogBARAGAiAIAEQUAIgoARBQAiCgAEFEAIKIAQEQBgIgCABEFACIKAEQUAIgoABBRACCiAEBEAYCIAgARBQAiCgBEFACIKAAQUQAgogBARAGAiAIAEQUAIgoARBQAiCgAEFEAIKIAQEQBgIgCABEFAPJfNQ+sGqKxr8AAAAAASUVORK5CYII=",
      "text/plain": [
       "<Figure size 640x480 with 1 Axes>"
      ]
     },
     "metadata": {},
     "output_type": "display_data"
    }
   ],
   "source": [
    "from sklearn.datasets import fetch_openml\n",
    "import matplotlib\n",
    "import matplotlib.pyplot as plt\n",
    "\n",
    "def MNIST_GetDataSet():\n",
    "    X, y = fetch_openml(name='mnist_784', version=1, data_home=\"./data\", cache=True, return_X_y = True, as_frame=False)\n",
    "    X = X/255\n",
    "    return X,y\n",
    "\n",
    "def MNIST_PlotDigit(data):\n",
    "    image = data.reshape(28, 28)\n",
    "    plt.imshow(image, cmap = matplotlib.cm.binary, interpolation=\"nearest\")\n",
    "    plt.axis(\"off\")\n",
    "\n",
    "X,y = MNIST_GetDataSet()\n",
    "\n",
    "print(X)\n",
    "print(y)\n",
    "\n",
    "# Sejt -- y[2] er 4 og x[2] er også 4 hehe\n",
    "MNIST_PlotDigit(X[2])"
   ]
  },
  {
   "cell_type": "markdown",
   "metadata": {},
   "source": [
    "#### Qb)  Add a Stochastic Gradient Decent [SGD] Classifier"
   ]
  },
  {
   "cell_type": "code",
   "execution_count": 261,
   "metadata": {},
   "outputs": [
    {
     "name": "stdout",
     "output_type": "stream",
     "text": [
      "X.shape=(70000, 784)\n",
      "X.shape=(70000, 784)\n",
      "\n",
      "---- Correct categorized fives:\n",
      "Is it a 5?: False\n"
     ]
    },
    {
     "data": {
      "image/png": "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",
      "text/plain": [
       "<Figure size 640x480 with 1 Axes>"
      ]
     },
     "metadata": {},
     "output_type": "display_data"
    },
    {
     "name": "stdout",
     "output_type": "stream",
     "text": [
      "Is it a 5?: False\n"
     ]
    },
    {
     "data": {
      "image/png": "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",
      "text/plain": [
       "<Figure size 640x480 with 1 Axes>"
      ]
     },
     "metadata": {},
     "output_type": "display_data"
    },
    {
     "name": "stdout",
     "output_type": "stream",
     "text": [
      "\n",
      "---- Incorrect categorized fives\n",
      "Is it a 5?: False\n"
     ]
    },
    {
     "data": {
      "image/png": "iVBORw0KGgoAAAANSUhEUgAAAYUAAAGFCAYAAAASI+9IAAAAOXRFWHRTb2Z0d2FyZQBNYXRwbG90bGliIHZlcnNpb24zLjcuMiwgaHR0cHM6Ly9tYXRwbG90bGliLm9yZy8pXeV/AAAACXBIWXMAAA9hAAAPYQGoP6dpAAAJdklEQVR4nO3cX2jX1R/H8bMfuoGoUGwm0UC7iIgEzXkR1EUQeC+uC2dX66ZugsXA3XSlInRdBCPy2tyNF9pFYRfe+GcXiaWxdtWiQYI6xi6C+nb3urGL3/vDtq/Ox+P+xefAd+PJuTkDvV6v1wCgtfa/fh8AgCeHKAAQogBAiAIAIQoAhCgAEKIAQIgCACEKAIQoABCiAECIAgAhCgCEKAAQogBAiAIAIQoAhCgAEKIAQIgCACEKAIQoABCiAECIAgAhCgCEKAAQogBAiAIAIQoAhCgAEKIAQIgCACEKAIQoABCiAECIAgAhCgCEKAAQogBAiAIAIQoAhCgAEKIAQIgCACEKAIQoABCiAECIAgAhCgCEKAAQogBAiAIAIQoAhCgAEKIAQIgCACEKAIQoABCiAECIAgAhCgDEtn4fgPX1+++/lze//PLLBpzkcT///HOn3dzcXHnzww8/lDc7d+4sb3bt2lXe/PHHH+VNa60dOnSovHnvvffKm1OnTpU3bB1uCgCEKAAQogBAiAIAIQoAhCgAEKIAQIgCACEKAIQoABCiAECIAgAx0Ov1ev0+BOvnyy+/LG8++uij8mZoaKi82bdvX3nT1YkTJ8qbv/76q7xZWVkpbxYWFsqb1lq7efNmebO6ulre3L17t7zZzN+WjeWmAECIAgAhCgCEKAAQogBAiAIAIQoAhCgAEKIAQIgCACEKAIQoABDb+n0Ank6ffPJJeXP69OkNOMnTp8vDe621NjExUd4sLi6WNx63e7a5KQAQogBAiAIAIQoAhCgAEKIAQIgCACEKAIQoABCiAECIAgAhCgCEB/HoZHh4uN9HeGr9+OOPnXbPP/98eTMzM9PpWzy73BQACFEAIEQBgBAFAEIUAAhRACBEAYAQBQBCFAAIUQAgRAGAEAUAQhQACK+kwiY7cuTIpu6gwk0BgBAFAEIUAAhRACBEAYAQBQBCFAAIUQAgRAGAEAUAQhQACFEAIDyIRyevvfZav48AbAA3BQBCFAAIUQAgRAGAEAUAQhQACFEAIEQBgBAFAEIUAAhRACBEAYDwIB6djI2N9fsIwAZwUwAgRAGAEAUAQhQACFEAIEQBgBAFAEIUAAhRACBEAYAQBQBCFAAID+JtMX/++We/j7Du7t27V948ePCgvBkcHCxvDh8+XN78+uuv5U1rm/fbPvfcc+XNq6++ugEnoR/cFAAIUQAgRAGAEAUAQhQACFEAIEQBgBAFAEIUAAhRACBEAYAQBQBCFAAIr6RuMVeuXClvRkdHy5tvv/22vLl8+XJ501prly5dKm9WV1fLm+3bt5c3+/fvL2+Wl5fLm9ZaW1lZ6bSr2rlzZ3nz4osvljdDQ0PlTWutTU9PlzcTExPlzcDAQHmzFbgpABCiAECIAgAhCgCEKAAQogBAiAIAIQoAhCgAEKIAQIgCACEKAMRAr9fr9fsQPG5paanT7sCBA+XNo0ePOn1rs7z77rvlzbFjx8qbl156qbzp8kjd3r17y5vWNu+Bti5/e3Nzc+VNl4cOuxofHy9vZmdny5vdu3eXN08aNwUAQhQACFEAIEQBgBAFAEIUAAhRACBEAYAQBQBCFAAIUQAgRAGA2NbvA/DfFhcXO+0ePnxY3oyMjJQ3k5OT5U2XR+paa+3IkSOddmye999/v7zp8phga6299dZb5c2FCxfKm4MHD5Y3MzMz5c2Txk0BgBAFAEIUAAhRACBEAYAQBQBCFAAIUQAgRAGAEAUAQhQACFEAIAZ6vV6v34fgcZcuXeq0m5iYKG8+/fTT8mZ6erq8gfWwtrZW3gwPD5c3Q0ND5c38/Hx501prL7/8cqfdRnBTACBEAYAQBQBCFAAIUQAgRAGAEAUAQhQACFEAIEQBgBAFAEIUAAgP4m0xFy9eLG/u379f3ty+fbu8+eKLL8obWA/j4+PlzdzcXHnz/ffflzettfbOO+902m0ENwUAQhQACFEAIEQBgBAFAEIUAAhRACBEAYAQBQBCFAAIUQAgRAGAEAUAYlu/D8B/++yzzzrtLly4UN6Mjo6WN+fOnStvoF9++umnfh/hqeGmAECIAgAhCgCEKAAQogBAiAIAIQoAhCgAEKIAQIgCACEKAIQoABADvV6v1+9DbHULCwvlzdjYWKdvdXmobnJysrwZHBwsb2A9fP311+XNBx98UN68/vrr5c2tW7fKm9Za2759e6fdRnBTACBEAYAQBQBCFAAIUQAgRAGAEAUAQhQACFEAIEQBgBAFAEIUAIht/T7As2B5ebm8WVtb24CT/DeP29EPV69e7bSbmpoqb7o8OPfVV19tyneeNG4KAIQoABCiAECIAgAhCgCEKAAQogBAiAIAIQoAhCgAEKIAQIgCAOFBvE3w9ttvlzdvvvlmp299/PHH5c2uXbvKm5MnT5Y3bF1dHrc7duxYp289evSovJmdnS1vxsbGyputwE0BgBAFAEIUAAhRACBEAYAQBQBCFAAIUQAgRAGAEAUAQhQACFEAIAZ6vV6v34fgcTdu3Oi06/Ig3vz8fHnzwgsvlDfHjx8vb1pr7cMPPyxvXnnllU7f2mqWl5fLm/Pnz5c3Z8+eLW9GRkbKm9Za+/zzz8ubo0ePljcDAwPlzVbgpgBAiAIAIQoAhCgAEKIAQIgCACEKAIQoABCiAECIAgAhCgCEKAAQogBAeCV1i3n48GF5c/HixfJmbm6uvLl+/Xp501pr//zzT3mzd+/e8mbHjh3lze7du8ubrrq8Knrt2rXy5u+//y5vpqamypvJycnyprXur6vy/3FTACBEAYAQBQBCFAAIUQAgRAGAEAUAQhQACFEAIEQBgBAFAEIUAAgP4rFpfvvtt0677777rrxZWloqb+7cuVPefPPNN+VN13+5N954Y1M2Z86cKW/27NlT3vBkclMAIEQBgBAFAEIUAAhRACBEAYAQBQBCFAAIUQAgRAGAEAUAQhQACA/iARBuCgCEKAAQogBAiAIAIQoAhCgAEKIAQIgCACEKAIQoABCiAECIAgAhCgCEKAAQogBAiAIAIQoAhCgAEKIAQIgCACEKAIQoABCiAECIAgAhCgCEKAAQogBAiAIAIQoAhCgAEKIAQIgCACEKAIQoABCiAECIAgAhCgCEKAAQogBAiAIAIQoAhCgAEKIAQIgCACEKAIQoABCiAECIAgAhCgCEKAAQogBAiAIAIQoAhCgAEKIAQIgCACEKAIQoABCiAECIAgAhCgCEKAAQ/wJGLyuS/fQK+QAAAABJRU5ErkJggg==",
      "text/plain": [
       "<Figure size 640x480 with 1 Axes>"
      ]
     },
     "metadata": {},
     "output_type": "display_data"
    },
    {
     "name": "stdout",
     "output_type": "stream",
     "text": [
      "Is it a 5?: False\n"
     ]
    },
    {
     "data": {
      "image/png": "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",
      "text/plain": [
       "<Figure size 640x480 with 1 Axes>"
      ]
     },
     "metadata": {},
     "output_type": "display_data"
    }
   ],
   "source": [
    "from sklearn.model_selection import train_test_split\n",
    "from sklearn.linear_model import SGDClassifier\n",
    "import numpy as np\n",
    "\n",
    "X, y = MNIST_GetDataSet()\n",
    "\n",
    "print(f\"X.shape={X.shape}\") # print X.shape= (70000, 28, 28)\n",
    "if X.ndim==3:\n",
    "    print(\"reshaping X..\")\n",
    "    assert y.ndim==1\n",
    "    X = X.reshape((X.shape[0],X.shape[1]*X.shape[2]))\n",
    "assert X.ndim==2\n",
    "print(f\"X.shape={X.shape}\") # X.shape= (70000, 784)\n",
    "\n",
    "X_train, X_test, y_train, y_test = train_test_split(X, y, test_size=0.2)\n",
    "\n",
    "y_train_5 = (y_train == \"5\")\n",
    "y_test_5 = (y_test == \"5\")\n",
    "\n",
    "SGD_classifier = SGDClassifier(random_state=42)\n",
    "\n",
    "SGD_classifier.fit(X_train, y_train_5)\n",
    "\n",
    "y_pred = SGD_classifier.predict(X_test)\n",
    "\n",
    "categorized = np.where(y_pred == y_test_5)[0]\n",
    "\n",
    "not_correctly_categorized = np.where(y_pred != y_test_5)[0]\n",
    "\n",
    "print(\"\\n---- Correct categorized fives:\")\n",
    "\n",
    "for number in categorized[:2]:\n",
    "    MNIST_PlotDigit(X_test[number])\n",
    "    predicted_value = SGD_classifier.predict([X_test[number]])\n",
    "    print(f\"Is it a 5?: {predicted_value[0]}\")\n",
    "    plt.show()\n",
    "    \n",
    "print(\"\\n---- Incorrect categorized fives\")\n",
    "\n",
    "for number in not_correctly_categorized[:2]:\n",
    "    MNIST_PlotDigit(X_test[number])\n",
    "    predicted_value = SGD_classifier.predict([X_test[number]])\n",
    "    print(f\"Is it a 5?: {predicted_value[0]}\")\n",
    "    plt.show()\n",
    "    "
   ]
  },
  {
   "cell_type": "markdown",
   "metadata": {},
   "source": [
    "#### Qc) Implement a dummy binary classifier"
   ]
  },
  {
   "cell_type": "code",
   "execution_count": 262,
   "metadata": {},
   "outputs": [
    {
     "name": "stdout",
     "output_type": "stream",
     "text": [
      "0.9121428571428571\n"
     ]
    }
   ],
   "source": [
    "from sklearn.metrics import accuracy_score\n",
    "\n",
    "class DummyClassifier():\n",
    "    def fit(self, X, y=None):\n",
    "        pass # Dummy classifier doesn't fit\n",
    "    \n",
    "    def predict(self, X):\n",
    "        return [0] * len(X) # Writes 0 in every index\n",
    "    \n",
    "def calculate_accuracy(y_true, y_pred):\n",
    "    return accuracy_score(y_true, y_pred)\n",
    "    \n",
    "\n",
    "dummyClassifier = DummyClassifier()\n",
    "\n",
    "dummyClassifier.fit(X_train)\n",
    "\n",
    "y_pred = dummyClassifier.predict(X_test)\n",
    "\n",
    "accuracy = calculate_accuracy(y_test_5, y_pred)\n",
    "\n",
    "print(accuracy) # The accuracy will be around 90%, this is a fake accuracy\n"
   ]
  },
  {
   "cell_type": "markdown",
   "metadata": {},
   "source": [
    "#### Qd) Conclusion"
   ]
  },
  {
   "cell_type": "markdown",
   "metadata": {},
   "source": [
    "## L02 - Performance metrics"
   ]
  },
  {
   "cell_type": "markdown",
   "metadata": {},
   "source": [
    "\n",
    "#### Qa) Implement the Accuracy function and test it on the MNIST data.\n",
    "\n",
    "The accuaracy function is going to be created as MyAccuracy(), where the following formula will be implemented by using for loops to find the total amount  of true positives, true negatives and then divide it by the total amount of data points:\n",
    "$$\n",
    "    \\def\\by{\\mathbf{y}}\n",
    "    \\def\\bM{\\mathbf{M}}\n",
    "    \\def\\ar#1#2{\\begin{array}{#1}#2\\end{array}}\n",
    "    \\def\\st#1{_{\\scriptsize\\textrm{#1}}}\n",
    "    \\def\\myfrac#1#2{\\frac{#1\\rule{0pt}{8pt}}{#2\\rule{0pt}{8pt}}} \n",
    "\\ar{rl}{\n",
    "      a &= \\myfrac{TP + TN}{TP + TN + FP + FN}\\\\\n",
    "  }\\\n",
    "$$"
   ]
  },
  {
   "cell_type": "code",
   "execution_count": 263,
   "metadata": {},
   "outputs": [
    {
     "name": "stderr",
     "output_type": "stream",
     "text": [
      "c:\\Users\\lasse\\anaconda3\\Lib\\site-packages\\sklearn\\datasets\\_openml.py:1002: FutureWarning: The default value of `parser` will change from `'liac-arff'` to `'auto'` in 1.4. You can set `parser='auto'` to silence this warning. Therefore, an `ImportError` will be raised from 1.4 if the dataset is dense and pandas is not installed. Note that the pandas parser may return different data types. See the Notes Section in fetch_openml's API doc for details.\n",
      "  warn(\n"
     ]
    },
    {
     "name": "stdout",
     "output_type": "stream",
     "text": [
      "\n",
      "Accuracy of dummy classifier:\n",
      "my a          =0.909\n",
      "scikit-learn a=0.909\n",
      "\n",
      "Accuracy of SGD classifier:\n",
      "my a          =0.9752857142857143\n",
      "scikit-learn a=0.9752857142857143\n"
     ]
    }
   ],
   "source": [
    "from sklearn.datasets import fetch_openml\n",
    "from sklearn.metrics import accuracy_score\n",
    "from sklearn.model_selection import train_test_split\n",
    "from sklearn.linear_model import SGDClassifier\n",
    "import matplotlib\n",
    "import matplotlib.pyplot as plt\n",
    "\n",
    "def MNIST_GetDataSet():\n",
    "    X, y = fetch_openml(name='mnist_784', version=1, data_home=\"./data\", cache=True, return_X_y = True, as_frame=False)\n",
    "    X = X/255\n",
    "    return X,y\n",
    "\n",
    "class DummyClassifier():\n",
    "    def fit(self, X, y=None):\n",
    "        pass # Dummy classifier doesn't fit\n",
    "    \n",
    "    def predict(self, X):\n",
    "        return [0] * len(X) # Writes 0 in every index\n",
    "\n",
    "# MyAccuracy function that calculates the accuracy\n",
    "def MyAccuracy(y_true, y_pred):\n",
    "    if len(y_true) == 0 or len(y_pred) == 0: # Error handling\n",
    "        return 0\n",
    "    matches = 0\n",
    "    for i in range(len(y_pred)):\n",
    "        if y_pred[i] == y_true[i]:\n",
    "            matches += 1\n",
    "    return(matches/len(y_pred))\n",
    "    \n",
    "# TEST FUNCTION: example of a comperator, using Scikit-learn accuracy_score\n",
    "def TestAccuracy(y_true, y_pred):\n",
    "   a0=MyAccuracy(y_true, y_pred)\n",
    "   a1=accuracy_score(y_true, y_pred)\n",
    "\n",
    "   print(f\"my a          ={a0}\")\n",
    "   print(f\"scikit-learn a={a1}\")\n",
    "\n",
    "X, y = MNIST_GetDataSet()\n",
    "\n",
    "if X.ndim==3:\n",
    "    print(\"reshaping X..\")\n",
    "    assert y.ndim==1\n",
    "    X = X.reshape((X.shape[0],X.shape[1]*X.shape[2]))\n",
    "assert X.ndim==2\n",
    "\n",
    "X_train, X_test, y_train, y_test = train_test_split(X, y, test_size=0.2)\n",
    "\n",
    "y_train_5 = (y_train == \"5\")\n",
    "y_test_5 = (y_test == \"5\")\n",
    "\n",
    "SGD_classifier = SGDClassifier(random_state=42)\n",
    "\n",
    "SGD_classifier.fit(X_train, y_train_5)\n",
    "\n",
    "y_pred = SGD_classifier.predict(X_test)\n",
    "\n",
    "dummyClassifier = DummyClassifier()\n",
    "\n",
    "dummyClassifier.fit(X_train)\n",
    "\n",
    "dummy_y_pred = dummyClassifier.predict(X_test)\n",
    "\n",
    "# Test accuracy of dummy\n",
    "print(\"\\nAccuracy of dummy classifier:\")\n",
    "TestAccuracy(y_test_5, dummy_y_pred)\n",
    "\n",
    "#Test accuracy of SGD_classifiet\n",
    "print(\"\\nAccuracy of SGD classifier:\")\n",
    "TestAccuracy(y_test_5, y_pred)\n"
   ]
  },
  {
   "cell_type": "markdown",
   "metadata": {},
   "source": [
    "#### Qb) Implement Precision, Recall and $F_1$-score and test it on the MNIST data for both the SGD and Dummy classifier models\n",
    "\n",
    "The precision will implement the following formula by using two for loops to extract the amount of true positives and the false positives:\n",
    "$$\n",
    "    \\def\\by{\\mathbf{y}}\n",
    "    \\def\\bM{\\mathbf{M}}\n",
    "    \\def\\ar#1#2{\\begin{array}{#1}#2\\end{array}}\n",
    "    \\def\\st#1{_{\\scriptsize\\textrm{#1}}}\n",
    "    \\def\\myfrac#1#2{\\frac{#1\\rule{0pt}{8pt}}{#2\\rule{0pt}{8pt}}} \n",
    "\\ar{rl}{\n",
    "  p &= \\myfrac{TP}{TP + FP}\n",
    "}\n",
    "$$\n",
    "\n",
    "The recall will implement the following formula by again using two for loops, but this time extracting the amount of true positives and the false negatives:\n",
    "$$\n",
    "  \\ar{rl}{\n",
    "    r &= \\myfrac{TP}{TP + FN}\\\\\n",
    "  }\n",
    "$$\n",
    "\n",
    "Lastly the F1 score will implement the following formula, where the implemented versions of MyPrecision and MyRecall will be used:\n",
    "$$\n",
    "  \\ar{rl}{\n",
    "    F_1 &= \\myfrac{2pr}{p+r}\\\\\n",
    "  }\n",
    "$$"
   ]
  },
  {
   "cell_type": "code",
   "execution_count": 264,
   "metadata": {},
   "outputs": [
    {
     "name": "stdout",
     "output_type": "stream",
     "text": [
      "First test case: \n",
      "This is my precision: 0.75\n",
      "This is scikit precision: 0.75\n",
      "This is my recall: 1.0\n",
      "This is scikit recall: 1.0\n",
      "This is my f1-score: 0.75\n",
      "This is scikit f1-score: 0.8571428571428571\n",
      "\n",
      "Second test case: \n",
      "This is my precision: 0.6666666666666666\n",
      "This is scikit precision: 0.6666666666666666\n",
      "This is my recall: 0.6666666666666666\n",
      "This is scikit recall: 0.6666666666666666\n",
      "This is my f1-score: 0.6666666666666666\n",
      "This is scikit f1-score: 0.6666666666666666\n",
      "\n",
      "SGD test case: \n",
      "This is my precision: 0.8879598662207357\n",
      "This is scikit precision: 0.8879598662207357\n",
      "This is my recall: 0.8335949764521193\n",
      "This is scikit recall: 0.8335949764521193\n",
      "This is my f1-score: 0.8879598662207357\n",
      "This is scikit f1-score: 0.8599190283400809\n",
      "\n",
      "Dummy test case: \n",
      "This is my precision: 0\n",
      "This is scikit precision: 0.0\n",
      "This is my recall: 0.0\n",
      "This is scikit recall: 0.0\n",
      "This is my f1-score: 0\n",
      "This is scikit f1-score: 0.0\n",
      "\n"
     ]
    },
    {
     "name": "stderr",
     "output_type": "stream",
     "text": [
      "c:\\Users\\lasse\\anaconda3\\Lib\\site-packages\\sklearn\\metrics\\_classification.py:1469: UndefinedMetricWarning: Precision is ill-defined and being set to 0.0 due to no predicted samples. Use `zero_division` parameter to control this behavior.\n",
      "  _warn_prf(average, modifier, msg_start, len(result))\n"
     ]
    }
   ],
   "source": [
    "from sklearn.metrics import precision_score, recall_score, f1_score\n",
    "\n",
    "def MyPrecision(y_true, y_pred):\n",
    "    TP = 0\n",
    "    FP = 0\n",
    "    for i in range(len(y_pred)):\n",
    "        if y_pred[i] == True and y_true[i] == True:\n",
    "            TP += 1\n",
    "    \n",
    "    for i in range(len(y_pred)):\n",
    "        if y_pred[i] == True and y_true[i] == False:\n",
    "            FP += 1\n",
    "\n",
    "    if TP == 0 and FP == 0: # Error handling cant divide by zero\n",
    "        return 0\n",
    "            \n",
    "    return(TP/(TP+FP))\n",
    "            \n",
    "\n",
    "def MyRecall(y_true, y_pred):\n",
    "    TP = 0\n",
    "    FN = 0\n",
    "    for i in range(len(y_pred)):\n",
    "        if y_pred[i] == True and y_true[i] == True:\n",
    "            TP += 1\n",
    "            \n",
    "    for i in range(len(y_pred)):\n",
    "        if y_pred[i] == False and y_true[i] == True:\n",
    "            FN += 1\n",
    "    if TP == 0 and FN == 0: # Error handling cant divide by zero\n",
    "        return 0\n",
    "    return(TP/(TP+FN))        \n",
    "    \n",
    "    \n",
    "def MyF1Score(y_true, y_pred):\n",
    "    precision = MyPrecision(y_true, y_pred)\n",
    "    recall = MyRecall(y_pred, y_true)\n",
    "    if precision == 0 or recall == 0:\n",
    "        return 0\n",
    "    return 2 * (precision * recall)/(precision + recall)\n",
    "\n",
    "y_pred1 = [True, True, True, True]\n",
    "y_true1 = [True, True, True, False]\n",
    "\n",
    "y_pred2 = [True, True, False, True]\n",
    "y_true2 = [True, True, True, False]\n",
    "\n",
    "def test(y_true, y_pred):\n",
    "    p0 = MyPrecision(y_true, y_pred)\n",
    "    p1 = precision_score(y_true, y_pred)\n",
    "    \n",
    "    r0 = MyRecall(y_true, y_pred)\n",
    "    r1 = recall_score(y_true, y_pred)\n",
    "    \n",
    "    f0 = MyF1Score(y_true, y_pred)\n",
    "    f1 = f1_score(y_true, y_pred)\n",
    "    \n",
    "    print(f\"This is my precision: {p0}\")\n",
    "    print(f\"This is scikit precision: {p1}\")\n",
    "    \n",
    "    print(f\"This is my recall: {r0}\")\n",
    "    print(f\"This is scikit recall: {r1}\")\n",
    "    \n",
    "    print(f\"This is my f1-score: {f0}\")\n",
    "    print(f\"This is scikit f1-score: {f1}\\n\")\n",
    "\n",
    "print(\"First test case: \")\n",
    "test(y_true1, y_pred1)\n",
    "print(\"Second test case: \")\n",
    "test(y_true2, y_pred2)\n",
    "print(\"SGD test case: \")\n",
    "test(y_test_5, y_pred)\n",
    "print(\"Dummy test case: \")\n",
    "test(y_test_5, dummy_y_pred)"
   ]
  },
  {
   "cell_type": "markdown",
   "metadata": {},
   "source": [
    "#### Qc) The Confusion Matrix\n",
    "\n",
    "Now the confusion matrix' will be created by using the confusion_matrix function from sklearn.metrics. By reading the documentation of this function it is seen that the scikit-learn confusion matrix is organized in the following order TN, FP, FN, TP. Therefor it is also important not to mess up the parameters because it will mess up the organization of the confusion matrix, and the TN, FP, FN, TP will be swapped around. "
   ]
  },
  {
   "cell_type": "code",
   "execution_count": 265,
   "metadata": {},
   "outputs": [
    {
     "name": "stdout",
     "output_type": "stream",
     "text": [
      "Dummy maxtrix:\n",
      "[[12726     0]\n",
      " [ 1274     0]]\n",
      "\n",
      "SDG matrix:\n",
      "[[12592   134]\n",
      " [  212  1062]]\n",
      "\n",
      "Reversed SDG matrix:\n",
      "[[12592   212]\n",
      " [  134  1062]]\n",
      "\n"
     ]
    }
   ],
   "source": [
    "from sklearn.metrics import confusion_matrix\n",
    "\n",
    "cm_dummy = confusion_matrix(y_test_5, dummy_y_pred)\n",
    "cm_sdg_classifier = confusion_matrix(y_test_5, y_pred)\n",
    "cm_sdg_classifier_reversed = confusion_matrix(y_pred, y_test_5)\n",
    "\n",
    "print(f\"Dummy maxtrix:\\n{cm_dummy}\\n\")\n",
    "print(f\"SDG matrix:\\n{cm_sdg_classifier}\\n\")\n",
    "print(f\"Reversed SDG matrix:\\n{cm_sdg_classifier_reversed}\\n\")"
   ]
  },
  {
   "cell_type": "markdown",
   "metadata": {},
   "source": [
    "#### Qd) A Confusion Matrix Heat-map\n",
    "\n",
    "The heat map will be created with the ConfusionMatrixDisplay function, where we can compare the output with the output from the Qc) The Confusion Matrix exercise, these should be the same."
   ]
  },
  {
   "cell_type": "code",
   "execution_count": 266,
   "metadata": {},
   "outputs": [
    {
     "data": {
      "image/png": "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",
      "text/plain": [
       "<Figure size 640x480 with 2 Axes>"
      ]
     },
     "metadata": {},
     "output_type": "display_data"
    },
    {
     "data": {
      "image/png": "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",
      "text/plain": [
       "<Figure size 640x480 with 2 Axes>"
      ]
     },
     "metadata": {},
     "output_type": "display_data"
    }
   ],
   "source": [
    "from matplotlib import pyplot as plt\n",
    "from sklearn.metrics import ConfusionMatrixDisplay\n",
    "\n",
    "\n",
    "dummy_matrix = ConfusionMatrixDisplay(confusion_matrix=cm_dummy) \n",
    "dummy_matrix.plot()\n",
    "plt.show()\n",
    "\n",
    "SGD_matrix = ConfusionMatrixDisplay(confusion_matrix=cm_sdg_classifier)\n",
    "SGD_matrix.plot()\n",
    "plt.show()"
   ]
  },
  {
   "cell_type": "markdown",
   "metadata": {},
   "source": [
    "### Qe) Conclusion\n",
    "\n",
    "We have now worked with different performance metrics that shows how \"good\" your machine learning model is. In the first exercise we implemented the accuracy function and tested it with our dummy classifier and our SGD classifier. From this it was shown that the accuracy can give a great score (around 90%) to a machine learning model (our dummy classifier) which was totaly wrong, therfore we should be carefull to conclude how great our model is by only using the accuracy as our score. Afterwards we implemented the precision, recall and F1-score as further ways of judging our models. Now our dummy classifier will be found out to be a bad model, as it scores zero in these tests, wheras our SGD classifier still deliveres good scores. Therefore it can be concluded that it is important to take multiple scores into account, when judging a machine learning model. Lastly we created and showed a confussion matrix with the dummy classifier and SGD classifier, which creates an overview of how your model is performing, by showing the TN, FP, FN and TP. By using this overview it is quickly seen that the dummy classifier is performing worse than the sgd classifier since it is not predicting any TP, but instead predicting alot of FN."
   ]
  }
 ],
 "metadata": {
  "kernelspec": {
   "display_name": "Python 3 (ipykernel)",
   "language": "python",
   "name": "python3"
  },
  "language_info": {
   "codemirror_mode": {
    "name": "ipython",
    "version": 3
   },
   "file_extension": ".py",
   "mimetype": "text/x-python",
   "name": "python",
   "nbconvert_exporter": "python",
   "pygments_lexer": "ipython3",
   "version": "3.11.5"
  },
  "nav_menu": {},
  "toc": {
   "navigate_menu": true,
   "number_sections": true,
   "sideBar": true,
   "threshold": 6,
   "toc_cell": false,
   "toc_section_display": "block",
   "toc_window_display": true
  },
  "toc-autonumbering": true,
  "toc-showcode": true,
  "toc-showmarkdowntxt": true,
  "toc_position": {
   "height": "616px",
   "left": "0px",
   "right": "20px",
   "top": "106px",
   "width": "213px"
  },
  "varInspector": {
   "cols": {
    "lenName": 16,
    "lenType": 16,
    "lenVar": 40
   },
   "kernels_config": {
    "python": {
     "delete_cmd_postfix": "",
     "delete_cmd_prefix": "del ",
     "library": "var_list.py",
     "varRefreshCmd": "print(var_dic_list())"
    },
    "r": {
     "delete_cmd_postfix": ") ",
     "delete_cmd_prefix": "rm(",
     "library": "var_list.r",
     "varRefreshCmd": "cat(var_dic_list()) "
    }
   },
   "types_to_exclude": [
    "module",
    "function",
    "builtin_function_or_method",
    "instance",
    "_Feature"
   ],
   "window_display": false
  }
 },
 "nbformat": 4,
 "nbformat_minor": 4
}
