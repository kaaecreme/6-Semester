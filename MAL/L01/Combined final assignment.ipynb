{
 "cells": [
  {
   "cell_type": "markdown",
   "metadata": {},
   "source": [
    "# SWMAL Assignment 01\n",
    "This notebook consists of five combined exercises from L01 and L02, which is required for assignment O1.\n",
    "\n",
    "## L01 - Intro"
   ]
  },
  {
   "cell_type": "markdown",
   "metadata": {},
   "source": [
    "_Below code is the code used to generate some of the figures in chapter 1._\n",
    "\n",
    "Afterwards a list of questions will be answered."
   ]
  },
  {
   "cell_type": "markdown",
   "metadata": {},
   "source": [
    "### Setup"
   ]
  },
  {
   "cell_type": "code",
   "execution_count": 230,
   "metadata": {},
   "outputs": [
    {
     "name": "stdout",
     "output_type": "stream",
     "text": [
      "OK\n"
     ]
    }
   ],
   "source": [
    "# To support both python 2 and python 3\n",
    "from __future__ import division, print_function, unicode_literals\n",
    "\n",
    "# Common imports\n",
    "import numpy as np\n",
    "import os\n",
    "\n",
    "# to make this notebook's output stable across runs\n",
    "np.random.seed(42)\n",
    "\n",
    "# To plot pretty figures\n",
    "%matplotlib inline\n",
    "import matplotlib\n",
    "import matplotlib.pyplot as plt\n",
    "plt.rcParams['axes.labelsize'] = 14\n",
    "plt.rcParams['xtick.labelsize'] = 12\n",
    "plt.rcParams['ytick.labelsize'] = 12\n",
    "\n",
    "# Where to save the figures\n",
    "PROJECT_ROOT_DIR = \".\"\n",
    "CHAPTER_ID = \"fundamentals\"\n",
    "\n",
    "def save_fig(fig_id, tight_layout=True):\n",
    "    path = os.path.join(PROJECT_ROOT_DIR, \"images\", CHAPTER_ID, fig_id + \".png\")\n",
    "    print(\"IGNORING: Saving figure\", fig_id) # SWMAL: I've disabled saving of figures\n",
    "    #if tight_layout:\n",
    "    #    plt.tight_layout()\n",
    "    #plt.savefig(path, format='png', dpi=300)\n",
    "\n",
    "# Ignore useless warnings (see SciPy issue #5998)\n",
    "import warnings\n",
    "warnings.filterwarnings(action=\"ignore\", module=\"scipy\", message=\"^internal gelsd\")\n",
    "\n",
    "print(\"OK\")"
   ]
  },
  {
   "cell_type": "code",
   "execution_count": 231,
   "metadata": {},
   "outputs": [
    {
     "name": "stdout",
     "output_type": "stream",
     "text": [
      "OK\n"
     ]
    }
   ],
   "source": [
    "def prepare_country_stats(oecd_bli, gdp_per_capita):\n",
    "    oecd_bli = oecd_bli[oecd_bli[\"INEQUALITY\"]==\"TOT\"]\n",
    "    oecd_bli = oecd_bli.pivot(index=\"Country\", columns=\"Indicator\", values=\"Value\")\n",
    "    gdp_per_capita.rename(columns={\"2015\": \"GDP per capita\"}, inplace=True)\n",
    "    gdp_per_capita.set_index(\"Country\", inplace=True)\n",
    "    full_country_stats = pd.merge(left=oecd_bli, right=gdp_per_capita,\n",
    "                                  left_index=True, right_index=True)\n",
    "    full_country_stats.sort_values(by=\"GDP per capita\", inplace=True)\n",
    "    remove_indices = [0, 1, 6, 8, 33, 34, 35]\n",
    "    keep_indices = list(set(range(36)) - set(remove_indices))\n",
    "    return full_country_stats[[\"GDP per capita\", 'Life satisfaction']].iloc[keep_indices]\n",
    "\n",
    "print(\"OK\")"
   ]
  },
  {
   "cell_type": "code",
   "execution_count": 232,
   "metadata": {},
   "outputs": [
    {
     "name": "stdout",
     "output_type": "stream",
     "text": [
      " Volume in drive C is Windows-SSD\n",
      " Volume Serial Number is 22C7-3C71\n",
      "\n",
      " Directory of c:\\Users\\lasse\\Desktop\\6-Semester\\MAL\\L01\n",
      "\n",
      "14-02-2024  10:21    <DIR>          .\n",
      "14-02-2024  10:21    <DIR>          ..\n",
      "02-02-2024  12:54    <DIR>          .ipynb_checkpoints\n",
      "14-02-2024  10:39           340.744 Combined final assignment.ipynb\n",
      "14-02-2024  08:12    <DIR>          data\n",
      "02-02-2024  12:54    <DIR>          datasets\n",
      "14-02-2024  08:22    <DIR>          extraUtils\n",
      "13-02-2024  12:21           106.399 intro.ipynb\n",
      "13-02-2024  12:21           248.639 intro_assignment.ipynb\n",
      "14-02-2024  08:22    <DIR>          libitmal\n",
      "06-02-2024  12:17            13.391 modules_and_classes.ipynb\n",
      "13-02-2024  12:21             6.292 modules_and_classes_assignment.ipynb\n",
      "               5 File(s)        715.465 bytes\n",
      "               7 Dir(s)  51.630.292.992 bytes free\n",
      "\n",
      "OK\n"
     ]
    }
   ],
   "source": [
    "import os\n",
    "datapath = os.path.join(\"datasets\", \"lifesat\", \"\")\n",
    "\n",
    "# NOTE: a ! prefix makes us able to run system commands..\n",
    "# (command 'dir' for windows, 'ls' for Linux or Macs)\n",
    "#\n",
    "\n",
    "! dir\n",
    "\n",
    "print(\"\\nOK\")"
   ]
  },
  {
   "cell_type": "code",
   "execution_count": 233,
   "metadata": {},
   "outputs": [
    {
     "data": {
      "image/png": "[encoded data removed]",
      "text/plain": [
       "<Figure size 640x480 with 1 Axes>"
      ]
     },
     "metadata": {},
     "output_type": "display_data"
    },
    {
     "name": "stdout",
     "output_type": "stream",
     "text": [
      "[[5.96242338]]\n",
      "OK\n"
     ]
    }
   ],
   "source": [
    "# Code example\n",
    "import matplotlib\n",
    "import matplotlib.pyplot as plt\n",
    "import numpy as np\n",
    "import pandas as pd\n",
    "import sklearn.linear_model\n",
    "\n",
    "# Load the data\n",
    "try:\n",
    "    oecd_bli = pd.read_csv(datapath + \"oecd_bli_2015.csv\", thousands=',')\n",
    "    gdp_per_capita = pd.read_csv(datapath + \"gdp_per_capita.csv\",thousands=',',delimiter='\\t',\n",
    "                             encoding='latin1', na_values=\"n/a\")\n",
    "except Exception as e:\n",
    "    print(f\"SWMAL NOTE: well, you need to have the 'datasets' dir in path, please unzip 'datasets.zip' and make sure that its included in the datapath='{datapath}' setting in the cell above..\")\n",
    "    raise e\n",
    "    \n",
    "# Prepare the data\n",
    "country_stats = prepare_country_stats(oecd_bli, gdp_per_capita)\n",
    "X = np.c_[country_stats[\"GDP per capita\"]]\n",
    "y = np.c_[country_stats[\"Life satisfaction\"]]\n",
    "\n",
    "# Visualize the data\n",
    "country_stats.plot(kind='scatter', x=\"GDP per capita\", y='Life satisfaction')\n",
    "plt.show()\n",
    "\n",
    "# Select a linear model\n",
    "model = sklearn.linear_model.LinearRegression()\n",
    "\n",
    "# Train the model\n",
    "model.fit(X, y)\n",
    "\n",
    "# Make a prediction for Cyprus\n",
    "X_new = [[22587]]  # Cyprus' GDP per capita\n",
    "y_pred = model.predict(X_new)\n",
    "print(y_pred) # outputs [[ 5.96242338]]\n",
    "\n",
    "print(\"OK\")"
   ]
  },
  {
   "cell_type": "code",
   "execution_count": 234,
   "metadata": {},
   "outputs": [
    {
     "data": {
      "image/png": "[encoded data removed]",
      "text/plain": [
       "<Figure size 500x300 with 1 Axes>"
      ]
     },
     "metadata": {},
     "output_type": "display_data"
    },
    {
     "data": {
      "image/png": "[encoded data removed]",
      "text/plain": [
       "<Figure size 500x300 with 1 Axes>"
      ]
     },
     "metadata": {},
     "output_type": "display_data"
    },
    {
     "name": "stdout",
     "output_type": "stream",
     "text": [
      "OK\n"
     ]
    }
   ],
   "source": [
    "oecd_bli = pd.read_csv(datapath + \"oecd_bli_2015.csv\", thousands=',')\n",
    "oecd_bli = oecd_bli[oecd_bli[\"INEQUALITY\"]==\"TOT\"]\n",
    "oecd_bli = oecd_bli.pivot(index=\"Country\", columns=\"Indicator\", values=\"Value\")\n",
    "#oecd_bli.head(2)\n",
    "\n",
    "gdp_per_capita = pd.read_csv(datapath+\"gdp_per_capita.csv\", thousands=',', delimiter='\\t',\n",
    "                             encoding='latin1', na_values=\"n/a\")\n",
    "gdp_per_capita.rename(columns={\"2015\": \"GDP per capita\"}, inplace=True)\n",
    "gdp_per_capita.set_index(\"Country\", inplace=True)\n",
    "#gdp_per_capita.head(2)\n",
    "\n",
    "full_country_stats = pd.merge(left=oecd_bli, right=gdp_per_capita, left_index=True, right_index=True)\n",
    "full_country_stats.sort_values(by=\"GDP per capita\", inplace=True)\n",
    "#full_country_stats\n",
    "\n",
    "remove_indices = [0, 1, 6, 8, 33, 34, 35]\n",
    "keep_indices = list(set(range(36)) - set(remove_indices))\n",
    "\n",
    "sample_data = full_country_stats[[\"GDP per capita\", 'Life satisfaction']].iloc[keep_indices]\n",
    "#missing_data = full_country_stats[[\"GDP per capita\", 'Life satisfaction']].iloc[remove_indices]\n",
    "\n",
    "sample_data.plot(kind='scatter', x=\"GDP per capita\", y='Life satisfaction', figsize=(5,3))\n",
    "plt.axis([0, 60000, 0, 10])\n",
    "position_text = {\n",
    "    \"Hungary\": (5000, 1),\n",
    "    \"Korea\": (18000, 1.7),\n",
    "    \"France\": (29000, 2.4),\n",
    "    \"Australia\": (40000, 3.0),\n",
    "    \"United States\": (52000, 3.8),\n",
    "}\n",
    "for country, pos_text in position_text.items():\n",
    "    pos_data_x, pos_data_y = sample_data.loc[country]\n",
    "    country = \"U.S.\" if country == \"United States\" else country\n",
    "    plt.annotate(country, xy=(pos_data_x, pos_data_y), xytext=pos_text,\n",
    "            arrowprops=dict(facecolor='black', width=0.5, shrink=0.1, headwidth=5))\n",
    "    plt.plot(pos_data_x, pos_data_y, \"ro\")\n",
    "#save_fig('money_happy_scatterplot')\n",
    "plt.show()\n",
    "\n",
    "from sklearn import linear_model\n",
    "lin1 = linear_model.LinearRegression()\n",
    "Xsample = np.c_[sample_data[\"GDP per capita\"]]\n",
    "ysample = np.c_[sample_data[\"Life satisfaction\"]]\n",
    "lin1.fit(Xsample, ysample)\n",
    "\n",
    "t0 = 4.8530528\n",
    "t1 = 4.91154459e-05\n",
    "\n",
    "sample_data.plot(kind='scatter', x=\"GDP per capita\", y='Life satisfaction', figsize=(5,3))\n",
    "plt.axis([0, 60000, 0, 10])\n",
    "M=np.linspace(0, 60000, 1000)\n",
    "plt.plot(M, t0 + t1*M, \"b\")\n",
    "plt.text(5000, 3.1, r\"$\\theta_0 = 4.85$\", fontsize=14, color=\"b\")\n",
    "plt.text(5000, 2.2, r\"$\\theta_1 = 4.91 \\times 10^{-5}$\", fontsize=14, color=\"b\")\n",
    "#save_fig('best_fit_model_plot')\n",
    "plt.show()\n",
    "\n",
    "print(\"OK\")"
   ]
  },
  {
   "cell_type": "markdown",
   "metadata": {},
   "source": [
    "### Qa) The $\\theta$ parameters and the $R^2$ Score\n",
    " \n",
    "The $\\theta$ parameters, also refered to as weights or coefficients, can be adjusted during training to optimize the performance and acurracy of a certain linear regression model. \n",
    "\n",
    "Extrating the $\\theta_0$ and $\\theta_1$ coefficients can be done by using the below python attributes:"
   ]
  },
  {
   "cell_type": "code",
   "execution_count": 235,
   "metadata": {},
   "outputs": [
    {
     "name": "stdout",
     "output_type": "stream",
     "text": [
      "Theta_0 (Intercept): [4.8530528]\n",
      "Theta_1 (Coefficient): [4.91154459e-05]\n"
     ]
    }
   ],
   "source": [
    "theta_0 = model.intercept_\n",
    "theta_1 = model.coef_[0]\n",
    "\n",
    "print(\"Theta_0 (Intercept):\", theta_0)\n",
    "print(\"Theta_1 (Coefficient):\", theta_1)"
   ]
  },
  {
   "cell_type": "markdown",
   "metadata": {},
   "source": [
    " Another important variable is the $R^2$ score. \n",
    "\n",
    "The $R^2$ measures the goodness of fit of the model itself. The minimum and maximum values range from 0 to 1, where the below list describes each outcome:\n",
    "\n",
    "- A value of 1: Considered a perfect fit, where the model accurately predicts the dependent variable based on the independent variables (Explains all the variance).\n",
    "- A value of 0: The opposite of a perfect fit. This score indicates that the model's prediction is entirely wrong and provides no explanation.\n",
    "\n",
    "While it is desirable to achieve a score of 1, it's important to note that such a score is highly unlikely as it's almost impossible to create a model that makes a perfect fit to real-world data.\n",
    "\n",
    "Therefore, it is preferable to find a value close to 1, which, as explained, indicates a better fit.\n",
    "\n",
    "In the assignment, the below calculation extracts the desirable score of 0.734.\n"
   ]
  },
  {
   "cell_type": "code",
   "execution_count": 236,
   "metadata": {},
   "outputs": [
    {
     "name": "stdout",
     "output_type": "stream",
     "text": [
      "Score: 0.7344414355437031\n"
     ]
    }
   ],
   "source": [
    "score = model.score(X, y) \n",
    "print(\"Score:\", score)"
   ]
  },
  {
   "cell_type": "markdown",
   "metadata": {},
   "source": [
    "### Qb) Using k-Nearest Neighbors\n",
    "\n",
    "Instead of using linear regression, it will now be a k-nearest neighbour algorithm, here with k=3."
   ]
  },
  {
   "cell_type": "code",
   "execution_count": 237,
   "metadata": {},
   "outputs": [
    {
     "data": {
      "text/html": [
       "<div>\n",
       "<style scoped>\n",
       "    .dataframe tbody tr th:only-of-type {\n",
       "        vertical-align: middle;\n",
       "    }\n",
       "\n",
       "    .dataframe tbody tr th {\n",
       "        vertical-align: top;\n",
       "    }\n",
       "\n",
       "    .dataframe thead th {\n",
       "        text-align: right;\n",
       "    }\n",
       "</style>\n",
       "<table border=\"1\" class=\"dataframe\">\n",
       "  <thead>\n",
       "    <tr style=\"text-align: right;\">\n",
       "      <th></th>\n",
       "      <th>GDP per capita</th>\n",
       "      <th>Life satisfaction</th>\n",
       "    </tr>\n",
       "    <tr>\n",
       "      <th>Country</th>\n",
       "      <th></th>\n",
       "      <th></th>\n",
       "    </tr>\n",
       "  </thead>\n",
       "  <tbody>\n",
       "    <tr>\n",
       "      <th>Russia</th>\n",
       "      <td>9054.914</td>\n",
       "      <td>6.0</td>\n",
       "    </tr>\n",
       "    <tr>\n",
       "      <th>Turkey</th>\n",
       "      <td>9437.372</td>\n",
       "      <td>5.6</td>\n",
       "    </tr>\n",
       "    <tr>\n",
       "      <th>Hungary</th>\n",
       "      <td>12239.894</td>\n",
       "      <td>4.9</td>\n",
       "    </tr>\n",
       "    <tr>\n",
       "      <th>Poland</th>\n",
       "      <td>12495.334</td>\n",
       "      <td>5.8</td>\n",
       "    </tr>\n",
       "    <tr>\n",
       "      <th>Slovak Republic</th>\n",
       "      <td>15991.736</td>\n",
       "      <td>6.1</td>\n",
       "    </tr>\n",
       "    <tr>\n",
       "      <th>Estonia</th>\n",
       "      <td>17288.083</td>\n",
       "      <td>5.6</td>\n",
       "    </tr>\n",
       "    <tr>\n",
       "      <th>Greece</th>\n",
       "      <td>18064.288</td>\n",
       "      <td>4.8</td>\n",
       "    </tr>\n",
       "    <tr>\n",
       "      <th>Portugal</th>\n",
       "      <td>19121.592</td>\n",
       "      <td>5.1</td>\n",
       "    </tr>\n",
       "    <tr>\n",
       "      <th>Slovenia</th>\n",
       "      <td>20732.482</td>\n",
       "      <td>5.7</td>\n",
       "    </tr>\n",
       "    <tr>\n",
       "      <th>Spain</th>\n",
       "      <td>25864.721</td>\n",
       "      <td>6.5</td>\n",
       "    </tr>\n",
       "    <tr>\n",
       "      <th>Korea</th>\n",
       "      <td>27195.197</td>\n",
       "      <td>5.8</td>\n",
       "    </tr>\n",
       "    <tr>\n",
       "      <th>Italy</th>\n",
       "      <td>29866.581</td>\n",
       "      <td>6.0</td>\n",
       "    </tr>\n",
       "    <tr>\n",
       "      <th>Japan</th>\n",
       "      <td>32485.545</td>\n",
       "      <td>5.9</td>\n",
       "    </tr>\n",
       "    <tr>\n",
       "      <th>Israel</th>\n",
       "      <td>35343.336</td>\n",
       "      <td>7.4</td>\n",
       "    </tr>\n",
       "    <tr>\n",
       "      <th>New Zealand</th>\n",
       "      <td>37044.891</td>\n",
       "      <td>7.3</td>\n",
       "    </tr>\n",
       "    <tr>\n",
       "      <th>France</th>\n",
       "      <td>37675.006</td>\n",
       "      <td>6.5</td>\n",
       "    </tr>\n",
       "    <tr>\n",
       "      <th>Belgium</th>\n",
       "      <td>40106.632</td>\n",
       "      <td>6.9</td>\n",
       "    </tr>\n",
       "    <tr>\n",
       "      <th>Germany</th>\n",
       "      <td>40996.511</td>\n",
       "      <td>7.0</td>\n",
       "    </tr>\n",
       "    <tr>\n",
       "      <th>Finland</th>\n",
       "      <td>41973.988</td>\n",
       "      <td>7.4</td>\n",
       "    </tr>\n",
       "    <tr>\n",
       "      <th>Canada</th>\n",
       "      <td>43331.961</td>\n",
       "      <td>7.3</td>\n",
       "    </tr>\n",
       "    <tr>\n",
       "      <th>Netherlands</th>\n",
       "      <td>43603.115</td>\n",
       "      <td>7.3</td>\n",
       "    </tr>\n",
       "    <tr>\n",
       "      <th>Austria</th>\n",
       "      <td>43724.031</td>\n",
       "      <td>6.9</td>\n",
       "    </tr>\n",
       "    <tr>\n",
       "      <th>United Kingdom</th>\n",
       "      <td>43770.688</td>\n",
       "      <td>6.8</td>\n",
       "    </tr>\n",
       "    <tr>\n",
       "      <th>Sweden</th>\n",
       "      <td>49866.266</td>\n",
       "      <td>7.2</td>\n",
       "    </tr>\n",
       "    <tr>\n",
       "      <th>Iceland</th>\n",
       "      <td>50854.583</td>\n",
       "      <td>7.5</td>\n",
       "    </tr>\n",
       "    <tr>\n",
       "      <th>Australia</th>\n",
       "      <td>50961.865</td>\n",
       "      <td>7.3</td>\n",
       "    </tr>\n",
       "    <tr>\n",
       "      <th>Ireland</th>\n",
       "      <td>51350.744</td>\n",
       "      <td>7.0</td>\n",
       "    </tr>\n",
       "    <tr>\n",
       "      <th>Denmark</th>\n",
       "      <td>52114.165</td>\n",
       "      <td>7.5</td>\n",
       "    </tr>\n",
       "    <tr>\n",
       "      <th>United States</th>\n",
       "      <td>55805.204</td>\n",
       "      <td>7.2</td>\n",
       "    </tr>\n",
       "  </tbody>\n",
       "</table>\n",
       "</div>"
      ],
      "text/plain": [
       "                 GDP per capita  Life satisfaction\n",
       "Country                                           \n",
       "Russia                 9054.914                6.0\n",
       "Turkey                 9437.372                5.6\n",
       "Hungary               12239.894                4.9\n",
       "Poland                12495.334                5.8\n",
       "Slovak Republic       15991.736                6.1\n",
       "Estonia               17288.083                5.6\n",
       "Greece                18064.288                4.8\n",
       "Portugal              19121.592                5.1\n",
       "Slovenia              20732.482                5.7\n",
       "Spain                 25864.721                6.5\n",
       "Korea                 27195.197                5.8\n",
       "Italy                 29866.581                6.0\n",
       "Japan                 32485.545                5.9\n",
       "Israel                35343.336                7.4\n",
       "New Zealand           37044.891                7.3\n",
       "France                37675.006                6.5\n",
       "Belgium               40106.632                6.9\n",
       "Germany               40996.511                7.0\n",
       "Finland               41973.988                7.4\n",
       "Canada                43331.961                7.3\n",
       "Netherlands           43603.115                7.3\n",
       "Austria               43724.031                6.9\n",
       "United Kingdom        43770.688                6.8\n",
       "Sweden                49866.266                7.2\n",
       "Iceland               50854.583                7.5\n",
       "Australia             50961.865                7.3\n",
       "Ireland               51350.744                7.0\n",
       "Denmark               52114.165                7.5\n",
       "United States         55805.204                7.2"
      ]
     },
     "execution_count": 237,
     "metadata": {},
     "output_type": "execute_result"
    }
   ],
   "source": [
    "sample_data"
   ]
  },
  {
   "cell_type": "code",
   "execution_count": 238,
   "metadata": {},
   "outputs": [
    {
     "data": {
      "text/html": [
       "<div>\n",
       "<style scoped>\n",
       "    .dataframe tbody tr th:only-of-type {\n",
       "        vertical-align: middle;\n",
       "    }\n",
       "\n",
       "    .dataframe tbody tr th {\n",
       "        vertical-align: top;\n",
       "    }\n",
       "\n",
       "    .dataframe thead th {\n",
       "        text-align: right;\n",
       "    }\n",
       "</style>\n",
       "<table border=\"1\" class=\"dataframe\">\n",
       "  <thead>\n",
       "    <tr style=\"text-align: right;\">\n",
       "      <th></th>\n",
       "      <th>GDP per capita</th>\n",
       "      <th>Life satisfaction</th>\n",
       "    </tr>\n",
       "    <tr>\n",
       "      <th>Country</th>\n",
       "      <th></th>\n",
       "      <th></th>\n",
       "    </tr>\n",
       "  </thead>\n",
       "  <tbody>\n",
       "    <tr>\n",
       "      <th>Russia</th>\n",
       "      <td>9054.914</td>\n",
       "      <td>6.0</td>\n",
       "    </tr>\n",
       "    <tr>\n",
       "      <th>Turkey</th>\n",
       "      <td>9437.372</td>\n",
       "      <td>5.6</td>\n",
       "    </tr>\n",
       "    <tr>\n",
       "      <th>Hungary</th>\n",
       "      <td>12239.894</td>\n",
       "      <td>4.9</td>\n",
       "    </tr>\n",
       "    <tr>\n",
       "      <th>Poland</th>\n",
       "      <td>12495.334</td>\n",
       "      <td>5.8</td>\n",
       "    </tr>\n",
       "    <tr>\n",
       "      <th>Slovak Republic</th>\n",
       "      <td>15991.736</td>\n",
       "      <td>6.1</td>\n",
       "    </tr>\n",
       "    <tr>\n",
       "      <th>Estonia</th>\n",
       "      <td>17288.083</td>\n",
       "      <td>5.6</td>\n",
       "    </tr>\n",
       "    <tr>\n",
       "      <th>Greece</th>\n",
       "      <td>18064.288</td>\n",
       "      <td>4.8</td>\n",
       "    </tr>\n",
       "    <tr>\n",
       "      <th>Portugal</th>\n",
       "      <td>19121.592</td>\n",
       "      <td>5.1</td>\n",
       "    </tr>\n",
       "    <tr>\n",
       "      <th>Slovenia</th>\n",
       "      <td>20732.482</td>\n",
       "      <td>5.7</td>\n",
       "    </tr>\n",
       "    <tr>\n",
       "      <th>Spain</th>\n",
       "      <td>25864.721</td>\n",
       "      <td>6.5</td>\n",
       "    </tr>\n",
       "    <tr>\n",
       "      <th>Korea</th>\n",
       "      <td>27195.197</td>\n",
       "      <td>5.8</td>\n",
       "    </tr>\n",
       "    <tr>\n",
       "      <th>Italy</th>\n",
       "      <td>29866.581</td>\n",
       "      <td>6.0</td>\n",
       "    </tr>\n",
       "    <tr>\n",
       "      <th>Japan</th>\n",
       "      <td>32485.545</td>\n",
       "      <td>5.9</td>\n",
       "    </tr>\n",
       "    <tr>\n",
       "      <th>Israel</th>\n",
       "      <td>35343.336</td>\n",
       "      <td>7.4</td>\n",
       "    </tr>\n",
       "    <tr>\n",
       "      <th>New Zealand</th>\n",
       "      <td>37044.891</td>\n",
       "      <td>7.3</td>\n",
       "    </tr>\n",
       "    <tr>\n",
       "      <th>France</th>\n",
       "      <td>37675.006</td>\n",
       "      <td>6.5</td>\n",
       "    </tr>\n",
       "    <tr>\n",
       "      <th>Belgium</th>\n",
       "      <td>40106.632</td>\n",
       "      <td>6.9</td>\n",
       "    </tr>\n",
       "    <tr>\n",
       "      <th>Germany</th>\n",
       "      <td>40996.511</td>\n",
       "      <td>7.0</td>\n",
       "    </tr>\n",
       "    <tr>\n",
       "      <th>Finland</th>\n",
       "      <td>41973.988</td>\n",
       "      <td>7.4</td>\n",
       "    </tr>\n",
       "    <tr>\n",
       "      <th>Canada</th>\n",
       "      <td>43331.961</td>\n",
       "      <td>7.3</td>\n",
       "    </tr>\n",
       "    <tr>\n",
       "      <th>Netherlands</th>\n",
       "      <td>43603.115</td>\n",
       "      <td>7.3</td>\n",
       "    </tr>\n",
       "    <tr>\n",
       "      <th>Austria</th>\n",
       "      <td>43724.031</td>\n",
       "      <td>6.9</td>\n",
       "    </tr>\n",
       "    <tr>\n",
       "      <th>United Kingdom</th>\n",
       "      <td>43770.688</td>\n",
       "      <td>6.8</td>\n",
       "    </tr>\n",
       "    <tr>\n",
       "      <th>Sweden</th>\n",
       "      <td>49866.266</td>\n",
       "      <td>7.2</td>\n",
       "    </tr>\n",
       "    <tr>\n",
       "      <th>Iceland</th>\n",
       "      <td>50854.583</td>\n",
       "      <td>7.5</td>\n",
       "    </tr>\n",
       "    <tr>\n",
       "      <th>Australia</th>\n",
       "      <td>50961.865</td>\n",
       "      <td>7.3</td>\n",
       "    </tr>\n",
       "    <tr>\n",
       "      <th>Ireland</th>\n",
       "      <td>51350.744</td>\n",
       "      <td>7.0</td>\n",
       "    </tr>\n",
       "    <tr>\n",
       "      <th>Denmark</th>\n",
       "      <td>52114.165</td>\n",
       "      <td>7.5</td>\n",
       "    </tr>\n",
       "    <tr>\n",
       "      <th>United States</th>\n",
       "      <td>55805.204</td>\n",
       "      <td>7.2</td>\n",
       "    </tr>\n",
       "  </tbody>\n",
       "</table>\n",
       "</div>"
      ],
      "text/plain": [
       "                 GDP per capita  Life satisfaction\n",
       "Country                                           \n",
       "Russia                 9054.914                6.0\n",
       "Turkey                 9437.372                5.6\n",
       "Hungary               12239.894                4.9\n",
       "Poland                12495.334                5.8\n",
       "Slovak Republic       15991.736                6.1\n",
       "Estonia               17288.083                5.6\n",
       "Greece                18064.288                4.8\n",
       "Portugal              19121.592                5.1\n",
       "Slovenia              20732.482                5.7\n",
       "Spain                 25864.721                6.5\n",
       "Korea                 27195.197                5.8\n",
       "Italy                 29866.581                6.0\n",
       "Japan                 32485.545                5.9\n",
       "Israel                35343.336                7.4\n",
       "New Zealand           37044.891                7.3\n",
       "France                37675.006                6.5\n",
       "Belgium               40106.632                6.9\n",
       "Germany               40996.511                7.0\n",
       "Finland               41973.988                7.4\n",
       "Canada                43331.961                7.3\n",
       "Netherlands           43603.115                7.3\n",
       "Austria               43724.031                6.9\n",
       "United Kingdom        43770.688                6.8\n",
       "Sweden                49866.266                7.2\n",
       "Iceland               50854.583                7.5\n",
       "Australia             50961.865                7.3\n",
       "Ireland               51350.744                7.0\n",
       "Denmark               52114.165                7.5\n",
       "United States         55805.204                7.2"
      ]
     },
     "execution_count": 238,
     "metadata": {},
     "output_type": "execute_result"
    }
   ],
   "source": [
    "# Preprocessed data\n",
    "country_stats"
   ]
  },
  {
   "cell_type": "code",
   "execution_count": 239,
   "metadata": {},
   "outputs": [
    {
     "name": "stdout",
     "output_type": "stream",
     "text": [
      "X.shape= (29, 1)\n",
      "y.shape= (29, 1)\n"
     ]
    },
    {
     "data": {
      "image/png": "[encoded data removed]",
      "text/plain": [
       "<Figure size 640x480 with 1 Axes>"
      ]
     },
     "metadata": {},
     "output_type": "display_data"
    },
    {
     "name": "stdout",
     "output_type": "stream",
     "text": [
      "KNN prediction:  [[5.76666667]]\n",
      "Linear regression prediction:  [[5.96242338]]\n",
      "KKN score:  0.8525732853499179\n",
      "Linear score:  0.7344414355437031\n"
     ]
    }
   ],
   "source": [
    "from sklearn.neighbors import KNeighborsRegressor\n",
    "\n",
    "# Prepare the data\n",
    "X = np.c_[country_stats[\"GDP per capita\"]]\n",
    "y = np.c_[country_stats[\"Life satisfaction\"]]\n",
    "\n",
    "print(\"X.shape=\",X.shape)\n",
    "print(\"y.shape=\",y.shape)\n",
    "\n",
    "# Visualize the data\n",
    "country_stats.plot(kind='scatter', x=\"GDP per capita\", y='Life satisfaction')\n",
    "plt.grid(True)\n",
    "plt.show()\n",
    "\n",
    "# Select and train a model\n",
    "knn = KNeighborsRegressor(n_neighbors=3)\n",
    "\n",
    "# Train the new model\n",
    "knn.fit(X, y) \n",
    "\n",
    "\n",
    "# Predictions for Cyprus \n",
    "print(\"KNN prediction: \", knn.predict(X_new))  \n",
    "print(\"Linear regression prediction: \", lin1.predict(X_new))  \n",
    "\n",
    "# Evaluating the models \n",
    "print(\"KKN score: \", knn.score(X, y))\n",
    "print(\"Linear score: \", lin1.score(X, y))\n",
    "\n"
   ]
  },
  {
   "cell_type": "markdown",
   "metadata": {},
   "source": [
    "\n",
    "\n",
    "As seen in the calculations above, the KNN prediction for Cyprus is 5.77, which is a bit less than the linear prediction of 5.96. \n",
    "\n",
    "KNN uses the score method of the coefficient of determination (R^2), as does the linear regression model. This means they are able to be compared, since they use the same scoring methods. \n",
    "\n",
    "\n",
    "The model used here is the \"Regression based on k-nearest neighbors\" (URL: https://scikit-learn.org/stable/modules/generated/sklearn.neighbors.KNeighborsRegressor.html)\n",
    "\n",
    "\n",
    "\n",
    "\n",
    "\n",
    "\n"
   ]
  },
  {
   "cell_type": "markdown",
   "metadata": {},
   "source": [
    "### Qc) Tuning Parameter for k-Nearest Neighbors and A Sanity Check\n",
    "\n",
    "\n",
    "\n",
    "\n",
    "But that not the full story. Try plotting the prediction for both models in the same graph and tune the `k_neighbor` parameter of the `KNeighborsRegressor` model.  \n",
    "\n",
    "Choosing `k_neighbor=1` produces a nice `score=1`, that seems optimal...but is it really so good?\n",
    "- No, when score=1 it means that the model fits perfectly. Though this is true in some sense, it gives an obscured view. When k_neighbor=1 the model only considers a single nearest neighboor. Then the model doesn't consider the outliers in the data, and then we get a fragile model.  \n",
    "\n",
    "Plotting the two models in a 'Life Satisfaction-vs-GDP capita' 2D plot by creating an array in the range 0 to 60000 (USD) (the `M` matrix below) and then predict the corresponding y value will sheed some light to this. \n",
    "\n",
    "Now reusing the plots stubs below, try to explain why the k-nearest neighbour with `k_neighbor=1` has such a good score.\n",
    "- When there's only one neighbor, it will go directly from point to point. This will give the illusion that the model fits perfectly because it only has to consider 1 neighbor. On the other hand, when the model has to consider 3 neighbors, it tries to go to all of them, which is not possible. Then it makes a mean of the data. \n",
    "\n",
    "Does a score=1 with `k_neighbor=1`also mean that this would be the prefered estimator for the job?\n",
    "- No, when the score is 1, it suggests that there's something wrong with the model or the way that the model is used. In this scenario, when the neighbor=1, the score is 1. This suggests that the model doesn't work as intended. There could be a lot of reasons why this is the case, but in this instance, it's because the neighbor=1.\n",
    "\n",
    "Hint here is a similar plot of a KNN for a small set of different k's:\n",
    "\n",
    "<img src=\"https://itundervisning.ase.au.dk/SWMAL/L01/Figs/regression_with_knn.png\"  alt=\"WARNING: could not get image from server.\" style=\"height:150px\">"
   ]
  },
  {
   "cell_type": "code",
   "execution_count": 240,
   "metadata": {},
   "outputs": [
    {
     "name": "stdout",
     "output_type": "stream",
     "text": [
      "1.0\n"
     ]
    },
    {
     "data": {
      "image/png": "[encoded data removed]",
      "text/plain": [
       "<Figure size 500x300 with 1 Axes>"
      ]
     },
     "metadata": {},
     "output_type": "display_data"
    }
   ],
   "source": [
    "sample_data.plot(kind='scatter', x=\"GDP per capita\", y='Life satisfaction', figsize=(5,3))\n",
    "plt.axis([0, 60000, 0, 10])\n",
    "\n",
    "# create an test matrix M, with the same dimensionality as X, and in the range [0;60000] \n",
    "# and a step size of your choice\n",
    "m=np.linspace(0, 60000, 1000)\n",
    "M=np.empty([m.shape[0],1])\n",
    "M[:,0]=m\n",
    "\n",
    "# from this test M data, predict the y values via the lin.reg. and k-nearest models\n",
    "y_pred_lin = lin1.predict(M)\n",
    "y_pred_knn = knn.predict(M)   # ASSUMING the variable name 'knn' of your KNeighborsRegressor \n",
    "\n",
    "# use plt.plot to plot x-y into the sample_data plot..\n",
    "plt.plot(m, y_pred_lin, \"r\")\n",
    "plt.plot(m, y_pred_knn, \"b\")\n",
    " \n",
    "# Select and train a model with neighbor 1\n",
    "knn1 = KNeighborsRegressor(n_neighbors=1)\n",
    "knn1.fit(X, y) \n",
    "y_pred_knn1 = knn1.predict(M)    \n",
    "plt.plot(m, y_pred_knn1, \"g\")\n",
    "print(knn1.score(X, y))"
   ]
  },
  {
   "cell_type": "markdown",
   "metadata": {},
   "source": [
    "### Qd) Trying out a Neural Network\n",
    "\n",
    "Now we will use a neural network on the data, here we will use scikit-learns MLPRegressor. Afterwards the score of this model will be extracted."
   ]
  },
  {
   "cell_type": "code",
   "execution_count": 241,
   "metadata": {},
   "outputs": [
    {
     "name": "stdout",
     "output_type": "stream",
     "text": [
      "Iteration 1, loss = 290434295.23044360\n",
      "Iteration 2, loss = 286926974.91845930\n",
      "Iteration 3, loss = 283445091.80120468\n",
      "Iteration 4, loss = 279989007.88284469\n",
      "Iteration 5, loss = 276559070.05886549\n",
      "Iteration 6, loss = 273155609.32856679\n",
      "Iteration 7, loss = 269778940.07033998\n",
      "Iteration 8, loss = 266429359.38609853\n",
      "Iteration 9, loss = 263107146.52031821\n",
      "Iteration 10, loss = 259812562.35816029\n",
      "Iteration 11, loss = 256545849.00610602\n",
      "Iteration 12, loss = 253307229.45747611\n",
      "Iteration 13, loss = 250096907.34413815\n",
      "Iteration 14, loss = 246915066.77466324\n",
      "Iteration 15, loss = 243761872.25819016\n",
      "Iteration 16, loss = 240637468.71230754\n",
      "Iteration 17, loss = 237541981.55239332\n",
      "Iteration 18, loss = 234475516.85906243\n",
      "Iteration 19, loss = 231438161.61967906\n",
      "Iteration 20, loss = 228429984.03930050\n",
      "Iteration 21, loss = 225451033.91592681\n",
      "Iteration 22, loss = 222501343.07455081\n",
      "Iteration 23, loss = 219580925.85422322\n",
      "Iteration 24, loss = 216689779.64216983\n",
      "Iteration 25, loss = 213827885.44891000\n",
      "Iteration 26, loss = 210995208.51833686\n",
      "Iteration 27, loss = 208191698.96679541\n",
      "Iteration 28, loss = 205417292.44535619\n",
      "Iteration 29, loss = 202671910.81969425\n",
      "Iteration 30, loss = 199955462.86225185\n",
      "Iteration 31, loss = 197267844.95167446\n",
      "Iteration 32, loss = 194608941.77484995\n",
      "Iteration 33, loss = 191978627.02724859\n",
      "Iteration 34, loss = 189376764.10764292\n",
      "Iteration 35, loss = 186803206.80367702\n",
      "Iteration 36, loss = 184257799.96514288\n",
      "Iteration 37, loss = 181740380.16221160\n",
      "Iteration 38, loss = 179250776.32624131\n",
      "Iteration 39, loss = 176788810.37114519\n",
      "Iteration 40, loss = 174354297.79365045\n",
      "Iteration 41, loss = 171947048.25110015\n",
      "Iteration 42, loss = 169566866.11575758\n",
      "Iteration 43, loss = 167213551.00484595\n",
      "Iteration 44, loss = 164886898.28581721\n",
      "Iteration 45, loss = 162586699.55657041\n",
      "Iteration 46, loss = 160312743.10055020\n",
      "Iteration 47, loss = 158064814.31683558\n",
      "Iteration 48, loss = 155842696.12549382\n",
      "Iteration 49, loss = 153646169.34860966\n",
      "Iteration 50, loss = 151475013.06751981\n",
      "Iteration 51, loss = 149329004.95688277\n",
      "Iteration 52, loss = 147207921.59629363\n",
      "Iteration 53, loss = 145111538.76022065\n",
      "Iteration 54, loss = 143039631.68709087\n",
      "Iteration 55, loss = 140991975.32838824\n",
      "Iteration 56, loss = 138968344.57865524\n",
      "Iteration 57, loss = 136968514.48730263\n",
      "Iteration 58, loss = 134992260.45313826\n",
      "Iteration 59, loss = 133039358.40252548\n",
      "Iteration 60, loss = 131109584.95206928\n",
      "Iteration 61, loss = 129202717.55671819\n",
      "Iteration 62, loss = 127318534.64414711\n",
      "Iteration 63, loss = 125456815.73626374\n",
      "Iteration 64, loss = 123617341.55865660\n",
      "Iteration 65, loss = 121799894.13876976\n",
      "Iteration 66, loss = 120004256.89356244\n",
      "Iteration 67, loss = 118230214.70737669\n",
      "Iteration 68, loss = 116477554.00070480\n",
      "Iteration 69, loss = 114746062.79051290\n",
      "Iteration 70, loss = 113035530.74274606\n",
      "Iteration 71, loss = 111345749.21760385\n",
      "Iteration 72, loss = 109676511.30814496\n",
      "Iteration 73, loss = 108027611.87274542\n",
      "Iteration 74, loss = 106398847.56190486\n",
      "Iteration 75, loss = 104790016.83986317\n",
      "Iteration 76, loss = 103200920.00146291\n",
      "Iteration 77, loss = 101631359.18466166\n",
      "Iteration 78, loss = 100081138.37907493\n",
      "Iteration 79, loss = 98550063.43090008\n",
      "Iteration 80, loss = 97037942.04455309\n",
      "Iteration 81, loss = 95544583.78132014\n",
      "Iteration 82, loss = 94069800.05530959\n",
      "Iteration 83, loss = 92613404.12696616\n",
      "Iteration 84, loss = 91175211.09439014\n",
      "Iteration 85, loss = 89755037.88268732\n",
      "Iteration 86, loss = 88352703.23155566\n",
      "Iteration 87, loss = 86968027.68130204\n",
      "Iteration 88, loss = 85600833.55746408\n",
      "Iteration 89, loss = 84250944.95419993\n",
      "Iteration 90, loss = 82918187.71659584\n",
      "Iteration 91, loss = 81602389.42202777\n",
      "Iteration 92, loss = 80303379.36070359\n",
      "Iteration 93, loss = 79020988.51550117\n",
      "Iteration 94, loss = 77755049.54120794\n",
      "Iteration 95, loss = 76505396.74325842\n",
      "Iteration 96, loss = 75271866.05605870\n",
      "Iteration 97, loss = 74054295.02097797\n",
      "Iteration 98, loss = 72852522.76408070\n",
      "Iteration 99, loss = 71666389.97366714\n",
      "Iteration 100, loss = 70495738.87768234\n",
      "Iteration 101, loss = 69340413.22104985\n",
      "Iteration 102, loss = 68200258.24297996\n",
      "Iteration 103, loss = 67075120.65429863\n",
      "Iteration 104, loss = 65964848.61483803\n",
      "Iteration 105, loss = 64869291.71092643\n",
      "Iteration 106, loss = 63788300.93301106\n",
      "Iteration 107, loss = 62721728.65344451\n",
      "Iteration 108, loss = 61669428.60446204\n",
      "Iteration 109, loss = 60631255.85637417\n",
      "Iteration 110, loss = 59607066.79599745\n",
      "Iteration 111, loss = 58596719.10534196\n",
      "Iteration 112, loss = 57600071.74057401\n",
      "Iteration 113, loss = 56616984.91126954\n",
      "Iteration 114, loss = 55647320.05997168\n",
      "Iteration 115, loss = 54690939.84206531\n",
      "Iteration 116, loss = 53747708.10597887\n",
      "Iteration 117, loss = 52817489.87372303\n",
      "Iteration 118, loss = 51900151.32177443\n",
      "Iteration 119, loss = 50995559.76231126\n",
      "Iteration 120, loss = 50103583.62480697\n",
      "Iteration 121, loss = 49224092.43798707\n",
      "Iteration 122, loss = 48356956.81215288\n",
      "Iteration 123, loss = 47502048.42187629\n",
      "Iteration 124, loss = 46659239.98906756\n",
      "Iteration 125, loss = 45828405.26641855\n",
      "Iteration 126, loss = 45009419.02122276\n",
      "Iteration 127, loss = 44202157.01957307\n",
      "Iteration 128, loss = 43406496.01093756\n",
      "Iteration 129, loss = 42622313.71311320\n",
      "Iteration 130, loss = 41849488.79755717\n",
      "Iteration 131, loss = 41087900.87509485\n",
      "Iteration 132, loss = 40337430.48200314\n",
      "Iteration 133, loss = 39597959.06646779\n",
      "Iteration 134, loss = 38869368.97541259\n",
      "Iteration 135, loss = 38151543.44169848\n",
      "Iteration 136, loss = 37444366.57169053\n",
      "Iteration 137, loss = 36747723.33318929\n",
      "Iteration 138, loss = 36061499.54372469\n",
      "Iteration 139, loss = 35385581.85920878\n",
      "Iteration 140, loss = 34719857.76294434\n",
      "Iteration 141, loss = 34064215.55498595\n",
      "Iteration 142, loss = 33418544.34184999\n",
      "Iteration 143, loss = 32782734.02656958\n",
      "Iteration 144, loss = 32156675.29909116\n",
      "Iteration 145, loss = 31540259.62700796\n",
      "Iteration 146, loss = 30933379.24662697\n",
      "Iteration 147, loss = 30335927.15436451\n",
      "Iteration 148, loss = 29747797.09846660\n",
      "Iteration 149, loss = 29168883.57104910\n",
      "Iteration 150, loss = 28599081.80045349\n",
      "Iteration 151, loss = 28038287.74391323\n",
      "Iteration 152, loss = 27486398.08052623\n",
      "Iteration 153, loss = 26943310.20452822\n",
      "Iteration 154, loss = 26408922.21886230\n",
      "Iteration 155, loss = 25883132.92903953\n",
      "Iteration 156, loss = 25365841.83728523\n",
      "Iteration 157, loss = 24856949.13696606\n",
      "Iteration 158, loss = 24356355.70729241\n",
      "Iteration 159, loss = 23863963.10829058\n",
      "Iteration 160, loss = 23379673.57603967\n",
      "Iteration 161, loss = 22903390.01816720\n",
      "Iteration 162, loss = 22435016.00959824\n",
      "Iteration 163, loss = 21974455.78855223\n",
      "Iteration 164, loss = 21521614.25278156\n",
      "Iteration 165, loss = 21076396.95604661\n",
      "Iteration 166, loss = 20638710.10482106\n",
      "Iteration 167, loss = 20208460.55522152\n",
      "Iteration 168, loss = 19785555.81015583\n",
      "Iteration 169, loss = 19369904.01668377\n",
      "Iteration 170, loss = 18961413.96358429\n",
      "Iteration 171, loss = 18559995.07912303\n",
      "Iteration 172, loss = 18165557.42901421\n",
      "Iteration 173, loss = 17778011.71457046\n",
      "Iteration 174, loss = 17397269.27103463\n",
      "Iteration 175, loss = 17023242.06608719\n",
      "Iteration 176, loss = 16655842.69852301\n",
      "Iteration 177, loss = 16294984.39709119\n",
      "Iteration 178, loss = 15940581.01949180\n",
      "Iteration 179, loss = 15592547.05152283\n",
      "Iteration 180, loss = 15250797.60637148\n",
      "Iteration 181, loss = 14915248.42404303\n",
      "Iteration 182, loss = 14585815.87092119\n",
      "Iteration 183, loss = 14262416.93945337\n",
      "Iteration 184, loss = 13944969.24795465\n",
      "Iteration 185, loss = 13633391.04052399\n",
      "Iteration 186, loss = 13327601.18706645\n",
      "Iteration 187, loss = 13027519.18341484\n",
      "Iteration 188, loss = 12733065.15154476\n",
      "Iteration 189, loss = 12444159.83987650\n",
      "Iteration 190, loss = 12160724.62365762\n",
      "Iteration 191, loss = 11882681.50541995\n",
      "Iteration 192, loss = 11609953.11550478\n",
      "Iteration 193, loss = 11342462.71265005\n",
      "Iteration 194, loss = 11080134.18463337\n",
      "Iteration 195, loss = 10822892.04896490\n",
      "Iteration 196, loss = 10570661.45362386\n",
      "Iteration 197, loss = 10323368.17783287\n",
      "Iteration 198, loss = 10080938.63286410\n",
      "Iteration 199, loss = 9843299.86287133\n",
      "Iteration 200, loss = 9610379.54574223\n",
      "Iteration 201, loss = 9382105.99396509\n",
      "Iteration 202, loss = 9158408.15550429\n",
      "Iteration 203, loss = 8939215.61467916\n",
      "Iteration 204, loss = 8724458.59304044\n",
      "Iteration 205, loss = 8514067.95023934\n",
      "Iteration 206, loss = 8307975.18488352\n",
      "Iteration 207, loss = 8106112.43537511\n",
      "Iteration 208, loss = 7908412.48072557\n",
      "Iteration 209, loss = 7714808.74134230\n",
      "Iteration 210, loss = 7525235.27978237\n",
      "Iteration 211, loss = 7339626.80146846\n",
      "Iteration 212, loss = 7157918.65536230\n",
      "Iteration 213, loss = 6980046.83459133\n",
      "Iteration 214, loss = 6805947.97702397\n",
      "Iteration 215, loss = 6635559.36578939\n",
      "Iteration 216, loss = 6468818.92973753\n",
      "Iteration 217, loss = 6305665.24383542\n",
      "Iteration 218, loss = 6146037.52949602\n",
      "Iteration 219, loss = 5989875.65483572\n",
      "Iteration 220, loss = 5837120.13485700\n",
      "Iteration 221, loss = 5687712.13155279\n",
      "Iteration 222, loss = 5541593.45392930\n",
      "Iteration 223, loss = 5398706.55794408\n",
      "Iteration 224, loss = 5258994.54635637\n",
      "Iteration 225, loss = 5122401.16848696\n",
      "Iteration 226, loss = 4988870.81988471\n",
      "Iteration 227, loss = 4858348.54189740\n",
      "Iteration 228, loss = 4730780.02114440\n",
      "Iteration 229, loss = 4606111.58888890\n",
      "Iteration 230, loss = 4484290.22030786\n",
      "Iteration 231, loss = 4365263.53365746\n",
      "Iteration 232, loss = 4248979.78933253\n",
      "Iteration 233, loss = 4135387.88881833\n",
      "Iteration 234, loss = 4024437.37353312\n",
      "Iteration 235, loss = 3916078.42356042\n",
      "Iteration 236, loss = 3810261.85626962\n",
      "Iteration 237, loss = 3706939.12482427\n",
      "Iteration 238, loss = 3606062.31657690\n",
      "Iteration 239, loss = 3507584.15134995\n",
      "Iteration 240, loss = 3411457.97960219\n",
      "Iteration 241, loss = 3317637.78048037\n",
      "Iteration 242, loss = 3226078.15975571\n",
      "Iteration 243, loss = 3136734.34764542\n",
      "Iteration 244, loss = 3049562.19651905\n",
      "Iteration 245, loss = 2964518.17849018\n",
      "Iteration 246, loss = 2881559.38289353\n",
      "Iteration 247, loss = 2800643.51364831\n",
      "Iteration 248, loss = 2721728.88650806\n",
      "Iteration 249, loss = 2644774.42619820\n",
      "Iteration 250, loss = 2569739.66344175\n",
      "Iteration 251, loss = 2496584.73187455\n",
      "Iteration 252, loss = 2425270.36485105\n",
      "Iteration 253, loss = 2355757.89214180\n",
      "Iteration 254, loss = 2288009.23652427\n",
      "Iteration 255, loss = 2221986.91026821\n",
      "Iteration 256, loss = 2157654.01151748\n",
      "Iteration 257, loss = 2094974.22056970\n",
      "Iteration 258, loss = 2033911.79605584\n",
      "Iteration 259, loss = 1974431.57102147\n",
      "Iteration 260, loss = 1916498.94891168\n",
      "Iteration 261, loss = 1860079.89946193\n",
      "Iteration 262, loss = 1805140.95449668\n",
      "Iteration 263, loss = 1751649.20363845\n",
      "Iteration 264, loss = 1699572.28992923\n",
      "Iteration 265, loss = 1648878.40536701\n",
      "Iteration 266, loss = 1599536.28635959\n",
      "Iteration 267, loss = 1551515.20909837\n",
      "Iteration 268, loss = 1504784.98485476\n",
      "Iteration 269, loss = 1459315.95520161\n",
      "Iteration 270, loss = 1415078.98716261\n",
      "Iteration 271, loss = 1372045.46829229\n",
      "Iteration 272, loss = 1330187.30168933\n",
      "Iteration 273, loss = 1289476.90094614\n",
      "Iteration 274, loss = 1249887.18503743\n",
      "Iteration 275, loss = 1211391.57315076\n",
      "Iteration 276, loss = 1173963.97946186\n",
      "Iteration 277, loss = 1137578.80785774\n",
      "Iteration 278, loss = 1102210.94661042\n",
      "Iteration 279, loss = 1067835.76300441\n",
      "Iteration 280, loss = 1034429.09792062\n",
      "Iteration 281, loss = 1001967.26037998\n",
      "Iteration 282, loss = 970427.02204948\n",
      "Iteration 283, loss = 939785.61171373\n",
      "Iteration 284, loss = 910020.70971492\n",
      "Iteration 285, loss = 881110.44236420\n",
      "Iteration 286, loss = 853033.37632730\n",
      "Iteration 287, loss = 825768.51298742\n",
      "Iteration 288, loss = 799295.28278823\n",
      "Iteration 289, loss = 773593.53955979\n",
      "Iteration 290, loss = 748643.55483030\n",
      "Iteration 291, loss = 724426.01212659\n",
      "Iteration 292, loss = 700922.00126583\n",
      "Iteration 293, loss = 678113.01264161\n",
      "Iteration 294, loss = 655980.93150670\n",
      "Iteration 295, loss = 634508.03225548\n",
      "Iteration 296, loss = 613676.97270847\n",
      "Iteration 297, loss = 593470.78840164\n",
      "Iteration 298, loss = 573872.88688300\n",
      "Iteration 299, loss = 554867.04201892\n",
      "Iteration 300, loss = 536437.38831278\n",
      "Iteration 301, loss = 518568.41523807\n",
      "Iteration 302, loss = 501244.96158855\n",
      "Iteration 303, loss = 484452.20984756\n",
      "Iteration 304, loss = 468175.68057883\n",
      "Iteration 305, loss = 452401.22684076\n",
      "Iteration 306, loss = 437115.02862661\n",
      "Iteration 307, loss = 422303.58733226\n",
      "Iteration 308, loss = 407953.72025383\n",
      "Iteration 309, loss = 394052.55511696\n",
      "Iteration 310, loss = 380587.52463956\n",
      "Iteration 311, loss = 367546.36112998\n",
      "Iteration 312, loss = 354917.09112219\n",
      "Iteration 313, loss = 342688.03004979\n",
      "Iteration 314, loss = 330847.77696028\n",
      "Iteration 315, loss = 319385.20927133\n",
      "Iteration 316, loss = 308289.47757040\n",
      "Iteration 317, loss = 297550.00045922\n",
      "Iteration 318, loss = 287156.45944437\n",
      "Iteration 319, loss = 277098.79387543\n",
      "Iteration 320, loss = 267367.19593172\n",
      "Iteration 321, loss = 257952.10565899\n",
      "Iteration 322, loss = 248844.20605701\n",
      "Iteration 323, loss = 240034.41821925\n",
      "Iteration 324, loss = 231513.89652550\n",
      "Iteration 325, loss = 223274.02388839\n",
      "Iteration 326, loss = 215306.40705476\n",
      "Iteration 327, loss = 207602.87196253\n",
      "Iteration 328, loss = 200155.45915390\n",
      "Iteration 329, loss = 192956.41924562\n",
      "Iteration 330, loss = 185998.20845683\n",
      "Iteration 331, loss = 179273.48419510\n",
      "Iteration 332, loss = 172775.10070123\n",
      "Iteration 333, loss = 166496.10475323\n",
      "Iteration 334, loss = 160429.73142987\n",
      "Iteration 335, loss = 154569.39993423\n",
      "Iteration 336, loss = 148908.70947748\n",
      "Iteration 337, loss = 143441.43522318\n",
      "Iteration 338, loss = 138161.52429237\n",
      "Iteration 339, loss = 133063.09182953\n",
      "Iteration 340, loss = 128140.41712955\n",
      "Iteration 341, loss = 123387.93982578\n",
      "Iteration 342, loss = 118800.25613933\n",
      "Iteration 343, loss = 114372.11518928\n",
      "Iteration 344, loss = 110098.41536419\n",
      "Iteration 345, loss = 105974.20075439\n",
      "Iteration 346, loss = 101994.65764525\n",
      "Iteration 347, loss = 98155.11107106\n",
      "Iteration 348, loss = 94451.02142945\n",
      "Iteration 349, loss = 90877.98115603\n",
      "Iteration 350, loss = 87431.71145899\n",
      "Iteration 351, loss = 84108.05911347\n",
      "Iteration 352, loss = 80902.99331520\n",
      "Iteration 353, loss = 77812.60259315\n",
      "Iteration 354, loss = 74833.09178088\n",
      "Iteration 355, loss = 71960.77904597\n",
      "Iteration 356, loss = 69192.09297731\n",
      "Iteration 357, loss = 66523.56972967\n",
      "Iteration 358, loss = 63951.85022503\n",
      "Iteration 359, loss = 61473.67741035\n",
      "Iteration 360, loss = 59085.89357102\n",
      "Iteration 361, loss = 56785.43769963\n",
      "Iteration 362, loss = 54569.34291936\n",
      "Iteration 363, loss = 52434.73396153\n",
      "Iteration 364, loss = 50378.82469664\n",
      "Iteration 365, loss = 48398.91571830\n",
      "Iteration 366, loss = 46492.39197945\n",
      "Iteration 367, loss = 44656.72048021\n",
      "Iteration 368, loss = 42889.44800671\n",
      "Iteration 369, loss = 41188.19892029\n",
      "Iteration 370, loss = 39550.67299630\n",
      "Iteration 371, loss = 37974.64331193\n",
      "Iteration 372, loss = 36457.95418232\n",
      "Iteration 373, loss = 34998.51914431\n",
      "Iteration 374, loss = 33594.31898701\n",
      "Iteration 375, loss = 32243.39982866\n",
      "Iteration 376, loss = 30943.87123895\n",
      "Iteration 377, loss = 29693.90440610\n",
      "Iteration 378, loss = 28491.73034802\n",
      "Iteration 379, loss = 27335.63816680\n",
      "Iteration 380, loss = 26223.97334588\n",
      "Iteration 381, loss = 25155.13608900\n",
      "Iteration 382, loss = 24127.57970048\n",
      "Iteration 383, loss = 23139.80900582\n",
      "Iteration 384, loss = 22190.37881216\n",
      "Iteration 385, loss = 21277.89240764\n",
      "Iteration 386, loss = 20401.00009918\n",
      "Iteration 387, loss = 19558.39778774\n",
      "Iteration 388, loss = 18748.82558053\n",
      "Iteration 389, loss = 17971.06643932\n",
      "Iteration 390, loss = 17223.94486430\n",
      "Iteration 391, loss = 16506.32561261\n",
      "Iteration 392, loss = 15817.11245098\n",
      "Iteration 393, loss = 15155.24694175\n",
      "Iteration 394, loss = 14519.70726153\n",
      "Iteration 395, loss = 13909.50705197\n",
      "Iteration 396, loss = 13323.69430174\n",
      "Iteration 397, loss = 12761.35025929\n",
      "Iteration 398, loss = 12221.58837552\n",
      "Iteration 399, loss = 11703.55327593\n",
      "Iteration 400, loss = 11206.41976136\n",
      "Iteration 401, loss = 10729.39183687\n",
      "Iteration 402, loss = 10271.70176803\n",
      "Iteration 403, loss = 9832.60916408\n",
      "Iteration 404, loss = 9411.40008723\n",
      "Iteration 405, loss = 9007.38618759\n",
      "Iteration 406, loss = 8619.90386311\n",
      "Iteration 407, loss = 8248.31344388\n",
      "Iteration 408, loss = 7891.99840035\n",
      "Iteration 409, loss = 7550.36457467\n",
      "Iteration 410, loss = 7222.83943487\n",
      "Iteration 411, loss = 6908.87135107\n",
      "Iteration 412, loss = 6607.92889331\n",
      "Iteration 413, loss = 6319.50015045\n",
      "Iteration 414, loss = 6043.09206958\n",
      "Iteration 415, loss = 5778.22981545\n",
      "Iteration 416, loss = 5524.45614935\n",
      "Iteration 417, loss = 5281.33082707\n",
      "Iteration 418, loss = 5048.43001528\n",
      "Iteration 419, loss = 4825.34572598\n",
      "Iteration 420, loss = 4611.68526848\n",
      "Iteration 421, loss = 4407.07071845\n",
      "Iteration 422, loss = 4211.13840366\n",
      "Iteration 423, loss = 4023.53840580\n",
      "Iteration 424, loss = 3843.93407814\n",
      "Iteration 425, loss = 3672.00157846\n",
      "Iteration 426, loss = 3507.42941685\n",
      "Iteration 427, loss = 3349.91801806\n",
      "Iteration 428, loss = 3199.17929789\n",
      "Iteration 429, loss = 3054.93625323\n",
      "Iteration 430, loss = 2916.92256554\n",
      "Iteration 431, loss = 2784.88221707\n",
      "Iteration 432, loss = 2658.56911979\n",
      "Iteration 433, loss = 2537.74675644\n",
      "Iteration 434, loss = 2422.18783348\n",
      "Iteration 435, loss = 2311.67394546\n",
      "Iteration 436, loss = 2205.99525065\n",
      "Iteration 437, loss = 2104.95015746\n",
      "Iteration 438, loss = 2008.34502139\n",
      "Iteration 439, loss = 1915.99385218\n",
      "Iteration 440, loss = 1827.71803087\n",
      "Iteration 441, loss = 1743.34603649\n",
      "Iteration 442, loss = 1662.71318200\n",
      "Iteration 443, loss = 1585.66135934\n",
      "Iteration 444, loss = 1512.03879319\n",
      "Iteration 445, loss = 1441.69980322\n",
      "Iteration 446, loss = 1374.50457461\n",
      "Iteration 447, loss = 1310.31893646\n",
      "Iteration 448, loss = 1249.01414804\n",
      "Iteration 449, loss = 1190.46669240\n",
      "Iteration 450, loss = 1134.55807732\n",
      "Iteration 451, loss = 1081.17464325\n",
      "Iteration 452, loss = 1030.20737799\n",
      "Iteration 453, loss = 981.55173806\n",
      "Iteration 454, loss = 935.10747635\n",
      "Iteration 455, loss = 890.77847592\n",
      "Iteration 456, loss = 848.47258987\n",
      "Iteration 457, loss = 808.10148685\n",
      "Iteration 458, loss = 769.58050225\n",
      "Iteration 459, loss = 732.82849474\n",
      "Iteration 460, loss = 697.76770800\n",
      "Iteration 461, loss = 664.32363759\n",
      "Iteration 462, loss = 632.42490262\n",
      "Iteration 463, loss = 602.00312215\n",
      "Iteration 464, loss = 572.99279616\n",
      "Iteration 465, loss = 545.33119094\n",
      "Iteration 466, loss = 518.95822871\n",
      "Iteration 467, loss = 493.81638134\n",
      "Iteration 468, loss = 469.85056810\n",
      "Iteration 469, loss = 447.00805716\n",
      "Iteration 470, loss = 425.23837086\n",
      "Iteration 471, loss = 404.49319453\n",
      "Iteration 472, loss = 384.72628879\n",
      "Iteration 473, loss = 365.89340510\n",
      "Iteration 474, loss = 347.95220461\n",
      "Iteration 475, loss = 330.86218011\n",
      "Iteration 476, loss = 314.58458088\n",
      "Iteration 477, loss = 299.08234054\n",
      "Iteration 478, loss = 284.32000763\n",
      "Iteration 479, loss = 270.26367887\n",
      "Iteration 480, loss = 256.88093502\n",
      "Iteration 481, loss = 244.14077925\n",
      "Iteration 482, loss = 232.01357787\n",
      "Iteration 483, loss = 220.47100346\n",
      "Iteration 484, loss = 209.48598017\n",
      "Iteration 485, loss = 199.03263116\n",
      "Iteration 486, loss = 189.08622820\n",
      "Iteration 487, loss = 179.62314319\n",
      "Iteration 488, loss = 170.62080160\n",
      "Iteration 489, loss = 162.05763788\n",
      "Iteration 490, loss = 153.91305248\n",
      "Iteration 491, loss = 146.16737074\n",
      "Iteration 492, loss = 138.80180337\n",
      "Iteration 493, loss = 131.79840849\n",
      "Iteration 494, loss = 125.14005531\n",
      "Iteration 495, loss = 118.81038914\n",
      "Iteration 496, loss = 112.79379797\n",
      "Iteration 497, loss = 107.07538029\n",
      "Iteration 498, loss = 101.64091432\n",
      "Iteration 499, loss = 96.47682842\n",
      "Iteration 500, loss = 91.57017278\n",
      "Iteration 501, loss = 86.90859226\n",
      "Iteration 502, loss = 82.48030033\n",
      "Iteration 503, loss = 78.27405411\n",
      "Iteration 504, loss = 74.27913046\n",
      "Iteration 505, loss = 70.48530304\n",
      "Iteration 506, loss = 66.88282033\n",
      "Iteration 507, loss = 63.46238462\n",
      "Iteration 508, loss = 60.21513180\n",
      "Iteration 509, loss = 57.13261206\n",
      "Iteration 510, loss = 54.20677144\n",
      "Iteration 511, loss = 51.42993403\n",
      "Iteration 512, loss = 48.79478507\n",
      "Iteration 513, loss = 46.29435472\n",
      "Iteration 514, loss = 43.92200244\n",
      "Iteration 515, loss = 41.67140219\n",
      "Iteration 516, loss = 39.53652816\n",
      "Iteration 517, loss = 37.51164113\n",
      "Iteration 518, loss = 35.59127543\n",
      "Iteration 519, loss = 33.77022648\n",
      "Iteration 520, loss = 32.04353886\n",
      "Iteration 521, loss = 30.40649487\n",
      "Iteration 522, loss = 28.85460361\n",
      "Iteration 523, loss = 27.38359058\n",
      "Iteration 524, loss = 25.98938766\n",
      "Iteration 525, loss = 24.66812356\n",
      "Iteration 526, loss = 23.41611472\n",
      "Iteration 527, loss = 22.22985658\n",
      "Iteration 528, loss = 21.10601525\n",
      "Iteration 529, loss = 20.04141953\n",
      "Iteration 530, loss = 19.03305331\n",
      "Iteration 531, loss = 18.07804829\n",
      "Iteration 532, loss = 17.17367705\n",
      "Iteration 533, loss = 16.31734639\n",
      "Iteration 534, loss = 15.50659103\n",
      "Iteration 535, loss = 14.73906751\n",
      "Iteration 536, loss = 14.01254846\n",
      "Iteration 537, loss = 13.32491706\n",
      "Iteration 538, loss = 12.67416175\n",
      "Iteration 539, loss = 12.05837127\n",
      "Iteration 540, loss = 11.47572978\n",
      "Iteration 541, loss = 10.92451237\n",
      "Iteration 542, loss = 10.40308060\n",
      "Iteration 543, loss = 9.90987840\n",
      "Iteration 544, loss = 9.44342808\n",
      "Iteration 545, loss = 9.00232653\n",
      "Iteration 546, loss = 8.58524158\n",
      "Iteration 547, loss = 8.19090859\n",
      "Iteration 548, loss = 7.81812717\n",
      "Iteration 549, loss = 7.46575797\n",
      "Iteration 550, loss = 7.13271980\n",
      "Iteration 551, loss = 6.81798668\n",
      "Iteration 552, loss = 6.52058518\n",
      "Iteration 553, loss = 6.23959184\n",
      "Iteration 554, loss = 5.97413066\n",
      "Iteration 555, loss = 5.72337079\n",
      "Iteration 556, loss = 5.48652428\n",
      "Iteration 557, loss = 5.26284395\n",
      "Iteration 558, loss = 5.05162134\n",
      "Iteration 559, loss = 4.85218482\n",
      "Iteration 560, loss = 4.66389772\n",
      "Iteration 561, loss = 4.48615657\n",
      "Iteration 562, loss = 4.31838945\n",
      "Iteration 563, loss = 4.16005441\n",
      "Iteration 564, loss = 4.01063793\n",
      "Iteration 565, loss = 3.86965350\n",
      "Iteration 566, loss = 3.73664027\n",
      "Iteration 567, loss = 3.61116169\n",
      "Iteration 568, loss = 3.49280435\n",
      "Iteration 569, loss = 3.38117673\n",
      "Iteration 570, loss = 3.27590814\n",
      "Iteration 571, loss = 3.17664761\n",
      "Iteration 572, loss = 3.08306289\n",
      "Iteration 573, loss = 2.99483951\n",
      "Iteration 574, loss = 2.91167983\n",
      "Iteration 575, loss = 2.83330219\n",
      "Iteration 576, loss = 2.75944007\n",
      "Iteration 577, loss = 2.68984135\n",
      "Iteration 578, loss = 2.62426747\n",
      "Iteration 579, loss = 2.56249282\n",
      "Iteration 580, loss = 2.50430401\n",
      "Iteration 581, loss = 2.44949925\n",
      "Iteration 582, loss = 2.39788773\n",
      "Iteration 583, loss = 2.34928904\n",
      "Iteration 584, loss = 2.30353264\n",
      "Iteration 585, loss = 2.26045735\n",
      "Iteration 586, loss = 2.21991080\n",
      "Iteration 587, loss = 2.18174902\n",
      "Iteration 588, loss = 2.14583598\n",
      "Iteration 589, loss = 2.11204314\n",
      "Iteration 590, loss = 2.08024909\n",
      "Iteration 591, loss = 2.05033914\n",
      "Iteration 592, loss = 2.02220498\n",
      "Iteration 593, loss = 1.99574431\n",
      "Iteration 594, loss = 1.97086057\n",
      "Iteration 595, loss = 1.94746256\n",
      "Iteration 596, loss = 1.92546421\n",
      "Iteration 597, loss = 1.90478426\n",
      "Iteration 598, loss = 1.88534605\n",
      "Iteration 599, loss = 1.86707719\n",
      "Iteration 600, loss = 1.84990944\n",
      "Iteration 601, loss = 1.83377835\n",
      "Iteration 602, loss = 1.81862319\n",
      "Iteration 603, loss = 1.80438662\n",
      "Iteration 604, loss = 1.79101460\n",
      "Iteration 605, loss = 1.77845616\n",
      "Iteration 606, loss = 1.76666324\n",
      "Iteration 607, loss = 1.75559054\n",
      "Iteration 608, loss = 1.74519535\n",
      "Iteration 609, loss = 1.73543741\n",
      "Iteration 610, loss = 1.72627878\n",
      "Iteration 611, loss = 1.71768373\n",
      "Iteration 612, loss = 1.70961858\n",
      "Iteration 613, loss = 1.70205158\n",
      "Iteration 614, loss = 1.69495287\n",
      "Iteration 615, loss = 1.68829429\n",
      "Iteration 616, loss = 1.68204933\n",
      "Iteration 617, loss = 1.67619304\n",
      "Iteration 618, loss = 1.67070191\n",
      "Iteration 619, loss = 1.66555383\n",
      "Iteration 620, loss = 1.66072797\n",
      "Iteration 621, loss = 1.65620474\n",
      "Iteration 622, loss = 1.65196570\n",
      "Iteration 623, loss = 1.64799350\n",
      "Iteration 624, loss = 1.64427181\n",
      "Iteration 625, loss = 1.64078529\n",
      "Iteration 626, loss = 1.63751949\n",
      "Iteration 627, loss = 1.63446084\n",
      "Iteration 628, loss = 1.63159656\n",
      "Iteration 629, loss = 1.62891464\n",
      "Iteration 630, loss = 1.62640381\n",
      "Iteration 631, loss = 1.62405345\n",
      "Iteration 632, loss = 1.62185359\n",
      "Iteration 633, loss = 1.61979487\n",
      "Iteration 634, loss = 1.61786847\n",
      "Iteration 635, loss = 1.61606614\n",
      "Iteration 636, loss = 1.61438011\n",
      "Iteration 637, loss = 1.61280307\n",
      "Iteration 638, loss = 1.61132817\n",
      "Iteration 639, loss = 1.60994899\n",
      "Iteration 640, loss = 1.60865948\n",
      "Iteration 641, loss = 1.60745397\n",
      "Iteration 642, loss = 1.60632715\n",
      "Iteration 643, loss = 1.60527401\n",
      "Iteration 644, loss = 1.60428986\n",
      "Iteration 645, loss = 1.60337032\n",
      "Iteration 646, loss = 1.60251126\n",
      "Iteration 647, loss = 1.60170880\n",
      "Iteration 648, loss = 1.60095933\n",
      "Iteration 649, loss = 1.60025943\n",
      "Iteration 650, loss = 1.59960591\n",
      "Iteration 651, loss = 1.59899579\n",
      "Iteration 652, loss = 1.59842626\n",
      "Iteration 653, loss = 1.59789469\n",
      "Iteration 654, loss = 1.59739862\n",
      "Iteration 655, loss = 1.59693575\n",
      "Iteration 656, loss = 1.59650390\n",
      "Iteration 657, loss = 1.59610106\n",
      "Iteration 658, loss = 1.59572533\n",
      "Iteration 659, loss = 1.59537494\n",
      "Iteration 660, loss = 1.59504821\n",
      "Iteration 661, loss = 1.59474360\n",
      "Iteration 662, loss = 1.59445965\n",
      "Iteration 663, loss = 1.59419499\n",
      "Iteration 664, loss = 1.59394834\n",
      "Iteration 665, loss = 1.59371852\n",
      "Iteration 666, loss = 1.59350440\n",
      "Iteration 667, loss = 1.59330494\n",
      "Iteration 668, loss = 1.59311916\n",
      "Iteration 669, loss = 1.59294614\n",
      "Iteration 670, loss = 1.59278504\n",
      "Iteration 671, loss = 1.59263505\n",
      "Iteration 672, loss = 1.59249543\n",
      "Iteration 673, loss = 1.59236547\n",
      "Iteration 674, loss = 1.59224453\n",
      "Iteration 675, loss = 1.59213199\n",
      "Iteration 676, loss = 1.59202729\n",
      "Iteration 677, loss = 1.59192989\n",
      "Iteration 678, loss = 1.59183929\n",
      "Iteration 679, loss = 1.59175504\n",
      "Iteration 680, loss = 1.59167670\n",
      "Iteration 681, loss = 1.59160386\n",
      "Iteration 682, loss = 1.59153615\n",
      "Iteration 683, loss = 1.59147321\n",
      "Iteration 684, loss = 1.59141472\n",
      "Iteration 685, loss = 1.59136037\n",
      "Iteration 686, loss = 1.59130986\n",
      "Iteration 687, loss = 1.59126295\n",
      "Iteration 688, loss = 1.59121937\n",
      "Iteration 689, loss = 1.59117889\n",
      "Iteration 690, loss = 1.59114130\n",
      "Iteration 691, loss = 1.59110640\n",
      "Iteration 692, loss = 1.59107399\n",
      "Iteration 693, loss = 1.59104391\n",
      "Iteration 694, loss = 1.59101598\n",
      "Iteration 695, loss = 1.59099007\n",
      "Iteration 696, loss = 1.59096602\n",
      "Iteration 697, loss = 1.59094370\n",
      "Iteration 698, loss = 1.59092299\n",
      "Iteration 699, loss = 1.59090378\n",
      "Iteration 700, loss = 1.59088596\n",
      "Iteration 701, loss = 1.59086942\n",
      "Iteration 702, loss = 1.59085409\n",
      "Iteration 703, loss = 1.59083987\n",
      "Iteration 704, loss = 1.59082668\n",
      "Iteration 705, loss = 1.59081445\n",
      "Iteration 706, loss = 1.59080311\n",
      "Iteration 707, loss = 1.59079259\n",
      "Iteration 708, loss = 1.59078284\n",
      "Iteration 709, loss = 1.59077379\n",
      "Iteration 710, loss = 1.59076541\n",
      "Iteration 711, loss = 1.59075763\n",
      "Iteration 712, loss = 1.59075042\n",
      "Iteration 713, loss = 1.59074374\n",
      "Iteration 714, loss = 1.59073754\n",
      "Iteration 715, loss = 1.59073179\n",
      "Iteration 716, loss = 1.59072646\n",
      "Iteration 717, loss = 1.59072151\n",
      "Iteration 718, loss = 1.59071692\n",
      "Training loss did not improve more than tol=0.000010 for 10 consecutive epochs. Stopping.\n",
      "This is the prediction for Cyprus: [4.07671125]\n",
      "This is the score of th NN: -3.6741440524096074\n"
     ]
    },
    {
     "data": {
      "image/png": "[encoded data removed]",
      "text/plain": [
       "<Figure size 640x480 with 1 Axes>"
      ]
     },
     "metadata": {},
     "output_type": "display_data"
    }
   ],
   "source": [
    "from sklearn.neural_network import MLPRegressor\n",
    "\n",
    "# Setup MLPRegressor\n",
    "mlp = MLPRegressor( hidden_layer_sizes=(10,), solver='adam', activation='relu', tol=1E-5, max_iter=100000, verbose=True)\n",
    "mlp.fit(X, y.ravel())\n",
    "\n",
    "# Find Cyprus\n",
    "X_new = [[22587]]  # Cyprus' GDP per capita\n",
    "y_pred_cyprus = mlp.predict(X_new)\n",
    "print(f\"\\nThis is the prediction for Cyprus: {y_pred_cyprus}\")\n",
    "\n",
    "# lets make a MLP regressor prediction and redo the plots\n",
    "y_pred_mlp = mlp.predict(M) \n",
    "\n",
    "plt.plot(m, y_pred_lin, \"r\")\n",
    "plt.plot(m, y_pred_knn, \"b\")\n",
    "plt.plot(m, y_pred_mlp, \"k\")\n",
    "\n",
    "print(f\"This is the score of th NN: {mlp.score(X, y)}\")"
   ]
  },
  {
   "cell_type": "markdown",
   "metadata": {},
   "source": [
    "Try training the `mlp` regression model below, predict the value for Cyprus, and find the `score` value for the training set:\n",
    "\n",
    "We have trained the mlp model, which changes each time the code is run because it's trained by a neural network now.\n",
    "The neural network stops the training when it doesn't improve more than tol=0.000010 for 10 consecutive epochs. The score results in a negative R^2 value.\n",
    "\n",
    "\n",
    "Can the `MLPRegressor` score function be compared with the linear and KNN-scores?\n",
    "\n",
    "They can be compared since the score function is implemented in the same way. The result is way different from the score results of the linear and knn scores, which in this case means that the mlp model is worse at the prediction since the result (R^2) is negative. A negative R^2 means that the predicted values are performing worse than if you where to take the average value of the data as a prediction. Therefore it is shown that the neural network MLPRegressor isn't a great model to use on this data.\n"
   ]
  },
  {
   "cell_type": "markdown",
   "metadata": {},
   "source": [
    "## L01 - Modules and Packages in Python"
   ]
  },
  {
   "cell_type": "markdown",
   "metadata": {},
   "source": [
    "#### Qa) Load and test the `libitmal` module\n",
    "\n",
    "Here, we import the libitmal module from utils, which was given in the assignment. We print its directory and its content, and lastly call its TestAll() method."
   ]
  },
  {
   "cell_type": "code",
   "execution_count": 242,
   "metadata": {},
   "outputs": [
    {
     "name": "stdout",
     "output_type": "stream",
     "text": [
      "['AssertInRange', 'CheckFloat', 'DToXy', 'GenerateConfusionMatrix', 'GenerateResults', 'InRange', 'Iterable', 'ListToMatrix', 'ListToVector', 'PrintMatrix', 'ResetRandom', 'ShowResult', 'TEST', 'TestAll', 'TestCheckFloat', 'TestPrintMatrix', 'TestVarName', 'VarName', 'XyToD', '__builtins__', '__cached__', '__doc__', '__file__', '__loader__', '__name__', '__package__', '__spec__', '__warningregistry__', 'ctxlib', 'inf', 'inspect', 'isFloat', 'isList', 'isNumpyArray', 'nan', 'np', 'random', 're', 'sklearn']\n",
      "c:\\Users\\lasse\\Desktop\\6-Semester\\MAL\\L01\\libitmal\\utils.py\n",
      "TestPrintMatrix...(no regression testing)\n",
      "X=[[   1.    2.]\n",
      "   [   3. -100.]\n",
      "   [   1.   -1.]]\n",
      "X=[[ 1.  2.]\n",
      "   ...\n",
      "   [ 1. -1.]]\n",
      "X=[[   1.\n",
      "       2.    ]\n",
      "   [   3.0001\n",
      "    -100.    ]\n",
      "   [   1.\n",
      "      -1.    ]]\n",
      "X=[[   1.    2.]\n",
      "   [   3. -100.]\n",
      "   [   1.   -1.]]\n",
      "OK\n",
      "TEST: OK\n",
      "ALL OK\n"
     ]
    }
   ],
   "source": [
    "import numpy as np\n",
    "from libitmal import utils as itmalutils\n",
    "\n",
    "print(dir(itmalutils))\n",
    "print(itmalutils.__file__)\n",
    "\n",
    "itmalutils.TestAll()"
   ]
  },
  {
   "cell_type": "markdown",
   "metadata": {},
   "source": [
    "#### Qb) Create your own module, with some functions, and test it\n",
    "\n",
    "Here we will import our own module named `extraUtils`. The module is imported from `coolModule`, where its functions now becomes available.\n",
    "\n",
    "In this example, the `printNogetSejt()` is used to print a predfined text along with a given parameter string"
   ]
  },
  {
   "cell_type": "code",
   "execution_count": 243,
   "metadata": {},
   "outputs": [
    {
     "name": "stdout",
     "output_type": "stream",
     "text": [
      "hej med dig: Thomas\n",
      "c:\\Users\\lasse\\Desktop\\6-Semester\\MAL\\L01\\extraUtils\\coolModule.py\n"
     ]
    }
   ],
   "source": [
    "from extraUtils import coolModule as module\n",
    "\n",
    "module.printNogetSejt(\"Thomas\")\n",
    "\n",
    "print(module.__file__)"
   ]
  },
  {
   "cell_type": "markdown",
   "metadata": {},
   "source": [
    "#### Qc) How do you 'recompile' a module?\n",
    "\n",
    "When changing the module code, Jupyter will keep running on the old module. How do you force the Jupyter notebook to re-load the module changes? \n",
    "\n",
    "You can force a reload of a module by using the `reload()` function from the `importlib` module."
   ]
  },
  {
   "cell_type": "code",
   "execution_count": 244,
   "metadata": {},
   "outputs": [
    {
     "data": {
      "text/plain": [
       "<module 'extraUtils.coolModule' from 'c:\\\\Users\\\\lasse\\\\Desktop\\\\6-Semester\\\\MAL\\\\L01\\\\extraUtils\\\\coolModule.py'>"
      ]
     },
     "execution_count": 244,
     "metadata": {},
     "output_type": "execute_result"
    }
   ],
   "source": [
    "from importlib import reload\n",
    "from extraUtils import coolModule as module   \n",
    "\n",
    "reload(module)"
   ]
  },
  {
   "cell_type": "markdown",
   "metadata": {},
   "source": [
    "It is also possible to automatically reload modules before executing code by using magic commands such as `%load_ext` and `%autoreload`\n",
    "\n",
    "Source: https://saturncloud.io/blog/jupyter-notebook-reload-module-a-comprehensive-guide/"
   ]
  },
  {
   "cell_type": "code",
   "execution_count": 245,
   "metadata": {},
   "outputs": [
    {
     "name": "stdout",
     "output_type": "stream",
     "text": [
      "The autoreload extension is already loaded. To reload it, use:\n",
      "  %reload_ext autoreload\n"
     ]
    }
   ],
   "source": [
    "%load_ext autoreload\n",
    "%autoreload 2"
   ]
  },
  {
   "cell_type": "markdown",
   "metadata": {},
   "source": [
    "#### Qe) Extend the class with some public and private functions and member variables \n",
    "\n",
    "\n",
    "Below, the class MyClass has been defined with both a private and a public function. \n",
    "\n",
    "Private funtions are defined by the two prefixed underscores (__), while member variables are defined by the \"self.\" annotation. This self in python classes represents an instance of the class, therefor making it possible to access methods and attributes inside the class itself. "
   ]
  },
  {
   "cell_type": "code",
   "execution_count": 246,
   "metadata": {},
   "outputs": [],
   "source": [
    "class MyClass:\n",
    "    # Public function \n",
    "    def myfun(self):\n",
    "        # Member variable \n",
    "        self.myvar = \"blah\"\n",
    "        print(f\"This is a message inside the class, myvar={self.myvar}.\")\n",
    "        \n",
    "        # Private function \n",
    "    def __private_function(self):\n",
    "        self.asdf = \"asdf\"\n",
    "        print(f\"This is a private function, {self.asdf}.\")\n",
    "        \n",
    "    def something():\n",
    "        print(\"Something\")\n",
    "        "
   ]
  },
  {
   "cell_type": "markdown",
   "metadata": {},
   "source": [
    "Now an instance of the class is created. "
   ]
  },
  {
   "cell_type": "code",
   "execution_count": 247,
   "metadata": {},
   "outputs": [],
   "source": [
    "myObjectx = MyClass()"
   ]
  },
  {
   "cell_type": "markdown",
   "metadata": {},
   "source": [
    "When trying to call a function with the self parameter missing, it throws an error, because the program is passing it an instance of a class, but it doesn't take one. "
   ]
  },
  {
   "cell_type": "code",
   "execution_count": 248,
   "metadata": {},
   "outputs": [
    {
     "name": "stdout",
     "output_type": "stream",
     "text": [
      "Self should be added to the implementation of something() if you want to call it this way\n"
     ]
    }
   ],
   "source": [
    "try:\n",
    "    myObjectx.something()\n",
    "except:\n",
    "    print(\"Self should be added to the implementation of something() if you want to call it this way\")"
   ]
  },
  {
   "cell_type": "markdown",
   "metadata": {},
   "source": [
    "When trying to call the private function, it fails because there is no function available called __private_function() "
   ]
  },
  {
   "cell_type": "code",
   "execution_count": 249,
   "metadata": {},
   "outputs": [
    {
     "name": "stdout",
     "output_type": "stream",
     "text": [
      "No function called __private_function()\n"
     ]
    }
   ],
   "source": [
    "try:\n",
    "    myObjectx.__private_function() \n",
    "except:\n",
    "    print(\"No function called __private_function()\")"
   ]
  },
  {
   "cell_type": "markdown",
   "metadata": {},
   "source": [
    "If one wants to use a method with a self parameter, one needs to call it with the class directly and not an instance of the class. "
   ]
  },
  {
   "cell_type": "code",
   "execution_count": 250,
   "metadata": {},
   "outputs": [
    {
     "name": "stdout",
     "output_type": "stream",
     "text": [
      "Something\n"
     ]
    }
   ],
   "source": [
    "MyClass.something() "
   ]
  },
  {
   "cell_type": "markdown",
   "metadata": {},
   "source": [
    "#### Qf) Extend the class with a Constructor\n"
   ]
  },
  {
   "cell_type": "markdown",
   "metadata": {},
   "source": [
    "Below is shown how to define a constructor in a Python class, namely the \\_\\_init\\_\\_ function. \n",
    "This function will be called every time a class is instantiated. \n",
    "\n"
   ]
  },
  {
   "cell_type": "code",
   "execution_count": 251,
   "metadata": {},
   "outputs": [],
   "source": [
    "class myClass:\n",
    "    def __init__(self):\n",
    "        self.att1 = 2\n",
    "        self.att2 = 3\n",
    "        self.att3 = 4\n",
    "        "
   ]
  },
  {
   "cell_type": "markdown",
   "metadata": {},
   "source": [
    "As well as a constructor, it is also possible to make a destructor in a Python class. Below it is shown how this \\_\\_del\\_\\_ function is defined in a class. \n",
    "\n",
    "\n",
    "The destructor function is not necessary in Python, since the language has garbage collection which handles the memory management automatically. \n",
    "So a detructor is not strictly necessary, except if you want to handle the memory management yourself.\n",
    "\n",
    "\n"
   ]
  },
  {
   "cell_type": "code",
   "execution_count": 252,
   "metadata": {},
   "outputs": [],
   "source": [
    "class myClass: \n",
    "    def __del__(self):\n",
    "        print(\"The object has been deleted!\")"
   ]
  },
  {
   "cell_type": "markdown",
   "metadata": {},
   "source": [
    "By calling the destructor on an instance of the class, it will delete the object. "
   ]
  },
  {
   "cell_type": "code",
   "execution_count": 253,
   "metadata": {},
   "outputs": [
    {
     "name": "stdout",
     "output_type": "stream",
     "text": [
      "The object has been deleted!\n"
     ]
    }
   ],
   "source": [
    "myobejctx = myClass() \n",
    "del myobejctx"
   ]
  },
  {
   "cell_type": "markdown",
   "metadata": {},
   "source": [
    "#### Qg) Extend the class with a to-string function\n",
    "\n",
    "\n",
    " \n",
    "In order to print an object in python, one needs to add the method \"__str__(self)\" to the class.\n",
    "This method will be called, when the program is trying to print the object. \n",
    "\n",
    "There's one more way to print out and object in python, and that is with the \"__repr__(self)\" method.\n",
    "They serve different purposes, \"__str__(self)\" is suppose to return an informal and userfriendly string representation of an object, and \"__repr__(self)\" is used more for debugging and a formel way of representing the object as a string.\n",
    "\n",
    "If \"__str__(self)\" is defined in the class, it will not use \"__repr__(self)\""
   ]
  },
  {
   "cell_type": "code",
   "execution_count": 254,
   "metadata": {},
   "outputs": [
    {
     "name": "stdout",
     "output_type": "stream",
     "text": [
      "My objects has a: 42 and b: 43\n"
     ]
    }
   ],
   "source": [
    "class myClass:\n",
    "    def __init__(self, a, b):\n",
    "        self.a = a\n",
    "        self.b = b\n",
    "    \n",
    "    def __str__(self):\n",
    "        return(f\"My objects has a: {self.a} and b: {self.b}\")\n",
    "    \n",
    "    def __repr__(self):\n",
    "        return((f\"MyClass({self.a, self.b})\"))\n",
    "        \n",
    "\n",
    "someClass = myClass(42, 43)\n",
    "print(someClass)"
   ]
  },
  {
   "cell_type": "code",
   "execution_count": 255,
   "metadata": {},
   "outputs": [
    {
     "name": "stdout",
     "output_type": "stream",
     "text": [
      "MyClass((42, 43))\n"
     ]
    }
   ],
   "source": [
    "class myClass:\n",
    "    def __init__(self, a, b):\n",
    "        self.a = a\n",
    "        self.b = b\n",
    "    \n",
    "    def __repr__(self):\n",
    "        return((f\"MyClass({self.a, self.b})\"))\n",
    "        \n",
    "\n",
    "someClass = myClass(42, 43)\n",
    "print(someClass)"
   ]
  },
  {
   "cell_type": "markdown",
   "metadata": {},
   "source": [
    "## L02 - Cost function"
   ]
  },
  {
   "cell_type": "markdown",
   "metadata": {},
   "source": [
    "#### Qa) Given the following $\\mathbf{x}^{(i)}$'s, construct and print the $\\mathbf X$ matrix in python.\n",
    "\n",
    "Using numpy the design matrix is being constructed"
   ]
  },
  {
   "cell_type": "code",
   "execution_count": 256,
   "metadata": {},
   "outputs": [
    {
     "name": "stdout",
     "output_type": "stream",
     "text": [
      "[[ 1  2  3]\n",
      " [ 4  2  1]\n",
      " [ 3  8  5]\n",
      " [-9 -1  0]]\n"
     ]
    }
   ],
   "source": [
    "import numpy as np\n",
    "\n",
    "y = np.array([1,2,3,4]) \n",
    "\n",
    "x1 = np.array([1,2,3])\n",
    "x2 = np.array([4,2,1])\n",
    "x3 = np.array([3,8,5])\n",
    "x4 = np.array([-9,-1,0])\n",
    "\n",
    "X = np.array([x1, x2, x3, x4])\n",
    "\n",
    "print(X)"
   ]
  },
  {
   "cell_type": "markdown",
   "metadata": {},
   "source": [
    "#### Qb) Implement the L1 and L2 norms for vectors in python."
   ]
  },
  {
   "cell_type": "markdown",
   "metadata": {},
   "source": [
    "The norm functions `L1` and `L2` are being implemented, where we assert and validate the output of the function. The functions will be used later in the assignment."
   ]
  },
  {
   "cell_type": "code",
   "execution_count": 257,
   "metadata": {},
   "outputs": [
    {
     "name": "stdout",
     "output_type": "stream",
     "text": [
      "tx-ty=[-2  3 -1 -2], d1-expected_d1=0.0, d2-expected_d2=0.0\n",
      "OK(part-1)\n",
      "d2dot-expected_d2= 0.0\n",
      "OK(part-2)\n"
     ]
    }
   ],
   "source": [
    "import math\n",
    "\n",
    "def checkInputIsOneDimensional(x):\n",
    "    assert x.shape[0]>=0 \n",
    "    if not x.ndim==1:\n",
    "        raise ValueError\n",
    "    \n",
    "def checkInputSameShape(y_pred, y_true):\n",
    "    assert y_pred.shape == y_true.shape, \"Shape of input is not equal!\"\n",
    "\n",
    "def L1(x):\n",
    "    checkInputIsOneDimensional(x) #Check if parameter is good\n",
    "    sum = 0\n",
    "    for i in x:\n",
    "        sum = sum + (i**2)**0.5  \n",
    "    return sum\n",
    "\n",
    "def L2(x):\n",
    "    checkInputIsOneDimensional(x) #Check if parameter is good\n",
    "    sum = 0\n",
    "    for i in x:\n",
    "        sum = sum + (i**2)\n",
    "    sum = sum**0.5\n",
    "    return sum\n",
    "\n",
    "def L2Dot(x):\n",
    "    checkInputIsOneDimensional(x) #Check if parameter is good\n",
    "    sum = np.sqrt(np.dot(x,x))  \n",
    "    return sum  \n",
    "     \n",
    "tx=np.array([1, 2, 3, -1])\n",
    "ty=np.array([3,-1, 4,  1])\n",
    "\n",
    "expected_d1=8.0\n",
    "expected_d2=4.242640687119285\n",
    "\n",
    "d1=L1(tx-ty)\n",
    "d2=L2(tx-ty)\n",
    "\n",
    "print(f\"tx-ty={tx-ty}, d1-expected_d1={d1-expected_d1}, d2-expected_d2={d2-expected_d2}\")\n",
    "\n",
    "eps=1E-9  \n",
    "assert math.fabs(d1-expected_d1)<eps, \"L1 dist seems to be wrong\" \n",
    "assert math.fabs(d2-expected_d2)<eps, \"L2 dist seems to be wrong\" \n",
    "\n",
    "print(\"OK(part-1)\")\n",
    " \n",
    "d2dot=L2Dot(tx-ty)\n",
    "print(\"d2dot-expected_d2=\",d2dot-expected_d2)\n",
    "assert math.fabs(d2dot-expected_d2)<eps, \"L2Ddot dist seem to be wrong\" \n",
    "print(\"OK(part-2)\")"
   ]
  },
  {
   "cell_type": "markdown",
   "metadata": {},
   "source": [
    "#### Qc) Construct the Root Mean Square Error (RMSE) function "
   ]
  },
  {
   "cell_type": "code",
   "execution_count": 258,
   "metadata": {},
   "outputs": [
    {
     "name": "stdout",
     "output_type": "stream",
     "text": [
      "RMSE=6.576473218982953, diff=2.6645352591003757e-15\n",
      "OK\n"
     ]
    }
   ],
   "source": [
    "def RMSE(y_pred, y_true):\n",
    "    checkInputSameShape(y_pred, y_true)\n",
    "    sum = L2(y_pred - y_true)*0.5 #Implementation of the RMSE\n",
    "    return sum\n",
    "\n",
    "# Dummy h function:\n",
    "def h(X):    \n",
    "    if X.ndim!=2:\n",
    "        raise ValueError(\"excpeted X to be of ndim=2, got ndim=\",X.ndim)\n",
    "    if X.shape[0]==0 or X.shape[1]==0:\n",
    "        raise ValueError(\"X got zero data along the 0/1 axis, cannot continue\")\n",
    "    return X[:,0]\n",
    " \n",
    "r=RMSE(h(X),y)\n",
    "\n",
    "# TEST vector:\n",
    "eps=1E-9\n",
    "expected=6.57647321898295\n",
    "print(f\"RMSE={r}, diff={r-expected}\")\n",
    "assert math.fabs(r-expected)<eps, \"your RMSE dist seems to be wrong\" \n",
    "\n",
    "print(\"OK\")"
   ]
  },
  {
   "cell_type": "markdown",
   "metadata": {},
   "source": [
    "#### Qd) Similar construct the Mean Absolute Error (MAE) function "
   ]
  },
  {
   "cell_type": "markdown",
   "metadata": {},
   "source": [
    "We already created the `RMSE` function in the previous task, and now we will implement the MAE function to calculate the norm of L1 (instead of L2)"
   ]
  },
  {
   "cell_type": "code",
   "execution_count": 259,
   "metadata": {},
   "outputs": [
    {
     "name": "stdout",
     "output_type": "stream",
     "text": [
      "MAE=3.75, diff=0.0\n",
      "OK\n"
     ]
    }
   ],
   "source": [
    "def MAE(y_pred, y_true):\n",
    "    checkInputSameShape(y_pred, y_true)\n",
    "    sum = L1(y_pred-y_true)/y_pred.size\n",
    "    return sum  \n",
    "\n",
    "r=MAE(h(X), y)\n",
    "\n",
    "# TEST vector:\n",
    "expected=3.75\n",
    "print(f\"MAE={r}, diff={r-expected}\")\n",
    "assert math.fabs(r-expected)<eps, \"MAE dist seems to be wrong\" \n",
    "\n",
    "print(\"OK\")"
   ]
  },
  {
   "cell_type": "markdown",
   "metadata": {},
   "source": [
    "#### Qe) Robust Code "
   ]
  },
  {
   "cell_type": "markdown",
   "metadata": {},
   "source": [
    "We have added error checking code by using assertions, that checks for right y^-y sizes of the MSE and MAE functions (the shape of their input)"
   ]
  },
  {
   "cell_type": "markdown",
   "metadata": {},
   "source": [
    "#### Qf) Conclusion"
   ]
  },
  {
   "cell_type": "markdown",
   "metadata": {},
   "source": [
    "## L02 - Dummy classifier"
   ]
  },
  {
   "cell_type": "markdown",
   "metadata": {},
   "source": [
    "#### Qa) Load and display the MNIST data"
   ]
  },
  {
   "cell_type": "markdown",
   "metadata": {},
   "source": [
    "The function MNIST_GetDataSet() will be implemented by using the fetch_openml function from sklearn.datasets. The parameters of this function will be found by looking at the documentation https://scikit-learn.org/stable/modules/generated/sklearn.datasets.fetch_openml.html.\n",
    "\n",
    "The parameters that is needed to be changed from default values:\n",
    "\n",
    "`name: str` -> Name of the dataset\n",
    "\n",
    "`version: int` -> Version of the dataset\n",
    "\n",
    "`return_X_y: bool` -> Whether it should return (data, target) or not\n",
    "\n",
    "`cache: bool` -> Should the dataset be cached or not\n",
    "\n",
    "`as_frame: bool` -> We are using numpy\n",
    "\n",
    "MNIST_GetDataSet() is then called and it return values are saved in X, y.\n",
    "\n",
    "Now that we have the data, we can print out a single entry with the method MNIST_PlotDigit. "
   ]
  },
  {
   "cell_type": "code",
   "execution_count": 260,
   "metadata": {},
   "outputs": [
    {
     "name": "stderr",
     "output_type": "stream",
     "text": [
      "c:\\Users\\lasse\\anaconda3\\Lib\\site-packages\\sklearn\\datasets\\_openml.py:1002: FutureWarning: The default value of `parser` will change from `'liac-arff'` to `'auto'` in 1.4. You can set `parser='auto'` to silence this warning. Therefore, an `ImportError` will be raised from 1.4 if the dataset is dense and pandas is not installed. Note that the pandas parser may return different data types. See the Notes Section in fetch_openml's API doc for details.\n",
      "  warn(\n"
     ]
    },
    {
     "name": "stdout",
     "output_type": "stream",
     "text": [
      "[[0. 0. 0. ... 0. 0. 0.]\n",
      " [0. 0. 0. ... 0. 0. 0.]\n",
      " [0. 0. 0. ... 0. 0. 0.]\n",
      " ...\n",
      " [0. 0. 0. ... 0. 0. 0.]\n",
      " [0. 0. 0. ... 0. 0. 0.]\n",
      " [0. 0. 0. ... 0. 0. 0.]]\n",
      "['5' '0' '4' ... '4' '5' '6']\n"
     ]
    },
    {
     "data": {
      "image/png": "[encoded data removed]",
      "text/plain": [
       "<Figure size 640x480 with 1 Axes>"
      ]
     },
     "metadata": {},
     "output_type": "display_data"
    }
   ],
   "source": [
    "from sklearn.datasets import fetch_openml\n",
    "import matplotlib\n",
    "import matplotlib.pyplot as plt\n",
    "\n",
    "def MNIST_GetDataSet():\n",
    "    X, y = fetch_openml(name='mnist_784', version=1, data_home=\"./data\", cache=True, return_X_y = True, as_frame=False)\n",
    "    X = X/255\n",
    "    return X,y\n",
    "\n",
    "def MNIST_PlotDigit(data):\n",
    "    image = data.reshape(28, 28)\n",
    "    plt.imshow(image, cmap = matplotlib.cm.binary, interpolation=\"nearest\")\n",
    "    plt.axis(\"off\")\n",
    "\n",
    "X,y = MNIST_GetDataSet()\n",
    "\n",
    "# Sejt -- y[2] er 4 og x[2] er også 4 hehe\n",
    "MNIST_PlotDigit(X[2])"
   ]
  },
  {
   "cell_type": "markdown",
   "metadata": {},
   "source": [
    "#### Qb)  Add a Stochastic Gradient Decent [SGD] Classifier\n",
    "\n",
    "Now that we have a way to get a dataset with the MNIST_GetDataSet() method, we can proceed to make a binary-classifier using a SGD-classifier that have been fitted and tested. \n",
    "\n",
    "The binary-classifier will define 5 as being true and not being 5 as being false. Then we'll print out the data points and add a label that states, if it is a 5 or not a 5, is it true or is it false.\n",
    "\n",
    "We'll also print out some numbers, where the data has been misclasified."
   ]
  },
  {
   "cell_type": "code",
   "execution_count": 261,
   "metadata": {},
   "outputs": [
    {
     "name": "stdout",
     "output_type": "stream",
     "text": [
      "X.shape=(70000, 784)\n",
      "X.shape=(70000, 784)\n",
      "\n",
      "---- Correct categorized fives:\n",
      "Is it a 5?: False\n"
     ]
    },
    {
     "data": {
      "image/png": "[encoded data removed]",
      "text/plain": [
       "<Figure size 640x480 with 1 Axes>"
      ]
     },
     "metadata": {},
     "output_type": "display_data"
    },
    {
     "name": "stdout",
     "output_type": "stream",
     "text": [
      "Is it a 5?: False\n"
     ]
    },
    {
     "data": {
      "image/png": "[encoded data removed]",
      "text/plain": [
       "<Figure size 640x480 with 1 Axes>"
      ]
     },
     "metadata": {},
     "output_type": "display_data"
    },
    {
     "name": "stdout",
     "output_type": "stream",
     "text": [
      "\n",
      "---- Incorrect categorized fives\n",
      "Is it a 5?: False\n"
     ]
    },
    {
     "data": {
      "image/png": "[encoded data removed]",
      "text/plain": [
       "<Figure size 640x480 with 1 Axes>"
      ]
     },
     "metadata": {},
     "output_type": "display_data"
    },
    {
     "name": "stdout",
     "output_type": "stream",
     "text": [
      "Is it a 5?: False\n"
     ]
    },
    {
     "data": {
      "image/png": "[encoded data removed]",
      "text/plain": [
       "<Figure size 640x480 with 1 Axes>"
      ]
     },
     "metadata": {},
     "output_type": "display_data"
    }
   ],
   "source": [
    "from sklearn.model_selection import train_test_split\n",
    "from sklearn.linear_model import SGDClassifier\n",
    "import numpy as np\n",
    "\n",
    "X, y = MNIST_GetDataSet()\n",
    "\n",
    "print(f\"X.shape={X.shape}\") # print X.shape= (70000, 28, 28)\n",
    "if X.ndim==3:\n",
    "    print(\"reshaping X..\")\n",
    "    assert y.ndim==1\n",
    "    X = X.reshape((X.shape[0],X.shape[1]*X.shape[2]))\n",
    "assert X.ndim==2\n",
    "print(f\"X.shape={X.shape}\") # X.shape= (70000, 784)\n",
    "\n",
    "X_train, X_test, y_train, y_test = train_test_split(X, y, test_size=0.2)\n",
    "\n",
    "y_train_5 = (y_train == \"5\")\n",
    "y_test_5 = (y_test == \"5\")\n",
    "\n",
    "SGD_classifier = SGDClassifier(random_state=42)\n",
    "\n",
    "SGD_classifier.fit(X_train, y_train_5)\n",
    "\n",
    "y_pred = SGD_classifier.predict(X_test)\n",
    "\n",
    "categorized = np.where(y_pred == y_test_5)[0]\n",
    "\n",
    "not_correctly_categorized = np.where(y_pred != y_test_5)[0]\n",
    "\n",
    "print(\"\\n---- Correct categorized fives:\")\n",
    "\n",
    "for number in categorized[:2]:\n",
    "    MNIST_PlotDigit(X_test[number])\n",
    "    predicted_value = SGD_classifier.predict([X_test[number]])\n",
    "    print(f\"Is it a 5?: {predicted_value[0]}\")\n",
    "    plt.show()\n",
    "    \n",
    "print(\"\\n---- Incorrect categorized fives\")\n",
    "\n",
    "for number in not_correctly_categorized[:2]:\n",
    "    MNIST_PlotDigit(X_test[number])\n",
    "    predicted_value = SGD_classifier.predict([X_test[number]])\n",
    "    print(f\"Is it a 5?: {predicted_value[0]}\")\n",
    "    plt.show()\n",
    "    "
   ]
  },
  {
   "cell_type": "markdown",
   "metadata": {},
   "source": [
    "#### Qc) Implement a dummy binary classifier\n",
    "\n",
    "Now we'll try to implement a binary dummy classifier. \n",
    "\n",
    "The logic behind the predict method is, that we take all the data in the dataset and classify it as false. This way when we calculate the accuracy score, it'll show that we have a very high accuracy of our \"model\"\n",
    "\n",
    "But this is a false image and it's not a good way of scoring a model. This is because we've just label all of the data as being \"not 5\", so what the data actually tells us, is that in the dataset the amount of 5's is around 10%. \n",
    "\n",
    "Then it is not compatible with the scores found with cross-validation. "
   ]
  },
  {
   "cell_type": "code",
   "execution_count": 262,
   "metadata": {},
   "outputs": [
    {
     "name": "stdout",
     "output_type": "stream",
     "text": [
      "0.9121428571428571\n"
     ]
    }
   ],
   "source": [
    "from sklearn.metrics import accuracy_score\n",
    "\n",
    "class DummyClassifier():\n",
    "    def fit(self, X, y=None):\n",
    "        pass # Dummy classifier doesn't fit\n",
    "    \n",
    "    def predict(self, X):\n",
    "        return [0] * len(X) # Writes 0 in every index\n",
    "    \n",
    "def calculate_accuracy(y_true, y_pred):\n",
    "    return accuracy_score(y_true, y_pred)\n",
    "    \n",
    "\n",
    "dummyClassifier = DummyClassifier()\n",
    "\n",
    "dummyClassifier.fit(X_train)\n",
    "\n",
    "y_pred = dummyClassifier.predict(X_test)\n",
    "\n",
    "accuracy = calculate_accuracy(y_test_5, y_pred)\n",
    "\n",
    "print(accuracy) # The accuracy will be around 90%, this is a fake accuracy\n"
   ]
  },
  {
   "cell_type": "markdown",
   "metadata": {},
   "source": [
    "#### Qd) Conclusion\n",
    "\n",
    "These exercises made us get familiar with concepts as how to extract a dataset, how to train a SGD-classifier on this dataset, but then make a binary classifier based on the previous model. This way got to work with a \"simple\" machine learning concept. It presented a challenge to evaluate these classifier's performance, espicially the dummy classifier. \n",
    "\n",
    "If one just took a look at the accuracy, one could conclude that the dummy classifier is a good model. But that is not the case, because the model just classifies everything in the dataset as \"not 5's\", then we get a skewed view of the performance of the model. \n",
    "\n",
    "This shows us that solely relying on accuracy as a performance metric is not a good option and there should be included more performance metric to evalute the performance of the model."
   ]
  },
  {
   "cell_type": "markdown",
   "metadata": {},
   "source": [
    "## L02 - Performance metrics"
   ]
  },
  {
   "cell_type": "markdown",
   "metadata": {},
   "source": [
    "\n",
    "#### Qa) Implement the Accuracy function and test it on the MNIST data.\n",
    "\n",
    "The accuaracy function is going to be created as MyAccuracy(), where the following formula will be implemented by using for loops to find the total amount  of true positives, true negatives and then divide it by the total amount of data points:\n",
    "$$\n",
    "    \\def\\by{\\mathbf{y}}\n",
    "    \\def\\bM{\\mathbf{M}}\n",
    "    \\def\\ar#1#2{\\begin{array}{#1}#2\\end{array}}\n",
    "    \\def\\st#1{_{\\scriptsize\\textrm{#1}}}\n",
    "    \\def\\myfrac#1#2{\\frac{#1\\rule{0pt}{8pt}}{#2\\rule{0pt}{8pt}}} \n",
    "\\ar{rl}{\n",
    "      a &= \\myfrac{TP + TN}{TP + TN + FP + FN}\\\\\n",
    "  }\\\n",
    "$$"
   ]
  },
  {
   "cell_type": "code",
   "execution_count": 263,
   "metadata": {},
   "outputs": [
    {
     "name": "stderr",
     "output_type": "stream",
     "text": [
      "c:\\Users\\lasse\\anaconda3\\Lib\\site-packages\\sklearn\\datasets\\_openml.py:1002: FutureWarning: The default value of `parser` will change from `'liac-arff'` to `'auto'` in 1.4. You can set `parser='auto'` to silence this warning. Therefore, an `ImportError` will be raised from 1.4 if the dataset is dense and pandas is not installed. Note that the pandas parser may return different data types. See the Notes Section in fetch_openml's API doc for details.\n",
      "  warn(\n"
     ]
    },
    {
     "name": "stdout",
     "output_type": "stream",
     "text": [
      "\n",
      "Accuracy of dummy classifier:\n",
      "my a          =0.909\n",
      "scikit-learn a=0.909\n",
      "\n",
      "Accuracy of SGD classifier:\n",
      "my a          =0.9752857142857143\n",
      "scikit-learn a=0.9752857142857143\n"
     ]
    }
   ],
   "source": [
    "from sklearn.datasets import fetch_openml\n",
    "from sklearn.metrics import accuracy_score\n",
    "from sklearn.model_selection import train_test_split\n",
    "from sklearn.linear_model import SGDClassifier\n",
    "import matplotlib\n",
    "import matplotlib.pyplot as plt\n",
    "\n",
    "def MNIST_GetDataSet():\n",
    "    X, y = fetch_openml(name='mnist_784', version=1, data_home=\"./data\", cache=True, return_X_y = True, as_frame=False)\n",
    "    X = X/255\n",
    "    return X,y\n",
    "\n",
    "class DummyClassifier():\n",
    "    def fit(self, X, y=None):\n",
    "        pass # Dummy classifier doesn't fit\n",
    "    \n",
    "    def predict(self, X):\n",
    "        return [0] * len(X) # Writes 0 in every index\n",
    "\n",
    "# MyAccuracy function that calculates the accuracy\n",
    "def MyAccuracy(y_true, y_pred):\n",
    "    if len(y_true) == 0 or len(y_pred) == 0: # Error handling\n",
    "        return 0\n",
    "    matches = 0\n",
    "    for i in range(len(y_pred)):\n",
    "        if y_pred[i] == y_true[i]:\n",
    "            matches += 1\n",
    "    return(matches/len(y_pred))\n",
    "    \n",
    "# TEST FUNCTION: example of a comperator, using Scikit-learn accuracy_score\n",
    "def TestAccuracy(y_true, y_pred):\n",
    "   a0=MyAccuracy(y_true, y_pred)\n",
    "   a1=accuracy_score(y_true, y_pred)\n",
    "\n",
    "   print(f\"my a          ={a0}\")\n",
    "   print(f\"scikit-learn a={a1}\")\n",
    "\n",
    "X, y = MNIST_GetDataSet()\n",
    "\n",
    "if X.ndim==3:\n",
    "    print(\"reshaping X..\")\n",
    "    assert y.ndim==1\n",
    "    X = X.reshape((X.shape[0],X.shape[1]*X.shape[2]))\n",
    "assert X.ndim==2\n",
    "\n",
    "X_train, X_test, y_train, y_test = train_test_split(X, y, test_size=0.2)\n",
    "\n",
    "y_train_5 = (y_train == \"5\")\n",
    "y_test_5 = (y_test == \"5\")\n",
    "\n",
    "SGD_classifier = SGDClassifier(random_state=42)\n",
    "\n",
    "SGD_classifier.fit(X_train, y_train_5)\n",
    "\n",
    "y_pred = SGD_classifier.predict(X_test)\n",
    "\n",
    "dummyClassifier = DummyClassifier()\n",
    "\n",
    "dummyClassifier.fit(X_train)\n",
    "\n",
    "dummy_y_pred = dummyClassifier.predict(X_test)\n",
    "\n",
    "# Test accuracy of dummy\n",
    "print(\"\\nAccuracy of dummy classifier:\")\n",
    "TestAccuracy(y_test_5, dummy_y_pred)\n",
    "\n",
    "#Test accuracy of SGD_classifiet\n",
    "print(\"\\nAccuracy of SGD classifier:\")\n",
    "TestAccuracy(y_test_5, y_pred)\n"
   ]
  },
  {
   "cell_type": "markdown",
   "metadata": {},
   "source": [
    "#### Qb) Implement Precision, Recall and $F_1$-score and test it on the MNIST data for both the SGD and Dummy classifier models\n",
    "\n",
    "The precision will implement the following formula by using two for loops to extract the amount of true positives and the false positives:\n",
    "$$\n",
    "    \\def\\by{\\mathbf{y}}\n",
    "    \\def\\bM{\\mathbf{M}}\n",
    "    \\def\\ar#1#2{\\begin{array}{#1}#2\\end{array}}\n",
    "    \\def\\st#1{_{\\scriptsize\\textrm{#1}}}\n",
    "    \\def\\myfrac#1#2{\\frac{#1\\rule{0pt}{8pt}}{#2\\rule{0pt}{8pt}}} \n",
    "\\ar{rl}{\n",
    "  p &= \\myfrac{TP}{TP + FP}\n",
    "}\n",
    "$$\n",
    "\n",
    "The recall will implement the following formula by again using two for loops, but this time extracting the amount of true positives and the false negatives:\n",
    "$$\n",
    "  \\ar{rl}{\n",
    "    r &= \\myfrac{TP}{TP + FN}\\\\\n",
    "  }\n",
    "$$\n",
    "\n",
    "Lastly the F1 score will implement the following formula, where the implemented versions of MyPrecision and MyRecall will be used:\n",
    "$$\n",
    "  \\ar{rl}{\n",
    "    F_1 &= \\myfrac{2pr}{p+r}\\\\\n",
    "  }\n",
    "$$"
   ]
  },
  {
   "cell_type": "code",
   "execution_count": 264,
   "metadata": {},
   "outputs": [
    {
     "name": "stdout",
     "output_type": "stream",
     "text": [
      "First test case: \n",
      "This is my precision: 0.75\n",
      "This is scikit precision: 0.75\n",
      "This is my recall: 1.0\n",
      "This is scikit recall: 1.0\n",
      "This is my f1-score: 0.75\n",
      "This is scikit f1-score: 0.8571428571428571\n",
      "\n",
      "Second test case: \n",
      "This is my precision: 0.6666666666666666\n",
      "This is scikit precision: 0.6666666666666666\n",
      "This is my recall: 0.6666666666666666\n",
      "This is scikit recall: 0.6666666666666666\n",
      "This is my f1-score: 0.6666666666666666\n",
      "This is scikit f1-score: 0.6666666666666666\n",
      "\n",
      "SGD test case: \n",
      "This is my precision: 0.8879598662207357\n",
      "This is scikit precision: 0.8879598662207357\n",
      "This is my recall: 0.8335949764521193\n",
      "This is scikit recall: 0.8335949764521193\n",
      "This is my f1-score: 0.8879598662207357\n",
      "This is scikit f1-score: 0.8599190283400809\n",
      "\n",
      "Dummy test case: \n",
      "This is my precision: 0\n",
      "This is scikit precision: 0.0\n",
      "This is my recall: 0.0\n",
      "This is scikit recall: 0.0\n",
      "This is my f1-score: 0\n",
      "This is scikit f1-score: 0.0\n",
      "\n"
     ]
    },
    {
     "name": "stderr",
     "output_type": "stream",
     "text": [
      "c:\\Users\\lasse\\anaconda3\\Lib\\site-packages\\sklearn\\metrics\\_classification.py:1469: UndefinedMetricWarning: Precision is ill-defined and being set to 0.0 due to no predicted samples. Use `zero_division` parameter to control this behavior.\n",
      "  _warn_prf(average, modifier, msg_start, len(result))\n"
     ]
    }
   ],
   "source": [
    "from sklearn.metrics import precision_score, recall_score, f1_score\n",
    "\n",
    "def MyPrecision(y_true, y_pred):\n",
    "    TP = 0\n",
    "    FP = 0\n",
    "    for i in range(len(y_pred)):\n",
    "        if y_pred[i] == True and y_true[i] == True:\n",
    "            TP += 1\n",
    "    \n",
    "    for i in range(len(y_pred)):\n",
    "        if y_pred[i] == True and y_true[i] == False:\n",
    "            FP += 1\n",
    "\n",
    "    if TP == 0 and FP == 0: # Error handling cant divide by zero\n",
    "        return 0\n",
    "            \n",
    "    return(TP/(TP+FP))\n",
    "            \n",
    "\n",
    "def MyRecall(y_true, y_pred):\n",
    "    TP = 0\n",
    "    FN = 0\n",
    "    for i in range(len(y_pred)):\n",
    "        if y_pred[i] == True and y_true[i] == True:\n",
    "            TP += 1\n",
    "            \n",
    "    for i in range(len(y_pred)):\n",
    "        if y_pred[i] == False and y_true[i] == True:\n",
    "            FN += 1\n",
    "    if TP == 0 and FN == 0: # Error handling cant divide by zero\n",
    "        return 0\n",
    "    return(TP/(TP+FN))        \n",
    "    \n",
    "    \n",
    "def MyF1Score(y_true, y_pred):\n",
    "    precision = MyPrecision(y_true, y_pred)\n",
    "    recall = MyRecall(y_pred, y_true)\n",
    "    if precision == 0 or recall == 0:\n",
    "        return 0\n",
    "    return 2 * (precision * recall)/(precision + recall)\n",
    "\n",
    "y_pred1 = [True, True, True, True]\n",
    "y_true1 = [True, True, True, False]\n",
    "\n",
    "y_pred2 = [True, True, False, True]\n",
    "y_true2 = [True, True, True, False]\n",
    "\n",
    "def test(y_true, y_pred):\n",
    "    p0 = MyPrecision(y_true, y_pred)\n",
    "    p1 = precision_score(y_true, y_pred)\n",
    "    \n",
    "    r0 = MyRecall(y_true, y_pred)\n",
    "    r1 = recall_score(y_true, y_pred)\n",
    "    \n",
    "    f0 = MyF1Score(y_true, y_pred)\n",
    "    f1 = f1_score(y_true, y_pred)\n",
    "    \n",
    "    print(f\"This is my precision: {p0}\")\n",
    "    print(f\"This is scikit precision: {p1}\")\n",
    "    \n",
    "    print(f\"This is my recall: {r0}\")\n",
    "    print(f\"This is scikit recall: {r1}\")\n",
    "    \n",
    "    print(f\"This is my f1-score: {f0}\")\n",
    "    print(f\"This is scikit f1-score: {f1}\\n\")\n",
    "\n",
    "print(\"First test case: \")\n",
    "test(y_true1, y_pred1)\n",
    "print(\"Second test case: \")\n",
    "test(y_true2, y_pred2)\n",
    "print(\"SGD test case: \")\n",
    "test(y_test_5, y_pred)\n",
    "print(\"Dummy test case: \")\n",
    "test(y_test_5, dummy_y_pred)"
   ]
  },
  {
   "cell_type": "markdown",
   "metadata": {},
   "source": [
    "#### Qc) The Confusion Matrix\n",
    "\n",
    "Now the confusion matrix' will be created by using the confusion_matrix function from sklearn.metrics. By reading the documentation of this function it is seen that the scikit-learn confusion matrix is organized in the following order TN, FP, FN, TP. Therefor it is also important not to mess up the parameters because it will mess up the organization of the confusion matrix, and the TN, FP, FN, TP will be swapped around. "
   ]
  },
  {
   "cell_type": "code",
   "execution_count": 265,
   "metadata": {},
   "outputs": [
    {
     "name": "stdout",
     "output_type": "stream",
     "text": [
      "Dummy maxtrix:\n",
      "[[12726     0]\n",
      " [ 1274     0]]\n",
      "\n",
      "SDG matrix:\n",
      "[[12592   134]\n",
      " [  212  1062]]\n",
      "\n",
      "Reversed SDG matrix:\n",
      "[[12592   212]\n",
      " [  134  1062]]\n",
      "\n"
     ]
    }
   ],
   "source": [
    "from sklearn.metrics import confusion_matrix\n",
    "\n",
    "cm_dummy = confusion_matrix(y_test_5, dummy_y_pred)\n",
    "cm_sdg_classifier = confusion_matrix(y_test_5, y_pred)\n",
    "cm_sdg_classifier_reversed = confusion_matrix(y_pred, y_test_5)\n",
    "\n",
    "print(f\"Dummy maxtrix:\\n{cm_dummy}\\n\")\n",
    "print(f\"SDG matrix:\\n{cm_sdg_classifier}\\n\")\n",
    "print(f\"Reversed SDG matrix:\\n{cm_sdg_classifier_reversed}\\n\")"
   ]
  },
  {
   "cell_type": "markdown",
   "metadata": {},
   "source": [
    "#### Qd) A Confusion Matrix Heat-map\n",
    "\n",
    "The heat map will be created with the ConfusionMatrixDisplay function, where we can compare the output with the output from the Qc) The Confusion Matrix exercise, these should be the same."
   ]
  },
  {
   "cell_type": "code",
   "execution_count": 266,
   "metadata": {},
   "outputs": [
    {
     "data": {
      "image/png": "[encoded data removed]",
      "text/plain": [
       "<Figure size 640x480 with 2 Axes>"
      ]
     },
     "metadata": {},
     "output_type": "display_data"
    },
    {
     "data": {
      "image/png": "[encoded data removed]",
      "text/plain": [
       "<Figure size 640x480 with 2 Axes>"
      ]
     },
     "metadata": {},
     "output_type": "display_data"
    }
   ],
   "source": [
    "from matplotlib import pyplot as plt\n",
    "from sklearn.metrics import ConfusionMatrixDisplay\n",
    "\n",
    "\n",
    "dummy_matrix = ConfusionMatrixDisplay(confusion_matrix=cm_dummy) \n",
    "dummy_matrix.plot()\n",
    "plt.show()\n",
    "\n",
    "SGD_matrix = ConfusionMatrixDisplay(confusion_matrix=cm_sdg_classifier)\n",
    "SGD_matrix.plot()\n",
    "plt.show()"
   ]
  },
  {
   "cell_type": "markdown",
   "metadata": {},
   "source": [
    "### Qe) Conclusion\n",
    "\n",
    "We have now worked with different performance metrics that shows how \"good\" your machine learning model is. In the first exercise we implemented the accuracy function and tested it with our dummy classifier and our SGD classifier. From this it was shown that the accuracy can give a great score (around 90%) to a machine learning model (our dummy classifier) which was totaly wrong, therfore we should be carefull to conclude how great our model is by only using the accuracy as our score. Afterwards we implemented the precision, recall and F1-score as further ways of judging our models. Now our dummy classifier will be found out to be a bad model, as it scores zero in these tests, wheras our SGD classifier still deliveres good scores. Therefore it can be concluded that it is important to take multiple scores into account, when judging a machine learning model. Lastly we created and showed a confussion matrix with the dummy classifier and SGD classifier, which creates an overview of how your model is performing, by showing the TN, FP, FN and TP. By using this overview it is quickly seen that the dummy classifier is performing worse than the sgd classifier since it is not predicting any TP, but instead predicting alot of FN."
   ]
  }
 ],
 "metadata": {
  "kernelspec": {
   "display_name": "Python 3 (ipykernel)",
   "language": "python",
   "name": "python3"
  },
  "language_info": {
   "codemirror_mode": {
    "name": "ipython",
    "version": 3
   },
   "file_extension": ".py",
   "mimetype": "text/x-python",
   "name": "python",
   "nbconvert_exporter": "python",
   "pygments_lexer": "ipython3",
   "version": "3.11.5"
  },
  "nav_menu": {},
  "toc": {
   "navigate_menu": true,
   "number_sections": true,
   "sideBar": true,
   "threshold": 6,
   "toc_cell": false,
   "toc_section_display": "block",
   "toc_window_display": true
  },
  "toc-autonumbering": true,
  "toc-showcode": true,
  "toc-showmarkdowntxt": true,
  "toc_position": {
   "height": "616px",
   "left": "0px",
   "right": "20px",
   "top": "106px",
   "width": "213px"
  },
  "varInspector": {
   "cols": {
    "lenName": 16,
    "lenType": 16,
    "lenVar": 40
   },
   "kernels_config": {
    "python": {
     "delete_cmd_postfix": "",
     "delete_cmd_prefix": "del ",
     "library": "var_list.py",
     "varRefreshCmd": "print(var_dic_list())"
    },
    "r": {
     "delete_cmd_postfix": ") ",
     "delete_cmd_prefix": "rm(",
     "library": "var_list.r",
     "varRefreshCmd": "cat(var_dic_list()) "
    }
   },
   "types_to_exclude": [
    "module",
    "function",
    "builtin_function_or_method",
    "instance",
    "_Feature"
   ],
   "window_display": false
  }
 },
 "nbformat": 4,
 "nbformat_minor": 4
}
