{
 "cells": [
  {
   "cell_type": "markdown",
   "metadata": {},
   "source": [
    "--- \n",
    "## L09 - Hyperparameters and GridSearch \n",
    "\n",
    "In this assignment we will explain GridSearch and tune Hyperparameters. We will try to use both the GridSearch and also the Random Search by using an SGD classifier. At last, we will join the search-quest competetion and attempt to find the best model+hyperparameters for the MNIST dataset.\n",
    "\n",
    "### Qa) Explain GridSearch\n",
    "\n",
    "__Review of code cell 1 (Function setup)__\n",
    "\n",
    "We will describe most of the functions in the code cell.\n",
    "\n",
    "`SearchReport`\n",
    "\n",
    "blabla\n",
    "\n",
    "`GetBestModelCTOR`\n",
    "\n",
    "blabla\n",
    "\n",
    "`ClassificationReport`\n",
    "\n",
    "blabla\n",
    "\n",
    "`FullReport`\n",
    "\n",
    "blabla\n",
    "\n",
    "`LoadAndSetupData`\n",
    "\n",
    "blabla\n",
    "\n",
    "`TryKerasImport`\n",
    "\n",
    "blabla\n",
    "\n",
    "\n",
    "__Review of code cell 2 (The actual grid-search)__\n",
    "\n",
    "blabla\n",
    "\n",
    "__`__GridSearchCV__`__\n",
    "\n",
    "Explain how it works, how the search parameter set is created and the overall search mechanism is functiononing (without going into too muchh detail)\n",
    "\n",
    "What role does the parameter `scoring='f1_micro'` play in the `GridSearchCV`, and what does `n_jobs=-1` mean? "
   ]
  },
  {
   "cell_type": "markdown",
   "metadata": {},
   "source": [
    "### Qb) Hyperparameter Grid Search using an SDG classifier\n",
    "\n",
    "In this exercise we will replace the `svm.SVC` model with an `SGDClassifier` and a suitable set of the hyperparameters for that model "
   ]
  },
  {
   "cell_type": "markdown",
   "metadata": {},
   "source": [
    "### Qc) Hyperparameter Random Search using an SDG classifier\n",
    "\n",
    "In this exercise we will be adding code to run a `RandomizedSearchCV` instead.\n",
    "We will be using some given default parameters, and two new parameters `n_iter` and `random_state` have been added.\n",
    "\n",
    "__`n_iter`__\n",
    "\n",
    "explain n_iter\n",
    "\n",
    "__Comparison of the best-tuned parameter set and best scoring for the two methods__\n",
    "\n",
    "Is the random search best model close to the grid search????\n",
    "\n",
    "__Implementation of a random search for the SGD classifier__\n",
    "\n",
    "ved ik om rækkefølgen i den her opgave er mærkelig sat op :-) "
   ]
  },
  {
   "cell_type": "markdown",
   "metadata": {},
   "source": [
    "### Qd) MNIST Search Quest II\n",
    "\n",
    "In the final exercise, we will see if we can find the best model+hyperparameters for the MNIST dataset.\n",
    "\n",
    "læs opgaven for at se hvordan man gør og hvad vi ska skrive her\n"
   ]
  }
 ],
 "metadata": {
  "language_info": {
   "name": "python"
  }
 },
 "nbformat": 4,
 "nbformat_minor": 2
}
