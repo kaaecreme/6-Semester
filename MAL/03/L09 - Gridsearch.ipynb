{
 "cells": [
  {
   "cell_type": "markdown",
   "metadata": {},
   "source": [
    "--- \n",
    "## L09 - Hyperparameters and Gridsearch \n",
    "\n",
    "In this assignment bla bla...\n",
    "\n",
    "### Qa) Explain GridSearch\n",
    "\n",
    "__Review of code cell 1 (Function setup)__\n",
    "\n",
    "blabla\n",
    "\n",
    "\n",
    "__Review of code cell 2 (The actual grid-search)__\n",
    "\n",
    "blabla\n",
    "\n",
    "__`__GridSearchCV__`__"
   ]
  },
  {
   "cell_type": "markdown",
   "metadata": {},
   "source": [
    "### Qb) Hyperparameter Grid Search using an SDG classifier\n",
    "\n",
    "In this exercise we will replace the `svm.SVC` model with an `SGDClassifier` and a suitable set of the hyperparameters for that model "
   ]
  },
  {
   "cell_type": "markdown",
   "metadata": {},
   "source": [
    "### Qc) Hyperparameter Random Search using an SDG classifier\n",
    "\n",
    "In this exercise we will be adding code to run a `RandomizedSearchCV` instead.\n",
    "We will be using some given default parameters, and two new parameters `n_iter` and `random_state` have been added.\n",
    "\n",
    "__`n_iter`__\n",
    "\n",
    "explain n_iter\n",
    "\n",
    "__Comparison of the best-tuned parameter set and best scoring for the two methods__\n",
    "\n",
    "Is the random search best model close to the grid search????\n",
    "\n",
    "__Implementation of a random search for the SGD classifier__\n",
    "\n",
    "ved ik om rækkefølgen i den her opgave er mærkelig sat op :-) "
   ]
  },
  {
   "cell_type": "markdown",
   "metadata": {},
   "source": [
    "### Qd) MNIST Search Quest II\n",
    "\n",
    "In the final exercise, we will see if we can find the best model+hyperparameters for the MNIST dataset.\n",
    "\n",
    "læs opgaven for at se hvordan man gør og hvad vi ska skrive her\n"
   ]
  }
 ],
 "metadata": {
  "language_info": {
   "name": "python"
  }
 },
 "nbformat": 4,
 "nbformat_minor": 2
}
